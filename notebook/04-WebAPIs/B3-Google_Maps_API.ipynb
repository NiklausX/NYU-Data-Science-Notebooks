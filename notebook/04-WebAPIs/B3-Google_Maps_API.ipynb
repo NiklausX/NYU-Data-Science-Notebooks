{
 "cells": [
  {
   "cell_type": "markdown",
   "metadata": {},
   "source": [
    "# Google Maps API\n",
    "\n",
    "\n",
    "This a _relatively_ simple API, that does not require any authentication.\n",
    "\n",
    "The documentation is available at https://developers.google.com/maps/documentation/geocoding/intro\n",
    "\n",
    "At the simplest version, the endpoint is http://maps.googleapis.com/maps/api/geocode/json and you can put as parameter the \"address\".\n",
    "\n",
    "For example, the following call will return the analysis for the address \"**44 West 4th, Ste 8-84, Manhattan, NY, USA**\"\n",
    "\n",
    "http://maps.googleapis.com/maps/api/geocode/json?address=44%20West%204th,%20Ste%208-84,%20Manhattan,NY,USA"
   ]
  },
  {
   "cell_type": "code",
   "execution_count": null,
   "metadata": {
    "slideshow": {
     "slide_type": "slide"
    }
   },
   "outputs": [],
   "source": [
    "import requests\n",
    "import time"
   ]
  },
  {
   "cell_type": "code",
   "execution_count": null,
   "metadata": {},
   "outputs": [],
   "source": [
    "import requests\n",
    "\n",
    "resp = requests.get('http://maps.googleapis.com/maps/api/geocode/json?address=Soho,NY,USA')\n",
    "resp.json()"
   ]
  },
  {
   "cell_type": "markdown",
   "metadata": {},
   "source": [
    "Let's see a few more examples:"
   ]
  },
  {
   "cell_type": "code",
   "execution_count": null,
   "metadata": {
    "slideshow": {
     "slide_type": "slide"
    }
   },
   "outputs": [],
   "source": [
    "def call_google_api(address):\n",
    "    \n",
    "    GOOGLE_MAPS_API_URL = 'http://maps.googleapis.com/maps/api/geocode/json' \n",
    "    params = {\n",
    "        'address': address,\n",
    "        'region': 'usa'\n",
    "    }\n",
    "    req = requests.get(GOOGLE_MAPS_API_URL, params=params)\n",
    "    \n",
    "    results = req.json()\n",
    "    \n",
    "    # Use the first result\n",
    "    if 'results' in results and len(results['results'])>0:\n",
    "        result = results['results'][0]\n",
    "        return result\n",
    "    else:\n",
    "        # We got nothing back, let's wait a bit\n",
    "        time.sleep(2)\n",
    "        return None"
   ]
  },
  {
   "cell_type": "code",
   "execution_count": null,
   "metadata": {},
   "outputs": [],
   "source": [
    "call_google_api(\"Soho, New York, NY\")"
   ]
  },
  {
   "cell_type": "code",
   "execution_count": null,
   "metadata": {
    "slideshow": {
     "slide_type": "subslide"
    }
   },
   "outputs": [],
   "source": [
    "def get_formatted_address(address):\n",
    "    google_result = call_google_api(address)\n",
    "    if google_result == None:\n",
    "        return None\n",
    "    return google_result['formatted_address']\n"
   ]
  },
  {
   "cell_type": "code",
   "execution_count": null,
   "metadata": {},
   "outputs": [],
   "source": [
    "def get_lon_lat(address):\n",
    "    google_result = call_google_api(address)\n",
    "    if google_result == None:\n",
    "        return None\n",
    "    return google_result['geometry']['location']\n"
   ]
  },
  {
   "cell_type": "code",
   "execution_count": null,
   "metadata": {
    "slideshow": {
     "slide_type": "slide"
    }
   },
   "outputs": [],
   "source": [
    "address = \"547 Riverside Drive, New York, NY\"\n",
    "get_formatted_address(address)"
   ]
  },
  {
   "cell_type": "code",
   "execution_count": null,
   "metadata": {},
   "outputs": [],
   "source": [
    "get_lon_lat(address)"
   ]
  },
  {
   "cell_type": "code",
   "execution_count": null,
   "metadata": {},
   "outputs": [],
   "source": [
    "address = \"44 W 4th Street, New York\"\n",
    "get_formatted_address(address)"
   ]
  },
  {
   "cell_type": "code",
   "execution_count": null,
   "metadata": {},
   "outputs": [],
   "source": [
    "address = \"44 W Fourth Street, New York\"\n",
    "get_formatted_address(address)"
   ]
  },
  {
   "cell_type": "code",
   "execution_count": null,
   "metadata": {},
   "outputs": [],
   "source": [
    "address = \"44 W4 st, New York\"\n",
    "get_formatted_address(address)"
   ]
  },
  {
   "cell_type": "code",
   "execution_count": null,
   "metadata": {},
   "outputs": [],
   "source": [
    "address = \"84 Wooster, Ste 703, New York\"\n",
    "get_formatted_address(address)"
   ]
  },
  {
   "cell_type": "markdown",
   "metadata": {},
   "source": [
    "### Exercise\n",
    "\n",
    "Below you can find a list of 50 addresses in New York. The addresses do not contain the zip code, and are not well-formatted. Using the Google Maps API, as listed above, generate the **well-formatted address** for each address. Also generate the **long/lat** coordinates for the address.\n",
    "\n",
    "**Important:** _The Google API listed above is not authenticated. To avoid abuse, when it receives large number of requests, it tends to return nothing. You may want to structure your code to check for this behavior, and retry if necessary._"
   ]
  },
  {
   "cell_type": "code",
   "execution_count": null,
   "metadata": {},
   "outputs": [],
   "source": [
    "address_list = ['2508A BROADWAY, QUEENS',  '1859 WESTCHESTER AVENUE, BRONX',  \n",
    "                '113 WEST  116 STREET, MANHATTAN',  '157 PROSPECT PARK SOUTH WEST, BROOKLYN',  \n",
    "                '12707 MERRICK BOULEVARD, QUEENS',  '422 EAST   75 STREET, MANHATTAN', \n",
    "                '253 WEST   42 STREET, MANHATTAN',  '1027 WESTCHESTER AVE, BRONX', \n",
    "                '811 9 AVENUE, MANHATTAN',  '717 KINGS HIGHWAY, BROOKLYN',  \n",
    "                '13529 40TH RD, QUEENS',  '4417 NEW UTRECHT AVE, BROOKLYN',  '1688 EAST   16 STREET, BROOKLYN',  '1634 CROSBY AVE, BRONX',  '218 PARKSIDE AVE, BROOKLYN',  '1307 ARTHUR KILL ROAD, STATEN ISLAND',  '1162 FIRST AVENUE, MANHATTAN',  '5814 ROOSEVELT AVE, QUEENS',  '872 A FLATBUSH AVE, BROOKLYN',  '631 WILSON AVE, BROOKLYN',  '1093 JACKSON AVENUE, QUEENS',  '465 WEST   51 STREET, MANHATTAN',  '345 ADAMS ST, BROOKLYN',  '1374 BOSTON ROAD, BRONX',  '71 7 AVENUE SOUTH, MANHATTAN',  '520 BAY ST, STATEN ISLAND',  '623 GRAND STREET, BROOKLYN',  '11000 ROCKAWAY BOULEVARD, QUEENS',  '2927 40 ROAD, QUEENS',  '570 8 AVENUE, MANHATTAN',  '4819 VERNON BLVD, QUEENS',  '1 WORLDS FAIR MARINA, QUEENS',  '2342 ARTHUR AVENUE, BRONX',  '54 PEARL STREET, MANHATTAN',  '4012 QUEENS BOULEVARD, QUEENS',  '691 TENTH AVE, MANHATTAN',  '226 E 14TH ST, MANHATTAN',  '3 GREENWICH AVENUE, MANHATTAN',  '2172 86TH ST, BROOKLYN',  '875 10 AVENUE, MANHATTAN',  'NKA JFK INTERNATIONAL AIRPORT, QUEENS',  '70 SOUTH ST, MANHATTAN',  '3520 FARRINGTON ST, QUEENS',  '12696 WILLETS POINT BOULEVARD, QUEENS',  '925 ALLERTON AVENUE, BRONX',  '98 3 AVENUE, MANHATTAN',  '8805 ASTORIA BLVD, QUEENS',  '12 PENN STATION, MANHATTAN',  '138 DIVISION STREET, MANHATTAN',  '7047 PARSONS BOULEVARD, QUEENS']"
   ]
  },
  {
   "cell_type": "code",
   "execution_count": null,
   "metadata": {},
   "outputs": [],
   "source": []
  }
 ],
 "metadata": {
  "kernelspec": {
   "display_name": "Python 3",
   "language": "python",
   "name": "python3"
  },
  "language_info": {
   "codemirror_mode": {
    "name": "ipython",
    "version": 3
   },
   "file_extension": ".py",
   "mimetype": "text/x-python",
   "name": "python",
   "nbconvert_exporter": "python",
   "pygments_lexer": "ipython3",
   "version": "3.6.5"
  }
 },
 "nbformat": 4,
 "nbformat_minor": 2
}
