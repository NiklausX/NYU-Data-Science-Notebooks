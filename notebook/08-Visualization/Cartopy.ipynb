{
 "cells": [
  {
   "cell_type": "code",
   "execution_count": 11,
   "metadata": {},
   "outputs": [
    {
     "name": "stdout",
     "output_type": "stream",
     "text": [
      "sudo: unable to resolve host ip-172-30-2-228\n",
      "Reading package lists... Done\n",
      "Building dependency tree       \n",
      "Reading state information... Done\n",
      "The following NEW packages will be installed:\n",
      "  libproj-dev\n",
      "0 upgraded, 1 newly installed, 0 to remove and 2 not upgraded.\n",
      "Need to get 181 kB of archives.\n",
      "After this operation, 1,005 kB of additional disk space will be used.\n",
      "Get:1 http://us-east-1.ec2.archive.ubuntu.com/ubuntu xenial/universe amd64 libproj-dev amd64 4.9.2-2 [181 kB]\n",
      "Fetched 181 kB in 0s (17.2 MB/s)    \n",
      "Selecting previously unselected package libproj-dev.\n",
      "(Reading database ... 288317 files and directories currently installed.)\n",
      "Preparing to unpack .../libproj-dev_4.9.2-2_amd64.deb ...\n",
      "Unpacking libproj-dev (4.9.2-2) ...\n",
      "Processing triggers for man-db (2.7.5-1) ...\n",
      "Setting up libproj-dev (4.9.2-2) ...\n"
     ]
    }
   ],
   "source": [
    "!sudo apt-get install libproj-dev"
   ]
  },
  {
   "cell_type": "code",
   "execution_count": 12,
   "metadata": {},
   "outputs": [
    {
     "name": "stdout",
     "output_type": "stream",
     "text": [
      "sudo: unable to resolve host ip-172-30-2-228\n",
      "Reading package lists... Done\n",
      "Building dependency tree       \n",
      "Reading state information... Done\n",
      "proj-bin is already the newest version (4.9.2-2).\n",
      "0 upgraded, 0 newly installed, 0 to remove and 2 not upgraded.\n"
     ]
    }
   ],
   "source": [
    "!sudo apt-get install -y proj-bin"
   ]
  },
  {
   "cell_type": "code",
   "execution_count": 13,
   "metadata": {},
   "outputs": [
    {
     "name": "stdout",
     "output_type": "stream",
     "text": [
      "sudo: unable to resolve host ip-172-30-2-228\n",
      "\u001b[33mThe directory '/home/ubuntu/.cache/pip/http' or its parent directory is not owned by the current user and the cache has been disabled. Please check the permissions and owner of that directory. If executing pip with sudo, you may want sudo's -H flag.\u001b[0m\n",
      "\u001b[33mThe directory '/home/ubuntu/.cache/pip' or its parent directory is not owned by the current user and caching wheels has been disabled. check the permissions and owner of that directory. If executing pip with sudo, you may want sudo's -H flag.\u001b[0m\n",
      "Requirement already satisfied: cython in /usr/local/lib/python3.5/dist-packages (0.28.3)\n",
      "\u001b[31mjupyterlab 0.32.1 has requirement jupyterlab-launcher<0.11.0,>=0.10.0, but you'll have jupyterlab-launcher 0.11.0 which is incompatible.\u001b[0m\n",
      "\u001b[31mspacy 2.0.12.dev0 has requirement thinc<6.11.0,>=6.10.1, but you'll have thinc 6.11.2 which is incompatible.\u001b[0m\n"
     ]
    }
   ],
   "source": [
    "!sudo pip3 install cython "
   ]
  },
  {
   "cell_type": "code",
   "execution_count": 14,
   "metadata": {},
   "outputs": [
    {
     "name": "stdout",
     "output_type": "stream",
     "text": [
      "sudo: unable to resolve host ip-172-30-2-228\n",
      "\u001b[33mThe directory '/home/ubuntu/.cache/pip/http' or its parent directory is not owned by the current user and the cache has been disabled. Please check the permissions and owner of that directory. If executing pip with sudo, you may want sudo's -H flag.\u001b[0m\n",
      "\u001b[33mThe directory '/home/ubuntu/.cache/pip' or its parent directory is not owned by the current user and caching wheels has been disabled. check the permissions and owner of that directory. If executing pip with sudo, you may want sudo's -H flag.\u001b[0m\n",
      "Collecting cartopy\n",
      "\u001b[?25l  Downloading https://files.pythonhosted.org/packages/f5/7a/4a16db7c81f11b3c5889c5b913d9a5724c704a6947c5a87ec59c4a8985ac/Cartopy-0.16.0.tar.gz (8.8MB)\n",
      "\u001b[K    100% |████████████████████████████████| 8.8MB 7.6MB/s eta 0:00:01\n",
      "\u001b[?25hRequirement already satisfied: numpy>=1.6 in /usr/local/lib/python3.5/dist-packages (from cartopy) (1.14.5)\n",
      "Requirement already satisfied: shapely>=1.5.6 in /usr/local/lib/python3.5/dist-packages (from cartopy) (1.6.4.post1)\n",
      "Requirement already satisfied: pyshp>=1.1.4 in /usr/local/lib/python3.5/dist-packages (from cartopy) (1.2.12)\n",
      "Requirement already satisfied: six>=1.3.0 in /usr/local/lib/python3.5/dist-packages (from cartopy) (1.11.0)\n",
      "Requirement already satisfied: setuptools>=0.7.2 in /usr/local/lib/python3.5/dist-packages (from cartopy) (38.5.2)\n",
      "\u001b[31mspacy 2.0.12.dev0 has requirement thinc<6.11.0,>=6.10.1, but you'll have thinc 6.11.2 which is incompatible.\u001b[0m\n",
      "\u001b[31mjupyterlab 0.32.1 has requirement jupyterlab-launcher<0.11.0,>=0.10.0, but you'll have jupyterlab-launcher 0.11.0 which is incompatible.\u001b[0m\n",
      "Installing collected packages: cartopy\n",
      "  Running setup.py install for cartopy ... \u001b[?25ldone\n",
      "\u001b[?25hSuccessfully installed cartopy-0.16.0\n"
     ]
    }
   ],
   "source": [
    "!sudo pip3 install cartopy"
   ]
  },
  {
   "cell_type": "code",
   "execution_count": null,
   "metadata": {},
   "outputs": [],
   "source": []
  }
 ],
 "metadata": {
  "kernelspec": {
   "display_name": "Python 3",
   "language": "python",
   "name": "python3"
  },
  "language_info": {
   "codemirror_mode": {
    "name": "ipython",
    "version": 3
   },
   "file_extension": ".py",
   "mimetype": "text/x-python",
   "name": "python",
   "nbconvert_exporter": "python",
   "pygments_lexer": "ipython3",
   "version": "3.5.2"
  }
 },
 "nbformat": 4,
 "nbformat_minor": 2
}
