{
 "cells": [
  {
   "cell_type": "markdown",
   "metadata": {},
   "source": [
    "# \n",
    "\n",
    "\n",
    "\n",
    "\n",
    "\n",
    "Regular Expressions\n",
    "-------------------\n",
    "\n",
    "This document will present basic regular expression syntax and cover common use cases for regular expressions: pattern matching, filtering, data extraction, and string replacement. \n",
    "\n",
    "We will present examples using python’s standard [re regular expression library](http://docs.python.org/library/re.html).\n",
    "\n",
    "You may also want to look at this [*excellent* tutorial from Google](https://developers.google.com/edu/python/regular-expressions).\n"
   ]
  },
  {
   "cell_type": "markdown",
   "metadata": {},
   "source": [
    "### Basic Patterns\n",
    "\n",
    "* a, X, 9, < -- ordinary characters just match themselves exactly. The meta-characters which do not match themselves because they have special meanings are: . ^ \\$ * + ? { [ ] \\ | ( ) (details below)\n",
    "* . (a period) -- matches any single character except newline '\\n'\n",
    "* \\w -- (lowercase w) matches a \"word\" character: a letter or digit or underbar [a-zA-Z0-9_]. Note that although \"word\" is the mnemonic for this, it only matches a single word char, not a whole word. \n",
    "* \\W (upper case W) matches any non-word character.\n",
    "* \\s -- (lowercase s) matches a single whitespace character -- space, newline, return, tab, form [ \\n\\r\\t\\f]. \n",
    "* \\S (upper case S) matches any non-whitespace character.\n",
    "* \\d -- decimal digit [0-9] (some older regex utilities do not support but \\d, but they all support \\w and \\s)\n",
    "* \\D -- matches anything that is not a number\n",
    "* \\b -- boundary between word and non-word\n",
    "* \\t, \\n, \\r -- tab, newline, return\n",
    "* ^ = start, $ = end -- match the start or end of the string\n",
    "* \\ -- inhibit the \"specialness\" of a character. So, for example, use \\. to match a period or \\\\ to match a slash. If you are unsure if a character has special meaning, such as '@', you can put a slash in front of it, \\@, to make sure it is treated just as a character."
   ]
  },
  {
   "cell_type": "markdown",
   "metadata": {},
   "source": [
    "### Searching strings using regexes"
   ]
  },
  {
   "cell_type": "code",
   "execution_count": 2,
   "metadata": {},
   "outputs": [],
   "source": [
    "# first import the library\n",
    "import re"
   ]
  },
  {
   "cell_type": "code",
   "execution_count": 2,
   "metadata": {},
   "outputs": [
    {
     "name": "stdout",
     "output_type": "stream",
     "text": [
      "Dealing with Data\n"
     ]
    }
   ],
   "source": [
    "# Regular expressions are compiled into pattern objects\n",
    "regex = re.compile(r'D.*Data')\n",
    "text = \"Panos Ipeirotis, Dealing with Data, 212-998-0803, panos@nyu.edu\"\n",
    "matches = regex.finditer(text)\n",
    "for match in matches:\n",
    "    print(match.group())"
   ]
  },
  {
   "cell_type": "code",
   "execution_count": 5,
   "metadata": {},
   "outputs": [
    {
     "name": "stdout",
     "output_type": "stream",
     "text": [
      "adam.brandenburger@stern.nyu.edu\n"
     ]
    }
   ],
   "source": [
    "# We will now try to match an email address. What is wrong in our regex? \n",
    "# Can you fix it? Try to use \\w as a shorthand\n",
    "regex = re.compile(r'[\\w\\.\\-]+@\\w+(\\.\\w+)+')\n",
    "text = \"My email is adam.brandenburger@stern.nyu.edu. You can email me.\"\n",
    "\n",
    "matches = regex.finditer(text)\n",
    "for match in matches:\n",
    "    print(match.group())"
   ]
  },
  {
   "cell_type": "code",
   "execution_count": null,
   "metadata": {},
   "outputs": [],
   "source": [
    "# We are looking for binary numbers\n",
    "regex = re.compile(r'[10]+')\n",
    "text = \"asddf1101110100011abd1111panos0000\"\n",
    "matches = regex.finditer(text)\n",
    "for match in matches:\n",
    "    print(match.group())"
   ]
  },
  {
   "cell_type": "code",
   "execution_count": null,
   "metadata": {},
   "outputs": [],
   "source": [
    "# We look for money figures, either integers, or with 1 or 2 decimal\n",
    "# digits\n",
    "regex = re.compile(r'\\$\\d+(\\.\\d\\d?)?')\n",
    "text = '$1200.23 is the price today. $1200 was the price yesterday'\n",
    "matches = regex.finditer(text)\n",
    "for match in matches:\n",
    "    print(match.group())"
   ]
  },
  {
   "cell_type": "code",
   "execution_count": 3,
   "metadata": {},
   "outputs": [],
   "source": [
    "# This code is going to generate no matches\n",
    "regex = re.compile(r'Ra*nd.*m R[egex]')\n",
    "text = \"Panos Ipeirotis, Dealing with Data, 212-998-0803, panos@nyu.edu\"\n",
    "matches = regex.finditer(text)\n",
    "for match in matches:\n",
    "    print(match.group())"
   ]
  },
  {
   "cell_type": "markdown",
   "metadata": {},
   "source": [
    "### Flags for regexes: Case-sentitivity and multiline searches"
   ]
  },
  {
   "cell_type": "markdown",
   "metadata": {},
   "source": [
    "Regular expressions are typically case-sensitive. "
   ]
  },
  {
   "cell_type": "code",
   "execution_count": 4,
   "metadata": {},
   "outputs": [],
   "source": [
    "# Regular expressions are compiled into pattern objects\n",
    "# Regular expressions are case-sensitive\n",
    "regex = re.compile(r'I.*IS')\n",
    "text = \"Panos Ipeirotis, Dealing with Data, 212-998-0803, panos@nyu.edu\"\n",
    "matches = regex.finditer(text)\n",
    "for match in matches:\n",
    "    print(match.group())"
   ]
  },
  {
   "cell_type": "markdown",
   "metadata": {},
   "source": [
    "But we can specify that they are case-insensitive, using the flag re.IGNORECASE"
   ]
  },
  {
   "cell_type": "code",
   "execution_count": 5,
   "metadata": {},
   "outputs": [
    {
     "name": "stdout",
     "output_type": "stream",
     "text": [
      "Ipeirotis\n"
     ]
    }
   ],
   "source": [
    "# Unless we specify that they are case-insensitive, using the flag re.IGNORECASE\n",
    "regex = re.compile('I.*IS',re.IGNORECASE)\n",
    "text = \"Panos Ipeirotis, Dealing with Data, 212-998-0803, panos@nyu.edu\"\n",
    "matches = regex.finditer(text)\n",
    "for match in matches:\n",
    "    print(match.group())"
   ]
  },
  {
   "cell_type": "markdown",
   "metadata": {},
   "source": [
    " For a full list of available flags, please see the [re documentation](http://docs.python.org/library/re.html)."
   ]
  },
  {
   "cell_type": "markdown",
   "metadata": {},
   "source": [
    "### Multiple matches in a string"
   ]
  },
  {
   "cell_type": "markdown",
   "metadata": {},
   "source": [
    "The search command goes through the string to find the longest expression that matches the regex\n",
    "and once it finds the first match, it stops. For example, we will not get the second phone number"
   ]
  },
  {
   "cell_type": "code",
   "execution_count": null,
   "metadata": {},
   "outputs": [],
   "source": [
    "# The search command goes through the string to find the longest expression that matches the regex\n",
    "# Then it continues with the second one\n",
    "regex = re.compile('\\d{3}-\\d{3}-\\d{4}')\n",
    "text = '''\n",
    "Panos Ipeirotis, Dealing with Data, \n",
    "212-998-0803, panos@nyu.edu, 646-555-5555\n",
    "'''\n",
    "matches = regex.finditer(text)\n",
    "for i, match in enumerate(matches):\n",
    "    print(i+1, \"==>\", match.group())"
   ]
  },
  {
   "cell_type": "markdown",
   "metadata": {},
   "source": [
    "If we want to find multiple matches within the string, then we use the `finditer` command that returns a collection of `MatchObject` items. (For comparison, `search` returns just the first `MatchObject` item.)"
   ]
  },
  {
   "cell_type": "code",
   "execution_count": null,
   "metadata": {},
   "outputs": [],
   "source": [
    "# The matches command returns an iterator containing \"match\" objects, which have a variety of attributes\n",
    "regex = re.compile(r'\\d{3}-\\d{3}-\\d{4}')\n",
    "text = \"Panos Ipeirotis, Dealing with Data, 212-998-0803, panos@nyu.edu, 646-555-5555\"\n",
    "matches = regex.finditer(text)\n",
    "for m in matches:\n",
    "    print(\"Starts at:\", m.start(), \n",
    "    \"Ends at:\", m.end(),\n",
    "    \"Content:\", m.group())"
   ]
  },
  {
   "cell_type": "markdown",
   "metadata": {},
   "source": [
    "### Extracting Data -- where regex start to get really cool\n",
    "\n",
    "#### Defining groups within regexes\n",
    "\n",
    "In addition to simple matching and filtering, many regular expressions implementations, including python’s re, provide a powerful mechanism for extracting meaningful data from raw text. Through capturing, those strings that satisfy a particular regular expression are extracted from the text being matched, and returned to the program processing the raw data. \n",
    "\n",
    "**The portion of regular expressions that should be captured is surrounded by parentheses, `\"( )\"`.**\n",
    "\n",
    "Then, provided the regular expression containing the capturing statement is satisfied, the result of the regular expression will contain a group of text matching patterns. This group method gets the results of the portions of the input text matched by the capturing statements in the regular expression. The matches are indexed from one-- to get the portion of the text matched by first capturing statement, you could query `result.group(1)`, the second parentheses will have its match stored in `result.group(2)`, etc. The value stored at `result.group(0)`, is the entire portion of the input string matched by the regular expression, not just the portion satisfying the capturing parentheses.\n",
    "\n",
    "As example of data extraction using capturing regular expressions, say we’re scanning some raw text for phone numbers that we wish to retain for later processing. We might try something like:"
   ]
  },
  {
   "cell_type": "code",
   "execution_count": 8,
   "metadata": {},
   "outputs": [
    {
     "name": "stdout",
     "output_type": "stream",
     "text": [
      "212-998-0803\n",
      "Formatted: 212 - 998 - 0803\n",
      "===========\n",
      "646-255-5555\n",
      "Formatted: 646 - 255 - 5555\n",
      "===========\n"
     ]
    }
   ],
   "source": [
    "# Find phone numbers: \n",
    "# Three digits \\d{3}\n",
    "# followed by zero or more non-digits \\D*\n",
    "# followed by three digits \\d{3}\n",
    "# followed by zero or more non-digits \\D*\n",
    "# followed by four digits \\d{4}\n",
    "\n",
    "# The re.VERBOSE flag at the end allows us to write the regex as a multiline string \n",
    "# and allows for comments (after the # character)\n",
    "# In this mode, any whitespace character is ignored, unless explicitly added as part\n",
    "# of a bracketed expression or when preceded by an unescaped backslash\n",
    "\n",
    "regex = re.compile(r\"\"\"(\\d{3}) # The first three digits / area code\n",
    "                       \\D*     # Followed by zero or more non-digits\n",
    "                       (\\d{3}) # The first three digits of the \"local\" part \n",
    "                       \\D*     # Followed by zero or more non-digits\n",
    "                       (\\d{4}) # The last four digits of the phone number\n",
    "                       \"\"\", re.VERBOSE)\n",
    "text = '''\n",
    "Panos Ipeirotis, Dealing with Data,\n",
    "tel: 212-998-0803\n",
    "email: panos@nyu.edu\n",
    "fax: 646-255-5555\n",
    "'''\n",
    "\n",
    "matches = regex.finditer(text)\n",
    "for match in matches:\n",
    "    print(match.group())\n",
    "    print(\"Formatted:\", match.group(1),\"-\", match.group(2), \"-\", match.group(3))\n",
    "    # print(\"Starts at:\", match.start())\n",
    "    # print(\"Ends at:\", match.end())\n",
    "    print(\"===========\")"
   ]
  },
  {
   "cell_type": "markdown",
   "metadata": {},
   "source": [
    "Now we will try to extract and format all phone numbers that are part of a big file:"
   ]
  },
  {
   "cell_type": "code",
   "execution_count": 9,
   "metadata": {},
   "outputs": [],
   "source": [
    "raw_text = \"\"\"\n",
    "512-234-5234\n",
    "foo\n",
    "bar\n",
    "124-512-5555\n",
    "biz\n",
    "125-555-5785\n",
    "679-397-5255\n",
    "2126660921\n",
    "212-998-0902\n",
    "888-888-2222\n",
    "801-555-1211\n",
    "802 555 1212\n",
    "803.555.1213\n",
    "(804) 555-1214\n",
    "1-805-555-1215\n",
    "1(806)555-1216\n",
    "807-555-1217-1234\n",
    "808-555-1218x1\n",
    "809-555-1219 ext. 1234\n",
    "work 1-(810) 555.1220 #1234\n",
    "\"\"\""
   ]
  },
  {
   "cell_type": "code",
   "execution_count": null,
   "metadata": {},
   "outputs": [],
   "source": [
    "raw_text"
   ]
  },
  {
   "cell_type": "code",
   "execution_count": 10,
   "metadata": {},
   "outputs": [
    {
     "data": {
      "text/plain": [
       "['(512)234-5234',\n",
       " '(679)397-5255',\n",
       " '(212)666-0921',\n",
       " '(212)998-0902',\n",
       " '(888)888-2222',\n",
       " '(801)555-1211',\n",
       " '(802)555-1212',\n",
       " '(803)555-1213',\n",
       " '(804)555-1214',\n",
       " '(805)555-1215',\n",
       " '(806)555-1216',\n",
       " '(807)555-1217',\n",
       " '(808)555-1218',\n",
       " '(809)555-1219',\n",
       " '(810)555-1220']"
      ]
     },
     "execution_count": 10,
     "metadata": {},
     "output_type": "execute_result"
    }
   ],
   "source": [
    "# Notice now that each part of the phone is included in parentheses\n",
    "# allowing us to grab individual part of the phone number\n",
    "regex = re.compile(r'([2-9]\\d{2})\\D*(\\d{3})\\D*(\\d{4})')\n",
    "matches = regex.finditer(raw_text)\n",
    "\n",
    "phones = list()\n",
    "for m in matches:\n",
    "    area_code = m.group(1)\n",
    "    first_three_digits = m.group(2)\n",
    "    last_four_digits =  m.group(3)\n",
    "    \n",
    "    phone = \"(\" + area_code + \")\" + first_three_digits + \"-\" + last_four_digits\n",
    "            \n",
    "    phones.append(phone)\n",
    "\n",
    "# Notice that our list does not include numbers with invalid area codes (e.g., 124, 125)\n",
    "phones"
   ]
  },
  {
   "cell_type": "markdown",
   "metadata": {},
   "source": [
    "(See also http://www.diveintopython.net/regular_expressions/phone_numbers.html if you want to see further examples.)\n",
    "\n",
    "The examples will look like gobbledygook at first.  But after you go through some actual cases, and especially after you struggle to write a few for a real data science task, you will realize that you're not in Kansas any longer.  Now get ready for a horse of a different color..."
   ]
  },
  {
   "cell_type": "code",
   "execution_count": null,
   "metadata": {},
   "outputs": [],
   "source": []
  },
  {
   "cell_type": "markdown",
   "metadata": {},
   "source": [
    "#### Exercise\n",
    "\n",
    "* Modify the code above to allow the extraction of the extension number, if one exists"
   ]
  },
  {
   "cell_type": "code",
   "execution_count": null,
   "metadata": {},
   "outputs": [],
   "source": [
    "# your code here"
   ]
  },
  {
   "cell_type": "markdown",
   "metadata": {},
   "source": [
    "### String Replacement\n",
    "\n",
    "In addition to matching and extraction, regular expressions can be used to change data--especially unstructured text--in very powerful ways.  In particular, regex allow you to find specific patterns and then replace them with specified strings. \n",
    "\n",
    "As a data scientist, this is useful when trying to get data formated correctly as input to a specific system, such as when doing data cleanup.\n",
    "\n",
    "In python’s re library, the function used for replacement is `sub()` (think \"substitute\"). \n",
    "\n",
    "The pattern for invoking `sub()` is \n",
    "\n",
    "`re.sub(regex, replacement, text)`\n",
    "\n",
    "This will return a version of text where all instances of the regex have been substituted with replacement.\n",
    "\n",
    "Imagine we want to conceal all phone numbers in a document. We could use the following call to `sub()`:"
   ]
  },
  {
   "cell_type": "code",
   "execution_count": 14,
   "metadata": {},
   "outputs": [
    {
     "name": "stdout",
     "output_type": "stream",
     "text": [
      "XXX-XXXX-XXXX\n",
      "foo\n",
      "bar\n",
      "124-512-5555\n",
      "biz\n",
      "125-555-5785\n",
      "XXX-XXXX-XXXX\n",
      "XXX-XXXX-XXXX\n",
      "XXX-XXXX-XXXX\n",
      "XXX-XXXX-XXXX\n",
      "XXX-XXXX-XXXX\n",
      "XXX-XXXX-XXXX\n",
      "XXX-XXXX-XXXX\n",
      "(XXX-XXXX-XXXX\n",
      "1-XXX-XXXX-XXXX\n",
      "1(XXX-XXXX-XXXX\n",
      "XXX-XXXX-XXXX-1234\n",
      "XXX-XXXX-XXXXx1234\n",
      "XXX-XXXX-XXXX ext. 1234\n",
      "work 1-(XXX-XXXX-XXXX #1234\n",
      "\n"
     ]
    }
   ],
   "source": [
    "raw_text = \"\"\"512-234-5234\n",
    "foo\n",
    "bar\n",
    "124-512-5555\n",
    "biz\n",
    "125-555-5785\n",
    "679-397-5255\n",
    "2126660921\n",
    "212-998-0902\n",
    "888-888-2222\n",
    "801-555-1211\n",
    "802 555 1212\n",
    "803.555.1213\n",
    "(804) 555-1214\n",
    "1-805-555-1215\n",
    "1(806)555-1216\n",
    "807-555-1217-1234\n",
    "808-555-1218x1234\n",
    "809-555-1219 ext. 1234\n",
    "work 1-(810) 555.1220 #1234\n",
    "\"\"\"\n",
    "\n",
    "regex = re.compile('([2-9]\\d{2})\\D*(\\d{3})\\D*(\\d{4})')\n",
    "\n",
    "newstring = re.sub(regex, r\"XXX-XXXX-XXXX\", raw_text)\n",
    "\n",
    "print(newstring)"
   ]
  },
  {
   "cell_type": "markdown",
   "metadata": {},
   "source": [
    "When performing substitution, matches found using the capturing mechanism are available to the replacement using `\\1`, `\\2`, and so on, as shortcuts to `group(1)`, `group(2)`, etc. \n",
    "\n",
    "In order to use this back-referencing capability, we need to tell the `sub()` mechanism to treat the replacement string as a regular expression. For instance, if we want to make sure all phone numbers are normalized and all area codes are surrounded by parentheses, we can use:"
   ]
  },
  {
   "cell_type": "code",
   "execution_count": 15,
   "metadata": {},
   "outputs": [
    {
     "name": "stdout",
     "output_type": "stream",
     "text": [
      "(512)-234-5234\n",
      "foo\n",
      "bar\n",
      "124-512-5555\n",
      "biz\n",
      "125-555-5785\n",
      "(679)-397-5255\n",
      "(212)-666-0921\n",
      "(212)-998-0902\n",
      "(888)-888-2222\n",
      "(801)-555-1211\n",
      "(802)-555-1212\n",
      "(803)-555-1213\n",
      "((804)-555-1214\n",
      "1-(805)-555-1215\n",
      "1((806)-555-1216\n",
      "(807)-555-1217-1234\n",
      "(808)-555-1218x1234\n",
      "(809)-555-1219 ext. 1234\n",
      "work 1-((810)-555-1220 #1234\n",
      "\n"
     ]
    }
   ],
   "source": [
    "print(re.sub(regex, r\"(\\1)-\\2-\\3\", raw_text))"
   ]
  },
  {
   "cell_type": "markdown",
   "metadata": {},
   "source": [
    "#### Exercise 1"
   ]
  },
  {
   "cell_type": "markdown",
   "metadata": {},
   "source": [
    "The webpage at `http://www.stern.nyu.edu/faculty/search_name_form/` contains the contact emails for all the Stern faculty members. Write code that will allow you to extract all the emails that appear in the page. Just for your convenience, the code below will fetch the page, and store the HTML source in the variable `html`.\n",
    "\n",
    "Then you will need to write the right regex and write the code that finds emails in the retrieved html."
   ]
  },
  {
   "cell_type": "code",
   "execution_count": 20,
   "metadata": {},
   "outputs": [],
   "source": [
    "import requests\n",
    "url = 'http://www.stern.nyu.edu/faculty/search_name_form'\n",
    "response = requests.get(url)\n",
    "html = response.text\n",
    "\n",
    "regex = re.compile(r'[\\w\\.\\-]+@\\w+(\\.\\w+)+')\n",
    "matches = regex.finditer(html)\n",
    "email = set(match.group() for match in matches)\n",
    "#for match in matches:\n",
    "   # print(match.group())\n",
    "\n",
    "# Your code here\n",
    "# You want to write a regular expression that will find all the email addresses that appear in the html\n",
    "# variable, and store the emails in a list. You may also want to write the list of emails in a text file."
   ]
  },
  {
   "cell_type": "code",
   "execution_count": 21,
   "metadata": {},
   "outputs": [
    {
     "data": {
      "text/plain": [
       "{'aadamson@stern.nyu.edu',\n",
       " 'aalter@stern.nyu.edu',\n",
       " 'aappelba@stern.nyu.edu',\n",
       " 'aarora@stern.nyu.edu',\n",
       " 'aasadpou@stern.nyu.edu',\n",
       " 'abarasch@stern.nyu.edu',\n",
       " 'abarnett@stern.nyu.edu',\n",
       " 'abonezzi@stern.nyu.edu',\n",
       " 'abreen@stern.nyu.edu',\n",
       " 'abrown@stern.nyu.edu',\n",
       " 'acebenoy@stern.nyu.edu',\n",
       " 'adam.brandenburger@stern.nyu.edu',\n",
       " 'adamodar@stern.nyu.edu',\n",
       " 'adesouza@stern.nyu.edu',\n",
       " 'adontoh@stern.nyu.edu',\n",
       " 'afrazzin@stern.nyu.edu',\n",
       " 'afuster@stern.nyu.edu',\n",
       " 'aghose@stern.nyu.edu',\n",
       " 'agiloni@stern.nyu.edu',\n",
       " 'aginsber@stern.nyu.edu',\n",
       " 'ahinkes@stern.nyu.edu',\n",
       " 'akim3@stern.nyu.edu',\n",
       " 'aklein@stern.nyu.edu',\n",
       " 'alechner@stern.nyu.edu',\n",
       " 'aliberma@stern.nyu.edu',\n",
       " 'alieberm@stern.nyu.edu',\n",
       " 'alizzeri@stern.nyu.edu',\n",
       " 'aljungqv@stern.nyu.edu',\n",
       " 'alynch@stern.nyu.edu',\n",
       " 'amachfoe@stern.nyu.edu',\n",
       " 'amaindir@stern.nyu.edu',\n",
       " 'amalin@stern.nyu.edu',\n",
       " 'amarcian@stern.nyu.edu',\n",
       " 'arappapo@stern.nyu.edu',\n",
       " 'arpit.gupta@stern.nyu.edu',\n",
       " 'arun@stern.nyu.edu',\n",
       " 'asaunder@stern.nyu.edu',\n",
       " 'asavov@stern.nyu.edu',\n",
       " 'aschmeit@stern.nyu.edu',\n",
       " 'ascrofan@stern.nyu.edu',\n",
       " 'asellier@stern.nyu.edu',\n",
       " 'ashehata@stern.nyu.edu',\n",
       " 'aspence@stern.nyu.edu',\n",
       " 'atanaka@stern.nyu.edu',\n",
       " 'atenenbe@stern.nyu.edu',\n",
       " 'atuzhili@stern.nyu.edu',\n",
       " 'awebb@stern.nyu.edu',\n",
       " 'azaharof@stern.nyu.edu',\n",
       " 'bakos@stern.nyu.edu',\n",
       " 'bbechky@stern.nyu.edu',\n",
       " 'bbuchana@stern.nyu.edu',\n",
       " 'bdonefer@stern.nyu.edu',\n",
       " 'belen.villalonga@stern.nyu.edu',\n",
       " 'bhanssen@stern.nyu.edu',\n",
       " 'bhirschh@stern.nyu.edu',\n",
       " 'bholt@stern.nyu.edu',\n",
       " 'bhong@stern.nyu.edu',\n",
       " 'bkatz@stern.nyu.edu',\n",
       " 'blancast@stern.nyu.edu',\n",
       " 'blev@stern.nyu.edu',\n",
       " 'btuckman@stern.nyu.edu',\n",
       " 'btuschma@stern.nyu.edu',\n",
       " 'bwiesenf@stern.nyu.edu',\n",
       " 'bzweig@stern.nyu.edu',\n",
       " 'canthony@stern.nyu.edu',\n",
       " 'cbleuste@stern.nyu.edu',\n",
       " 'cbrown@stern.nyu.edu',\n",
       " 'cconlon@stern.nyu.edu',\n",
       " 'ccuny@stern.nyu.edu',\n",
       " 'cdixon@stern.nyu.edu',\n",
       " 'cfang@stern.nyu.edu',\n",
       " 'chintz@stern.nyu.edu',\n",
       " 'churvich@stern.nyu.edu',\n",
       " 'cmichael@stern.nyu.edu',\n",
       " 'cnewell@stern.nyu.edu',\n",
       " 'cparlato@stern.nyu.edu',\n",
       " 'cpluzins@stern.nyu.edu',\n",
       " 'cynthia.franklin@stern.nyu.edu',\n",
       " 'daltman@stern.nyu.edu',\n",
       " 'dcampo@stern.nyu.edu',\n",
       " 'dchugh@stern.nyu.edu',\n",
       " 'dcohen2@stern.nyu.edu',\n",
       " 'ddzyabur@stern.nyu.edu',\n",
       " 'deanmenon@stern.nyu.edu',\n",
       " 'dellner@stern.nyu.edu',\n",
       " 'deyzenbe@stern.nyu.edu',\n",
       " 'dgode@stern.nyu.edu',\n",
       " 'dhegde@stern.nyu.edu',\n",
       " 'djuran@stern.nyu.edu',\n",
       " 'dlennard@stern.nyu.edu',\n",
       " 'dlesh@stern.nyu.edu',\n",
       " 'dlucca@stern.nyu.edu',\n",
       " 'dmaheswa@stern.nyu.edu',\n",
       " 'dnadel@stern.nyu.edu',\n",
       " 'dperkal@stern.nyu.edu',\n",
       " 'dpoltrac@stern.nyu.edu',\n",
       " 'dpurdy@stern.nyu.edu',\n",
       " 'dsayles@stern.nyu.edu',\n",
       " 'dyermack@stern.nyu.edu',\n",
       " 'dzand@stern.nyu.edu',\n",
       " 'ealtman@stern.nyu.edu',\n",
       " 'ebartov@stern.nyu.edu',\n",
       " 'eboyle@stern.nyu.edu',\n",
       " 'edavila@stern.nyu.edu',\n",
       " 'edinallo@stern.nyu.edu',\n",
       " 'eelton@stern.nyu.edu',\n",
       " 'efischer@stern.nyu.edu',\n",
       " 'egilmart@stern.nyu.edu',\n",
       " 'egreenle@stern.nyu.edu',\n",
       " 'elivneof@stern.nyu.edu',\n",
       " 'elizabeth.howard@stern.nyu.edu',\n",
       " 'emelnick@stern.nyu.edu',\n",
       " 'emorriso@stern.nyu.edu',\n",
       " 'emuller@stern.nyu.edu',\n",
       " 'epluta@stern.nyu.edu',\n",
       " 'eshapiro@stern.nyu.edu',\n",
       " 'esteinbe@stern.nyu.edu',\n",
       " 'fdrohojo@stern.nyu.edu',\n",
       " 'fgormley@stern.nyu.edu',\n",
       " 'fmilitel@stern.nyu.edu',\n",
       " 'fmillike@stern.nyu.edu',\n",
       " 'fprovost@stern.nyu.edu',\n",
       " 'gbesner@stern.nyu.edu',\n",
       " 'gbuckle0@stern.nyu.edu',\n",
       " 'gcattani@stern.nyu.edu',\n",
       " 'gclaar@stern.nyu.edu',\n",
       " 'gclement@stern.nyu.edu',\n",
       " 'gcoleman@stern.nyu.edu',\n",
       " 'gcourtad@stern.nyu.edu',\n",
       " 'gfaber@stern.nyu.edu',\n",
       " 'ggonnot@stern.nyu.edu',\n",
       " 'gkilduff@stern.nyu.edu',\n",
       " 'gkubitz@stern.nyu.edu',\n",
       " 'gokun@stern.nyu.edu',\n",
       " 'gpodorow@stern.nyu.edu',\n",
       " 'gschwed@stern.nyu.edu',\n",
       " 'gsimon@stern.nyu.edu',\n",
       " 'gsmith@stern.nyu.edu',\n",
       " 'gvulcano@stern.nyu.edu',\n",
       " 'hassael@stern.nyu.edu',\n",
       " 'hchernof@stern.nyu.edu',\n",
       " 'hfrydman@stern.nyu.edu',\n",
       " 'hgeltzer@stern.nyu.edu',\n",
       " 'hgosher@stern.nyu.edu',\n",
       " 'hkleinbe@stern.nyu.edu',\n",
       " 'hlassaf@stern.nyu.edu',\n",
       " 'hmueller@stern.nyu.edu',\n",
       " 'hsegram@stern.nyu.edu',\n",
       " 'htaparia@stern.nyu.edu',\n",
       " 'idsouza@stern.nyu.edu',\n",
       " 'iguttman@stern.nyu.edu',\n",
       " 'ilobel@stern.nyu.edu',\n",
       " 'ischenkl@stern.nyu.edu',\n",
       " 'iwalter@stern.nyu.edu',\n",
       " 'jbergenf@stern.nyu.edu',\n",
       " 'jbernste@stern.nyu.edu',\n",
       " 'jbilders@stern.nyu.edu',\n",
       " 'jbrigait@stern.nyu.edu',\n",
       " 'jbroniko@stern.nyu.edu',\n",
       " 'jbrooks@stern.nyu.edu',\n",
       " 'jcaldero@stern.nyu.edu',\n",
       " 'jcarpen0@stern.nyu.edu',\n",
       " 'jcarr0@stern.nyu.edu',\n",
       " 'jczepiel@stern.nyu.edu',\n",
       " 'jeberhar@stern.nyu.edu',\n",
       " 'jedis@stern.nyu.edu',\n",
       " 'jeggers@stern.nyu.edu',\n",
       " 'jeley@stern.nyu.edu',\n",
       " 'jfargis@stern.nyu.edu',\n",
       " 'jferrara@stern.nyu.edu',\n",
       " 'jfinch@stern.nyu.edu',\n",
       " 'jfoudy@stern.nyu.edu',\n",
       " 'jgiraldi@stern.nyu.edu',\n",
       " 'jgreenbe@stern.nyu.edu',\n",
       " 'jhaidt@stern.nyu.edu',\n",
       " 'jhanlon@stern.nyu.edu',\n",
       " 'jhasbrou@stern.nyu.edu',\n",
       " 'jhollend@stern.nyu.edu',\n",
       " 'jhsieh@stern.nyu.edu',\n",
       " 'jitzkowi@stern.nyu.edu',\n",
       " 'jjacoby@stern.nyu.edu',\n",
       " 'jkaplan@stern.nyu.edu',\n",
       " 'jkliot@stern.nyu.edu',\n",
       " 'jkrawitz@stern.nyu.edu',\n",
       " 'jkruger@stern.nyu.edu',\n",
       " 'jlivnat@stern.nyu.edu',\n",
       " 'jloftus@stern.nyu.edu',\n",
       " 'jmagee@stern.nyu.edu',\n",
       " 'jmahoney@stern.nyu.edu',\n",
       " 'john.horton@stern.nyu.edu',\n",
       " 'jowen@stern.nyu.edu',\n",
       " 'jpeck@stern.nyu.edu',\n",
       " 'jporac@stern.nyu.edu',\n",
       " 'jreed@stern.nyu.edu',\n",
       " 'jronen@stern.nyu.edu',\n",
       " 'jrosenwa@stern.nyu.edu',\n",
       " 'jrubin@stern.nyu.edu',\n",
       " 'jsharlac@stern.nyu.edu',\n",
       " 'jsimonof@stern.nyu.edu',\n",
       " 'jsteckel@stern.nyu.edu',\n",
       " 'jstolpes@stern.nyu.edu',\n",
       " 'jstroebe@stern.nyu.edu',\n",
       " 'jvandewa@stern.nyu.edu',\n",
       " 'jvandreu@stern.nyu.edu',\n",
       " 'jvicente@stern.nyu.edu',\n",
       " 'jvickery@stern.nyu.edu',\n",
       " 'jwalker@stern.nyu.edu',\n",
       " 'jwatson@stern.nyu.edu',\n",
       " 'jwurgler@stern.nyu.edu',\n",
       " 'jyeo@stern.nyu.edu',\n",
       " 'jyounger@stern.nyu.edu',\n",
       " 'jzhang@stern.nyu.edu',\n",
       " 'kbalacha@stern.nyu.edu',\n",
       " 'kbigel@stern.nyu.edu',\n",
       " 'kbrenner@stern.nyu.edu',\n",
       " 'kcorfman@stern.nyu.edu',\n",
       " 'kderose@stern.nyu.edu',\n",
       " 'kermit.schoenholtz@stern.nyu.edu',\n",
       " 'kjohn@stern.nyu.edu',\n",
       " 'kkrishna@stern.nyu.edu',\n",
       " 'kkrushel@stern.nyu.edu',\n",
       " 'ksosulsk@stern.nyu.edu',\n",
       " 'ktesdell@stern.nyu.edu',\n",
       " 'lcabral@stern.nyu.edu',\n",
       " 'lcohen@stern.nyu.edu',\n",
       " 'lerickso@stern.nyu.edu',\n",
       " 'lfalk@stern.nyu.edu',\n",
       " 'llenihan@stern.nyu.edu',\n",
       " 'lleslie@stern.nyu.edu',\n",
       " 'lmetzger@stern.nyu.edu',\n",
       " 'lpederse@stern.nyu.edu',\n",
       " 'lriccio@stern.nyu.edu',\n",
       " 'lsproull@stern.nyu.edu',\n",
       " 'ltatum@stern.nyu.edu',\n",
       " 'lveldkam@stern.nyu.edu',\n",
       " 'lwalker@stern.nyu.edu',\n",
       " 'lwhite@stern.nyu.edu',\n",
       " 'lwilliam@stern.nyu.edu',\n",
       " 'lzicklin@stern.nyu.edu',\n",
       " 'marmony@stern.nyu.edu',\n",
       " 'marriaga@stern.nyu.edu',\n",
       " 'max.holmes@stern.nyu.edu',\n",
       " 'maxime.cohen@stern.nyu.edu',\n",
       " 'mbhasin@stern.nyu.edu',\n",
       " 'mbilling@stern.nyu.edu',\n",
       " 'mbrennan@stern.nyu.edu',\n",
       " 'mbrenner@stern.nyu.edu',\n",
       " 'mcohen@stern.nyu.edu',\n",
       " 'mdickste@stern.nyu.edu',\n",
       " 'mfarley@stern.nyu.edu',\n",
       " 'mgarcia@stern.nyu.edu',\n",
       " 'mgreenwa@stern.nyu.edu',\n",
       " 'mgruber@stern.nyu.edu',\n",
       " 'mhodak@stern.nyu.edu',\n",
       " 'minah.jung@stern.nyu.edu',\n",
       " 'mishihar@stern.nyu.edu',\n",
       " 'mjabban@stern.nyu.edu',\n",
       " 'mjog@stern.nyu.edu',\n",
       " 'mjung@stern.nyu.edu',\n",
       " 'mking@stern.nyu.edu',\n",
       " 'mlustig@stern.nyu.edu',\n",
       " 'mmadia@stern.nyu.edu',\n",
       " 'mmazzare@stern.nyu.edu',\n",
       " 'mnorth@stern.nyu.edu',\n",
       " 'mpatters@stern.nyu.edu',\n",
       " 'mpinedo@stern.nyu.edu',\n",
       " 'mpollack@stern.nyu.edu',\n",
       " 'mposner@stern.nyu.edu',\n",
       " 'mreingan@stern.nyu.edu',\n",
       " 'mrichar0@stern.nyu.edu',\n",
       " 'msaid@stern.nyu.edu',\n",
       " 'mschilli@stern.nyu.edu',\n",
       " 'msiegel@stern.nyu.edu',\n",
       " 'mstatler@stern.nyu.edu',\n",
       " 'msubrahm@stern.nyu.edu',\n",
       " 'mtang@stern.nyu.edu',\n",
       " 'mwaugh@stern.nyu.edu',\n",
       " 'mwells@stern.nyu.edu',\n",
       " 'nahmad@stern.nyu.edu',\n",
       " 'nderoos@stern.nyu.edu',\n",
       " 'ndiamant@stern.nyu.edu',\n",
       " 'neconomi@stern.nyu.edu',\n",
       " 'nlevina@stern.nyu.edu',\n",
       " 'npettit@stern.nyu.edu',\n",
       " 'nroubini@stern.nyu.edu',\n",
       " 'nsu@stern.nyu.edu',\n",
       " 'nwhite@stern.nyu.edu',\n",
       " 'opettina@stern.nyu.edu',\n",
       " 'osade@stern.nyu.edu',\n",
       " 'pagnello@stern.nyu.edu',\n",
       " 'panos@stern.nyu.edu',\n",
       " 'pdenicol@stern.nyu.edu',\n",
       " 'peter.henry@stern.nyu.edu',\n",
       " 'pghemawa@stern.nyu.edu',\n",
       " 'pgrovit@stern.nyu.edu',\n",
       " 'phardart@stern.nyu.edu',\n",
       " 'pkenney@stern.nyu.edu',\n",
       " 'plakner@stern.nyu.edu',\n",
       " 'pland@stern.nyu.edu',\n",
       " 'pmarkham@stern.nyu.edu',\n",
       " 'pmaziero@stern.nyu.edu',\n",
       " 'pmelton@stern.nyu.edu',\n",
       " 'pmoser@stern.nyu.edu',\n",
       " 'pnayyar@stern.nyu.edu',\n",
       " 'pnewman@stern.nyu.edu',\n",
       " 'pperry@stern.nyu.edu',\n",
       " 'proth@stern.nyu.edu',\n",
       " 'pryan@stern.nyu.edu',\n",
       " 'pscott@stern.nyu.edu',\n",
       " 'pshamsai@stern.nyu.edu',\n",
       " 'ptice@stern.nyu.edu',\n",
       " 'pwachtel@stern.nyu.edu',\n",
       " 'pzarowin@stern.nyu.edu',\n",
       " 'rabrante@stern.nyu.edu',\n",
       " 'raghu.sundaram@stern.nyu.edu',\n",
       " 'raghubir@stern.nyu.edu',\n",
       " 'rayala2@stern.nyu.edu',\n",
       " 'rberenbe@stern.nyu.edu',\n",
       " 'rberner@stern.nyu.edu',\n",
       " 'rbilimor@stern.nyu.edu',\n",
       " 'rburns@stern.nyu.edu',\n",
       " 'rd498@stern.nyu.edu',\n",
       " 'rdeo@stern.nyu.edu',\n",
       " 'rdiyanni@stern.nyu.edu',\n",
       " 'rdunbar@stern.nyu.edu',\n",
       " 'rengle@stern.nyu.edu',\n",
       " 'rfrank@stern.nyu.edu',\n",
       " 'rfreedma@stern.nyu.edu',\n",
       " 'rgordon@stern.nyu.edu',\n",
       " 'rgurland@stern.nyu.edu',\n",
       " 'rhealy@stern.nyu.edu',\n",
       " 'rhendler@stern.nyu.edu',\n",
       " 'risrael@stern.nyu.edu',\n",
       " 'rkabalis@stern.nyu.edu',\n",
       " 'rkavesh@stern.nyu.edu',\n",
       " 'rkowal@stern.nyu.edu',\n",
       " 'rlamb@stern.nyu.edu',\n",
       " 'rlevich@stern.nyu.edu',\n",
       " 'rlevine@stern.nyu.edu',\n",
       " 'rlyon@stern.nyu.edu',\n",
       " 'rmaldona@stern.nyu.edu',\n",
       " 'rmandler@stern.nyu.edu',\n",
       " 'rmixon@stern.nyu.edu',\n",
       " 'rradner@stern.nyu.edu',\n",
       " 'rrichmon@stern.nyu.edu',\n",
       " 'rsalomon@stern.nyu.edu',\n",
       " 'rseamans@stern.nyu.edu',\n",
       " 'rsemmens@stern.nyu.edu',\n",
       " 'rshoaf@stern.nyu.edu',\n",
       " 'rshoemak@stern.nyu.edu',\n",
       " 'rsmith@stern.nyu.edu',\n",
       " 'rstein@stern.nyu.edu',\n",
       " 'rstevens@stern.nyu.edu',\n",
       " 'rsylla@stern.nyu.edu',\n",
       " 'rursu@stern.nyu.edu',\n",
       " 'rwhitela@stern.nyu.edu',\n",
       " 'rwiner@stern.nyu.edu',\n",
       " 'rwong3@stern.nyu.edu',\n",
       " 'rwosnitz@stern.nyu.edu',\n",
       " 'sblader@stern.nyu.edu',\n",
       " 'sbowmake@stern.nyu.edu',\n",
       " 'sbrown@stern.nyu.edu',\n",
       " 'schnabl@stern.nyu.edu',\n",
       " 'scraig@stern.nyu.edu',\n",
       " 'sdavis@stern.nyu.edu',\n",
       " 'sdick@stern.nyu.edu',\n",
       " 'sdoroban@stern.nyu.edu',\n",
       " 'sfiglews@stern.nyu.edu',\n",
       " 'sfinkel@stern.nyu.edu',\n",
       " 'sfreeman@stern.nyu.edu',\n",
       " 'sgallowa@stern.nyu.edu',\n",
       " 'sge@stern.nyu.edu',\n",
       " 'sgodeke@stern.nyu.edu',\n",
       " 'showell@stern.nyu.edu',\n",
       " 'sjagabat@stern.nyu.edu',\n",
       " 'skoonin@stern.nyu.edu',\n",
       " 'skovensk@stern.nyu.edu',\n",
       " 'skrentzm@stern.nyu.edu',\n",
       " 'slenzu@stern.nyu.edu',\n",
       " 'sliss@stern.nyu.edu',\n",
       " 'slondon@stern.nyu.edu',\n",
       " 'smarcian@stern.nyu.edu',\n",
       " 'smaster@stern.nyu.edu',\n",
       " 'snarayan@stern.nyu.edu',\n",
       " 'spatel@stern.nyu.edu',\n",
       " 'spreston@stern.nyu.edu',\n",
       " 'sraphael@stern.nyu.edu',\n",
       " 'sryan@stern.nyu.edu',\n",
       " 'sstehlik@stern.nyu.edu',\n",
       " 'szin@stern.nyu.edu',\n",
       " 'talbanes@stern.nyu.edu',\n",
       " 'tambe@stern.nyu.edu',\n",
       " 'tcha@stern.nyu.edu',\n",
       " 'tcooley@stern.nyu.edu',\n",
       " 'terdem@stern.nyu.edu',\n",
       " 'tgilman@stern.nyu.edu',\n",
       " 'tglencro@stern.nyu.edu',\n",
       " 'tkuchler@stern.nyu.edu',\n",
       " 'tmeyvis@stern.nyu.edu',\n",
       " 'tpapadim@stern.nyu.edu',\n",
       " 'tphilipp@stern.nyu.edu',\n",
       " 'tphillip@stern.nyu.edu',\n",
       " 'tpugel@stern.nyu.edu',\n",
       " 'tsargent@stern.nyu.edu',\n",
       " 'tserdari@stern.nyu.edu',\n",
       " 'tsmith@stern.nyu.edu',\n",
       " 'twhelan@stern.nyu.edu',\n",
       " 'vacharya@stern.nyu.edu',\n",
       " 'vdhar@stern.nyu.edu',\n",
       " 'vgowrish@stern.nyu.edu',\n",
       " 'vmorwitz@stern.nyu.edu',\n",
       " 'vsingh@stern.nyu.edu',\n",
       " 'vvenkate@stern.nyu.edu',\n",
       " 'wallen@stern.nyu.edu',\n",
       " 'wgreene@stern.nyu.edu',\n",
       " 'wguth@stern.nyu.edu',\n",
       " 'whanlon@stern.nyu.edu',\n",
       " 'wsilber@stern.nyu.edu',\n",
       " 'wxiao@stern.nyu.edu',\n",
       " 'xcao@stern.nyu.edu',\n",
       " 'xchen3@stern.nyu.edu',\n",
       " 'xliu@stern.nyu.edu',\n",
       " 'xmeng@stern.nyu.edu',\n",
       " 'yamihud@stern.nyu.edu',\n",
       " 'yberson@stern.nyu.edu',\n",
       " 'ychen@stern.nyu.edu',\n",
       " 'ydou@stern.nyu.edu',\n",
       " 'yshen@stern.nyu.edu',\n",
       " 'yshi@stern.nyu.edu',\n",
       " 'yspiegel@stern.nyu.edu',\n",
       " 'ytrope@stern.nyu.edu',\n",
       " 'zemel@stern.nyu.edu',\n",
       " 'zshapira@stern.nyu.edu'}"
      ]
     },
     "execution_count": 21,
     "metadata": {},
     "output_type": "execute_result"
    }
   ],
   "source": [
    "email"
   ]
  },
  {
   "cell_type": "markdown",
   "metadata": {},
   "source": [
    "#### Exercise 2\n",
    "\n",
    "* The webpage at `http://www.nasdaq.com/screening/companies-by-name.aspx?letter=A` contains the list of all tickers at the NASDAQ exchange, which start with the letter `A`. Inspect the HTML, and figure how what is the pattern for referring to the ticker (hint: you will see URLs of the form `http://www.nasdaq.com/symbol/....`). \n",
    "* Write regular expressions to extract the tickers that appear in a web page\n",
    "* Write code for iterating over all pages of NASDAQ for all the different letters\n",
    "* Write code for going over multiple pages within the same letter. (optional)"
   ]
  },
  {
   "cell_type": "code",
   "execution_count": 24,
   "metadata": {},
   "outputs": [
    {
     "name": "stdout",
     "output_type": "stream",
     "text": [
      "<callable_iterator object at 0x7f4df9719198>\n"
     ]
    }
   ],
   "source": [
    "import requests\n",
    "import re\n",
    "url = 'http://www.nasdaq.com/screening/companies-by-name.aspx?letter=A'\n",
    "html = requests.get(url).text\n",
    "pattern = r'http://www.nasdaq.com/symbol/([a-z]+)'\n",
    "regex = re.compile(pattern)\n",
    "matches = regex.finditer(html)\n",
    "tickers = set()\n",
    "print(matches)\n",
    "for m in matches:\n",
    "    print('url:',m.group())\n",
    "    print('ticker:',m.group(1))\n",
    "    tickers.add(m.group(1))\n",
    "    print(\"========\")"
   ]
  },
  {
   "cell_type": "code",
   "execution_count": 25,
   "metadata": {},
   "outputs": [
    {
     "data": {
      "text/plain": [
       "'\\r\\n<!doctype html>\\r\\n<html lang=\"en-us\" class=\"nasdaqCom inner  no-js\" xmlns:og=\"https://ogp.me/ns#\" xmlns:fb=\"https://www.facebook.com/2008/fbml\">\\r\\n<head>\\r\\n<!-- Google Tag Manager -->\\r\\n<script>(function(w,d,s,l,i){w[l]=w[l]||[];w[l].push({\\'gtm.start\\':\\r\\nnew Date().getTime(),event:\\'gtm.js\\'});var f=d.getElementsByTagName(s)[0],\\r\\nj=d.createElement(s),dl=l!=\\'dataLayer\\'?\\'&l=\\'+l:\\'\\';j.async=true;j.src=\\r\\n\\'https://www.googletagmanager.com/gtm.js?id=\\'+i+dl;f.parentNode.insertBefore(j,f);\\r\\n})(window,document,\\'script\\',\\'dataLayer\\',\\'GTM-K2BQVP7\\');</script>\\r\\n<!-- End Google Tag Manager -->\\r\\n\\r\\n<script>\\r\\n(function(){\\r\\nvar is_chrome;\\r\\nif(typeof navigator.vendor!=\"undefined\")\\r\\n\\tis_chrome = ((navigator.userAgent.toLowerCase().indexOf(\\'chrome\\') > -1) &&(navigator.vendor.toLowerCase().indexOf(\"google\") > -1));\\r\\nelse\\r\\n\\tis_chrome = false;\\r\\nif(is_chrome)\\r\\n{\\r\\n//instart\\r\\n//Copyright Instart Logic Thu Aug 30 2018 - All rights reserved - version: 10.3.2\\r\\n!function(t){if(function(){var n=!0,i=!1,e=\"\";try{var r=\"object\"==typeof t.IXC_242_2319292935167121&&t.IXC_242_2319292935167121;if(n=!r||void 0===r.CanRun||\"_242_2319292935167121\"!==r._242_2319292935167121||r.CanRun(\"abd\"))r=t.IXC_242_2319292935167121=t.IXC_242_2319292935167121||{},r.InitStartTime=(t.performance?t.performance:Date).now(),r._242_2319292935167121=\"_242_2319292935167121\",t.INSTART_TARGET_NAME=\"abd\",t.I11C=t.I11C||{};else{var o=t.INSTART_TARGET_NAME;e=\"double nanovisor injection: abd after \"+o,(i=\"abd\"!==o)&&console.warn(e)}t.INSTART=t.INSTART||{},t.INSTART.Init=function(){i&&console.error(\"ignored Init call after \"+e)}}catch(t){try{console.error(t)}catch(t){}n=!0}return n}()){!function(){function n(){return(n=Object.assign||function(t){for(var n,i=1,e=arguments.length;i<e;i++){n=arguments[i];for(var r in n)Object.prototype.hasOwnProperty.call(n,r)&&(t[r]=n[r])}return t}).apply(this,arguments)}function i(t,n){return(i=Object.setPrototypeOf||{__proto__:[]}instanceof Array&&function(t,n){t.__proto__=n}||function(t,n){for(var i in n)n.hasOwnProperty(i)&&(t[i]=n[i])})(t,n)}function e(){if(void 0!==P)return P;var n=!0;try{if(\"l2n9s8hg5p\"!==t.atob(t.btoa(\"l2n9s8hg5p\")))throw\"l2n9s8hg5p\";n=!1}catch(t){}return P=n}function r(t){return void 0===t&&(t=X),1===t.v.iytep}function o(t){return void 0===t&&(t=X),4===t.v.iytep}function u(t){return void 0===t&&(t=X),2===t.v.iytep}function c(t){return X=new Q(t),z=X.v,I=X.Z,X}function a(t,n){function e(){this.constructor=t}i(t,n),t.prototype=null===n?Object.create(n):(e.prototype=n.prototype,new e)}function s(t,n){t||(console.error(n),0<(t=[]).length&&console.log(t))}function d(t){return t.split(\"\").filter(function(t,n){return 0==n%2}).reverse().join(\"\")}function h(){if(void 0!==Ct)return Ct;var t=!1,n=Object.getOwnPropertyDescriptor(HTMLFrameElement.prototype,\"contentWindow\");return(n=n&&n.get&&n.get.toString())&&(t=-1===n.indexOf(tt)),Ct=t}function l(t){var n=Pt[t]?Pt[t]:null;if(n)return b(n);if(!(n=Qt.exec(\"\"+t)))return{ihcseme:null,iedercslaitn:null,imodnia:null,ioptr:null,ihtapeman:t,iuqyre:null,igarftnem:null};var i=n[7];i=b(n={ihcseme:f(n[1]),iedercslaitn:f(n[2]),imodnia:f(n[3]),ioptr:f(n[4]),ihtapeman:f(n[5]),iuqyre:f(n[6]),igarftnem:\"string\"==typeof i?i:null});var e=Object.keys(Pt);return 0!==e.length&&e.length>It-1&&delete Pt[e[e.length%It]],Pt[t]=i,n}function f(t){return\"string\"==typeof t&&0<t.length?t:null}function b(t){return{ihcseme:t.ihcseme,iedercslaitn:t.iedercslaitn,imodnia:t.imodnia,ioptr:t.ioptr,ihtapeman:t.ihtapeman,iuqyre:t.iuqyre,igarftnem:t.igarftnem}}function m(t){return{ihcseme:t[0],iedercslaitn:t[1],imodnia:t[2],ioptr:t[3],ihtapeman:t[4],iuqyre:t[5],igarftnem:t[6]}}function v(){document.cookie=Yt+\"=\"+Date.now()+\";max-age=86400\",document.cookie=jt+\"=1;max-age=86400\",document.cookie=Tt+\"=\"+document.referrer+\";path=/;max-age=10\";var n=new on(t.location.href),i=\"i10c.encReferrer=\"+encodeURIComponent(t.btoa(document.referrer)),e=_t,r=n.iaptegemanht();r&&(\"/\"!==r[0]&&(e+=\"/\"),e+=r),n.iaptesemanht(e),n.iqddayreu(i),n.ieuqddamarapyr(\"i10c.ua\",z.iytep.toString()),t.location.replace(n.itegferh()),document.close()}function p(t,n,i){var e=Object.getOwnPropertyDescriptor(t,n)||{};if(!1!==e.writable){e.writable=!1,e.value=i;try{Object.defineProperty(t,n,e)}catch(t){}}else s(e.value===i,n+\" is already defined on object with different value\");return i}function y(t,n,i){try{t[n]=i}catch(t){}return i}function L(n,i,e){n=n.split(\".\"),e=e?p:y;for(var r,o=t||{},u=0;u<n.length-1;++u){if(r=n[u],!o)return;o=e(o,r,o[r]||{})}r=n[n.length-1],o&&(s(!!r,\"In Export, name not defined\"),e(o,r,i))}function R(t,n){L($+\".\"+t,n),L(J+\".\"+t,n)}function g(){for(var t=[],n=0;n<arguments.length;n++)t[n]=arguments[n];zt?t.forEach(function(t){return t(zt)}):un=un.concat(t)}function D(n,i){zt=n;var e=!0;try{un.forEach(function(t){e=t(n)&&e});var r=i&&t[i];r&&r instanceof Array&&(r.forEach(function(t){e=t(n)&&e}),r.push=g)}catch(t){e=!1}return e}function N(t,n,i,e){if(t||(t={}),n)for(var r=Object.keys(n),o=r.length-1;0<=o;--o){var u=r[o],c=t[u];c=(void 0===c?an:e&&e[u]||i)(c,n[u]),t[u]=c}return t}function w(t,n){return function(i,e){return null===e||\"object\"!=typeof e||e instanceof RegExp?e:Array.isArray(e)?!Array.isArray(i)&&i?(console.error(\"Error while attempting to merge an array \"+e+\" with a non-array \"+i),e):t(i,e):n(i,e)}}function E(t,n){return N(t,n,an)}function S(t,n){for(var i=0;i<n.length;i++)t=N(t,n[i],an);return t}function Y(t,n){var i=n&&S({},n);return function(n,e){return N(n,e,t,i)}}function j(t,n){return N(t,n,sn)}function T(t,n){return N(t,n,dn)}function _(t,n){return t?n?function(){t.apply(this,arguments),n.apply(this,arguments)}:t:n}function F(t,n){return null===t?t===n:t.toLowerCase()===n.toLowerCase()}function H(t,n){return null!==t&&void 0!==t&&n.test(t)}function W(t,n,i){var e={};return e[kt]=t,e[Ht]=n,i&&(e[Wt]=i),e}function Z(n){try{var i=t[n];return i.setItem(\"TEST\",\"TEST\"),i.removeItem(\"TEST\"),!0}catch(t){return!1}}function M(t,n){var i=\"\";if(t){var e=t.indexOf(n);-1<e&&(t=t.slice(e),n=n.replace(/[.]/g,\"[.]\").replace(/\\\\$/g,\"[$]\"),(t=new RegExp(\"(?:\\\\\\\\b\"+n+\"\\\\\\\\b\\\\\\\\s*=\\\\\\\\s*)([^;]*);?\").exec(t))&&t[1]&&(i=t[1]))}return i}function k(){var t={};try{if(Z(xt)){var n=sessionStorage._242_2319292935167121;n&&(t=JSON.parse(n))}}catch(t){}return t}function O(){return new $n(function(t){function n(n){var e=!1;\"load\"===n.type?e=!1:\"error\"===n.type&&(e=!0),t(W(st,e,n.currentTarget.src)),i&&(n=n.target)&&n.parentNode&&n.parentNode.removeChild(n)}var i=4===z.iytep&&3===I.iytep,e=document.createElement(\"img\");e.onload=n,e.onerror=n;var r=Math.floor(Math.random()*Cn.length);e.src=Cn[r]+\"?\"+qn[Math.floor(Math.random()*qn.length)],i&&document.body.appendChild(e),1<Cn.length&&Cn.splice(r,1)})}function V(t,n,i,e,c){return new $n(function(a){var s=\"script\"===t?at:dt,d=o();if(r()||d||u()){var h;d&&(h=setTimeout(function(){a(W(s,!1,\"Timed out on error\"))},500));var l=!1,f=function(t){if(!l){l=!0,d&&clearTimeout(h);var n=!1;\"load\"===t.type?n=!1:\"error\"===t.type&&(n=!0),a(W(s,n,t.currentTarget.href)),b&&b.parentNode&&b.parentNode.removeChild(b)}},b=document.createElement(\"link\");b.onload=f,b.onerror=f,b.rel=c||u()?\"prefetch\":\"preload\",b.as=t,i&&b.setAttribute(\"crossorigin\",\"anonymous\"),e&&b.setAttribute(\"referrerpolicy\",\"no-referrer\"),f=Math.floor(Math.random()*n.length),b.href=n[f],Jn&&Jn.parentNode?Jn&&Jn.parentNode&&Jn.parentNode.insertBefore(b,Jn):document.head.appendChild(b),1<n.length&&n.splice(f,1)}else a(W(s,!1,\"Neither Chrome nor Safari\"))})}function x(){return new $n(function(t){var n=Kn[Math.floor(Math.random()*Kn.length)],i=document.createElement(n[0]);i.id=n[1],i.style.width=\"1px\",i.style.height=\"1px\",i.style.top=\"-555px\",i.style.left=\"-555px\",i.style.display=\"block\";var e=setInterval(function(){document&&document.body&&(document.body.appendChild(i),clearInterval(e),setTimeout(function(){var n,e=getComputedStyle(i),r=!1;(\"none\"===e.display||(n=e.getPropertyValue(\"-moz-binding\"))&&-1!==n.indexOf(\"abp-elemhidehit\"))&&(r=!0),t(W(pt,r)),i&&i.parentNode&&i.parentNode.removeChild(i)},200))},10)})}function B(t,n){void 0===n&&(n=ii);var i=new n.wa,e=null;if(\"string\"!=typeof t.url&&(e=t.url.itegferh()),t.url=e||t.url,t.onload&&(i.onload=function(){return t.onload(new ni(i,t))}),t.onerror&&(i.onerror=function(){return t.onerror(new ni(i,t))}),i.withCredentials=!!t.credentials,t.Sa&&i.overrideMimeType(t.Sa),n.Ga.call(i,t.method,t.url,!1!==t.async),t.R)for(e=0;e<t.R.length;e++)i.setRequestHeader(t.R[e].ianem,t.R[e].Ma);e=t.body&&(\"string\"==typeof t.body?t.body:JSON.stringify(t.body));var r=!1===t.async;try{n.Ka.call(i,e)}catch(n){r&&t.onerror&&t.onerror(null)}return r?new ni(i,t):null}function A(t){return t[Ht]||t[kt]===lt}function C(n,i){try{var e=[];e=i[Zt]&&(i[Ht]?i[Zt]:i[Zt].filter(A)),ei[Ht]&&e.push(ei);var r={adbType:[i[Ht]?wt:Et],otherData:JSON.stringify(e),clientIpAddr:\"\",userAgent:navigator.userAgent,pageUrl:t.location.href,detectionTime:i[Mt]},o={data_stream_type:\"adb\",json_data:JSON.stringify(r),generated_timestamp_msec:Date.now()};t.navigator.sendBeacon?t.navigator.sendBeacon(n,JSON.stringify(o)):B({method:\"POST\",url:n,body:o,async:!0,onload:void 0,onerror:void 0,onchange:void 0,R:[{ianem:\"Content-type\",Ma:\"text/plain\"}]})}catch(t){}return!0}function G(t,n){var i={};return i[kt]=t,i[Ht]=n,i}var X,z,I,P=void 0,Q=function(){function t(t){this.v=this.ha(t,[{h:/MSIE\\\\s([\\\\d]+)(\\\\.([\\\\d]+))?(\\\\.([\\\\d]+))?/,iytep:3},{h:/Edge\\\\/([\\\\d]+)(\\\\.([\\\\d]+))?(\\\\.([\\\\d]+))?/,iytep:5},{h:/Trident.*rv:([\\\\d]+)(\\\\.([\\\\d]+))?(\\\\.([\\\\d]+))?/,iytep:3},{h:/Chrome\\\\/([\\\\d]+)(\\\\.([\\\\d]+))?(\\\\.([\\\\d]+))?/,iytep:1},{h:/Firefox\\\\/([\\\\d]+)(\\\\.([\\\\d]+))?(\\\\.([\\\\d]+))?/,iytep:2},{h:/Version\\\\/([\\\\d]+)(\\\\.([\\\\d]+))?(\\\\.([\\\\d]+))?.*Safari/,iytep:4}])||{iytep:0,L:0,X:0,W:0},this.Z=this.ha(t,[{h:/Android\\\\s([\\\\d]+)(\\\\.([\\\\d]+))?(\\\\.([\\\\d]+))?/,iytep:1},{h:/CPU OS ([\\\\d]+)(_([\\\\d]+))?(_([\\\\d]+))?/,iytep:2},{h:/CPU iPhone OS ([\\\\d]+)(_([\\\\d]+))?(_([\\\\d]+))?/,iytep:2},{h:/Mac OS X ([\\\\d]+)(_([\\\\d]+))?(_([\\\\d]+))?/,iytep:3},{h:/Windows NT ([\\\\d]+)(.([\\\\d]+))?(.([\\\\d]+))?/,iytep:4},{h:/Linux [a-z]*([\\\\d]+)(_([\\\\d]+))?(_([\\\\d]+))?/,iytep:5},{h:/CrOS [a-z]*([\\\\d]+)(_([\\\\d]+))?(_([\\\\d]+))?/,iytep:5}])||{iytep:0,L:0,X:0,W:0}}return t.prototype.ha=function(t,n){for(var i=0;i<n.length;++i){var e=n[i],r=e.h.exec(t);if(null!==r)return{iytep:e.iytep,L:parseInt(r[1])||0,X:parseInt(r[3])||0,W:parseInt(r[5])||0}}return{iytep:0,L:0,W:0,X:0}},t}();c(\"undefined\"!=typeof navigator&&navigator.userAgent?navigator.userAgent:\"\");var U=function(t){function n(){var n=t.call(this)||this;return n.qa=!1,t.prototype.s.call(n,function(){}),n}return a(n,t),n.prototype.K=function(t){return function(){if(!this.qa){for(var n=0,i=t.length;n<i;++n)t[n].apply(this,arguments);this.qa=!0}}},n}(function(t){function n(){var n=t.call(this)||this;return t.prototype.s.call(n,function(){n.Fa=this,n.ja=arguments}),n}return a(n,t),n.prototype.K=function(n){var i=this,e=t.prototype.K.call(this,n);return function(){e.apply(this,arguments),i.La()}},n.prototype.s=function(n){this.ja?n.apply(this.Fa,this.ja):t.prototype.s.call(this,n)},n}(function(){function t(){this.i=this.O}return t.prototype.O=function(){},t.prototype.K=function(t){return function(){for(var n=0,i=t.length;n<i;++n)t[n].apply(this,arguments)}},t.prototype.s=function(t){if(this.i===this.O)this.i=t;else if(this.i!==this.pa){var n=this.ca;n||(n=this.ca=[this.i,t],this.i=this.pa=this.K(n))}else this.ca.push(t)},t.prototype.La=function(){this.i!==this.O&&(this.i!==this.pa?this.i=this.O:this.ca.length=0)},t}())),J=d(\"C61618I6\"),$=d(\"C20613I0\"),q=d(\"T5R1A6T0S1N2I0\"),K=d(\"d7e4r3i5f0_7d3a2o6l9n6o1_9e1l8g8o7o4g3\"),tt=d(\"e2d6o8c1 7e5v0i0t7a6n9\"),nt=d(\"k8c7a7b2l7l2a9C2d1b9A9r8e7t3s0i1g8e7R7\"),it=d(\"E1B4U3O5Y0\");d(\"B8U1O5Y0\"),d(\"P5B4A7\");var et=d(\"B5A3\"),rt=d(\"S6T6A5T1S5B6D0A5\");d(\"G4D1A0\");var ot=d(\"P3C4X8E0\"),ut=d(\"X4L9O3V2\");d(\"E8N8O8N8\");var ct=d(\"E0V9A8R1B0\"),at=d(\"T0P4I6R1C6S9B0\"),st=d(\"G5M0I0B3\"),dt=d(\"L1M4T5H4B5\"),ht=d(\"I6R1U6D4A9D4E6K4C9O2L5B4\"),lt=d(\"E6M3A5R2F7B4\");d(\"D1E8T3S4E5U6Q9E4R4D4A4P9F9D5\");var ft=d(\"D3E8D1A5O8L1P6F8D2\"),bt=d(\"E3L1B6A9W0E7I0V6P4F1D3\"),mt=d(\"E2G9N3A0H6C6W2E0I6V3P7F9D2\"),vt=d(\"D1E8R6E0D2N8E9R8P0F4D1\"),pt=d(\"T4N5E5M0E9L0E1\"),yt=d(\"D9F8\"),Lt=d(\"T5S1I2H2\"),Rt=d(\"I7R4U3D7A1D6E2D0A6O9L8\"),gt=d(\"K9R8O2W1T5E3N3\"),Dt=d(\"O2F1N2I0G4I5S6N7O9N8\");d(\"S8T7A5T0S2D2I8B5E4R9P0\"),d(\"S7T9S8E3T6G9I4S8N2O8N2T5P7R8\");var Nt=d(\"T2L6U7S5E0R8D7E2R0O3T2S2\"),wt=d(\"T8N4E2S4E7R7P3\"),Et=d(\"T3O9N3\"),St=d(\"Y9D2A2E9R2T8O7N1\"),Yt=d(\"e0t8u9o6r4.7h595r603m0\"),jt=d(\"c60511i5h1p6r3o7m5\"),Tt=d(\"r8e6r0r9e1f7e2r4.2c80313i5\"),_t=d(\"0101g8/6\");d(\"e7t8a3t0S8h5p4r0o3M0\"),d(\"d4e1k5c0o9l8b1\"),d(\"d6e9k4c6o8l9b2n5u4\");var Ft=d(\"/0)4]2z9-6a290-402[1]897-307[8g4:2?4(0/4^2\"),Ht=d(\"d2e1t6c9e4t4e9D4\"),Wt=d(\"n9o9s4a9e3R2\"),Zt=d(\"s0t3l1u3s9e7R0\"),Mt=d(\"y2c9n3e8t2a4L6n4o6i4t2c8e6t4e1D3\"),kt=d(\"e4p4y7T5\"),Ot=d(\"D1E6D0A8O1L1_1V8\"),Vt=d(\"D8E9D4A8O4L4T8O0N8_0V8\"),xt=d(\"e8g2a8r3o2t6S9n0o7i6s6s2e5s4\"),Bt=d(\"d5f8c40912i9\"),At=d(\"l9r0u8d8b8a0t3e7g2.0c60210i7\");d(\"k7c9a0b2l7l2a5c4a5h0c8t0p4a4c3\"),d(\"a7h9c9t0p3a1c9e7r8g9\"),d(\"o3x560N508Y6P3k2d9S2V2k330J5V2v2x31530N568X6q3k2e9v2M2f3Z0z5t2H2\"),d(\"e7i1k2o1o0c6\"),d(\"b6d3d7d0b0.1c00110i1\"),d(\"e5m6o0r9h6c7\"),d(\"i4s4c0\"),d(\"T9d8a9o7l4n0o7\"),d(\"n6o6i5s4s9i0m2r5e4p3\"),d(\"s4n9o1i9s7s8i2m6r5e0p2\"),d(\"y2r4e5u2q8\"),d(\"d6e2i6n3e2d8\"),d(\"t1p4m2o6r7p6\"),d(\"r2e7v5i9r1d9b5e8w6\"),d(\"k6c1i9l0c9\"),d(\"t3r9a0t7s2h6c2u0o1t3\"),d(\"s0s8e9r9p8y8e7k4\"),d(\"l5l7o0r7c7s4\"),d(\"t6u2p6n6i1\"),d(\"e6t0s1a9p0\"),d(\"n5o9i0t9o8m5e9c8i1v7e1d1\"),d(\"m7o5t7n2a3h9p6_8\"),d(\"m6o8t1n5a3h7P4l4l8a5c6\"),d(\"s4j0m4o8t5n8a5h1p6\");var Ct=void 0,Gt=new U,Xt=r()&&e()&&h();Gt.i(Xt);var zt,It=5,Pt={},Qt=/^(?:([^:/?#]+):)?(?:\\\\/\\\\/+(?:([^/?#]*)@)?([^/?#:@]*)(?::([0-9]+)?)?)?([^?#]+)?(?:\\\\?([^#]*))?(?:#(.*))?$/,Ut=/[#\\\\/\\\\?@]/g,Jt=/[#\\\\/\\\\?]/g,$t=/[#\\\\?]/g,qt=/[#]/g,Kt=/(\\\\/|^)(?:[^./][^/]*|\\\\.{2,}(?:[^./][^/]*)|\\\\.{3,}[^/]*)\\\\/\\\\.\\\\.(?:\\\\/|$)/,tn=/^([/])?(?:\\\\.\\\\.(?:[/]|$))+/,nn=/(^(?:(?:25[0-5]|2[0-4][0-9]|[01]?[0-9][0-9]?).){3}(?:25[0-5]|2[0-4][0-9]|[01]?[0-9][0-9]?)$)|([^.]+[.](?:([^.]{2}[.][^.]{2})|([^.]+))$)/,en=/[^.]+[.](no|com|co|io|it|de|net|org|fr|one|tv|today|fm|kr|jp|com[.]au|co[.]uk|ca)$/,rn=/^([^=]*)(?:=(.*))?$/,on=function(){function t(t){t&&(this.israpirude=\"string\"==typeof t?l(t):t),this.israpirude||(this.israpirude={ihcseme:null,iedercslaitn:null,imodnia:null,ioptr:null,ihtapeman:null,iuqyre:null,igarftnem:null}),this.iacehc={m:null,iironig:null,B:null,F:null,G:null,l:[null]}}return t.prototype.itegferh=function(){var t;if(!(t=this.iacehc.m)){var n=\"\";null!==(t=this.israpirude).ihcseme&&(n+=t.ihcseme+\":\"),null!==t.imodnia&&(n+=\"//\",null!==t.iedercslaitn&&(n+=t.iedercslaitn+\"@\"),n+=t.imodnia,null!==t.ioptr&&(n+=\":\"+t.ioptr)),null!==t.ihtapeman&&(n+=t.ihtapeman),null!==t.iuqyre&&(n+=\"?\"+t.iuqyre),null!==t.igarftnem&&(n+=\"#\"+t.igarftnem),t=this.iacehc.m=n}return t},t.prototype.iotegnigir=function(){var t=this.iacehc;if(!t.iironig){var n=\"\",i=this.istegemehc();this.icurtssilruderut()||!i?(i&&(n+=i+\":\"),(i=this.itegtsoh())&&(n+=\"//\"+i),t.iironig=\"\"!==n?n:null):t.iironig=\"null\"}return t.iironig},t.prototype.istegemehc=function(){return this.israpirude.ihcseme},t.prototype.iosbasilruetul=function(){return!!this.israpirude.ihcseme&&!!this.israpirude.imodnia},t.prototype.icurtssilruderut=function(){var t=this.israpirude.ihcseme;return null!==t&&(\"http\"===t||\"https\"===t||\"ftp\"===t)},t.prototype.istesemehc=function(t){return null!==t&&Ut.test(t)?this:(this.israpirude.ihcseme=t?t.toLowerCase():null,t=this.iacehc,t.m=null,t.iironig=null,this)},t.prototype.irpteglocoto=function(){var t=this.istegemehc();return t&&t+\":\"},t.prototype.iderctegslaitne=function(){return this.israpirude.iedercslaitn},t.prototype.iderctesslaitne=function(t){return null!==t&&Ut.test(t)?this:(this.israpirude.iedercslaitn=t,this.iacehc.m=null,this)},t.prototype.itegtsoh=function(){var t=this.iacehc;if(!t.B){var n=\"\",i=this.idtegniamo();i&&(n+=i,(i=this.itegtrop())&&(n+=\":\"+i)),t.B=\"\"!==n?n:null}return t.B},t.prototype.idtegniamo=function(){return this.israpirude.imodnia},t.prototype.idtesniamo=function(t){return null!==t&&Jt.test(t)?this:(this.israpirude.imodnia=t,(t=this.israpirude.ihtapeman)&&\"/\"!==t[0]&&(this.israpirude.ihtapeman=\"/\"+t),t=this.iacehc,t.m=null,t.iironig=null,t.B=null,t.F=null,t.G=null,this)},t.prototype.iamodtoorkcehcehcacdltdnani=function(){var t=this.iacehc;if(!t.F){var n=this.idtegniamo();if(n){var i=en.exec(n);i?(t.F=i[0],t.G=i[1]):(i=nn.exec(n))&&(t.F=i[0],(t.G=i[4]||null)||(t.G=i[3]))}}},t.prototype.ielpottegniamodlev=function(){return this.iamodtoorkcehcehcacdltdnani(),this.iacehc.G},t.prototype.ioortegniamodt=function(){return this.iamodtoorkcehcehcacdltdnani(),this.iacehc.F||this.idtegniamo()},t.prototype.itegtrop=function(){return this.israpirude.ioptr},t.prototype.itestrop=function(t){if(t){if((t=Number(t))!==(65535&t))return this;this.israpirude.ioptr=\"\"+t}else this.israpirude.ioptr=null;return t=this.iacehc,t.m=null,t.iironig=null,t.B=null,this},t.prototype.iteghtap=function(){var t=\"\",n=this.iaptegemanht();return n&&(t+=n),(n=this.iqtegyreu())&&(t+=\"?\"+n),(n=this.irftegtnemga())&&(t+=\"#\"+n),\"\"!==t?t:null},t.prototype.iaptegemanht=function(){return this.israpirude.ihtapeman},t.prototype.iaptesemanht=function(n,i){if(n){if($t.test(n))return this;n=!i||!this.icurtssilruderut()&&this.istegemehc()?n:t.va(n),this.israpirude.ihtapeman=this.israpirude.imodnia&&\"/\"!==n[0]?\"/\"+n:n||null}else this.israpirude.ihtapeman=null;return this.iacehc.m=null,this},t.prototype.izilamronemanhtape=function(){return this.iaptesemanht(this.israpirude.ihtapeman,!0)},t.prototype.isteghcrae=function(){var t=this.iqtegyreu();return t&&\"?\"+t},t.prototype.iqtegyreu=function(){return this.israpirude.iuqyre},t.prototype.iqtesyreu=function(t){return null!==t&&qt.test(t)?this:(this.israpirude.iuqyre=t,t=this.iacehc,t.m=null,t.l=[null],this)},t.prototype.iteghsah=function(){var t=this.irftegtnemga();return t&&\"#\"+t},t.prototype.irftegtnemga=function(){return this.israpirude.igarftnem},t.prototype.irftestnemga=function(t){return this.israpirude.igarftnem=t,this.iacehc.m=null,this},t.prototype.iqddayreu=function(t){var n=t;return this.israpirude.iuqyre&&(n=this.israpirude.iuqyre+\"&\"+t),this.iqtesyreu(n)},t.prototype.ieuqddamarapyr=function(t,n){return this.iqddayreu(n?t+\"=\"+n:t)},t.prototype.iarapkcehcehcacretem=function(){var t=this.iacehc;if(1===t.l.length&&null===t.l[0]){var n=this.israpirude.iuqyre;if(n){for(var i=[],e=-1,r=0,o=(n=n.split(\"&\")).length;r<o;++r){var u=rn.exec(n[r]);u&&(i[++e]=u[1],u[2]||\"\"===u[2]?i[++e]=u[2]:i[++e]=null)}t.l=i}else t.l=[]}},t.prototype.iapllatessretemar=function(t){for(var n=\"\",i=\"\",e=t.length,r=0;r<e;){var o=t[r++],u=t[r++];n+=i+o,i=\"&\",(u||\"\"===u)&&(n+=\"=\"+u)}return this.iqtesyreu(n||null)},t.prototype.iemaraptesseulavret=function(t,n){\"string\"==typeof n&&(n=[n]),this.iarapkcehcehcacretem();for(var i=0,e=this.iacehc.l,r=[],o=0,u=e.length;o<u;o+=2)t===e[o]?i<n.length&&r.push(t,n[i++]):r.push(e[o],e[o+1]);for(;i<n.length;)r.push(t,n[i++]);return this.iapllatessretemar(r),this},t.prototype.ipevomerretemara=function(t){return this.iemaraptesseulavret(t,[])},t.prototype.iapllategsretemar=function(){return this.iarapkcehcehcacretem(),this.iacehc.l.slice(0,this.iacehc.l.length)},t.prototype.iemaraptegseulavret=function(t){this.iarapkcehcehcacretem();for(var n=this.iacehc.l,i=[],e=0,r=n.length;e<r;e+=2)t===n[e]&&i.push(n[e+1]);return i},t.prototype.imaraptegeulavrete=function(t){this.iarapkcehcehcacretem();for(var n=this.iacehc.l,i=0,e=n.length;i<e;i+=2)if(t===n[i])return n[i+1];return null},t.va=function(t){t=t.replace(/(^|\\\\/)\\\\.(?:\\\\/|$)/g,\"$1\").replace(/\\\\/{2,}/g,\"/\");for(var n;(n=t.replace(Kt,\"$1\"))!=t;t=n);return t=t.replace(tn,\"$1\")},t.prototype.itumetaercwodahselba=function(n){return new(n=n||t)(Object.create(this.israpirude))},t.prototype.ierfeze=function(){return Object.freeze(this.israpirude),this},t.prototype.ilceno=function(){return new t({ihcseme:this.israpirude.ihcseme,iedercslaitn:this.israpirude.iedercslaitn,imodnia:this.israpirude.imodnia,ioptr:this.israpirude.ioptr,ihtapeman:this.israpirude.ihtapeman,iuqyre:this.israpirude.iuqyre,igarftnem:this.israpirude.igarftnem})},t.prototype.iiresezila=function(){var t=this.israpirude;return[t.ihcseme,t.iedercslaitn,t.imodnia,t.ioptr,t.ihtapeman,t.iuqyre,t.igarftnem]},t}(),un=[];R(nt,g),e()&&Gt.s(function(t){t&&(t={},t[Zt]=[],t[Mt]=0,t[Ht]=!0,D(t)&&v())});var cn=/webcache[.]googleusercontent[.]com|cc[.]bingj[.]com|web[.]archive[.]org/i,an=w(function(t,n){return n.slice()},E),sn=w(function(t,n){return t.concat(n)},j),dn=w(function(t,n){return t.concat(n.filter(function(n){return 0>t.indexOf(n)}))},T),hn=Object.create(null,{Version:{value:\"10.3.2\",writable:!1,configurable:!1,enumerable:!0}}),ln=function(t,n,i){var e=this,r=E(i||{},hn);this.o=function(i,e,o,u){e=new t(e);var c=Object.create(r);return o&&(c=n(c,o)),i(e,function(t){return t?n(c,t):c}),u&&(c=n(c,u)),c},this.la=function(){},this.ComputeAll=function(t,n,i){return e.o(e.la,t,n,i)}},fn=function(){function t(t){this.u=t instanceof on?t:new on(t&&m(t))}return t.prototype.a=function(t){return this.u.ioortegniamodt()===t},t.prototype.scheme=function(t){return this.u.istegemehc()===t},t.prototype.domain=function(t){return this.u.idtegniamo()===t},t.prototype.Qa=function(t){return H(this.u.idtegniamo(),t)},t.prototype.Ta=function(){return H(this.u.iqtegyreu(),/abdtrigger/)},t.prototype.P=function(t){t:{for(var n=this.u.iemaraptegseulavret(\"abdtrigger\"),i=0;i<n.length;i++)if(n[i]===t){t=!0;break t}t=!1}return t},t.prototype.port=function(t){return this.u.itegtrop()===t},t}(),bn={ie:3,chrome:1,edge:5,firefox:2,safari:4},mn={android:1,ios:2,mac:3,windows:4,linux:5},vn=function(t){function n(n){(n=n||{}).headers=n.headers||{};var i=n.uri,e=n.url;return(i=i instanceof on?i:new on(i?m(i):e?l(e):void 0)).idtegniamo()||(e=new on(\"//\"+n.headers.host),i.idtesniamo(e.idtegniamo()),i.itestrop(e.itegtrop())),i=t.call(this,i)||this,i.ba=n,n=n.headers[\"user-agent\"],i.N=n?new Q(n):X,i}return a(n,t),n.prototype.U=function(t){var n=this.ba.headers;return n&&n[t]||null},n.prototype.fa=function(){var t=this.ba.headers;return t&&t.cookie||\"\"},n.prototype.ia=function(t,n,i){return void 0!==(t=t.L)&&(void 0===n||n<=t)&&(void 0===i||t<=i)},n.prototype.method=function(t){return this.ba.method===t},n.prototype.ra=function(t,n){return F(this.U(t),n)},n.prototype.host=function(t){return this.ra(\"host\",t)},n.prototype.Pa=function(t){return H(this.fa(),t)},n.prototype.cookie=function(t,n){return-1!==this.fa().indexOf(t)&&this.Pa(new RegExp(t+\"s*=[^;]*\"+n+\"[^;]*\"))},n.prototype.f=function(t,n,i){return void 0===(t=bn[t])&&(t=0),this.N.v.iytep===t&&this.ia(this.N.v,n||Number.MIN_VALUE,i||Number.MAX_VALUE)},n.prototype.sa=function(t){return void 0===(t=mn[t])&&(t=0),this.N.Z.iytep===t&&this.ia(this.N.Z,Number.MIN_VALUE,Number.MAX_VALUE)},n}(fn),pn={ietupmochctefno:new ln(vn,j).o},yn=Y(an,[{i_irurefed:E,ii_irueniln:E,iart_iruremrofsn:j,itcelloc_irustats_frep_:E,i_iruepyt:E}]),Ln=new ln(fn,yn).o,Rn=function(){},gn=function(){function t(t){this.Na=t||\"\"}return t.prototype.pattern=function(t){return H(this.Na,t)},t}(),Dn=function(){function t(t){this.Da=t||{}}return t.prototype.contentType=function(t){return this.Da.Va===t},t}(),Nn=new ln(function(t){void 0===t&&(t={}),this.uri=new fn(t.uri),this.tag=new Rn(t.tag),this.Ua=new gn(t.Ua),this.Ra=new Dn(t.Ra)},Y(an,[{i_irurefed:E,ii_irueniln:E,iart_iruremrofsn:j,itcelloc_irustats_frep_:E,i_iruepyt:E,imrofsnartelbatnoita:j,irttnetnocremrofsna:j}])).o,wn=function(){function t(t){this.Ja=t=t||{}}return t.prototype.U=function(t){var n=this.Ja.headers;return n&&n[t]||null},t.prototype.ra=function(t,n){return F(this.U(t),n)},t}(),En=n({},pn,{isetupmoctcejbobu:Nn,ibusetupmociruecruoser:Ln,ixorpetupmocesnopsernoy:new ln(wn,j).o,iunoyxorpetupmocesnopsermaertsp:new ln(wn,j).o,idleihsdaetupmoctseuqerdedocedno:new ln(vn,j).o,inoxotobetupmoctseuqerdedoced:new ln(function(){},j).o}),Sn=function(t){function n(n,i,e){return t.call(this,function(t){this.env=new n(t.env),this.req=new i(t.req),this.inp=new i(t.inp)},e,En)||this}return a(n,t),n}(ln),Yn=function(){function t(t){void 0===t&&(t={}),this.T=t}return t.prototype.applicationName=function(t){return this.T.applicationName===t},t.prototype.applicationVersion=function(t){return this.T.applicationVersion===t},t.prototype.instanceName=function(t){return t===this.T.instanceName},t}(),jn=S({},[{Version:function(t){return console.error(\"Version cannot be changed from \"+t),t},ilgo:j},{ireggolgifnoc:T,itreggoltropsnar:j,icirtemgifnoc:T,itcirtemtropsnar:E,if_nohcte:_}]);Y(an,[jn]);var Tn=Y(sn,[{iedoced_notseuqer_d:_}]),_n=Y(sn,[{iedoced_notseuqer_d:_}]),Fn=Y(an,[{ier_noesnops:_,irapyreuqecalperma:sn}]),Hn=Y(an,[{uri:_}]),Wn=new Sn(Yn,vn,Y(an,[jn,{inv:j,igolreg:j,ihsdadlei:Tn,iobxot:_n,impp:E,ieis:E,irpyxo:Fn,irmu:j,ieikooctcelfer:j,iciruotpyr:E,iletdayrteme:E,iosivonanecivres_r:E,imarfieerte:E,ierbusecruos:Hn,iobustcejb:_,i_emonececivres:E}])),Zn=Wn.ComputeAll;Wn.la=function(n,i){(n.req.f(\"chrome\",46,1e3)||n.req.f(\"safari\",10,1e3))&&i({iadb:{ierelbanenoitcerid:!0}}),(n.req.f(\"chrome\",46,1e3)||n.req.f(\"firefox\",38,1e3)||n.req.f(\"safari\",10,1e3)||n.req.f(\"ie\",10,1e3)&&document&&10>document.documentMode||n.req.f(\"edge\",12,1e3))&&i({iadb:{idelbanenoitcete:!0}}),i({iadb:{ivetatselbaira:\"MorphState\",iolbetatseulavdekc:\"blocked\",ilbtonetatseulavdekco:\"not-blocked\",iycnetalelbairav:\"Abdt\",iircsdekcolbmunsrotcetedkniltp:4,isdekcolbnamregmunsrotcetedkniltpirc:0,imthdekcolbmunsrotcetedknill:4,ihtnemelemunsrotcetededi:4,iidekcolbmunsrotcetedgm:4,inoitceteddlohserht:3,ilufelbanenoitcetedl:!0,iyrotsihelbanenoitceriderrof:!1,irotsihmundlohserhty:1,iawirudatsilhct:[/(?:pubads[.])|(?:prebid[.]js)|(?:openx[.]net)|(?:googlesyndication[.](?:net|com))|(?:indexww[.]com)|(?:[.]adnxs[.]com)/i],itemeletdbatniopdneyr:\"/g00/2_d3d3LmJvc3Rvbi5jb20%3D_/TU9SRVBIRVVTOCRodHRwOi8vY3AtaW4ubmFub3Zpc29yLmlvL2NsaWVudHByb2ZpbGVyL2FkYj9pMTBjLm1hcmsuc2NyaXB0LnR5cGU%3D_$/$/$\",iceriderelbasidnoissesrofnoit:!1,isabnoitceriderelbanesrotcetedkniltpircsde:!0,ietedtratsemitnoitc:0,iofetavitcarekcolbynar:!0}}),n.req.f(\"safari\",10,1e3)&&i({iadb:{icolbdaslru_k:\"https://s0.2mdn.net/ads/richmedia/studio/pv2/60282074/20170720084443516/script.js https://cdn.doubleverify.com/dv-match4.js https://cdn.springserve.com/vd/vd0.2.82.8.js https://cdn.revcontent.com/build/css/rev2.min.css https://c.betrad.com/a/n/269/635.js https://s0.2mdn.net/6440533/1495124845208/Raise%20Your%20Hands_728x90/global.min.css\".split(\" \")}}),(n.req.f(\"firefox\",38,1e3)||n.req.f(\"safari\",10,1e3)||n.req.f(\"ie\",10,1e3)&&document&&10>document.documentMode||n.req.f(\"edge\",12,1e3))&&i({iadb:{ilufelbanenoitcetedl:!1,iyrotsihelbanenoitceriderrof:!1,iceriderelbasidnoissesrofnoit:!1}}),(n.req.domain(t.atob(\"d3d3LmxpZmV3aXJlLmNvbQ==\"))||n.req.domain(t.atob(\"d3d3LnRoZWJhbGFuY2UuY29t\"))||n.req.domain(t.atob(\"d3d3LnRoZXNwcnVjZS5jb20=\"))||n.req.domain(t.atob(\"d3d3LnRob3VnaHRjby5jb20=\"))||n.req.domain(t.atob(\"d3d3LnRyaXBzYXZ2eS5jb20=\")))&&(i({iadb:{iyrotsihelbanenoitceriderrof:!1,isabnoitceriderelbanesrotcetedkniltpircsde:!1,ilufelbanenoitcetedl:!1,ihtnemelemunsrotcetededi:0,iidekcolbmunsrotcetedgm:0,ietedtratsemitnoitc:300}}),n.req.Ta()&&(n.req.P(\"300\")&&i({iadb:{ietedtratsemitnoitc:300}}),n.req.P(\"500\")&&i({iadb:{ietedtratsemitnoitc:500}}),n.req.P(\"dcl\")&&i({iadb:{ietedtratsemitnoitc:\"DOMContentLoaded\"}}),n.req.P(\"load\")&&i({iadb:{ietedtratsemitnoitc:\"load\"}}))),n.req.a(t.atob(\"cG9wc2NpLmNvbQ==\"))&&i({iadb:{isabnoitceriderelbanesrotcetedkniltpircsde:!1}}),!n.req.a(t.atob(\"Y25ldC5jb20=\"))||n.req.host(t.atob(\"d3d3LmNuZXQuY29t\"))||n.req.host(t.atob(\"dGVzdC5jbmV0LmNvbQ==\"))||n.req.host(t.atob(\"ZG93bmxvYWQuY25ldC5jb20=\"))||n.req.host(t.atob(\"ZG93bmxvYWQuc3RhZ2UuY25ldC5jb20=\"))||i({iadb:{idelbanenoitcete:!1}}),n.req.f(\"firefox\")&&n.req.host(t.atob(\"dGVzdC5jbmV0LmNvbQ==\"))&&i({iadb:{ierelbanenoitcerid:!0}}),n.req.host(t.atob(\"d3d3LmNuZXQuY29t\"))&&i({iadb:{inietatseulavti:\"detecting\"}}),n.req.a(t.atob(\"ZWRtdW5kcy5jb20=\"))&&n.req.f(\"firefox\",54,1e3)&&i({iadb:{ierelbanenoitcerid:!0}}),n.req.host(t.atob(\"d3d3LmxvbGtpbmcubmV0\"))&&i({iadb:{ilufelbanenoitcetedl:!0,iyrotsihelbanenoitceriderrof:!0,iawirudatsilhct:[/(?:mb[.]zam)/i]}}),n.req.host(t.atob(\"d3d3LmxvbGtpbmcubmV0\"))&&n.req.cookie(\"i10cfd\",\"1\")&&i({iadb:{iyrotsihelbanenoitceriderrof:!0,iawirudatsilhct:[/(?:mb[.]zam)/i]}}),(n.req.host(t.atob(\"d3d3Lm1zbi5jb20=\"))||n.req.host(t.atob(\"aW50MS5tc24uY29t\")))&&i({iadb:{ivetatselbaira:\"Abd\",iolbetatseulavdekc:1,ilbtonetatseulavdekco:0,isabnoitceriderelbanesrotcetedkniltpircsde:!1,itemeletdbatniopdneyr:\"//tu9srvbirvvtocrjcc1pbi5uyw5vdmlzb3iuaw80.g00.msn.com/g00/2_d3d3LmJvc3Rvbi5jb20%3D_/TU9SRVBIRVVTOCRodHRwOi8vY3AtaW4ubmFub3Zpc29yLmlvL2NsaWVudHByb2ZpbGVyL2FkYj9pMTBjLm1hcmsuc2NyaXB0LnR5cGU%3D_$/$/$\"}}),(n.req.host(t.atob(\"d3d3Lm1zbi5jb20=\"))||n.req.host(t.atob(\"aW50MS5tc24uY29t\")))&&n.req.f(\"firefox\")&&i({iadb:{ierelbanenoitcerid:!0}}),n.req.host(t.atob(\"d3d3Lm1zbi5jb20=\"))&&(n.req.f(\"chrome\",46,1e3)||n.req.f(\"safari\",10,1e3))&&i({iadb:{ilufelbanenoitcetedl:!0,ierelbanenoitcerid:!0,iyrotsihelbanenoitceriderrof:!0,iceriderelbasidnoissesrofnoit:!1,iawirudatsilhct:[/(?:cdn[.]3lift[.]com)|(?:ib[.]3lift[.]com\\\\/ttj)|(?:widgets[.]outbrain[.]com\\\\/external\\\\/publishers\\\\/msn\\\\/MSNOBCore[.]min[.]js)|(?:cdn[.]taboola[.]com\\\\/libtrc\\\\/msn-home-network\\\\/loader[.]js)|(?:cdn[.]taboola[.]com\\\\/libtrc\\\\/msn-section-network\\\\/loader[.]js)|(?:h6[.]msn[.]com\\\\/nativeads\\\\/ms-nativeads-msn[.]min[.]js)|(?:at[.]atwola[.]com)|(?:pixel[.]advertising[.]com)/i]}}),(n.req.host(t.atob(\"d3d3Lm1zbi5jb20=\"))||n.req.host(t.atob(\"aW50MS5tc24uY29t\")))&&t&&1===t[\"ad-instart2\"]&&i({iadb:{ierelbanenoitcerid:!1}}),n.req.host(t.atob(\"d3d3Lm5hc2RhcS5jb20=\"))&&(.4>=Math.random()&&i({iadb:{ierelbanenoitcerid:!1}}),i().iadb.ierelbanenoitcerid&&.1>=Math.random()&&i({iadb:{ilufelbanenoitcetedl:!0}})),n.req.host(t.atob(\"bnYuY29t\"))&&i({iadb:{iircsdekcolbmunsrotcetedkniltp:4,isdekcolbnamregmunsrotcetedkniltpirc:4,imthdekcolbmunsrotcetedknill:0,ihtnemelemunsrotcetededi:4,iidekcolbmunsrotcetedgm:4,inoitceteddlohserht:16,ierelbanenoitcerid:!1,ilufelbanenoitcetedl:!1,iyrotsihelbanenoitceriderrof:!1}}),(n.req.a(t.atob(\"Y2FsZ2FyeWhlcmFsZC5jb20=\"))||n.req.a(t.atob(\"Y2FsZ2FyeXN1bi5jb20=\"))||n.req.a(t.atob(\"Y2FuYWRhLmNvbQ==\"))||n.req.a(t.atob(\"Y2Fub2UuY29t\"))||n.req.a(t.atob(\"ZWRtb250b25qb3VybmFsLmNvbQ==\"))||n.req.a(t.atob(\"ZWRtb250b25zdW4uY29t\"))||n.req.a(t.atob(\"ZmFjZW9mZi5jb20=\"))||n.req.a(t.atob(\"ZmluYW5jaWFscG9zdC5jb20=\"))||n.req.a(t.atob(\"aG9ja2V5aW5zaWRlb3V0LmNvbQ==\"))||n.req.a(t.atob(\"bGVhZGVycG9zdC5jb20=\"))||n.req.a(t.atob(\"bGZwcmVzcy5jb20=\"))||n.req.a(t.atob(\"bW9udHJlYWxnYXpldHRlLmNvbQ==\"))||n.req.a(t.atob(\"bmF0aW9uYWxwb3N0LmNvbQ==\"))||n.req.a(t.atob(\"b3R0YXdhY2l0aXplbi5jb20=\"))||n.req.a(t.atob(\"b3R0YXdhc3VuLmNvbQ==\"))||n.req.a(t.atob(\"dGhlZ2lmdGd1aWRlLmNh\"))||n.req.a(t.atob(\"dGhlcHJvdmluY2UuY29t\"))||n.req.a(t.atob(\"dGhlc3RhcnBob2VuaXguY29t\"))||n.req.a(t.atob(\"dG9yb250b3N1bi5jb20=\"))||n.req.a(t.atob(\"dmFuY291dmVyc3VuLmNvbQ==\"))||n.req.a(t.atob(\"d2luZHNvcnN0YXIuY29t\"))||n.req.a(t.atob(\"d2lubmlwZWdzdW4uY29t\")))&&i({iadb:{ilufelbanenoitcetedl:!1,iyrotsihelbanenoitceriderrof:!1}}),n.req.host(t.atob(\"d3d3LnJhbmtlci5jb20=\"))&&(n.req.sa(\"mac\")||n.req.sa(\"windows\"))&&i({iadb:{isabnoitceriderelbanesrotcetedkniltpircsde:!1,ierelbanenoitcerid:!0,ilufelbanenoitcetedl:!0,iyrotsihelbanenoitceriderrof:!0}}),n.req.host(t.atob(\"d3d3LnNoZXJkb2cuY29t\"))&&.1>=Math.random()&&i({iadb:{ilufelbanenoitcetedl:!0}}),n.req.domain(t.atob(\"d3d3LnN1cGVyY2hldnkuY29t\"))&&i({iadb:{iyrotsihelbanenoitceriderrof:!1,isabnoitceriderelbanesrotcetedkniltpircsde:!1,ilufelbanenoitcetedl:!1,ihtnemelemunsrotcetededi:0,iidekcolbmunsrotcetedgm:0,ietedtratsemitnoitc:300}}),(n.req.host(t.atob(\"dHZ0cm9wZXMub3Jn\"))||n.req.host(t.atob(\"d3d3LnR2dHJvcGVzLm9yZw==\")))&&i({iadb:{iofetavitcarekcolbynar:!1,ifetavitcakcolbdaro:!0,irofetavitcasulpkcolbda:!0}}),n.req.a(t.atob(\"d2FzaGluZ3RvbnBvc3QuY29t\"))&&i({iadb:{ilufelbanenoitcetedl:!1,ietedtratsemitnoitc:\"DOMContentLoaded\",iotelbairavlabolgskcabllacretsiger:\"__il_wapo\",ierelbanenoitcerid:!1}}),n.req.host(t.atob(\"d3d3Lndvd2hlYWQuY29t\"))&&i({iadb:{ilufelbanenoitcetedl:!0,iyrotsihelbanenoitceriderrof:!0,iawirudatsilhct:[/(?:mb[.]zam)/i]}}),n.req.host(t.atob(\"d3d3Lndvd2hlYWQuY29t\"))&&n.req.cookie(\"i10cfd\",\"1\")&&i({iadb:{iyrotsihelbanenoitceriderrof:!0,iawirudatsilhct:[/(?:mb[.]zam)/i]}}),n.req.f(\"chrome\",46,1e3)&&i({iadb:{iidekcolbmunsrotcetedgm:0}}),n.req.Qa(cn)&&i({iadb:{idelbanenoitcete:!1}}),n.req.cookie(\"i10c.expt.history\",\"true\")&&i({iadb:{iyrotsihelbanenoitceriderrof:!0}})};var Mn,kn=null,On=Mn={url:t.location.href,headers:{host:t.location.host,cookie:document.cookie}};kn=Zn({env:{},inp:On,req:Mn},{});var Vn;!function(t){t[t.PENDING=0]=\"PENDING\",t[t.FULLFILLED=1]=\"FULLFILLED\",t[t.REJECTED=2]=\"REJECTED\"}(Vn||(Vn={}));var xn=function(){function t(t){if(!t)throw\"no executor provided\";if(\"object\"!=typeof this)throw\"use new\";if(\"function\"!=typeof t)throw\"not a function\";this.state=Vn.ka,this.za(t)}return t.prototype.za=function(t){var n=this;try{t(function(t){n.Ia(t)},function(t){n.na(t)})}catch(t){n.na(t)}},t.prototype.Ia=function(t){this.ta&&this.ta.call(this,t),this.state=Vn.ea},t.prototype.na=function(t){this.da&&this.da.call(this,t),this.state=Vn.ma},t.prototype.then=function(n,i){return this.state===Vn.ka?(this.da=i,this.ta=n):this.state===Vn.ea?n.call(this,void 0):this.state===Vn.ma&&i.call(this,void 0),new t(function(){})},t.prototype.catch=function(n){return this.state===Vn.ka?this.da=n:this.state!==Vn.ea&&this.state===Vn.ma&&n.call(this,void 0),new t(function(){})},t.prototype.all=function(n){var i=Array.prototype.slice.call(n);return new t(function(t,n){function e(o,u){try{if(u&&(\"object\"==typeof u||\"function\"==typeof u)){var c=u.then;if(\"function\"==typeof c)return void c.call(u,function(t){e(o,t)},n)}i[o]=u,0==--r&&t(i)}catch(t){n(t)}}if(0===i.length)return t([]);for(var r=i.length,o=0;o<i.length;o++)e(o,i[o])})},t}();!function(){if(Z(\"sessionStorage\")){var t=q+\"_TAB_ID\",n=sessionStorage[t];n||(n=sessionStorage[t]=String(Date.now()))}}();var Bn=(new on).idtesniamo(t.location.hostname).ioortegniamodt(),An={},Cn=\"aHR0cHM6Ly9wYWdlYWQyLmdvb2dsZXN5bmRpY2F0aW9uLmNvbS9mYXZpY29uLmljbw== aHR0cHM6Ly9zMC4ybWRuLm5ldC8xNjM1OTA5LzF4MWltYWdlLmpwZw== aHR0cHM6Ly9jb25uZWN0LmZhY2Vib29rLm5ldC9mYXZpY29uLmljbw== aHR0cHM6Ly9hZHMudHdpdHRlci5jb20vZmF2aWNvbi5pY28= aHR0cHM6Ly93d3cuZ29vZ2xlLWFuYWx5dGljcy5jb20vX191dG0uZ2lm aHR0cHM6Ly90cGMuZ29vZ2xlc3luZGljYXRpb24uY29tL2Zhdmljb24uaWNv aHR0cHM6Ly9zZWN1cmUuZm9vdHByaW50Lm5ldC95aWVsZG1hbmFnZXIvYXBleC9tZWRpYXN0b3JlL2FkY2hvaWNlXzEucG5n\".split(\" \"),Gn=\"aHR0cHM6Ly9jZG4uZmxhc2h0YWxraW5nLmNvbS83MTE5NS8xODkwMTQ2L2pzL3Rpbnlyb29tLmpz aHR0cHM6Ly9jZG4ubWVkaWF2b2ljZS5jb20vbmF0aXZlYWRzL3NjcmlwdC9jYWZlbW9tL3BvbGFyX3RoZXN0aXJfcGlwaW5nLmpz aHR0cHM6Ly9jLmJldHJhZC5jb20vYS9uLzI3OS83ODE3NS5qcw== aHR0cHM6Ly9zY3JpcHRzLmhvc3QuYmFubmVyZmxvdy5jb20vMS4wLjAvd2lkZ2V0Lm1pbi5qcw== aHR0cHM6Ly9zdGF0aWMuZG91YmxlY2xpY2submV0L2luc3RyZWFtL2FkX3N0YXR1cy5qcw== aHR0cHM6Ly9zMC4ybWRuLm5ldC82OTU1NTEyLzE0OTkzNDQxOTMxMjMvd2ViLzMwMHgyNTBfZWRnZS5qcw==\".split(\" \"),Xn=\"aHR0cHM6Ly9ydGF4LmNyaXRlby5jb20vZGVsaXZlcnkvcnRhL3J0YS5qcw== aHR0cHM6Ly9pYi5hZG54cy5jb20vanB0 aHR0cHM6Ly90bHguM2xpZnQuY29tL2hlYWRlci9hdWN0aW9u aHR0cHM6Ly9hZC55aWVsZGxhYi5uZXQveXAvNTE5NDc4 aHR0cHM6Ly9wYWdlYWQyLmdvb2dsZXN5bmRpY2F0aW9uLmNvbS9wYWdlYWQvanMvZ29vZ2xlX3RvcF9leHAuanM= aHR0cHM6Ly9zZWN1cmUuYWRueHMuY29tL3R0ag==\".split(\" \"),zn=new U,In=r()&&e()&&!h();zn.i(In);var Pn=void 0,Qn=new U,Un=r()&&(void 0!==Pn?Pn:Pn=!!t[K]);Qn.i(Un);var Jn=t.document.currentScript||t.document.scripts[document.scripts.length-1],$n=t.Promise||xn,qn=\"&ad_box_ &ad_channel= &ad_classid= &ad_height= &ad_keyword= &ad_network_ &ad_number= &ad_type= &ad_type_ &ad_url= &ad_zones= &adbannerid=\".split(\" \"),Kn=[[\"iframe\",\"google_ads_frame\"],[\"iframe\",\"google_ads_iframe\"],[\"div\",\"ADV-SLOT-\"],[\"div\",\"YFBMSN\"],[\"div\",\"google_dfp_\"],[\"div\",\"MarketGid\"]],ti=function(){function n(t){this.D={},this.Config=t,this.j={C:0,Y:0,M:0},this.Ea=this.Ba(),this.aa=[]}return n.prototype.g=function(t){return this.D[t]},n.prototype.Aa=function(){var t=[];t.push(W(Dt,!0,JSON.stringify(this.j)));var n,i=k();for(n in i)t.push(W(n,i[n].w,\"STORED:\"+JSON.stringify(i[n].A)));i=this.D,An=k();for(var e in i)An&&An[e]?An[e].w===i[e]?An[e].A+=1:(An[e].w=i[e],An[e].A=1):An[e]={w:i[e],A:1};for(e in An)i[e]||delete An[e];if(e=JSON.stringify(An),Z(xt))try{sessionStorage._242_2319292935167121=e}catch(t){}return M(document.cookie,Bt)||(document.cookie=Bt+\"=1; domain=\"+Bn+\"; path=/\"),t},n.prototype.ga=function(){for(var n=[],i=new Date,e=1;6>=e;e++){var r=e+\":\"+i.getMonth()+\":\"+e+\":\"+i.getDate()+\":\"+e+\":\"+i.getHours()%2+\":\"+e,o=At+\"=\"+e+\"&ad_channel=1\";r=\"//hxyzhas.g00.\"+new on(t.location.href).ioortegniamodt()+_t+\"/\"+encodeURIComponent(t.btoa(r))+\"/ad?\"+o,n.push(r)}return n},n.prototype.Ba=function(){for(var t=[],n=this.Config.iadb.icolbdaslru_k?this.Config.iadb.icolbdaslru_k.slice():this.Config.iadb.isabnoitceriderelbanesrotcetedkniltpircsde?this.ga():Gn.slice(),i=Xn.slice(),e=0;e<this.Config.iadb.iircsdekcolbmunsrotcetedkniltp;e++)t.push(V(\"track\",n,!1,r(),!1));for(e=0;e<this.Config.iadb.isdekcolbnamregmunsrotcetedkniltpirc;e++)t.push(V(\"track\",i,void 0,void 0,void 0));for(e=0;e<this.Config.iadb.ihtnemelemunsrotcetededi;e++)t.push(x());for(e=0;e<this.Config.iadb.iidekcolbmunsrotcetedgm;e++)t.push(O());return this.j.C=t.length,t},n.prototype.Ca=function(){var t=[],n=this.Config.iadb.isabnoitceriderelbanesrotcetedkniltpircsde?this.ga():Gn.slice();0<this.Config.iadb.isdekcolbnamregmunsrotcetedkniltpirc&&(n=n.concat(Xn));for(var i=0;i<n.length;i++)t.push(V(\"track\",n,void 0,void 0,void 0));return this.j.C+=t.length,t},n.prototype.xa=function(n){function i(t){r.j.Y++,t[Ht]&&(r.j.M++,!r.D[gt]&&r.j.M>=r.Config.iadb.inoitceteddlohserht&&(r.D[gt]=!0)),n(t)}function e(t,i){r.D[t]=i,n(W(t,i))}var r=this;Gt.s(function(t){e(et,t)}),Qn.s(function(t){e(ct,t)}),zn.s(function(t){e(it,t)});for(var o=0;o<this.j.C;o++)this.Ea[o].then(i);this.Config.iadb.ilufelbanenoitcetedl&&(this.aa=this.Ca(),t.addEventListener(\"load\",function(){for(var t=0;t<r.aa.length;t++)r.aa[t].then(i)}))},n}();[Cn,Gn,Xn].forEach(function(n){return n.forEach(function(n,i,e){return e[i]=t.atob(n)})});var ni=function(){function t(t,n){this.H=t,this.Oa=n}return t.prototype.iulr=function(){return this.Oa.url},t.prototype.oa=function(){return 1223===this.H.status?204:this.H.status},t.prototype.Headers=function(){return this.H.getAllResponseHeaders()},t.prototype.iaehred=function(t){return this.H.getResponseHeader(t)},t.prototype.Error=function(){return 100>this.oa()||599<this.oa()?\"Network request failed\":null},t.prototype.Text=function(){return this.H.responseText},t}(),ii={wa:XMLHttpRequest,Ga:XMLHttpRequest.prototype.open,Ka:XMLHttpRequest.prototype.send},ei=W(ut,!1);t.addEventListener(\"message\",function(t){\"string\"!=typeof(t=t.data)||0!==t.lastIndexOf(Ot,Ot.length+1)&&0!==t.lastIndexOf(Vt,Vt.length+1)||(ei[Ht]=!0,ei[Wt]=t)}),!t[$]&&L($,{}),!t[J]&&L(J,{});var ri=function(){function n(t){this.c={},this.ya=Date.now(),this.I=this.J=!1,this.Config=t,this.b=new ti(t),this.c[Zt]=[],this.c[Mt]=0,this.c[Ht]=!1,t.iadb.iceriderelbasidnoissesrofnoit&&!M(document.cookie,\"_242_2319292935167121\")&&(document.cookie=\"_242_2319292935167121=1; domain=\"+Bn+\"; path=/\")}return n.prototype.V=function(){var t=this.Config.iadb.ierelbanenoitcerid;return M(document.cookie,\"_242_2319292935167121\")&&(t=!1),t},n.prototype.Ha=function(){var t=!0;try{R(this.Config.iadb.ivetatselbaira,this.J?this.Config.iadb.iolbetatseulavdekc:this.Config.iadb.ilbtonetatseulavdekco),R(this.Config.iadb.iycnetalelbairav,this.c[Mt]);var n=D(this.c,this.Config.iadb.iotelbairavlabolgskcabllacretsiger);this.J&&!this.b.g(ct)&&!this.b.g(it)&&n&&this.V()&&(this.Config.iadb.ilufelbanenoitcetedl&&this.c[Zt].push(G(yt,!0)),this.Config.iadb.iyrotsihelbanenoitceriderrof&&this.c[Zt].push(G(Lt,!0)),C(this.Config.iadb.itemeletdbatniopdneyr,this.c),this.I=!0,this.$()),t=!1}catch(n){this.c[Zt].push(G(ot,!0)),this.S(),C(this.Config.iadb.itemeletdbatniopdneyr,this.c),this.I=!0,this.V()&&this.$(),t=!1}finally{t&&this.V()&&this.$()}},n.prototype.S=function(){this.Config.iadb.iyrotsihelbanenoitceriderrof&&this.c[Zt].push(G(Lt,!0)),this.Config.iadb.ilufelbanenoitcetedl&&(this.c[Zt].push(G(yt,!0)),this.c[Zt]=this.c[Zt].concat(this.b.Aa()))},n.prototype.ua=function(){var n=this,i=!1,e=this.Config.iadb.iircsdekcolbmunsrotcetedkniltp+this.Config.iadb.ihtnemelemunsrotcetededi+this.Config.iadb.iidekcolbmunsrotcetedgm+this.Config.iadb.isdekcolbnamregmunsrotcetedkniltpirc,r=this.Config.iadb.iyrotsihelbanenoitceriderrof&&function(){var t,i=k(),e=n.Config.iadb.irotsihmundlohserhty;return i[lt]&&i[lt].w&&i[lt].A>=e&&(t=lt),i[gt]&&i[gt].w&&i[gt].A>=e&&(t=t?t+\":\"+gt:gt),i[ht]&&i[ht].w&&(t=t?t+\":\"+ht:ht),t}();t.addEventListener(\"unload\",function(){n.I||(n.S(),C(n.Config.iadb.itemeletdbatniopdneyr,n.c))}),this.b.xa(function(t){if(n.c[Zt].push(t),i){if((t=!n.I)&&(t=!1,i)){var o=n.b.j;o.Y!==o.C||void 0===n.b.g(rt)||n.Config.iadb.ilufelbanenoitcetedl&&(void 0===n.b.g(vt)||void 0===n.b.g(ft)||void 0===n.b.g(bt)||void 0===n.b.g(mt)||void 0===n.b.g(lt)||void 0===n.b.g(ht)||void 0===n.b.g(Rt))||(t=!0)}t&&(n.S(),C(n.Config.iadb.itemeletdbatniopdneyr,n.c),n.I=!0)}else{t=n.b.j,o=n.Config.iadb.inoitceteddlohserht;var u=void 0!==n.b.g(et)&&void 0!==n.b.g(ct)&&void 0!==n.b.g(it);!0===n.b.g(et)||!0===n.b.g(ct)||!0===n.b.g(it)||t.M>=o||r&&u?(r&&n.c[Zt].push(W(Nt,!0,r)),t=wt):t=e===t.Y&&t.M<o&&!1===n.b.g(et)?Et:St,t!==St&&(n.J=t===wt,n.c[Ht]=n.J,n.c[Mt]=Date.now()-n.ya,n.Ha(),i=!0)}})},n.prototype.$=function(){v()},n}();if(t===top&&!new RegExp(Ft,\"i\").test(t.location.pathname)&&kn.iadb.idelbanenoitcete){var oi=function(){new ri(kn).ua()},ui=kn.iadb.ietedtratsemitnoitc;ui?\"string\"==typeof ui?t.addEventListener(ui,oi):t.setTimeout(oi,ui):oi()}}();try{t.INSTART.Init(null)}catch(t){}}}(window);\\r\\n}\\r\\n})();\\r\\n</script>\\r\\n<!-- includes\\\\2-column.master -->\\r\\n<meta charset=\"utf-8\">\\r\\n<meta http-equiv=\"X-UA-Compatible\" content=\"IE=Edge;chrome=1\">\\r\\n<meta name=\"viewport\" content=\"width=device-width\" />\\r\\n\\r\\n<!-- START  page level head content -->\\r\\n    <script type=\"text/javascript\">\\r\\n        myPage = \\'nasdaq\\';\\r\\n        sectionId = \\'liHome\\';//section tab\\r\\n        breadCrumbId = \\'LiNS\\';//page\\r\\n        is_dartSite = \"listedcos\";\\r\\n        is_dartZone = \"listedcos-name\";\\r\\n        propVar = \"Listed Companies\";\\r\\n        propVar15 = \"Home and our company\";\\r\\n        googlechannel = \\'Listedcos\\';\\r\\n        googlehints = \\'company research, annual reports, company profiles\\';\\r\\n/*\\r\\nSRA ad definitions, this should always correspond with the ad calls on the page\\r\\nif an ad is removed from the page, it should be removed from here as well\\r\\n*/\\r\\n\\r\\nvar useSRA = true;\\r\\nvar premakeAds = [];\\r\\npremakeAds.push({ \\'label\\': \\'ad\\', \\'size\\': \\'160x600,300x250,300x600\\', \\'site\\': is_dartSite, \\'zone\\': is_dartZone });//rightrail\\r\\n    </script>\\r\\n\\r\\n    <title>Companies by Name: A - NASDAQ.com</title>\\r\\n    <meta name=\"keywords\" content=\"companies by name A, companies beginning with the letter A\">\\r\\n    <meta name=\"description\" content=\"A: Search for companies by name, beginning with the letter A at NASDAQ.com \">\\r\\n    <meta name=\"robots\" content=\"index, follow\">\\r\\n    <link rel=\"canonical\" href=\"https://www.nasdaq.com/screening/companies-by-name.aspx?letter=A\" />\\r\\n    <meta http-equiv=\"content-type\" content=\"text/html; charset=utf-8\" />\\r\\n    <!-- opengraph support-->\\r\\n    <meta property=\"og:title\" content=\"A: Search for companies by name, beginning with the letter A at NASDAQ.com\" />\\r\\n    <meta property=\"og:type\" content=\"website\" />\\r\\n    <meta property=\"og:site_name\" content=\"NASDAQ.com\" />\\r\\n    <meta property=\"og:url\" content=\"https://www.nasdaq.com/screening/companies-by-name.aspx?letter=A\" />\\r\\n    <meta property=\"og:image\" content=\"https://www.nasdaq.com/images/Q-logo.jpg\" />\\r\\n    <!-- END page level head content -->\\r\\n\\r\\n\\r\\n<!--********************************* BEGIN includes/global-references.inc **************************-->\\r\\n<!-- global stylesheets -->\\r\\n<link rel=\"stylesheet\" type=\"text/css\" href=\"https://www.nasdaq.com/includes/global.min-09062018v1.css\"/>\\r\\n<!--[if lt IE 9]>\\r\\n<script src=\"https://www.nasdaq.com/includes/html5shiv-printshiv.js\"></script>\\r\\n<link rel=\"stylesheet\" type=\"text/css\" href=\"https://www.nasdaq.com/includes/global-ie8.min-11212015v1.css\"/>\\r\\n<![endif]-->\\r\\n\\r\\n<!-- favicon and shortcut icons -->\\r\\n<link rel=\"apple-touch-icon\" href=\"https://www.nasdaq.com/images/Q_apple.png\"/>\\r\\n<link rel=\"shortcut icon\" href=\"https://www.nasdaq.com/images/qfav.ico\" type=\"image/ico\"/>\\r\\n<link rel=\"icon\" href=\"https://www.nasdaq.com/images/qfav.ico\" type=\"image/x-icon\"/>\\r\\n<link rel=\"shortcut icon\" href=\"https://www.nasdaq.com/images/qfav.ico\" type=\"image/x-icon\"/>\\r\\n\\r\\n  <!-- scripts -->\\r\\n\\r\\n  <!-- Casale -->\\r\\n  <script src=\"https://js-sec.indexww.com/ht/headertag-nasdaq.js\" async></script>\\r\\n\\r\\n    <!-- GPT -->\\r\\n    <script async=\"true\" src=\"https://www.googletagservices.com/tag/js/gpt.js\"></script>\\r\\n\\r\\n    <script src=\"https://www.nasdaq.com/dynamic_includes/marketstatus.js\"></script>\\r\\n    <script src=\"https://www.nasdaq.com/aspx/marketstatus.aspx\"></script>\\r\\n\\r\\n    <script src=\"https://www.nasdaq.com/includes/jquery.min.js\"></script>\\r\\n    <script src=\"https://www.nasdaq.com/includes/global.min-09252018v1.js\"></script>\\r\\n    <script src=\"https://www.nasdaq.com/includes/cookie_policy.js?05232018v1\"></script>\\r\\n    \\r\\n    <!-- the dynamic css container -->\\r\\n    <style type=\"text/css\" title=\"dynamic\"></style>\\r\\n    <script type=\"text/javascript\">\\r\\n      //<![CDATA[\\r\\nupdateSiteTheme();\\r\\n//]]>\\r\\n    </script>\\r\\n    <script type=\\'text/javascript\\' src=\\'//rndntpmgnj-a.akamaihd.net/NA2L50A6M.js\\' async=\\'\\'></script>\\r\\n\\r\\n    <!--  Quantcast Tag -->\\r\\n    <script>\\r\\n\\r\\n      var ezt = ezt ||[];\\r\\n\\r\\n      (function(){\\r\\n      var elem = document.createElement(\\'script\\');\\r\\n      elem.src = (document.location.protocol == \"https:\" ? \"https://secure\" : \"https://pixel\") + \".quantserve.com/aquant.js?a=p-kGNZ2CXTUFYyw\";\\r\\n      elem.async = true;\\r\\n      elem.type = \"text/javascript\";\\r\\n      var scpt = document.getElementsByTagName(\\'script\\')[0];\\r\\n      scpt.parentNode.insertBefore(elem,scpt);\\r\\n      }());\\r\\n\\r\\n\\r\\n      (function(){\\r\\n      var label;\\r\\n      if(typeof propVar3==\\'undefined\\')\\r\\n      propVar3 = \"\";\\r\\n      if(typeof propVar15==\\'undefined\\')\\r\\n      propVar15 = \"\";\\r\\n      if(typeof propVar==\\'undefined\\')\\r\\n      propVar = \"\";\\r\\n      label = \\'Author.\\'+propVar3+\\',Category.\\'+propVar15+\\'.\\'+propVar;\\r\\n      ezt.push({qacct: \\'p-kGNZ2CXTUFYyw\\',\\r\\n      uid: \\'\\',\\r\\n      labels:label\\r\\n      });\\r\\n      }());\\r\\n\\r\\n    </script>\\r\\n    <noscript>\\r\\n      <img src=\"//pixel.quantserve.com/pixel/p-kGNZ2CXTUFYyw.gif\" style=\"display: none;\" border=\"0\" height=\"1\" width=\"1\" alt=\"Quantcast\"/>\\r\\n    </noscript>\\r\\n    <!-- End Quantcast Tag -->\\r\\n\\r\\n<!--********************************* END includes/global-references.inc **************************-->\\r\\n    <style type=\"text/css\"> \\r\\n        div#left-ad-rail {padding-right:15px;}\\r\\n        .line-height {line-height: 22px;}\\r\\n        div#panel_left a.current {color: #FF9900; font-weight: bold;}\\r\\n        ul.pager {line-height: 30px;}\\r\\n        div#alpha-list li span {background: #00bce4; color: #ffffff;}\\r\\n    </style>\\r\\n\\r\\n\\r\\n<script type=\"text/javascript\">\\r\\n    var server_time = new Date(1538596894634);\\r\\n</script>\\r\\n<style type=\"text/css\">\\r\\n#container.wrap {background-color:#ffffff}\\r\\n</style>\\r\\n<script>!function(){if(!window.BOOMR||!window.BOOMR.version){var t,n,e,o=document.createElement(\"iframe\"),i=window;i.addEventListener?i.addEventListener(\"load\",a,!1):i.attachEvent&&i.attachEvent(\"onload\",a),o.src=\"javascript:void(0)\",o.title=\"\",o.role=\"presentation\",(o.frameElement||o).style.cssText=\"width:0;height:0;border:0;display:none;\",(e=document.getElementsByTagName(\"script\")[0]).parentNode.insertBefore(o,e);try{n=o.contentWindow.document}catch(e){t=document.domain,o.src=\"javascript:var d=document.open();d.domain=\\'\"+t+\"\\';void(0);\",n=o.contentWindow.document}n.open()._l=function(){var e=this.createElement(\"script\");t&&(this.domain=t),e.id=\"boomr-if-as\",e.src=\"https://s.go-mpulse.net/boomerang/X7FLY-5XYMD-3HLZC-GZTNC-MNH9C\",BOOMR_lstart=(new Date).getTime(),this.body.appendChild(e)},n.write(\\'<body onload=\"document._l();\">\\'),n.close()}function a(e){i.BOOMR_onload=e&&e.timeStamp||(new Date).getTime()}}();</script></head>\\r\\n\\r\\n<body id=\"body\">\\r\\n\\r\\n\\r\\n<!-- Google Tag Manager (noscript) -->\\r\\n<noscript><iframe src=\"https://www.googletagmanager.com/ns.html?id=GTM-K2BQVP7\"\\r\\nheight=\"0\" width=\"0\" style=\"display:none;visibility:hidden\"></iframe></noscript>\\r\\n<!-- End Google Tag Manager (noscript) -->\\r\\n\\r\\n<!--[if IE 8]> <script src=\"https://www.nasdaq.com/includes/respond.js\"></script> <![endif]-->\\r\\n<!--[if IE 7]> <script src=\"https://www.nasdaq.com/includes/zindex.js\"></script> <![endif]-->\\r\\n\\r\\n\\t\\r\\n\\r\\n\\t<!--*************************************** BEGIN includes/global-masthead.inc ****************************************-->\\r\\n<!-- comscore tag -->\\r\\n\\r\\n<!-- Begin comScore Tag -->\\r\\n<script>\\r\\n  var _comscore = _comscore || [];\\r\\n  _comscore.push({ c1: \"2\", c2: \"25698457\" });\\r\\n  (function() {\\r\\n  var s = document.createElement(\"script\"), el = document.getElementsByTagName(\"script\")[0]; s.async = true;\\r\\n  s.src = (document.location.protocol == \"https:\" ? \"https://sb\" : \"http://b\") + \".scorecardresearch.com/beacon.js\";\\r\\n  el.parentNode.insertBefore(s, el);\\r\\n  })();\\r\\n</script>\\r\\n<noscript>\\r\\n  <img src=\"https://sb.scorecardresearch.com/p?c1=2&c2=25698457&cv=2.0&cj=1\" />\\r\\n</noscript>\\r\\n<!-- End comScore Tag -->\\r\\n\\r\\n<!-- end comscore tag -->\\r\\n<header id=\"global_header\" data-role=\"header\">\\r\\n  <!--// Begin Hot Topics -->\\r\\n  <div id=\"hot_topics\">\\r\\n    <div><b>Hot Topics:</b></div>\\r\\n    <a href=\"https://www.nasdaq.com/etfs\" onclick=\"triggerAsyncOmnitureClickEvent(\\'nav:hot-topics:ETFs\\')\">ETFs</a>\\r\\n    <span>&nbsp;|&nbsp;</span>\\r\\n    <a href=\"https://stocktracker.nasdaq.com/smart-portfolio/welcome\" onclick=\"triggerAsyncOmnitureClickEvent(\\'nav:hot-topics:SmartPT\\')\">Smart Portfolio</a>\\r\\n    <span>&nbsp;|&nbsp;</span>\\r\\n    <a href=\"https://www.nasdaq.com/forex/\" onclick=\"triggerAsyncOmnitureClickEvent(\\'nav:hot-topics:Currencies\\')\">Currencies</a>\\r\\n    <span>&nbsp;|&nbsp;</span>\\r\\n    <a href=\"https://www.nasdaq.com/investing/online-brokers/\" onclick=\"triggerAsyncOmnitureClickEvent(\\'nav:hot-topics:Broker\\')\">Online Broker Center</a>\\r\\n  </div>\\r\\n  <!--// End Hot Topics -->\\r\\n  <nav id=\"global_nav\">\\r\\n    <div id=\"header_wrap\">\\r\\n      <div class=\"logo\">\\r\\n        <a href=\"https://www.nasdaq.com/\" target=\"_self\" onclick=\"triggerAsyncOmnitureClickEvent(\\'nav:links:homepage\\')\">\\r\\n          <span></span>\\r\\n        </a>\\r\\n      </div>\\r\\n      <div id=\"nasdaq_login\">\\r\\n        <div id=\"nWelcome\">\\r\\n          &nbsp;\\r\\n        </div>\\r\\n        <div id=\"mainNav-88x31\">\\r\\n          <script type=\"text/javascript\" language=\"javascript\">makeAd(\\'\\',\\'88x31\\',\\'masthead\\',is_dartZone,\\'\\',\\'\\');</script>\\r\\n        </div>\\r\\n        <!--// Begin notifier placeholder -->\\r\\n        <div id=\"global_notifier\" class=\"floatR\">\\r\\n          <div class=\\'ideaMelt\\' melt-notifier=\\'\\'></div>\\r\\n        </div>\\r\\n        <!--// End notifier placeholder -->\\r\\n      </div>\\r\\n    </div>\\r\\n    <div class=\"clearB\"></div>\\r\\n    <ul class=\"js-nav-toggle primary\" id=\"js-nav-toggle\">\\r\\n      <li id=\"site-nav-company\">\\r\\n        <a href=\"https://business.nasdaq.com\" data-click-event=\"nav:company:company-hub\" onclick=\"triggerAsyncOmnitureClickEvent(\\'nav:company:company-hub\\')\">\\r\\n          <span>Our Businesses</span>\\r\\n        </a>\\r\\n        <div class=\"global_dropdown\">\\r\\n          <div>\\r\\n            <div class=\"floatL half\">\\r\\n              <ul>\\r\\n                <li>\\r\\n                  <a href=\"https://business.nasdaq.com/tech\" onclick=\"triggerAsyncOmnitureClickEvent(\\'nav:company:tech\\')\"><b>Tech</b></a>\\r\\n                  <a href=\"https://business.nasdaq.com/tech\" onclick=\"triggerAsyncOmnitureClickEvent(\\'nav:company:tech\\')\">Differentiate With <br />Technology</a>\\r\\n                </li>\\r\\n                <li>\\r\\n                  <a href=\"https://business.nasdaq.com/trade\" onclick=\"triggerAsyncOmnitureClickEvent(\\'nav:company:trade\\')\"><b>Trade</b></a>\\r\\n                  <a href=\"https://business.nasdaq.com/trade\" onclick=\"triggerAsyncOmnitureClickEvent(\\'nav:company:trade\\')\">Trade Multiple <br />Asset Classes</a>\\r\\n                </li>\\r\\n                <li>\\r\\n                  <a href=\"https://business.nasdaq.com/track\" onclick=\"triggerAsyncOmnitureClickEvent(\\'nav:company:track\\')\"><b>Track</b></a>\\r\\n                  <a href=\"https://business.nasdaq.com/track\" onclick=\"triggerAsyncOmnitureClickEvent(\\'nav:company:track\\')\">Track the Markets</a>\\r\\n                </li>\\r\\n              </ul>\\r\\n            </div>\\r\\n            <div class=\"displayIB half\">\\r\\n              <ul>\\r\\n                <li>\\r\\n                  <a href=\"https://business.nasdaq.com/intel\" onclick=\"triggerAsyncOmnitureClickEvent(\\'nav:company:intel\\')\"><b>Intel</b></a>\\r\\n                  <a href=\"https://business.nasdaq.com/intel\" onclick=\"triggerAsyncOmnitureClickEvent(\\'nav:company:intel\\')\">Leverage Actionable <br />Intelligence</a>\\r\\n                </li>\\r\\n                <li>\\r\\n                  <a href=\"https://business.nasdaq.com/list\" onclick=\"triggerAsyncOmnitureClickEvent(\\'nav:company:list\\')\"><b>List</b></a>\\r\\n                  <a href=\"https://business.nasdaq.com/list\" onclick=\"triggerAsyncOmnitureClickEvent(\\'nav:company:list\\')\">Access Capital</a>\\r\\n                  <a href=\"https://listingcenter.nasdaq.com/\" onclick=\"triggerAsyncOmnitureClickEvent(\\'nav:company:list\\')\">Listing Center</a>\\r\\n                </li>\\r\\n                <li>\\r\\n                  <a href=\"https://business.nasdaq.com/discover\" onclick=\"triggerAsyncOmnitureClickEvent(\\'nav:company:discover\\')\"><b>Discover</b></a>\\r\\n                  <a href=\"https://business.nasdaq.com/discover\" onclick=\"triggerAsyncOmnitureClickEvent(\\'nav:company:discover\\')\">Discover Nasdaq</a>\\r\\n                  <a href=\"https://business.nasdaq.com/marketinsite\" onclick=\"triggerAsyncOmnitureClickEvent(\\'nav:company:discover\\')\">Nasdaq Blog</a>\\r\\n                </li>\\r\\n              </ul>\\r\\n            </div>\\r\\n          </div>\\r\\n          <!--// Begin includes/main-nav-company-featured.inc -->\\r\\n<div class=\"table-table featured\">\\r\\n  <div class=\"table-row\">\\r\\n    <div class=\"table-cell\">\\r\\n      <a href=\"https://nasdaq.com/rewritetomorrow\" onclick=\"triggerAsyncOmnitureClickEvent(\\'nav:company:rewritetomorrow\\')\">\\r\\n        <img src=\"https://www.nasdaq.com/images/rewritetomorrow_80x80.jpg\" width=\"80\" height=\"80\" alt=\"corporate featured\" />\\r\\n      </a>\\r\\n    </div>\\r\\n    <div class=\"table-cell\">\\r\\n      <a href=\"https://nasdaq.com/rewritetomorrow\" onclick=\"triggerAsyncOmnitureClickEvent(\\'nav:company:rewritetomorrow\\')\">\\r\\n        <b>Rewrite Tomorrow</b>\\r\\n      </a>\\r\\n      <div class=\"clearB\"></div>\\r\\n      <span>Tomorrow is a market of endless possibilities, learn more</span>\\r\\n    </div>\\r\\n  </div>\\r\\n</div>\\r\\n<!--// End includes/main-nav-company-featured.inc -->\\r\\n        </div>\\r\\n      </li>\\r\\n      <li id=\"site-nav-quotes\">\\r\\n        <a href=\"https://www.nasdaq.com/quotes\" data-click-event=\"nav:quotes:quotes-hub\" onclick=\"triggerAsyncOmnitureClickEvent(\\'nav:quotes:quotes-hub\\')\">\\r\\n          <span>Quotes</span>\\r\\n        </a>\\r\\n        <div class=\"global_dropdown\">\\r\\n          <div>\\r\\n            <div class=\"floatL half\">\\r\\n              <ul>\\r\\n                <li>\\r\\n                  <a href=\"https://www.nasdaq.com/quotes/\" onclick=\"triggerAsyncOmnitureClickEvent(\\'nav:quotes:quotes-hub\\')\">\\r\\n                    <b>Quotes &amp; Research</b>\\r\\n                  </a>\\r\\n                  <a href=\"https://www.nasdaq.com/aspx/flashquotes.aspx\" onclick=\"triggerAsyncOmnitureClickEvent(\\'nav:quotes:flash-quotes\\')\">Flash Quotes</a>\\r\\n                  <a href=\"https://www.nasdaq.com/aspx/infoquotes.aspx\" onclick=\"triggerAsyncOmnitureClickEvent(\\'nav:quotes:info-quotes\\')\">InfoQuotes</a>\\r\\n                  <a href=\"https://www.nasdaq.com/quotes/stock-quotes.aspx\" onclick=\"handleNQClick(this,\\'nav:quotes:summary-quotes\\')\">Summary Quotes</a>\\r\\n                  <a href=\"https://www.nasdaq.com/quotes/real-time.aspx\" onclick=\"handleNQClick(this,\\'nav:quotes:real-time\\')\">Real-time Quotes</a>\\r\\n                  <a href=\"https://www.nasdaq.com/extended-trading/\" onclick=\"handleNQClick(this,\\'nav:quotes:extended-trading\\')\">Extended Trading</a>\\r\\n                  <a href=\"https://www.nasdaq.com/options/\" onclick=\"handleNQClick(this,\\'nav:quotes:options\\')\">Options Trading Center</a>\\r\\n                  <a href=\"https://www.nasdaq.com/quotes/historical-quotes.aspx\" onclick=\"handleNQClick(this,\\'nav:quotes:historical-quotes\\')\">Historical Quotes</a>\\r\\n                </li>\\r\\n                <li>\\r\\n                  <span class=\"fontS14px\"><b>Charts</b></span>\\r\\n                  <a href=\"https://www.nasdaq.com/quotes/stock-charts.aspx\" onclick=\"handleNQClick(this,\\'nav:quotes:basic-charts\\')\">Basic Charts</a>\\r\\n                  <a href=\"https://www.nasdaq.com/quotes/interactive-charts.aspx\" onclick=\"handleNQClick(this,\\'nav:quotes:interactive-charts\\')\">Interactive Charts</a>\\r\\n                </li>\\r\\n                <li>\\r\\n                  <span class=\"fontS14px\"><b>Companies</b></span>\\r\\n                  <a href=\"https://www.nasdaq.com/quotes/company-news.aspx\" onclick=\"handleNQClick(this,\\'nav:quotes:news\\')\">Company News</a>\\r\\n                  <a href=\"https://www.nasdaq.com/quotes/press-releases.aspx\" onclick=\"handleNQClick(this,\\'nav:quotes:press-releases\\')\">Press Releases</a>\\r\\n                  <a href=\"https://www.nasdaq.com/screening/company-list.aspx\" onclick=\"triggerAsyncOmnitureClickEvent(\\'nav:quotes:company-list\\')\">Company List</a>\\r\\n                  <a href=\"https://www.nasdaq.com/screening/companies-by-industry.aspx?exchange=NASDAQ\" onclick=\"handleNQClick(this,\\'nav:quotes:nasdaq\\')\">Nasdaq Companies</a>\\r\\n                </li>\\r\\n              </ul>\\r\\n            </div>\\r\\n            <div class=\"floatR half\">\\r\\n              <ul>\\r\\n                <li>\\r\\n                  <span class=\"fontS14px\"><b>Stock Analysis</b></span>\\r\\n                  <a href=\"https://www.nasdaq.com/quotes/analyst-research.aspx\" onclick=\"handleNQClick(this,\\'nav:quotes:analyst-research\\')\">Analyst Research</a>\\r\\n                  <a href=\"https://www.nasdaq.com/quotes/stock-guru-analysis.aspx\" onclick=\"handleNQClick(this,\\'nav:quotes:guru-analysis\\')\">Guru Analysis</a>\\r\\n                  <a href=\"https://www.nasdaq.com/quotes/stock-reports.aspx\" onclick=\"handleNQClick(this,\\'nav:quotes:stock-reports\\')\">Stock Reports</a>\\r\\n                  <a href=\"https://www.nasdaq.com/quotes/business-competitors.aspx\" onclick=\"handleNQClick(this,\\'nav:quotes:competitors\\')\">Competitors</a>\\r\\n                </li>\\r\\n                <li>\\r\\n                  <span class=\"fontS14px\"><b>Fundamentals</b></span>\\r\\n                  <a href=\"https://www.nasdaq.com/quotes/company-financials.aspx\" onclick=\"handleNQClick(this,\\'nav:quotes:financials\\')\">Financials</a>\\r\\n                  <a href=\"https://www.nasdaq.com/quotes/revenue-eps.aspx\" onclick=\"handleNQClick(this,\\'nav:quotes:revenue-eps\\')\">Revenue/EPS</a>\\r\\n                  <a href=\"https://www.nasdaq.com/quotes/sec-filings.aspx\" onclick=\"handleNQClick(this,\\'nav:quotes:sec-filings\\')\">SEC Filings</a>\\r\\n                  <a href=\"https://www.nasdaq.com/quotes/short-interest.aspx\" onclick=\"handleNQClick(this,\\'nav:quotes:short-interest\\')\">Short Interest</a>\\r\\n                  <a href=\"https://www.nasdaq.com/quotes/dividend-history.aspx\" onclick=\"handleNQClick(this,\\'nav:quotes:dividend-history\\')\">Dividend History</a>\\r\\n                </li>\\r\\n                <li>\\r\\n                  <span class=\"fontS14px\"><b>Holdings</b></span>\\r\\n                  <a href=\"https://www.nasdaq.com/quotes/ownership.aspx\" onclick=\"handleNQClick(this,\\'nav:quotes:ownership\\')\">Ownership Summary</a>\\r\\n                  <a href=\"https://www.nasdaq.com/quotes/institutional-holdings.aspx\" onclick=\"handleNQClick(this,\\'nav:quotes:institutional-holdings\\')\">Institutional Holdings</a>\\r\\n                  <a href=\"https://www.nasdaq.com/quotes/insider-trades.aspx\" onclick=\"handleNQClick(this,\\'nav:quotes:insider-trades\\')\">Insiders Form 4</a>\\r\\n                </li>\\r\\n              </ul>\\r\\n            </div>\\r\\n            <div class=\"clearB\"></div>\\r\\n          </div>\\r\\n        </div>\\r\\n      </li>\\r\\n      <li id=\"site-nav-markets\">\\r\\n        <a href=\"https://www.nasdaq.com/markets/\" data-click-event=\"nav:markets:markets-hub\" onclick=\"triggerAsyncOmnitureClickEvent(\\'nav:markets:markets-hub\\')\">\\r\\n          <span>Markets</span>\\r\\n        </a>\\r\\n        <div class=\"global_dropdown\">\\r\\n          <div>\\r\\n            <div class=\"floatL half\">\\r\\n              <ul>\\r\\n                <li>\\r\\n                  <a href=\"https://www.nasdaq.com/extended-trading/\" onclick=\"triggerAsyncOmnitureClickEvent(\\'nav:markets:extended\\')\">\\r\\n                    <b>Extended Hours</b>\\r\\n                  </a>\\r\\n                  <a href=\"https://www.nasdaq.com/extended-trading/premarket-mostactive.aspx\" onclick=\"triggerAsyncOmnitureClickEvent(\\'nav:markets:pre-market\\')\">Pre-Market Activity</a>\\r\\n                  <a href=\"https://www.nasdaq.com/extended-trading/afterhours-mostactive.aspx\" onclick=\"triggerAsyncOmnitureClickEvent(\\'nav:markets:after-hours\\')\">After Hours Activity</a>\\r\\n                </li>\\r\\n                <li>\\r\\n                  <span class=\"fontS14px\"><b>Stocks</b></span>\\r\\n                  <a href=\"https://www.nasdaq.com/aspx/mostactive.aspx\" onclick=\"triggerAsyncOmnitureClickEvent(\\'nav:markets:most-active\\')\">Most Active</a>\\r\\n                  <a href=\"https://www.nasdaq.com/markets/unusual-volume.aspx\" onclick=\"triggerAsyncOmnitureClickEvent(\\'nav:markets:unusual-volume\\')\">Unusual Volume</a>\\r\\n                  <a href=\"https://www.nasdaq.com/aspx/52-week-high-low.aspx\" onclick=\"triggerAsyncOmnitureClickEvent(\\'nav:markets:52-week-high-low\\')\">52 Week High/Low</a>\\r\\n                  <a href=\"https://www.nasdaq.com/markets/upcoming-splits.aspx\" onclick=\"triggerAsyncOmnitureClickEvent(\\'nav:markets:upcoming-splits\\')\">Upcoming Splits</a>\\r\\n                  <a href=\"https://www.nasdaq.com/markets/sec-filings-n.aspx\" onclick=\"triggerAsyncOmnitureClickEvent(\\'nav:markets:sec-filings\\')\">New SEC Filings</a>\\r\\n                  <a href=\"https://www.nasdaq.com/markets/ipos\" onclick=\"triggerAsyncOmnitureClickEvent(\\'nav:markets:ipo-summary\\')\">IPO Summary</a>\\r\\n                  <a href=\"https://www.nasdaq.com/earnings/earnings-calendar.aspx\" onclick=\"triggerAsyncOmnitureClickEvent(\\'nav:markets:earnings-calendar\\')\">Earnings Calendar</a>\\r\\n                  <a href=\"https://www.nasdaq.com/dividend-stocks/\" onclick=\"triggerAsyncOmnitureClickEvent(\\'nav:markets:dividend-stocks\\')\">Dividend Stocks</a>\\r\\n                  <a href=\"https://www.nasdaq.com/markets/barchart-sectors.aspx\" onclick=\"triggerAsyncOmnitureClickEvent(\\'nav:markets:sector-analysis\\')\">Sector Analysis</a>\\r\\n                </li>\\r\\n                <li>\\r\\n                  <a href=\"https://www.nasdaq.com/forex/\" onclick=\"triggerAsyncOmnitureClickEvent(\\'nav:markets:forex\\')\"><b>Forex</b></a>\\r\\n                </li>\\r\\n              </ul>\\r\\n            </div>\\r\\n            <div class=\"floatR half\">\\r\\n              <ul>\\r\\n                <li>\\r\\n                  <a href=\"https://www.nasdaq.com/markets/commodities.aspx\" onclick=\"triggerAsyncOmnitureClickEvent(\\'nav:markets:commodities\\')\"><b>Commodities</b></a>\\r\\n                  <a href=\"https://www.nasdaq.com/markets/gold.aspx\" onclick=\"triggerAsyncOmnitureClickEvent(\\'nav:markets:gold\\')\">Gold</a>\\r\\n                  <a href=\"https://www.nasdaq.com/markets/crude-oil.aspx\" onclick=\"triggerAsyncOmnitureClickEvent(\\'nav:crude-oil\\')\">Oil</a>\\r\\n                </li>\\r\\n                <li>\\r\\n                  <span class=\"fontS14px\"><b>Analyst Activity</b></span>\\r\\n                  <a href=\"https://www.nasdaq.com/earnings/daily-analyst-recommendations.aspx\" onclick=\"triggerAsyncOmnitureClickEvent(\\'nav:markets:upgrades-downgrades\\')\">Upgrades/Downgrades</a>\\r\\n                  <a href=\"https://www.nasdaq.com/earnings/analyst-forecast-change.aspx\" onclick=\"triggerAsyncOmnitureClickEvent(\\'nav:markets:analyst-forecast-change\\')\">Forecast Changes</a>\\r\\n                  <a href=\"https://www.nasdaq.com/earnings/daily-earnings-surprise.aspx\" class=\"a-mega\" onclick=\"triggerAsyncOmnitureClickEvent(\\'nav:markets:daily-earnings-surprise\\')\">Earning Surprises</a>\\r\\n                </li>\\r\\n                <li>\\r\\n                  <a href=\"https://www.nasdaq.com/markets/indices/\" onclick=\"triggerAsyncOmnitureClickEvent(\\'nav:markets:indices\\')\"><b>Indices</b></a>\\r\\n                  <a href=\"https://www.nasdaq.com/markets/indices/major-indices.aspx\" onclick=\"triggerAsyncOmnitureClickEvent(\\'nav:markets:market-indices\\')\">Major Stock Indices</a>\\r\\n                  <a href=\"https://www.nasdaq.com/markets/indices/sector-indices.aspx\" onclick=\"triggerAsyncOmnitureClickEvent(\\'nav:markets:sector-indices\\')\">Market Sector Indices</a>\\r\\n                  <a href=\"https://www.nasdaq.com/markets/index-highs\" onclick=\"triggerAsyncOmnitureClickEvent(\\'nav:markets:statistical-milestones\\')\">Statistical Milestones</a>\\r\\n                </li>\\r\\n                <li>\\r\\n                  <a href=\"https://www.nasdaq.com/markets/global-markets.aspx\" onclick=\"triggerAsyncOmnitureClickEvent(\\'nav:markets:global-markets\\')\"><b>Global Markets</b></a>\\r\\n                </li>\\r\\n              </ul>\\r\\n            </div>\\r\\n            <div class=\"clearB\"></div>\\r\\n          </div>\\r\\n        </div>\\r\\n      </li>\\r\\n      <li id=\"site-nav-news\">\\r\\n        <a href=\"https://www.nasdaq.com/news/\" data-click-event=\"nav:news:news-hub\" onclick=\"triggerAsyncOmnitureClickEvent(\\'nav:news:news-hub\\')\">\\r\\n          <span>News</span>\\r\\n        </a>\\r\\n        <div class=\"global_dropdown\">\\r\\n          <div>\\r\\n            <div class=\"floatL half\">\\r\\n              <ul>\\r\\n                <li>\\r\\n                  <a href=\"https://www.nasdaq.com/quotes/company-news.aspx\" onclick=\"triggerAsyncOmnitureClickEvent(\\'nav:news:company-news\\')\"><b>Company News</b></a>\\r\\n                </li>\\r\\n                <li>\\r\\n                  <a href=\"https://www.nasdaq.com/news/market-headlines.aspx\" onclick=\"triggerAsyncOmnitureClickEvent(\\'nav:news:market-headlines\\')\"><b>Market Headlines</b></a>\\r\\n                </li>\\r\\n                <li>\\r\\n                  <a href=\"https://www.nasdaq.com/topic/marketinsite\" onclick=\"triggerAsyncOmnitureClickEvent(\\'nav:news:marketinsite\\')\"><b>MarketInsite</b></a>\\r\\n                </li>\\r\\n              </ul>\\r\\n            </div>\\r\\n            <div class=\"floatR half\">\\r\\n              <ul>\\r\\n                <li>\\r\\n                  <a href=\"https://www.nasdaq.com/markets/us-economic-calendar.aspx\" onclick=\"triggerAsyncOmnitureClickEvent(\\'nav:news:economic-calendar\\')\"><b>Economic Calendar</b></a>\\r\\n                </li>\\r\\n                <li>\\r\\n                  <a href=\"https://www.nasdaq.com/tech/\" onclick=\"triggerAsyncOmnitureClickEvent(\\'nav:news:technology\\')\"><b>Technology News</b></a>\\r\\n                </li>\\r\\n                <li>\\r\\n                  <a href=\"https://www.nasdaq.com/tomorrowscapital/\" onclick=\"triggerAsyncOmnitureClickEvent(\\'nav:news:tomorrowscapital\\')\"><b>Tomorrow\\'s Capital Podcast</b></a>\\r\\n                </li>\\r\\n              </ul>\\r\\n            </div>\\r\\n            <div class=\"clearB\"></div>\\r\\n          </div>\\r\\n          <!-- Begin includes/main-navigation-featured-video.inc -->\\r\\n<div class=\"table-table featured\">\\r\\n  <div class=\"table-row\">\\r\\n    <div class=\"table-cell\">\\r\\n      <a href=\"https://www.nasdaq.com/article/is-gold-finally-ready-to-rebound-cm1031313\" onclick=\"triggerAsyncOmnitureClickEvent(\\'nav:news:featured-article\\')\">\\r\\n        <img src=\"https://www.nasdaq.com/images/news/1003news-am2.jpg\" width=\"80\" height=\"80\" />\\r\\n      </a>\\r\\n    </div>\\r\\n    <div class=\"table-cell\">\\r\\n      <a href=\"https://www.nasdaq.com/article/is-gold-finally-ready-to-rebound-cm1031313\" onclick=\"triggerAsyncOmnitureClickEvent(\\'nav:news:featured-article\\')\">\\r\\n      Is Gold Finally Ready To Rebound?\\r\\n      </a>\\r\\n      <div class=\"clearB\"></div>\\r\\n    </div>\\r\\n  </div>\\r\\n</div>\\r\\n<!-- End includes/main-navigation-featured-video.inc -->\\r\\n        </div>\\r\\n      </li>\\r\\n      <li id=\"site-nav-investing\">\\r\\n        <a href=\"https://www.nasdaq.com/investing/\" data-click-event=\"nav:investing:investing-hub\" onclick=\"triggerAsyncOmnitureClickEvent(\\'nav:investing:investing-hub\\')\">\\r\\n          <span>Investing</span>\\r\\n        </a>\\r\\n        <div class=\"global_dropdown\">\\r\\n          <div>\\r\\n            <div class=\"floatL half\">\\r\\n              <ul>\\r\\n                <li>\\r\\n                  <a href=\"https://www.nasdaq.com/investing/stocks.aspx\" onclick=\"triggerAsyncOmnitureClickEvent(\\'nav:investing:stocks\\')\">\\r\\n                    <b>Stocks</b>\\r\\n                  </a>\\r\\n                  <a href=\"https://www.nasdaq.com/investing/how-to-invest.aspx\" onclick=\"triggerAsyncOmnitureClickEvent(\\'nav:investing:investing-basics\\')\">Investing Basics</a>\\r\\n                  <a href=\"https://www.nasdaq.com/investing/online-brokers/\" onclick=\"triggerAsyncOmnitureClickEvent(\\'nav:investing:online-brokers\\')\">Broker Comparison</a>\\r\\n                  <a href=\"https://www.nasdaq.com/investing/glossary/\" onclick=\"triggerAsyncOmnitureClickEvent(\\'nav:investing:glossary\\')\">Glossary</a>\\r\\n                </li>\\r\\n                <li>\\r\\n                  <a href=\"https://www.nasdaq.com/investing/mutual-funds.aspx\" onclick=\"triggerAsyncOmnitureClickEvent(\\'nav:investing:mutual-funds\\')\"><b>Mutual Funds</b></a>\\r\\n                </li>\\r\\n                <li>\\r\\n                  <a href=\"https://www.nasdaq.com/etfs\" onclick=\"triggerAsyncOmnitureClickEvent(\\'nav:investing:etfs\\')\"><b>ETFs</b></a>\\r\\n                </li>\\r\\n                <li>\\r\\n                  <a href=\"https://www.nasdaq.com/options/\" onclick=\"triggerAsyncOmnitureClickEvent(\\'nav:investing:options\\')\"><b>Options</b></a>\\r\\n                </li>\\r\\n              </ul>\\r\\n            </div>\\r\\n            <div class=\"floatR half\">\\r\\n              <ul>\\r\\n                <li>\\r\\n                  <a href=\"https://www.nasdaq.com/investing/tools.aspx\" onclick=\"triggerAsyncOmnitureClickEvent(\\'nav:investing:tools\\')\"><b>Investing Tools</b></a>\\r\\n                  <a href=\"https://www.nasdaq.com/reference/stock-screener.aspx\" onclick=\"triggerAsyncOmnitureClickEvent(\\'nav:investing:stock-screener\\')\">Stock Screener</a>\\r\\n                  <a href=\"https://www.nasdaq.com/investing/guru/guru-stock-screener.aspx\" onclick=\"triggerAsyncOmnitureClickEvent(\\'nav:investing:guru-screener\\')\">Guru Screener</a>\\r\\n                </li>\\r\\n                <li>\\r\\n                  <a href=\"https://www.nasdaq.com/advisor/\" onclick=\"triggerAsyncOmnitureClickEvent(\\'nav:investing:advisor\\')\"><b>Financial Advisor <br />Center</b></a>\\r\\n                </li>\\r\\n                <li>\\r\\n                  <a href=\"https://www.nasdaq.com/investing/bonds.aspx\" onclick=\"triggerAsyncOmnitureClickEvent(\\'nav:investing:bonds\\')\"><b>Bonds</b></a>\\r\\n                </li>\\r\\n              </ul>\\r\\n            </div>\\r\\n            <div class=\"clearB\"></div>\\r\\n          </div>\\r\\n          <!--// Begin includes/main-nav-investing-feature.inc -->\\r\\n\\r\\n<div class=\"table-table featured\">\\r\\n  <div class=\"table-row\">\\r\\n    <div class=\"table-cell\">\\r\\n      <a href=\"https://www.nasdaq.com/article/how-data-is-making-the-us-stock-market-open-for-all-investors-cm998274\" onclick=\"triggerAsyncOmnitureClickEvent(\\'nav:investing:the-anatomy-of-the-trade\\')\">\\r\\n        <img src=\"https://www.nasdaq.com/images/anatomy-of-a-trade80x80.jpg\" width=\"80\" height=\"80\" border=\"0\" />\\r\\n      </a>\\r\\n    </div>\\r\\n    <div class=\"table-cell\">\\r\\n      <a href=\"https://www.nasdaq.com/article/how-data-is-making-the-us-stock-market-open-for-all-investors-cm998274\" onclick=\"triggerAsyncOmnitureClickEvent(\\'nav:investing:the-anatomy-of-the-trade\\')\">\\r\\n          <b>The Anatomy of a Trade</b>\\r\\n      </a>\\r\\n      <div class=\"clearB\"></div>\\r\\n      <span>How data is making the U.S. stock market more open for all</span>\\r\\n    </div>\\r\\n  </div>\\r\\n</div>\\r\\n\\r\\n<!--// End includes/main-nav-investing-feature.inc -->\\r\\n        </div>\\r\\n      </li>\\r\\n      <li id=\"site-nav-pf\">\\r\\n        <a href=\"https://www.nasdaq.com/personal-finance/\" data-click-event=\"nav:personal-finance:pf-hub\" onclick=\"triggerAsyncOmnitureClickEvent(\\'nav:personal-finance:pf-hub\\')\">\\r\\n          <span>Personal Finance</span>\\r\\n        </a>\\r\\n        <div class=\"global_dropdown\">\\r\\n          <div>\\r\\n            <div class=\"floatL half\">\\r\\n              <ul>\\r\\n                <li>\\r\\n                  <a href=\"https://www.nasdaq.com/personal-finance/retirement.aspx\" onclick=\"triggerAsyncOmnitureClickEvent(\\'nav:personal-finance:retirement\\')\">\\r\\n                    <b>Retirement</b>\\r\\n                  </a>\\r\\n                </li>\\r\\n                <li>\\r\\n                  <a href=\"https://www.nasdaq.com/personal-finance/real-estate.aspx\" onclick=\"triggerAsyncOmnitureClickEvent(\\'nav:personal-finance:real-estate\\')\">\\r\\n                    <b>Real Estate</b>\\r\\n                  </a>\\r\\n                </li>\\r\\n                <li>\\r\\n                  <a href=\"https://www.nasdaq.com/personal-finance/banking.aspx\" onclick=\"triggerAsyncOmnitureClickEvent(\\'nav:personal-finance:banking\\')\">\\r\\n                    <b>Banking</b>\\r\\n                  </a>\\r\\n                </li>\\r\\n                <li>\\r\\n                  <a href=\"https://www.nasdaq.com/personal-finance/insurance.aspx\" onclick=\"triggerAsyncOmnitureClickEvent(\\'nav:personal-finance:insurance\\')\">\\r\\n                    <b>Insurance</b>\\r\\n                  </a>\\r\\n                </li>\\r\\n              </ul>\\r\\n            </div>\\r\\n            <div class=\"floatR half\">\\r\\n              <ul>\\r\\n                <li>\\r\\n                  <a href=\"https://www.nasdaq.com/personal-finance/saving-money/\" onclick=\"triggerAsyncOmnitureClickEvent(\\'nav:personal-finance:saving-money\\')\">\\r\\n                    <b>Saving Money</b>\\r\\n                  </a>\\r\\n                </li>\\r\\n                <li>\\r\\n                  <a href=\"https://www.nasdaq.com/personal-finance/taxes.aspx\" onclick=\"triggerAsyncOmnitureClickEvent(\\'nav:personal-finance:taxes\\')\">\\r\\n                    <b>Taxes</b>\\r\\n                  </a>\\r\\n                </li>\\r\\n                <li>\\r\\n                  <a href=\"https://www.nasdaq.com/personal-finance/investments.aspx\" onclick=\"triggerAsyncOmnitureClickEvent(\\'nav:personal-finance:investments\\')\">\\r\\n                    <b>Investments</b>\\r\\n                  </a>\\r\\n                </li>\\r\\n                <li>\\r\\n                  <a href=\"https://www.nasdaq.com/personal-finance/small-business.aspx\" onclick=\"triggerAsyncOmnitureClickEvent(\\'nav:personal-finance:small-business\\')\">\\r\\n                    <b>Small Business</b>\\r\\n                  </a>\\r\\n                </li>\\r\\n              </ul>\\r\\n            </div>\\r\\n            <div class=\"clearB\"></div>\\r\\n          </div>\\r\\n          <!--// Begin includes/main-navigation-featured-article.inc -->\\r\\n<div class=\"table-table featured\">\\r\\n  <div class=\"table-row\">\\r\\n    <div class=\"table-cell\">\\r\\n      <a href=\"https://www.nasdaq.com/article/3-months-3-housing-trends-rates-rise-prices-slow-millennials-buy-cm1031121\" onclick=\"triggerAsyncOmnitureClickEvent(\\'nav:personal-finance:featured-article\\')\">\\r\\n        <img src=\"https://www.nasdaq.com/images/news/1003home.jpg\" width=\"80\" height=\"80\" border=\"0\" />\\r\\n      </a>\\r\\n    </div>\\r\\n    <div class=\"table-cell\">\\r\\n      <a href=\"https://www.nasdaq.com/article/3-months-3-housing-trends-rates-rise-prices-slow-millennials-buy-cm1031121\" onclick=\"triggerAsyncOmnitureClickEvent(\\'nav:personal-finance:featured-article\\')\">\\r\\n      3 Months, 3 Housing Trends: Rates Rise, Prices Slow, Millennials Buy\\r\\n      </a>\\r\\n      <div class=\"clearB\"></div>\\r\\n    </div>\\r\\n  </div>\\r\\n</div>\\r\\n<!--// End includes/main-navigation-featured-article.inc -->\\r\\n        </div>\\r\\n      </li>\\r\\n      <li id=\"site-nav-nasdaq\">\\r\\n        <a href=\"https://stocktracker.nasdaq.com/smart-portfolio\" data-click-event=\"nav:my-nasdaq:my-nasdaq-hub\" onclick=\"triggerAsyncOmnitureClickEvent(\\'nav:my-nasdaq:my-nasdaq-hub\\')\">\\r\\n          <span>Portfolio</span>\\r\\n        </a>\\r\\n        <div class=\"global_dropdown\">\\r\\n          <div>\\r\\n            <div class=\"floatL half\">\\r\\n              <ul>\\r\\n                <li>\\r\\n                  <span class=\"fontS14px\"><b>Smart Portfolio</b></span>\\r\\n                  <a href=\"https://stocktracker.nasdaq.com/smart-portfolio/welcome\" onclick=\"triggerAsyncOmnitureClickEvent(\\'nav:my-nasdaq:overview\\')\">Overview</a>\\r\\n                  <a href=\"https://stocktracker.nasdaq.com/smart-portfolio/holdings/holdings\" onclick=\"triggerAsyncOmnitureClickEvent(\\'nav:my-nasdaq:holdings\\')\">My Holdings</a>\\r\\n                  <a href=\"https://stocktracker.nasdaq.com/smart-portfolio/analysis/overview\" onclick=\"triggerAsyncOmnitureClickEvent(\\'nav:my-nasdaq:portfolio-analysis\\')\">My Portfolio Analysis</a>\\r\\n                  <a href=\"https://stocktracker.nasdaq.com/smart-portfolio/insights\" onclick=\"triggerAsyncOmnitureClickEvent(\\'nav:my-nasdaq:insights\\')\">Crowd Insights</a>\\r\\n                  <a href=\"https://stocktracker.nasdaq.com/smart-portfolio/performance\" onclick=\"triggerAsyncOmnitureClickEvent(\\'nav:my-nasdaq:performance\\')\">My Performance</a>\\r\\n                </li>\\r\\n              </ul>\\r\\n            </div>\\r\\n            <div id=\"communitynav\" class=\"floatR half\">\\r\\n              <ul>\\r\\n                <li>\\r\\n                  <p class=\"margin0px\">Join the Nasdaq Community today and get free, instant access to portfolios, stock ratings, real-time alerts, and more!</p>\\r\\n                  <div class=\"clearB margin5px\"></div>\\r\\n                  <a href=\"https://community.nasdaq.com/\" onclick=\"triggerAsyncOmnitureClickEvent(\\'nav:my-nasdaq:register\\')\">Join Today</a>\\r\\n                  <div class=\"clearB margin5px\"></div>\\r\\n                </li>\\r\\n                <li>\\r\\n                  <h4>Already a member?</h4>\\r\\n                  <div class=\"clearB margin5px\"></div>\\r\\n                  <a href=\"https://community.nasdaq.com/login.aspx\" onclick=\"triggerAsyncOmnitureClickEvent(\\'nav:my-nasdaq:login\\')\">Login</a>\\r\\n                </li>\\r\\n              </ul>\\r\\n            </div>\\r\\n            <div class=\"clearB\"></div>\\r\\n          </div>\\r\\n        </div>\\r\\n      </li>\\r\\n    </ul>\\r\\n  </nav>\\r\\n  <div id=\"global_nav_placeholder\"></div>\\r\\n  <div class=\"global_search\" id=\"global_search\">\\r\\n    <div class=\"wrapper\">\\r\\n      <div class=\"left-ad-unit120\">\\r\\n        <script type=\"text/javascript\" language=\"javascript\">\\r\\n          makeAd(\\'\\',\\'120x60\\',\\'bookend_left\\',is_dartZone,\\'\\',\\'\\');\\r\\n        </script>\\r\\n        <script type=\"text/javascript\" language=\"javascript\">\\r\\n          makeAd(\\'\\',\\'120x60\\',\\'Bookend_Left_In\\',is_dartZone,\\'\\',\\'\\');\\r\\n        </script>\\r\\n      </div>\\r\\n      <!--//End 120x60 Ad Unit -->\\r\\n      <form method=\"post\" action=\"/\" id=\"stock-search\" class=\"stock-search\" onsubmit=\"return false;\">\\r\\n        <div id=\"stock-search-wrap\">\\r\\n          <label for=\"stock-search-text\">\\r\\n            <input type=\"text\" name=\"stock-search-text\" id=\"stock-search-text\" class=\"ajax-search\" placeholder=\"Enter symbol, name or keyword\" />\\r\\n            <button type=\"submit\" id=\"stock-search-submit\">\\r\\n              <span></span>\\r\\n            </button>\\r\\n          </label>\\r\\n        </div>\\r\\n      </form>\\r\\n      <script type=\"text/javascript\">\\r\\n        if(!isIEBrowser() && !isMobileBrowser() && !isTabletBrowser())\\r\\n        {\\r\\n        $(function(){\\r\\n        $(\\'#stock-search-text\\').focus();\\r\\n        });\\r\\n        }\\r\\n        Nasdaq_Quotesearch.init();\\r\\n      </script>\\r\\n      <div class=\"right-ad-unit120\">\\r\\n        <script type=\"text/javascript\" language=\"javascript\">\\r\\n          makeAd(\\'\\',\\'120x60\\',\\'Bookend_Right\\',is_dartZone,\\'\\',\\'\\');\\r\\n        </script>\\r\\n        <script type=\"text/javascript\" language=\"javascript\">\\r\\n          makeAd(\\'\\',\\'120x60\\',\\'Bookend_Right_In\\',is_dartZone,\\'\\',\\'\\');\\r\\n        </script>\\r\\n      </div>\\r\\n      <!--//End 120x60 Ad Unit -->\\r\\n    </div>\\r\\n  </div>\\r\\n\\r\\n  <div id=\"global_banner\" class=\"wrapper\">\\r\\n    <script type=\"text/javascript\" language=\"JavaScript\">\\r\\n      makeAd(\\'\\',\\'728x90,970x90,970x250\\',is_dartSite,is_dartZone,\\'\\',\\'\\');\\r\\n    </script>\\r\\n  </div>\\r\\n  <!--//End global_banner -->\\r\\n\\r\\n  <script>initNav();</script>\\r\\n</header>\\r\\n<!--//End global_header-->\\r\\n\\r\\n<!--*************************************** END includes/global-masthead.inc ******************************************-->\\r\\n\\r\\n\\r\\n<script type=\"text/javascript\">\\r\\n    cacheLoginStatus(false, null, null, null, \"https\\\\x3a\\\\x2f\\\\x2fcommunity.nasdaq.com\");\\r\\n</script>\\r\\n\\r\\n\\t\\r\\n\\t<div id=\"container\" class=\"wrap cf\">\\r\\n\\t\\t<!--\\r\\n        <div class=\"highlight\">\\r\\n            <center>\\r\\n                <script src=\"https://www.nasdaq.com/aspx/indexrowhtml.aspx?indexname=NASDAQDJIASPXWITHOUTIMAGE\"></script>\\r\\n            </center>\\r\\n        </div>\\r\\n\\t\\t-->\\r\\n\\r\\n\\t\\t<div class=\"breadcrumb-div-2-column\">\\r\\n\\t\\t\\t<span id=\"breadcrumb-text\" class=\"breadcrumb-text\">\\r\\n\\t\\t\\t\\t\\r\\n    <a href=\"https://www.nasdaq.com\">Home</a> &gt; \\r\\n    <a href=\"https://www.nasdaq.com/screening/company-list.aspx\">Company List</a> &gt; \\r\\n    <b>Companies By Name</b>\\r\\n\\r\\n\\t\\t\\t</span>\\r\\n\\t\\t</div>\\t\\r\\n\\r\\n        \\r\\n    <div id=\"content\" class=\"three-hundred-wide-right-rail\"><!--change class if right rail is different width-->\\t\\r\\n\\t\\t<div id=\"left-column-div\"><!--start left-column-div-->\\r\\n\\t        <div class=\"sub-nav\">\\r\\n\\t\\t        <ul class=\"inline noindent\">\\r\\n\\t\\t\\t        <li>\\r\\n\\t\\t\\t\\t        <a id=\"tab1\" href=\"https://www.nasdaq.com/screening/company-list.aspx\">Company List Home</a>\\r\\n\\t\\t\\t        </li>\\r\\n\\t\\t\\t        <li>\\r\\n\\t\\t\\t\\t        <a id=\"tab2\" href=\"#\" target=\"_top\" class=\"selected-sub-nav\">Name</a>\\r\\n\\t\\t\\t        </li>\\r\\n\\t\\t\\t        <li>\\r\\n\\t\\t\\t\\t        <a id=\"tab3\" href=\"https://www.nasdaq.com/screening/regions.aspx\" target=\"_top\">Region</a>\\r\\n\\t\\t\\t        </li>\\r\\n\\t\\t\\t        <li>\\r\\n\\t\\t\\t\\t        <a id=\"tab4\" href=\"https://www.nasdaq.com/screening/industries.aspx\" target=\"_top\">Industry</a>\\r\\n\\t\\t\\t        </li>\\r\\n\\t\\t        </ul>\\r\\n\\t        </div>\\r\\n\\r\\n    <h1>Companies by Name: A</h1>\\r\\n\\r\\n    <form method=\"post\" action=\"./companies-by-name.aspx?letter=A\" id=\"Companiesbyname\">\\r\\n<input type=\"hidden\" name=\"__VIEWSTATE\" id=\"__VIEWSTATE\" value=\"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\" />\\r\\n\\r\\n<input type=\"hidden\" name=\"__VIEWSTATEGENERATOR\" id=\"__VIEWSTATEGENERATOR\" value=\"3B3C7FA0\" />\\r\\n<input type=\"hidden\" name=\"__VIEWSTATEENCRYPTED\" id=\"__VIEWSTATEENCRYPTED\" value=\"\" />\\r\\n<input type=\"hidden\" name=\"__EVENTVALIDATION\" id=\"__EVENTVALIDATION\" value=\"y8aeTwYCqL6+VDSXNRls4HB2f+6yLH+mJrFjnoWYw8FtRWHx3oOxP4ogldlO6fBODJIzoe7/B7yDECgp+sSWpuMjjyUW62zBg9U27WRnwyG7Tmwspv66wLL0UlliCkMOtIl9+2ljeNWXbKGlqM2PxBDUi3jnRQ2QRtTJCkPJovPnDZaWoG/3ddk9mpz7HEqC\" /> \\r\\n\\r\\n    <span style=\"display:none\"><span id=\"two_column_main_content_lblCurrentPage\">Page: 1 of 13</span></span>\\r\\n\\r\\n    \\r\\n\\r\\n    <div id=\"alpha-list\">\\r\\n        <ul>\\r\\n            <li><li><span>A</span></li> \\r\\n            <li><a href=\"companies-by-name.aspx?letter=B\">B</a></li>\\r\\n            <li><a href=\"companies-by-name.aspx?letter=C\">C</a></li>\\r\\n            <li><a href=\"companies-by-name.aspx?letter=D\">D</a></li>\\r\\n            <li><a href=\"companies-by-name.aspx?letter=E\">E</a></li>\\r\\n            <li><a href=\"companies-by-name.aspx?letter=F\">F</a></li>\\r\\n            <li><a href=\"companies-by-name.aspx?letter=G\">G</a></li>\\r\\n            <li><a href=\"companies-by-name.aspx?letter=H\">H</a></li>\\r\\n            <li><a href=\"companies-by-name.aspx?letter=I\">I</a></li>\\r\\n            <li><a href=\"companies-by-name.aspx?letter=J\">J</a></li>\\r\\n            <li><a href=\"companies-by-name.aspx?letter=K\">K</a></li>\\r\\n            <li><a href=\"companies-by-name.aspx?letter=L\">L</a></li>\\r\\n            <li><a href=\"companies-by-name.aspx?letter=M\">M</a></li>\\r\\n            <li><a href=\"companies-by-name.aspx?letter=N\">N</a></li>\\r\\n            <li><a href=\"companies-by-name.aspx?letter=O\">O</a></li>\\r\\n            <li><a href=\"companies-by-name.aspx?letter=P\">P</a></li>\\r\\n            <li><a href=\"companies-by-name.aspx?letter=Q\">Q</a></li>\\r\\n            <li><a href=\"companies-by-name.aspx?letter=R\">R</a></li>\\r\\n            <li><a href=\"companies-by-name.aspx?letter=S\">S</a></li>\\r\\n            <li><a href=\"companies-by-name.aspx?letter=T\">T</a></li>\\r\\n            <li><a href=\"companies-by-name.aspx?letter=U\">U</a></li>\\r\\n            <li><a href=\"companies-by-name.aspx?letter=V\">V</a></li>\\r\\n            <li><a href=\"companies-by-name.aspx?letter=W\">W</a></li>\\r\\n            <li><a href=\"companies-by-name.aspx?letter=X\">X</a></li>\\r\\n            <li><a href=\"companies-by-name.aspx?letter=Y\">Y</a></li>\\r\\n            <li><a href=\"companies-by-name.aspx?letter=Z\">Z</a></li>\\r\\n        </ul>\\r\\n    </div>\\r\\n\\r\\n    <table class=\"fontS14px line-height marginB15px marginT15px\">\\r\\n        \\r\\n        \\r\\n\\t    \\r\\n\\t    \\r\\n    </table>\\r\\n\\r\\n    \\r\\n\\r\\n    \\r\\n\\r\\n    <div id=\"resultsDisplay\" class=\"floatR marginB5px\">\\r\\n        \\r\\n            <small class=\"marginR10px\">Displaying <b>1-50</b> of <b>645</b> results</small>\\r\\n            <img src=\"../images/csv-icon.gif\" class=\"ValignM\" /><a href=\"companies-by-name.aspx?letter=A&render=download\" rel=\"nofollow\"><b>Download this list</b></a>\\r\\n        \\r\\n    </div>\\r\\n\\r\\n    <div class=\"clearB\"></div>\\r\\n\\r\\n    <div class=\"genTable\">\\r\\n        <table id=\"CompanylistResults\">\\r\\n            \\r\\n                    <thead>\\r\\n                        <tr>\\r\\n                            <th><a href=\"companies-by-name.aspx?letter=A&sortname=name&sorttype=1\" rel=\"nofollow\"><span>&#9660;&nbsp;</span>Name</a></th>\\r\\n                            <th><a href=\"companies-by-name.aspx?letter=A&sortname=symbol&sorttype=1\" rel=\"nofollow\"><span>&#9660;&nbsp;</span>Symbol</a></th>\\r\\n                            <th style=\"\"><a href=\"companies-by-name.aspx?letter=A&sortname=marketcap&sorttype=1\" rel=\"nofollow\"><span>&#9660;&nbsp;</span>Market Cap</a></th>\\r\\n                            <th style=\"display:none\"><a href=\"companies-by-name.aspx?letter=A&sortname=adrtso&sorttype=1\" rel=\"nofollow\"><span>&#9660;&nbsp;</span>ADR TSO</a></th>\\r\\n                            <th><a href=\"companies-by-name.aspx?letter=A&sortname=country&sorttype=1\" rel=\"nofollow\"><span>&#9660;&nbsp;</span>Country</a></th>\\r\\n                            <th><a href=\"companies-by-name.aspx?letter=A&sortname=ipoyear&sorttype=1\" rel=\"nofollow\"><span>&#9660;&nbsp;</span>IPO Year</a></th>\\r\\n                            <th><a href=\"companies-by-name.aspx?letter=A&sortname=industry&sorttype=1\" rel=\"nofollow\"><span>&#9660;&nbsp;</span>Subsector</a></th>\\r\\n                        </tr>\\r\\n                    </thead>\\r\\n                \\r\\n                    <tr>\\r\\n                        <td>111, Inc.</td>\\r\\n\\t\\t                <td>\\r\\n\\t\\t\\t\\t\\t            <h3>\\r\\n\\t\\t\\t\\t\\t\\t            <a href=\"https://www.nasdaq.com/symbol/yi\">\\r\\n\\t\\t\\t\\t\\t\\t            YI</a>\\r\\n\\t\\t\\t\\t\\t            </h3>\\r\\n\\t\\t\\t            </td>\\r\\n\\t\\t\\t            <td style=\"\">n/a</td>\\r\\n                        <td style=\"display:none\"></td>\\r\\n\\t\\t\\t            <td >China</td>\\r\\n\\t\\t\\t            <td>2018</td>\\r\\n\\t\\t\\t            <td>Medical/Nursing Services</td>\\r\\n\\t\\t            </tr>\\r\\n                    <tr>\\r\\n\\t\\t\\t            <td class=\"quick-links\" colspan=\"6\">\\r\\n\\t\\t\\t\\t            <img src=\"https://www.nasdaq.com/images/quotes_qw.gif\" class=\"ValignM\" width=\"15\" height=\"15\"/>\\r\\n\\t\\t\\t\\t            <a href=\"https://www.nasdaq.com/symbol/yi\" class=\"marginR25px\">\\r\\n\\t\\t\\t\\t            YI Stock Quote</a>\\r\\n\\t\\t\\t\\t\\r\\n\\t\\t\\t\\t            <img src=\"https://www.nasdaq.com/images/bullish-icon.gif\" class=\"ValignM\" width=\"15\" height=\"15\"/>\\r\\n\\t\\t\\t\\t            <a href=\"https://community.nasdaq.com/community-ratings.aspx?stockticker=YI\" class=\"marginR25px\">\\r\\n\\t\\t\\t\\t            YI Ratings</a>\\t\\t\\t\\r\\n\\r\\n\\t\\t\\t\\t            <img src=\"https://www.nasdaq.com/images/stockReportIcon.png\" class=\"ValignM\" width=\"15\" height=\"15\"/>\\r\\n\\t\\t\\t\\t            <a href=\"https://www.nasdaq.com/symbol/yi/stock-report\">\\r\\n\\t\\t\\t\\t            YI Stock Report</a>\\r\\n\\t\\t\\t            </td>\\r\\n\\t                </tr>\\r\\n               \\r\\n                    <tr>\\r\\n                        <td><a href=\"http://www.1347pih.com\" rel=\"nofollow\"  target=\"_blank\">1347 Property Insurance Holdings, Inc.</a></td>\\r\\n\\t\\t                <td>\\r\\n\\t\\t\\t\\t\\t            <h3>\\r\\n\\t\\t\\t\\t\\t\\t            <a href=\"https://www.nasdaq.com/symbol/pih\">\\r\\n\\t\\t\\t\\t\\t\\t            PIH</a>\\r\\n\\t\\t\\t\\t\\t            </h3>\\r\\n\\t\\t\\t            </td>\\r\\n\\t\\t\\t            <td style=\"\">$39.38M</td>\\r\\n                        <td style=\"display:none\"></td>\\r\\n\\t\\t\\t            <td >United States</td>\\r\\n\\t\\t\\t            <td>2014</td>\\r\\n\\t\\t\\t            <td>Property-Casualty Insurers</td>\\r\\n\\t\\t            </tr>\\r\\n                    <tr>\\r\\n\\t\\t\\t            <td class=\"quick-links\" colspan=\"6\">\\r\\n\\t\\t\\t\\t            <img src=\"https://www.nasdaq.com/images/quotes_qw.gif\" class=\"ValignM\" width=\"15\" height=\"15\"/>\\r\\n\\t\\t\\t\\t            <a href=\"https://www.nasdaq.com/symbol/pih\" class=\"marginR25px\">\\r\\n\\t\\t\\t\\t            PIH Stock Quote</a>\\r\\n\\t\\t\\t\\t\\r\\n\\t\\t\\t\\t            <img src=\"https://www.nasdaq.com/images/bullish-icon.gif\" class=\"ValignM\" width=\"15\" height=\"15\"/>\\r\\n\\t\\t\\t\\t            <a href=\"https://community.nasdaq.com/community-ratings.aspx?stockticker=PIH\" class=\"marginR25px\">\\r\\n\\t\\t\\t\\t            PIH Ratings</a>\\t\\t\\t\\r\\n\\r\\n\\t\\t\\t\\t            <img src=\"https://www.nasdaq.com/images/stockReportIcon.png\" class=\"ValignM\" width=\"15\" height=\"15\"/>\\r\\n\\t\\t\\t\\t            <a href=\"https://www.nasdaq.com/symbol/pih/stock-report\">\\r\\n\\t\\t\\t\\t            PIH Stock Report</a>\\r\\n\\t\\t\\t            </td>\\r\\n\\t                </tr>\\r\\n               \\r\\n                    <tr>\\r\\n                        <td><a href=\"http://www.1347pih.com\" rel=\"nofollow\"  target=\"_blank\">1347 Property Insurance Holdings, Inc.</a></td>\\r\\n\\t\\t                <td>\\r\\n\\t\\t\\t\\t\\t            <h3>\\r\\n\\t\\t\\t\\t\\t\\t            <a href=\"https://www.nasdaq.com/symbol/pihpp\">\\r\\n\\t\\t\\t\\t\\t\\t            PIHPP</a>\\r\\n\\t\\t\\t\\t\\t            </h3>\\r\\n\\t\\t\\t            </td>\\r\\n\\t\\t\\t            <td style=\"\">n/a</td>\\r\\n                        <td style=\"display:none\"></td>\\r\\n\\t\\t\\t            <td >United States</td>\\r\\n\\t\\t\\t            <td>n/a</td>\\r\\n\\t\\t\\t            <td>Property-Casualty Insurers</td>\\r\\n\\t\\t            </tr>\\r\\n                    <tr>\\r\\n\\t\\t\\t            <td class=\"quick-links\" colspan=\"6\">\\r\\n\\t\\t\\t\\t            <img src=\"https://www.nasdaq.com/images/quotes_qw.gif\" class=\"ValignM\" width=\"15\" height=\"15\"/>\\r\\n\\t\\t\\t\\t            <a href=\"https://www.nasdaq.com/symbol/pihpp\" class=\"marginR25px\">\\r\\n\\t\\t\\t\\t            PIHPP Stock Quote</a>\\r\\n\\t\\t\\t\\t\\r\\n\\t\\t\\t\\t            <img src=\"https://www.nasdaq.com/images/bullish-icon.gif\" class=\"ValignM\" width=\"15\" height=\"15\"/>\\r\\n\\t\\t\\t\\t            <a href=\"https://community.nasdaq.com/community-ratings.aspx?stockticker=PIHPP\" class=\"marginR25px\">\\r\\n\\t\\t\\t\\t            PIHPP Ratings</a>\\t\\t\\t\\r\\n\\r\\n\\t\\t\\t\\t            <img src=\"https://www.nasdaq.com/images/stockReportIcon.png\" class=\"ValignM\" width=\"15\" height=\"15\"/>\\r\\n\\t\\t\\t\\t            <a href=\"https://www.nasdaq.com/symbol/pihpp/stock-report\">\\r\\n\\t\\t\\t\\t            PIHPP Stock Report</a>\\r\\n\\t\\t\\t            </td>\\r\\n\\t                </tr>\\r\\n               \\r\\n                    <tr>\\r\\n                        <td><a href=\"http://www.180degreecapital.com/\" rel=\"nofollow\"  target=\"_blank\">180 Degree Capital Corp.</a></td>\\r\\n\\t\\t                <td>\\r\\n\\t\\t\\t\\t\\t            <h3>\\r\\n\\t\\t\\t\\t\\t\\t            <a href=\"https://www.nasdaq.com/symbol/turn\">\\r\\n\\t\\t\\t\\t\\t\\t            TURN</a>\\r\\n\\t\\t\\t\\t\\t            </h3>\\r\\n\\t\\t\\t            </td>\\r\\n\\t\\t\\t            <td style=\"\">$70.65M</td>\\r\\n                        <td style=\"display:none\"></td>\\r\\n\\t\\t\\t            <td >United States</td>\\r\\n\\t\\t\\t            <td>n/a</td>\\r\\n\\t\\t\\t            <td>Finance/Investors Services</td>\\r\\n\\t\\t            </tr>\\r\\n                    <tr>\\r\\n\\t\\t\\t            <td class=\"quick-links\" colspan=\"6\">\\r\\n\\t\\t\\t\\t            <img src=\"https://www.nasdaq.com/images/quotes_qw.gif\" class=\"ValignM\" width=\"15\" height=\"15\"/>\\r\\n\\t\\t\\t\\t            <a href=\"https://www.nasdaq.com/symbol/turn\" class=\"marginR25px\">\\r\\n\\t\\t\\t\\t            TURN Stock Quote</a>\\r\\n\\t\\t\\t\\t\\r\\n\\t\\t\\t\\t            <img src=\"https://www.nasdaq.com/images/bullish-icon.gif\" class=\"ValignM\" width=\"15\" height=\"15\"/>\\r\\n\\t\\t\\t\\t            <a href=\"https://community.nasdaq.com/community-ratings.aspx?stockticker=TURN\" class=\"marginR25px\">\\r\\n\\t\\t\\t\\t            TURN Ratings</a>\\t\\t\\t\\r\\n\\r\\n\\t\\t\\t\\t            <img src=\"https://www.nasdaq.com/images/stockReportIcon.png\" class=\"ValignM\" width=\"15\" height=\"15\"/>\\r\\n\\t\\t\\t\\t            <a href=\"https://www.nasdaq.com/symbol/turn/stock-report\">\\r\\n\\t\\t\\t\\t            TURN Stock Report</a>\\r\\n\\t\\t\\t            </td>\\r\\n\\t                </tr>\\r\\n               \\r\\n                    <tr>\\r\\n                        <td><a href=\"http://www.1800flowers.com\" rel=\"nofollow\"  target=\"_blank\">1-800 FLOWERS.COM, Inc.</a></td>\\r\\n\\t\\t                <td>\\r\\n\\t\\t\\t\\t\\t            <h3>\\r\\n\\t\\t\\t\\t\\t\\t            <a href=\"https://www.nasdaq.com/symbol/flws\">\\r\\n\\t\\t\\t\\t\\t\\t            FLWS</a>\\r\\n\\t\\t\\t\\t\\t            </h3>\\r\\n\\t\\t\\t            </td>\\r\\n\\t\\t\\t            <td style=\"\">$721.49M</td>\\r\\n                        <td style=\"display:none\"></td>\\r\\n\\t\\t\\t            <td >United States</td>\\r\\n\\t\\t\\t            <td>1999</td>\\r\\n\\t\\t\\t            <td>Other Specialty Stores</td>\\r\\n\\t\\t            </tr>\\r\\n                    <tr>\\r\\n\\t\\t\\t            <td class=\"quick-links\" colspan=\"6\">\\r\\n\\t\\t\\t\\t            <img src=\"https://www.nasdaq.com/images/quotes_qw.gif\" class=\"ValignM\" width=\"15\" height=\"15\"/>\\r\\n\\t\\t\\t\\t            <a href=\"https://www.nasdaq.com/symbol/flws\" class=\"marginR25px\">\\r\\n\\t\\t\\t\\t            FLWS Stock Quote</a>\\r\\n\\t\\t\\t\\t\\r\\n\\t\\t\\t\\t            <img src=\"https://www.nasdaq.com/images/bullish-icon.gif\" class=\"ValignM\" width=\"15\" height=\"15\"/>\\r\\n\\t\\t\\t\\t            <a href=\"https://community.nasdaq.com/community-ratings.aspx?stockticker=FLWS\" class=\"marginR25px\">\\r\\n\\t\\t\\t\\t            FLWS Ratings</a>\\t\\t\\t\\r\\n\\r\\n\\t\\t\\t\\t            <img src=\"https://www.nasdaq.com/images/stockReportIcon.png\" class=\"ValignM\" width=\"15\" height=\"15\"/>\\r\\n\\t\\t\\t\\t            <a href=\"https://www.nasdaq.com/symbol/flws/stock-report\">\\r\\n\\t\\t\\t\\t            FLWS Stock Report</a>\\r\\n\\t\\t\\t            </td>\\r\\n\\t                </tr>\\r\\n               \\r\\n                    <tr>\\r\\n                        <td><a href=\"http://www.1stconstitution.com\" rel=\"nofollow\"  target=\"_blank\">1st Constitution Bancorp (NJ)</a></td>\\r\\n\\t\\t                <td>\\r\\n\\t\\t\\t\\t\\t            <h3>\\r\\n\\t\\t\\t\\t\\t\\t            <a href=\"https://www.nasdaq.com/symbol/fccy\">\\r\\n\\t\\t\\t\\t\\t\\t            FCCY</a>\\r\\n\\t\\t\\t\\t\\t            </h3>\\r\\n\\t\\t\\t            </td>\\r\\n\\t\\t\\t            <td style=\"\">$168.76M</td>\\r\\n                        <td style=\"display:none\"></td>\\r\\n\\t\\t\\t            <td >United States</td>\\r\\n\\t\\t\\t            <td>n/a</td>\\r\\n\\t\\t\\t            <td>Savings Institutions</td>\\r\\n\\t\\t            </tr>\\r\\n                    <tr>\\r\\n\\t\\t\\t            <td class=\"quick-links\" colspan=\"6\">\\r\\n\\t\\t\\t\\t            <img src=\"https://www.nasdaq.com/images/quotes_qw.gif\" class=\"ValignM\" width=\"15\" height=\"15\"/>\\r\\n\\t\\t\\t\\t            <a href=\"https://www.nasdaq.com/symbol/fccy\" class=\"marginR25px\">\\r\\n\\t\\t\\t\\t            FCCY Stock Quote</a>\\r\\n\\t\\t\\t\\t\\r\\n\\t\\t\\t\\t            <img src=\"https://www.nasdaq.com/images/bullish-icon.gif\" class=\"ValignM\" width=\"15\" height=\"15\"/>\\r\\n\\t\\t\\t\\t            <a href=\"https://community.nasdaq.com/community-ratings.aspx?stockticker=FCCY\" class=\"marginR25px\">\\r\\n\\t\\t\\t\\t            FCCY Ratings</a>\\t\\t\\t\\r\\n\\r\\n\\t\\t\\t\\t            <img src=\"https://www.nasdaq.com/images/stockReportIcon.png\" class=\"ValignM\" width=\"15\" height=\"15\"/>\\r\\n\\t\\t\\t\\t            <a href=\"https://www.nasdaq.com/symbol/fccy/stock-report\">\\r\\n\\t\\t\\t\\t            FCCY Stock Report</a>\\r\\n\\t\\t\\t            </td>\\r\\n\\t                </tr>\\r\\n               \\r\\n                    <tr>\\r\\n                        <td><a href=\"http://www.1stsource.com\" rel=\"nofollow\"  target=\"_blank\">1st Source Corporation</a></td>\\r\\n\\t\\t                <td>\\r\\n\\t\\t\\t\\t\\t            <h3>\\r\\n\\t\\t\\t\\t\\t\\t            <a href=\"https://www.nasdaq.com/symbol/srce\">\\r\\n\\t\\t\\t\\t\\t\\t            SRCE</a>\\r\\n\\t\\t\\t\\t\\t            </h3>\\r\\n\\t\\t\\t            </td>\\r\\n\\t\\t\\t            <td style=\"\">$1.34B</td>\\r\\n                        <td style=\"display:none\"></td>\\r\\n\\t\\t\\t            <td >United States</td>\\r\\n\\t\\t\\t            <td>n/a</td>\\r\\n\\t\\t\\t            <td>Major Banks</td>\\r\\n\\t\\t            </tr>\\r\\n                    <tr>\\r\\n\\t\\t\\t            <td class=\"quick-links\" colspan=\"6\">\\r\\n\\t\\t\\t\\t            <img src=\"https://www.nasdaq.com/images/quotes_qw.gif\" class=\"ValignM\" width=\"15\" height=\"15\"/>\\r\\n\\t\\t\\t\\t            <a href=\"https://www.nasdaq.com/symbol/srce\" class=\"marginR25px\">\\r\\n\\t\\t\\t\\t            SRCE Stock Quote</a>\\r\\n\\t\\t\\t\\t\\r\\n\\t\\t\\t\\t            <img src=\"https://www.nasdaq.com/images/bullish-icon.gif\" class=\"ValignM\" width=\"15\" height=\"15\"/>\\r\\n\\t\\t\\t\\t            <a href=\"https://community.nasdaq.com/community-ratings.aspx?stockticker=SRCE\" class=\"marginR25px\">\\r\\n\\t\\t\\t\\t            SRCE Ratings</a>\\t\\t\\t\\r\\n\\r\\n\\t\\t\\t\\t            <img src=\"https://www.nasdaq.com/images/stockReportIcon.png\" class=\"ValignM\" width=\"15\" height=\"15\"/>\\r\\n\\t\\t\\t\\t            <a href=\"https://www.nasdaq.com/symbol/srce/stock-report\">\\r\\n\\t\\t\\t\\t            SRCE Stock Report</a>\\r\\n\\t\\t\\t            </td>\\r\\n\\t                </tr>\\r\\n               \\r\\n                    <tr>\\r\\n                        <td><a href=\"http://www.21vianet.com\" rel=\"nofollow\"  target=\"_blank\">21Vianet Group, Inc.</a></td>\\r\\n\\t\\t                <td>\\r\\n\\t\\t\\t\\t\\t            <h3>\\r\\n\\t\\t\\t\\t\\t\\t            <a href=\"https://www.nasdaq.com/symbol/vnet\">\\r\\n\\t\\t\\t\\t\\t\\t            VNET</a>\\r\\n\\t\\t\\t\\t\\t            </h3>\\r\\n\\t\\t\\t            </td>\\r\\n\\t\\t\\t            <td style=\"\">$1.13B</td>\\r\\n                        <td style=\"display:none\"></td>\\r\\n\\t\\t\\t            <td >China</td>\\r\\n\\t\\t\\t            <td>2011</td>\\r\\n\\t\\t\\t            <td>Computer Software: Programming, Data Processing</td>\\r\\n\\t\\t            </tr>\\r\\n                    <tr>\\r\\n\\t\\t\\t            <td class=\"quick-links\" colspan=\"6\">\\r\\n\\t\\t\\t\\t            <img src=\"https://www.nasdaq.com/images/quotes_qw.gif\" class=\"ValignM\" width=\"15\" height=\"15\"/>\\r\\n\\t\\t\\t\\t            <a href=\"https://www.nasdaq.com/symbol/vnet\" class=\"marginR25px\">\\r\\n\\t\\t\\t\\t            VNET Stock Quote</a>\\r\\n\\t\\t\\t\\t\\r\\n\\t\\t\\t\\t            <img src=\"https://www.nasdaq.com/images/bullish-icon.gif\" class=\"ValignM\" width=\"15\" height=\"15\"/>\\r\\n\\t\\t\\t\\t            <a href=\"https://community.nasdaq.com/community-ratings.aspx?stockticker=VNET\" class=\"marginR25px\">\\r\\n\\t\\t\\t\\t            VNET Ratings</a>\\t\\t\\t\\r\\n\\r\\n\\t\\t\\t\\t            <img src=\"https://www.nasdaq.com/images/stockReportIcon.png\" class=\"ValignM\" width=\"15\" height=\"15\"/>\\r\\n\\t\\t\\t\\t            <a href=\"https://www.nasdaq.com/symbol/vnet/stock-report\">\\r\\n\\t\\t\\t\\t            VNET Stock Report</a>\\r\\n\\t\\t\\t            </td>\\r\\n\\t                </tr>\\r\\n               \\r\\n                    <tr>\\r\\n                        <td><a href=\"http://www.xxiicentury.com\" rel=\"nofollow\"  target=\"_blank\">22nd Century Group, Inc</a></td>\\r\\n\\t\\t                <td>\\r\\n\\t\\t\\t\\t\\t            <h3>\\r\\n\\t\\t\\t\\t\\t\\t            <a href=\"https://www.nasdaq.com/symbol/xxii\">\\r\\n\\t\\t\\t\\t\\t\\t            XXII</a>\\r\\n\\t\\t\\t\\t\\t            </h3>\\r\\n\\t\\t\\t            </td>\\r\\n\\t\\t\\t            <td style=\"\">$339.54M</td>\\r\\n                        <td style=\"display:none\"></td>\\r\\n\\t\\t\\t            <td >United States</td>\\r\\n\\t\\t\\t            <td>n/a</td>\\r\\n\\t\\t\\t            <td>Farming/Seeds/Milling</td>\\r\\n\\t\\t            </tr>\\r\\n                    <tr>\\r\\n\\t\\t\\t            <td class=\"quick-links\" colspan=\"6\">\\r\\n\\t\\t\\t\\t            <img src=\"https://www.nasdaq.com/images/quotes_qw.gif\" class=\"ValignM\" width=\"15\" height=\"15\"/>\\r\\n\\t\\t\\t\\t            <a href=\"https://www.nasdaq.com/symbol/xxii\" class=\"marginR25px\">\\r\\n\\t\\t\\t\\t            XXII Stock Quote</a>\\r\\n\\t\\t\\t\\t\\r\\n\\t\\t\\t\\t            <img src=\"https://www.nasdaq.com/images/bullish-icon.gif\" class=\"ValignM\" width=\"15\" height=\"15\"/>\\r\\n\\t\\t\\t\\t            <a href=\"https://community.nasdaq.com/community-ratings.aspx?stockticker=XXII\" class=\"marginR25px\">\\r\\n\\t\\t\\t\\t            XXII Ratings</a>\\t\\t\\t\\r\\n\\r\\n\\t\\t\\t\\t            <img src=\"https://www.nasdaq.com/images/stockReportIcon.png\" class=\"ValignM\" width=\"15\" height=\"15\"/>\\r\\n\\t\\t\\t\\t            <a href=\"https://www.nasdaq.com/symbol/xxii/stock-report\">\\r\\n\\t\\t\\t\\t            XXII Stock Report</a>\\r\\n\\t\\t\\t            </td>\\r\\n\\t                </tr>\\r\\n               \\r\\n                    <tr>\\r\\n                        <td><a href=\"http://www.2u.com\" rel=\"nofollow\"  target=\"_blank\">2U, Inc.</a></td>\\r\\n\\t\\t                <td>\\r\\n\\t\\t\\t\\t\\t            <h3>\\r\\n\\t\\t\\t\\t\\t\\t            <a href=\"https://www.nasdaq.com/symbol/twou\">\\r\\n\\t\\t\\t\\t\\t\\t            TWOU</a>\\r\\n\\t\\t\\t\\t\\t            </h3>\\r\\n\\t\\t\\t            </td>\\r\\n\\t\\t\\t            <td style=\"\">$4.16B</td>\\r\\n                        <td style=\"display:none\"></td>\\r\\n\\t\\t\\t            <td >United States</td>\\r\\n\\t\\t\\t            <td>2014</td>\\r\\n\\t\\t\\t            <td>Computer Software: Prepackaged Software</td>\\r\\n\\t\\t            </tr>\\r\\n                    <tr>\\r\\n\\t\\t\\t            <td class=\"quick-links\" colspan=\"6\">\\r\\n\\t\\t\\t\\t            <img src=\"https://www.nasdaq.com/images/quotes_qw.gif\" class=\"ValignM\" width=\"15\" height=\"15\"/>\\r\\n\\t\\t\\t\\t            <a href=\"https://www.nasdaq.com/symbol/twou\" class=\"marginR25px\">\\r\\n\\t\\t\\t\\t            TWOU Stock Quote</a>\\r\\n\\t\\t\\t\\t\\r\\n\\t\\t\\t\\t            <img src=\"https://www.nasdaq.com/images/bullish-icon.gif\" class=\"ValignM\" width=\"15\" height=\"15\"/>\\r\\n\\t\\t\\t\\t            <a href=\"https://community.nasdaq.com/community-ratings.aspx?stockticker=TWOU\" class=\"marginR25px\">\\r\\n\\t\\t\\t\\t            TWOU Ratings</a>\\t\\t\\t\\r\\n\\r\\n\\t\\t\\t\\t            <img src=\"https://www.nasdaq.com/images/stockReportIcon.png\" class=\"ValignM\" width=\"15\" height=\"15\"/>\\r\\n\\t\\t\\t\\t            <a href=\"https://www.nasdaq.com/symbol/twou/stock-report\">\\r\\n\\t\\t\\t\\t            TWOU Stock Report</a>\\r\\n\\t\\t\\t            </td>\\r\\n\\t                </tr>\\r\\n               \\r\\n                    <tr>\\r\\n                        <td>3D Systems Corporation</td>\\r\\n\\t\\t                <td>\\r\\n\\t\\t\\t\\t\\t            <h3>\\r\\n\\t\\t\\t\\t\\t\\t            <a href=\"https://www.nasdaq.com/symbol/ddd\">\\r\\n\\t\\t\\t\\t\\t\\t            DDD</a>\\r\\n\\t\\t\\t\\t\\t            </h3>\\r\\n\\t\\t\\t            </td>\\r\\n\\t\\t\\t            <td style=\"\">$2B</td>\\r\\n                        <td style=\"display:none\"></td>\\r\\n\\t\\t\\t            <td >United States</td>\\r\\n\\t\\t\\t            <td>n/a</td>\\r\\n\\t\\t\\t            <td>Computer Software: Prepackaged Software</td>\\r\\n\\t\\t            </tr>\\r\\n                    <tr>\\r\\n\\t\\t\\t            <td class=\"quick-links\" colspan=\"6\">\\r\\n\\t\\t\\t\\t            <img src=\"https://www.nasdaq.com/images/quotes_qw.gif\" class=\"ValignM\" width=\"15\" height=\"15\"/>\\r\\n\\t\\t\\t\\t            <a href=\"https://www.nasdaq.com/symbol/ddd\" class=\"marginR25px\">\\r\\n\\t\\t\\t\\t            DDD Stock Quote</a>\\r\\n\\t\\t\\t\\t\\r\\n\\t\\t\\t\\t            <img src=\"https://www.nasdaq.com/images/bullish-icon.gif\" class=\"ValignM\" width=\"15\" height=\"15\"/>\\r\\n\\t\\t\\t\\t            <a href=\"https://community.nasdaq.com/community-ratings.aspx?stockticker=DDD\" class=\"marginR25px\">\\r\\n\\t\\t\\t\\t            DDD Ratings</a>\\t\\t\\t\\r\\n\\r\\n\\t\\t\\t\\t            <img src=\"https://www.nasdaq.com/images/stockReportIcon.png\" class=\"ValignM\" width=\"15\" height=\"15\"/>\\r\\n\\t\\t\\t\\t            <a href=\"https://www.nasdaq.com/symbol/ddd/stock-report\">\\r\\n\\t\\t\\t\\t            DDD Stock Report</a>\\r\\n\\t\\t\\t            </td>\\r\\n\\t                </tr>\\r\\n               \\r\\n                    <tr>\\r\\n                        <td><a href=\"http://www.3m.com\" rel=\"nofollow\"  target=\"_blank\">3M Company</a></td>\\r\\n\\t\\t                <td>\\r\\n\\t\\t\\t\\t\\t            <h3>\\r\\n\\t\\t\\t\\t\\t\\t            <a href=\"https://www.nasdaq.com/symbol/mmm\">\\r\\n\\t\\t\\t\\t\\t\\t            MMM</a>\\r\\n\\t\\t\\t\\t\\t            </h3>\\r\\n\\t\\t\\t            </td>\\r\\n\\t\\t\\t            <td style=\"\">$126.54B</td>\\r\\n                        <td style=\"display:none\"></td>\\r\\n\\t\\t\\t            <td >United States</td>\\r\\n\\t\\t\\t            <td>n/a</td>\\r\\n\\t\\t\\t            <td>Medical/Dental Instruments</td>\\r\\n\\t\\t            </tr>\\r\\n                    <tr>\\r\\n\\t\\t\\t            <td class=\"quick-links\" colspan=\"6\">\\r\\n\\t\\t\\t\\t            <img src=\"https://www.nasdaq.com/images/quotes_qw.gif\" class=\"ValignM\" width=\"15\" height=\"15\"/>\\r\\n\\t\\t\\t\\t            <a href=\"https://www.nasdaq.com/symbol/mmm\" class=\"marginR25px\">\\r\\n\\t\\t\\t\\t            MMM Stock Quote</a>\\r\\n\\t\\t\\t\\t\\r\\n\\t\\t\\t\\t            <img src=\"https://www.nasdaq.com/images/bullish-icon.gif\" class=\"ValignM\" width=\"15\" height=\"15\"/>\\r\\n\\t\\t\\t\\t            <a href=\"https://community.nasdaq.com/community-ratings.aspx?stockticker=MMM\" class=\"marginR25px\">\\r\\n\\t\\t\\t\\t            MMM Ratings</a>\\t\\t\\t\\r\\n\\r\\n\\t\\t\\t\\t            <img src=\"https://www.nasdaq.com/images/stockReportIcon.png\" class=\"ValignM\" width=\"15\" height=\"15\"/>\\r\\n\\t\\t\\t\\t            <a href=\"https://www.nasdaq.com/symbol/mmm/stock-report\">\\r\\n\\t\\t\\t\\t            MMM Stock Report</a>\\r\\n\\t\\t\\t            </td>\\r\\n\\t                </tr>\\r\\n               \\r\\n                    <tr>\\r\\n                        <td><a href=\"https://www.3pea.com\" rel=\"nofollow\"  target=\"_blank\">3PEA International, Inc.</a></td>\\r\\n\\t\\t                <td>\\r\\n\\t\\t\\t\\t\\t            <h3>\\r\\n\\t\\t\\t\\t\\t\\t            <a href=\"https://www.nasdaq.com/symbol/tpnl\">\\r\\n\\t\\t\\t\\t\\t\\t            TPNL</a>\\r\\n\\t\\t\\t\\t\\t            </h3>\\r\\n\\t\\t\\t            </td>\\r\\n\\t\\t\\t            <td style=\"\">$171.63M</td>\\r\\n                        <td style=\"display:none\"></td>\\r\\n\\t\\t\\t            <td >United States</td>\\r\\n\\t\\t\\t            <td>n/a</td>\\r\\n\\t\\t\\t            <td>Business Services</td>\\r\\n\\t\\t            </tr>\\r\\n                    <tr>\\r\\n\\t\\t\\t            <td class=\"quick-links\" colspan=\"6\">\\r\\n\\t\\t\\t\\t            <img src=\"https://www.nasdaq.com/images/quotes_qw.gif\" class=\"ValignM\" width=\"15\" height=\"15\"/>\\r\\n\\t\\t\\t\\t            <a href=\"https://www.nasdaq.com/symbol/tpnl\" class=\"marginR25px\">\\r\\n\\t\\t\\t\\t            TPNL Stock Quote</a>\\r\\n\\t\\t\\t\\t\\r\\n\\t\\t\\t\\t            <img src=\"https://www.nasdaq.com/images/bullish-icon.gif\" class=\"ValignM\" width=\"15\" height=\"15\"/>\\r\\n\\t\\t\\t\\t            <a href=\"https://community.nasdaq.com/community-ratings.aspx?stockticker=TPNL\" class=\"marginR25px\">\\r\\n\\t\\t\\t\\t            TPNL Ratings</a>\\t\\t\\t\\r\\n\\r\\n\\t\\t\\t\\t            <img src=\"https://www.nasdaq.com/images/stockReportIcon.png\" class=\"ValignM\" width=\"15\" height=\"15\"/>\\r\\n\\t\\t\\t\\t            <a href=\"https://www.nasdaq.com/symbol/tpnl/stock-report\">\\r\\n\\t\\t\\t\\t            TPNL Stock Report</a>\\r\\n\\t\\t\\t            </td>\\r\\n\\t                </tr>\\r\\n               \\r\\n                    <tr>\\r\\n                        <td><a href=\"http://www.500.com\" rel=\"nofollow\"  target=\"_blank\">500.com Limited</a></td>\\r\\n\\t\\t                <td>\\r\\n\\t\\t\\t\\t\\t            <h3>\\r\\n\\t\\t\\t\\t\\t\\t            <a href=\"https://www.nasdaq.com/symbol/wbai\">\\r\\n\\t\\t\\t\\t\\t\\t            WBAI</a>\\r\\n\\t\\t\\t\\t\\t            </h3>\\r\\n\\t\\t\\t            </td>\\r\\n\\t\\t\\t            <td style=\"\">$450.86M</td>\\r\\n                        <td style=\"display:none\"></td>\\r\\n\\t\\t\\t            <td >n/a</td>\\r\\n\\t\\t\\t            <td>2013</td>\\r\\n\\t\\t\\t            <td>Services-Misc. Amusement & Recreation</td>\\r\\n\\t\\t            </tr>\\r\\n                    <tr>\\r\\n\\t\\t\\t            <td class=\"quick-links\" colspan=\"6\">\\r\\n\\t\\t\\t\\t            <img src=\"https://www.nasdaq.com/images/quotes_qw.gif\" class=\"ValignM\" width=\"15\" height=\"15\"/>\\r\\n\\t\\t\\t\\t            <a href=\"https://www.nasdaq.com/symbol/wbai\" class=\"marginR25px\">\\r\\n\\t\\t\\t\\t            WBAI Stock Quote</a>\\r\\n\\t\\t\\t\\t\\r\\n\\t\\t\\t\\t            <img src=\"https://www.nasdaq.com/images/bullish-icon.gif\" class=\"ValignM\" width=\"15\" height=\"15\"/>\\r\\n\\t\\t\\t\\t            <a href=\"https://community.nasdaq.com/community-ratings.aspx?stockticker=WBAI\" class=\"marginR25px\">\\r\\n\\t\\t\\t\\t            WBAI Ratings</a>\\t\\t\\t\\r\\n\\r\\n\\t\\t\\t\\t            <img src=\"https://www.nasdaq.com/images/stockReportIcon.png\" class=\"ValignM\" width=\"15\" height=\"15\"/>\\r\\n\\t\\t\\t\\t            <a href=\"https://www.nasdaq.com/symbol/wbai/stock-report\">\\r\\n\\t\\t\\t\\t            WBAI Stock Report</a>\\r\\n\\t\\t\\t            </td>\\r\\n\\t                </tr>\\r\\n               \\r\\n                    <tr>\\r\\n                        <td><a href=\"http://www.51job.com\" rel=\"nofollow\"  target=\"_blank\">51job, Inc.</a></td>\\r\\n\\t\\t                <td>\\r\\n\\t\\t\\t\\t\\t            <h3>\\r\\n\\t\\t\\t\\t\\t\\t            <a href=\"https://www.nasdaq.com/symbol/jobs\">\\r\\n\\t\\t\\t\\t\\t\\t            JOBS</a>\\r\\n\\t\\t\\t\\t\\t            </h3>\\r\\n\\t\\t\\t            </td>\\r\\n\\t\\t\\t            <td style=\"\">$4.46B</td>\\r\\n                        <td style=\"display:none\"></td>\\r\\n\\t\\t\\t            <td >China</td>\\r\\n\\t\\t\\t            <td>2004</td>\\r\\n\\t\\t\\t            <td>Diversified Commercial Services</td>\\r\\n\\t\\t            </tr>\\r\\n                    <tr>\\r\\n\\t\\t\\t            <td class=\"quick-links\" colspan=\"6\">\\r\\n\\t\\t\\t\\t            <img src=\"https://www.nasdaq.com/images/quotes_qw.gif\" class=\"ValignM\" width=\"15\" height=\"15\"/>\\r\\n\\t\\t\\t\\t            <a href=\"https://www.nasdaq.com/symbol/jobs\" class=\"marginR25px\">\\r\\n\\t\\t\\t\\t            JOBS Stock Quote</a>\\r\\n\\t\\t\\t\\t\\r\\n\\t\\t\\t\\t            <img src=\"https://www.nasdaq.com/images/bullish-icon.gif\" class=\"ValignM\" width=\"15\" height=\"15\"/>\\r\\n\\t\\t\\t\\t            <a href=\"https://community.nasdaq.com/community-ratings.aspx?stockticker=JOBS\" class=\"marginR25px\">\\r\\n\\t\\t\\t\\t            JOBS Ratings</a>\\t\\t\\t\\r\\n\\r\\n\\t\\t\\t\\t            <img src=\"https://www.nasdaq.com/images/stockReportIcon.png\" class=\"ValignM\" width=\"15\" height=\"15\"/>\\r\\n\\t\\t\\t\\t            <a href=\"https://www.nasdaq.com/symbol/jobs/stock-report\">\\r\\n\\t\\t\\t\\t            JOBS Stock Report</a>\\r\\n\\t\\t\\t            </td>\\r\\n\\t                </tr>\\r\\n               \\r\\n                    <tr>\\r\\n                        <td><a href=\"http://www.58.com\" rel=\"nofollow\"  target=\"_blank\">58.com Inc.</a></td>\\r\\n\\t\\t                <td>\\r\\n\\t\\t\\t\\t\\t            <h3>\\r\\n\\t\\t\\t\\t\\t\\t            <a href=\"https://www.nasdaq.com/symbol/wuba\">\\r\\n\\t\\t\\t\\t\\t\\t            WUBA</a>\\r\\n\\t\\t\\t\\t\\t            </h3>\\r\\n\\t\\t\\t            </td>\\r\\n\\t\\t\\t            <td style=\"\">$10.49B</td>\\r\\n                        <td style=\"display:none\"></td>\\r\\n\\t\\t\\t            <td >n/a</td>\\r\\n\\t\\t\\t            <td>2013</td>\\r\\n\\t\\t\\t            <td>Computer Software: Programming, Data Processing</td>\\r\\n\\t\\t            </tr>\\r\\n                    <tr>\\r\\n\\t\\t\\t            <td class=\"quick-links\" colspan=\"6\">\\r\\n\\t\\t\\t\\t            <img src=\"https://www.nasdaq.com/images/quotes_qw.gif\" class=\"ValignM\" width=\"15\" height=\"15\"/>\\r\\n\\t\\t\\t\\t            <a href=\"https://www.nasdaq.com/symbol/wuba\" class=\"marginR25px\">\\r\\n\\t\\t\\t\\t            WUBA Stock Quote</a>\\r\\n\\t\\t\\t\\t\\r\\n\\t\\t\\t\\t            <img src=\"https://www.nasdaq.com/images/bullish-icon.gif\" class=\"ValignM\" width=\"15\" height=\"15\"/>\\r\\n\\t\\t\\t\\t            <a href=\"https://community.nasdaq.com/community-ratings.aspx?stockticker=WUBA\" class=\"marginR25px\">\\r\\n\\t\\t\\t\\t            WUBA Ratings</a>\\t\\t\\t\\r\\n\\r\\n\\t\\t\\t\\t            <img src=\"https://www.nasdaq.com/images/stockReportIcon.png\" class=\"ValignM\" width=\"15\" height=\"15\"/>\\r\\n\\t\\t\\t\\t            <a href=\"https://www.nasdaq.com/symbol/wuba/stock-report\">\\r\\n\\t\\t\\t\\t            WUBA Stock Report</a>\\r\\n\\t\\t\\t            </td>\\r\\n\\t                </tr>\\r\\n               \\r\\n                    <tr>\\r\\n                        <td><a href=\"http://www.8x8.com\" rel=\"nofollow\"  target=\"_blank\">8x8 Inc</a></td>\\r\\n\\t\\t                <td>\\r\\n\\t\\t\\t\\t\\t            <h3>\\r\\n\\t\\t\\t\\t\\t\\t            <a href=\"https://www.nasdaq.com/symbol/eght\">\\r\\n\\t\\t\\t\\t\\t\\t            EGHT</a>\\r\\n\\t\\t\\t\\t\\t            </h3>\\r\\n\\t\\t\\t            </td>\\r\\n\\t\\t\\t            <td style=\"\">$1.87B</td>\\r\\n                        <td style=\"display:none\"></td>\\r\\n\\t\\t\\t            <td >United States</td>\\r\\n\\t\\t\\t            <td>n/a</td>\\r\\n\\t\\t\\t            <td>EDP Services</td>\\r\\n\\t\\t            </tr>\\r\\n                    <tr>\\r\\n\\t\\t\\t            <td class=\"quick-links\" colspan=\"6\">\\r\\n\\t\\t\\t\\t            <img src=\"https://www.nasdaq.com/images/quotes_qw.gif\" class=\"ValignM\" width=\"15\" height=\"15\"/>\\r\\n\\t\\t\\t\\t            <a href=\"https://www.nasdaq.com/symbol/eght\" class=\"marginR25px\">\\r\\n\\t\\t\\t\\t            EGHT Stock Quote</a>\\r\\n\\t\\t\\t\\t\\r\\n\\t\\t\\t\\t            <img src=\"https://www.nasdaq.com/images/bullish-icon.gif\" class=\"ValignM\" width=\"15\" height=\"15\"/>\\r\\n\\t\\t\\t\\t            <a href=\"https://community.nasdaq.com/community-ratings.aspx?stockticker=EGHT\" class=\"marginR25px\">\\r\\n\\t\\t\\t\\t            EGHT Ratings</a>\\t\\t\\t\\r\\n\\r\\n\\t\\t\\t\\t            <img src=\"https://www.nasdaq.com/images/stockReportIcon.png\" class=\"ValignM\" width=\"15\" height=\"15\"/>\\r\\n\\t\\t\\t\\t            <a href=\"https://www.nasdaq.com/symbol/eght/stock-report\">\\r\\n\\t\\t\\t\\t            EGHT Stock Report</a>\\r\\n\\t\\t\\t            </td>\\r\\n\\t                </tr>\\r\\n               \\r\\n                    <tr>\\r\\n                        <td><a href=\"http://www.ahbelo.com\" rel=\"nofollow\"  target=\"_blank\">A.H. Belo Corporation</a></td>\\r\\n\\t\\t                <td>\\r\\n\\t\\t\\t\\t\\t            <h3>\\r\\n\\t\\t\\t\\t\\t\\t            <a href=\"https://www.nasdaq.com/symbol/ahc\">\\r\\n\\t\\t\\t\\t\\t\\t            AHC</a>\\r\\n\\t\\t\\t\\t\\t            </h3>\\r\\n\\t\\t\\t            </td>\\r\\n\\t\\t\\t            <td style=\"\">$97.64M</td>\\r\\n                        <td style=\"display:none\"></td>\\r\\n\\t\\t\\t            <td >United States</td>\\r\\n\\t\\t\\t            <td>n/a</td>\\r\\n\\t\\t\\t            <td>Newspapers/Magazines</td>\\r\\n\\t\\t            </tr>\\r\\n                    <tr>\\r\\n\\t\\t\\t            <td class=\"quick-links\" colspan=\"6\">\\r\\n\\t\\t\\t\\t            <img src=\"https://www.nasdaq.com/images/quotes_qw.gif\" class=\"ValignM\" width=\"15\" height=\"15\"/>\\r\\n\\t\\t\\t\\t            <a href=\"https://www.nasdaq.com/symbol/ahc\" class=\"marginR25px\">\\r\\n\\t\\t\\t\\t            AHC Stock Quote</a>\\r\\n\\t\\t\\t\\t\\r\\n\\t\\t\\t\\t            <img src=\"https://www.nasdaq.com/images/bullish-icon.gif\" class=\"ValignM\" width=\"15\" height=\"15\"/>\\r\\n\\t\\t\\t\\t            <a href=\"https://community.nasdaq.com/community-ratings.aspx?stockticker=AHC\" class=\"marginR25px\">\\r\\n\\t\\t\\t\\t            AHC Ratings</a>\\t\\t\\t\\r\\n\\r\\n\\t\\t\\t\\t            <img src=\"https://www.nasdaq.com/images/stockReportIcon.png\" class=\"ValignM\" width=\"15\" height=\"15\"/>\\r\\n\\t\\t\\t\\t            <a href=\"https://www.nasdaq.com/symbol/ahc/stock-report\">\\r\\n\\t\\t\\t\\t            AHC Stock Report</a>\\r\\n\\t\\t\\t            </td>\\r\\n\\t                </tr>\\r\\n               \\r\\n                    <tr>\\r\\n                        <td><a href=\"http://www.a10networks.com\" rel=\"nofollow\"  target=\"_blank\">A10 Networks, Inc.</a></td>\\r\\n\\t\\t                <td>\\r\\n\\t\\t\\t\\t\\t            <h3>\\r\\n\\t\\t\\t\\t\\t\\t            <a href=\"https://www.nasdaq.com/symbol/aten\">\\r\\n\\t\\t\\t\\t\\t\\t            ATEN</a>\\r\\n\\t\\t\\t\\t\\t            </h3>\\r\\n\\t\\t\\t            </td>\\r\\n\\t\\t\\t            <td style=\"\">$445.7M</td>\\r\\n                        <td style=\"display:none\"></td>\\r\\n\\t\\t\\t            <td >n/a</td>\\r\\n\\t\\t\\t            <td>2014</td>\\r\\n\\t\\t\\t            <td>Computer Communications Equipment</td>\\r\\n\\t\\t            </tr>\\r\\n                    <tr>\\r\\n\\t\\t\\t            <td class=\"quick-links\" colspan=\"6\">\\r\\n\\t\\t\\t\\t            <img src=\"https://www.nasdaq.com/images/quotes_qw.gif\" class=\"ValignM\" width=\"15\" height=\"15\"/>\\r\\n\\t\\t\\t\\t            <a href=\"https://www.nasdaq.com/symbol/aten\" class=\"marginR25px\">\\r\\n\\t\\t\\t\\t            ATEN Stock Quote</a>\\r\\n\\t\\t\\t\\t\\r\\n\\t\\t\\t\\t            <img src=\"https://www.nasdaq.com/images/bullish-icon.gif\" class=\"ValignM\" width=\"15\" height=\"15\"/>\\r\\n\\t\\t\\t\\t            <a href=\"https://community.nasdaq.com/community-ratings.aspx?stockticker=ATEN\" class=\"marginR25px\">\\r\\n\\t\\t\\t\\t            ATEN Ratings</a>\\t\\t\\t\\r\\n\\r\\n\\t\\t\\t\\t            <img src=\"https://www.nasdaq.com/images/stockReportIcon.png\" class=\"ValignM\" width=\"15\" height=\"15\"/>\\r\\n\\t\\t\\t\\t            <a href=\"https://www.nasdaq.com/symbol/aten/stock-report\">\\r\\n\\t\\t\\t\\t            ATEN Stock Report</a>\\r\\n\\t\\t\\t            </td>\\r\\n\\t                </tr>\\r\\n               \\r\\n                    <tr>\\r\\n                        <td><a href=\"http://www.americanaddictioncenters.org\" rel=\"nofollow\"  target=\"_blank\">AAC Holdings, Inc.</a></td>\\r\\n\\t\\t                <td>\\r\\n\\t\\t\\t\\t\\t            <h3>\\r\\n\\t\\t\\t\\t\\t\\t            <a href=\"https://www.nasdaq.com/symbol/aac\">\\r\\n\\t\\t\\t\\t\\t\\t            AAC</a>\\r\\n\\t\\t\\t\\t\\t            </h3>\\r\\n\\t\\t\\t            </td>\\r\\n\\t\\t\\t            <td style=\"\">$169.72M</td>\\r\\n                        <td style=\"display:none\"></td>\\r\\n\\t\\t\\t            <td >United States</td>\\r\\n\\t\\t\\t            <td>2014</td>\\r\\n\\t\\t\\t            <td>Medical Specialities</td>\\r\\n\\t\\t            </tr>\\r\\n                    <tr>\\r\\n\\t\\t\\t            <td class=\"quick-links\" colspan=\"6\">\\r\\n\\t\\t\\t\\t            <img src=\"https://www.nasdaq.com/images/quotes_qw.gif\" class=\"ValignM\" width=\"15\" height=\"15\"/>\\r\\n\\t\\t\\t\\t            <a href=\"https://www.nasdaq.com/symbol/aac\" class=\"marginR25px\">\\r\\n\\t\\t\\t\\t            AAC Stock Quote</a>\\r\\n\\t\\t\\t\\t\\r\\n\\t\\t\\t\\t            <img src=\"https://www.nasdaq.com/images/bullish-icon.gif\" class=\"ValignM\" width=\"15\" height=\"15\"/>\\r\\n\\t\\t\\t\\t            <a href=\"https://community.nasdaq.com/community-ratings.aspx?stockticker=AAC\" class=\"marginR25px\">\\r\\n\\t\\t\\t\\t            AAC Ratings</a>\\t\\t\\t\\r\\n\\r\\n\\t\\t\\t\\t            <img src=\"https://www.nasdaq.com/images/stockReportIcon.png\" class=\"ValignM\" width=\"15\" height=\"15\"/>\\r\\n\\t\\t\\t\\t            <a href=\"https://www.nasdaq.com/symbol/aac/stock-report\">\\r\\n\\t\\t\\t\\t            AAC Stock Report</a>\\r\\n\\t\\t\\t            </td>\\r\\n\\t                </tr>\\r\\n               \\r\\n                    <tr>\\r\\n                        <td><a href=\"http://www.aaon.com\" rel=\"nofollow\"  target=\"_blank\">AAON, Inc.</a></td>\\r\\n\\t\\t                <td>\\r\\n\\t\\t\\t\\t\\t            <h3>\\r\\n\\t\\t\\t\\t\\t\\t            <a href=\"https://www.nasdaq.com/symbol/aaon\">\\r\\n\\t\\t\\t\\t\\t\\t            AAON</a>\\r\\n\\t\\t\\t\\t\\t            </h3>\\r\\n\\t\\t\\t            </td>\\r\\n\\t\\t\\t            <td style=\"\">$1.85B</td>\\r\\n                        <td style=\"display:none\"></td>\\r\\n\\t\\t\\t            <td >United States</td>\\r\\n\\t\\t\\t            <td>n/a</td>\\r\\n\\t\\t\\t            <td>Industrial Machinery/Components</td>\\r\\n\\t\\t            </tr>\\r\\n                    <tr>\\r\\n\\t\\t\\t            <td class=\"quick-links\" colspan=\"6\">\\r\\n\\t\\t\\t\\t            <img src=\"https://www.nasdaq.com/images/quotes_qw.gif\" class=\"ValignM\" width=\"15\" height=\"15\"/>\\r\\n\\t\\t\\t\\t            <a href=\"https://www.nasdaq.com/symbol/aaon\" class=\"marginR25px\">\\r\\n\\t\\t\\t\\t            AAON Stock Quote</a>\\r\\n\\t\\t\\t\\t\\r\\n\\t\\t\\t\\t            <img src=\"https://www.nasdaq.com/images/bullish-icon.gif\" class=\"ValignM\" width=\"15\" height=\"15\"/>\\r\\n\\t\\t\\t\\t            <a href=\"https://community.nasdaq.com/community-ratings.aspx?stockticker=AAON\" class=\"marginR25px\">\\r\\n\\t\\t\\t\\t            AAON Ratings</a>\\t\\t\\t\\r\\n\\r\\n\\t\\t\\t\\t            <img src=\"https://www.nasdaq.com/images/stockReportIcon.png\" class=\"ValignM\" width=\"15\" height=\"15\"/>\\r\\n\\t\\t\\t\\t            <a href=\"https://www.nasdaq.com/symbol/aaon/stock-report\">\\r\\n\\t\\t\\t\\t            AAON Stock Report</a>\\r\\n\\t\\t\\t            </td>\\r\\n\\t                </tr>\\r\\n               \\r\\n                    <tr>\\r\\n                        <td><a href=\"http://www.aarcorp.com\" rel=\"nofollow\"  target=\"_blank\">AAR Corp.</a></td>\\r\\n\\t\\t                <td>\\r\\n\\t\\t\\t\\t\\t            <h3>\\r\\n\\t\\t\\t\\t\\t\\t            <a href=\"https://www.nasdaq.com/symbol/air\">\\r\\n\\t\\t\\t\\t\\t\\t            AIR</a>\\r\\n\\t\\t\\t\\t\\t            </h3>\\r\\n\\t\\t\\t            </td>\\r\\n\\t\\t\\t            <td style=\"\">$1.59B</td>\\r\\n                        <td style=\"display:none\"></td>\\r\\n\\t\\t\\t            <td >United States</td>\\r\\n\\t\\t\\t            <td>n/a</td>\\r\\n\\t\\t\\t            <td>Aerospace</td>\\r\\n\\t\\t            </tr>\\r\\n                    <tr>\\r\\n\\t\\t\\t            <td class=\"quick-links\" colspan=\"6\">\\r\\n\\t\\t\\t\\t            <img src=\"https://www.nasdaq.com/images/quotes_qw.gif\" class=\"ValignM\" width=\"15\" height=\"15\"/>\\r\\n\\t\\t\\t\\t            <a href=\"https://www.nasdaq.com/symbol/air\" class=\"marginR25px\">\\r\\n\\t\\t\\t\\t            AIR Stock Quote</a>\\r\\n\\t\\t\\t\\t\\r\\n\\t\\t\\t\\t            <img src=\"https://www.nasdaq.com/images/bullish-icon.gif\" class=\"ValignM\" width=\"15\" height=\"15\"/>\\r\\n\\t\\t\\t\\t            <a href=\"https://community.nasdaq.com/community-ratings.aspx?stockticker=AIR\" class=\"marginR25px\">\\r\\n\\t\\t\\t\\t            AIR Ratings</a>\\t\\t\\t\\r\\n\\r\\n\\t\\t\\t\\t            <img src=\"https://www.nasdaq.com/images/stockReportIcon.png\" class=\"ValignM\" width=\"15\" height=\"15\"/>\\r\\n\\t\\t\\t\\t            <a href=\"https://www.nasdaq.com/symbol/air/stock-report\">\\r\\n\\t\\t\\t\\t            AIR Stock Report</a>\\r\\n\\t\\t\\t            </td>\\r\\n\\t                </tr>\\r\\n               \\r\\n                    <tr>\\r\\n                        <td><a href=\"http://www.aarons.com\" rel=\"nofollow\"  target=\"_blank\">Aaron\\'s,  Inc.</a></td>\\r\\n\\t\\t                <td>\\r\\n\\t\\t\\t\\t\\t            <h3>\\r\\n\\t\\t\\t\\t\\t\\t            <a href=\"https://www.nasdaq.com/symbol/aan\">\\r\\n\\t\\t\\t\\t\\t\\t            AAN</a>\\r\\n\\t\\t\\t\\t\\t            </h3>\\r\\n\\t\\t\\t            </td>\\r\\n\\t\\t\\t            <td style=\"\">$3.9B</td>\\r\\n                        <td style=\"display:none\"></td>\\r\\n\\t\\t\\t            <td >United States</td>\\r\\n\\t\\t\\t            <td>n/a</td>\\r\\n\\t\\t\\t            <td>Diversified Commercial Services</td>\\r\\n\\t\\t            </tr>\\r\\n                    <tr>\\r\\n\\t\\t\\t            <td class=\"quick-links\" colspan=\"6\">\\r\\n\\t\\t\\t\\t            <img src=\"https://www.nasdaq.com/images/quotes_qw.gif\" class=\"ValignM\" width=\"15\" height=\"15\"/>\\r\\n\\t\\t\\t\\t            <a href=\"https://www.nasdaq.com/symbol/aan\" class=\"marginR25px\">\\r\\n\\t\\t\\t\\t            AAN Stock Quote</a>\\r\\n\\t\\t\\t\\t\\r\\n\\t\\t\\t\\t            <img src=\"https://www.nasdaq.com/images/bullish-icon.gif\" class=\"ValignM\" width=\"15\" height=\"15\"/>\\r\\n\\t\\t\\t\\t            <a href=\"https://community.nasdaq.com/community-ratings.aspx?stockticker=AAN\" class=\"marginR25px\">\\r\\n\\t\\t\\t\\t            AAN Ratings</a>\\t\\t\\t\\r\\n\\r\\n\\t\\t\\t\\t            <img src=\"https://www.nasdaq.com/images/stockReportIcon.png\" class=\"ValignM\" width=\"15\" height=\"15\"/>\\r\\n\\t\\t\\t\\t            <a href=\"https://www.nasdaq.com/symbol/aan/stock-report\">\\r\\n\\t\\t\\t\\t            AAN Stock Report</a>\\r\\n\\t\\t\\t            </td>\\r\\n\\t                </tr>\\r\\n               \\r\\n                    <tr>\\r\\n                        <td><a href=\"http://www.abb.com\" rel=\"nofollow\"  target=\"_blank\">ABB Ltd</a></td>\\r\\n\\t\\t                <td>\\r\\n\\t\\t\\t\\t\\t            <h3>\\r\\n\\t\\t\\t\\t\\t\\t            <a href=\"https://www.nasdaq.com/symbol/abb\">\\r\\n\\t\\t\\t\\t\\t\\t            ABB</a>\\r\\n\\t\\t\\t\\t\\t            </h3>\\r\\n\\t\\t\\t            </td>\\r\\n\\t\\t\\t            <td style=\"\">$49.41B</td>\\r\\n                        <td style=\"display:none\"></td>\\r\\n\\t\\t\\t            <td >Switzerland</td>\\r\\n\\t\\t\\t            <td>n/a</td>\\r\\n\\t\\t\\t            <td>Electrical Products</td>\\r\\n\\t\\t            </tr>\\r\\n                    <tr>\\r\\n\\t\\t\\t            <td class=\"quick-links\" colspan=\"6\">\\r\\n\\t\\t\\t\\t            <img src=\"https://www.nasdaq.com/images/quotes_qw.gif\" class=\"ValignM\" width=\"15\" height=\"15\"/>\\r\\n\\t\\t\\t\\t            <a href=\"https://www.nasdaq.com/symbol/abb\" class=\"marginR25px\">\\r\\n\\t\\t\\t\\t            ABB Stock Quote</a>\\r\\n\\t\\t\\t\\t\\r\\n\\t\\t\\t\\t            <img src=\"https://www.nasdaq.com/images/bullish-icon.gif\" class=\"ValignM\" width=\"15\" height=\"15\"/>\\r\\n\\t\\t\\t\\t            <a href=\"https://community.nasdaq.com/community-ratings.aspx?stockticker=ABB\" class=\"marginR25px\">\\r\\n\\t\\t\\t\\t            ABB Ratings</a>\\t\\t\\t\\r\\n\\r\\n\\t\\t\\t\\t            <img src=\"https://www.nasdaq.com/images/stockReportIcon.png\" class=\"ValignM\" width=\"15\" height=\"15\"/>\\r\\n\\t\\t\\t\\t            <a href=\"https://www.nasdaq.com/symbol/abb/stock-report\">\\r\\n\\t\\t\\t\\t            ABB Stock Report</a>\\r\\n\\t\\t\\t            </td>\\r\\n\\t                </tr>\\r\\n               \\r\\n                    <tr>\\r\\n                        <td><a href=\"http://www.abbott.com\" rel=\"nofollow\"  target=\"_blank\">Abbott Laboratories</a></td>\\r\\n\\t\\t                <td>\\r\\n\\t\\t\\t\\t\\t            <h3>\\r\\n\\t\\t\\t\\t\\t\\t            <a href=\"https://www.nasdaq.com/symbol/abt\">\\r\\n\\t\\t\\t\\t\\t\\t            ABT</a>\\r\\n\\t\\t\\t\\t\\t            </h3>\\r\\n\\t\\t\\t            </td>\\r\\n\\t\\t\\t            <td style=\"\">$129.49B</td>\\r\\n                        <td style=\"display:none\"></td>\\r\\n\\t\\t\\t            <td >United States</td>\\r\\n\\t\\t\\t            <td>n/a</td>\\r\\n\\t\\t\\t            <td>Major Pharmaceuticals</td>\\r\\n\\t\\t            </tr>\\r\\n                    <tr>\\r\\n\\t\\t\\t            <td class=\"quick-links\" colspan=\"6\">\\r\\n\\t\\t\\t\\t            <img src=\"https://www.nasdaq.com/images/quotes_qw.gif\" class=\"ValignM\" width=\"15\" height=\"15\"/>\\r\\n\\t\\t\\t\\t            <a href=\"https://www.nasdaq.com/symbol/abt\" class=\"marginR25px\">\\r\\n\\t\\t\\t\\t            ABT Stock Quote</a>\\r\\n\\t\\t\\t\\t\\r\\n\\t\\t\\t\\t            <img src=\"https://www.nasdaq.com/images/bullish-icon.gif\" class=\"ValignM\" width=\"15\" height=\"15\"/>\\r\\n\\t\\t\\t\\t            <a href=\"https://community.nasdaq.com/community-ratings.aspx?stockticker=ABT\" class=\"marginR25px\">\\r\\n\\t\\t\\t\\t            ABT Ratings</a>\\t\\t\\t\\r\\n\\r\\n\\t\\t\\t\\t            <img src=\"https://www.nasdaq.com/images/stockReportIcon.png\" class=\"ValignM\" width=\"15\" height=\"15\"/>\\r\\n\\t\\t\\t\\t            <a href=\"https://www.nasdaq.com/symbol/abt/stock-report\">\\r\\n\\t\\t\\t\\t            ABT Stock Report</a>\\r\\n\\t\\t\\t            </td>\\r\\n\\t                </tr>\\r\\n               \\r\\n                    <tr>\\r\\n                        <td><a href=\"http://www.abbvie.com\" rel=\"nofollow\"  target=\"_blank\">AbbVie Inc.</a></td>\\r\\n\\t\\t                <td>\\r\\n\\t\\t\\t\\t\\t            <h3>\\r\\n\\t\\t\\t\\t\\t\\t            <a href=\"https://www.nasdaq.com/symbol/abbv\">\\r\\n\\t\\t\\t\\t\\t\\t            ABBV</a>\\r\\n\\t\\t\\t\\t\\t            </h3>\\r\\n\\t\\t\\t            </td>\\r\\n\\t\\t\\t            <td style=\"\">$142.69B</td>\\r\\n                        <td style=\"display:none\"></td>\\r\\n\\t\\t\\t            <td >United States</td>\\r\\n\\t\\t\\t            <td>2012</td>\\r\\n\\t\\t\\t            <td>Major Pharmaceuticals</td>\\r\\n\\t\\t            </tr>\\r\\n                    <tr>\\r\\n\\t\\t\\t            <td class=\"quick-links\" colspan=\"6\">\\r\\n\\t\\t\\t\\t            <img src=\"https://www.nasdaq.com/images/quotes_qw.gif\" class=\"ValignM\" width=\"15\" height=\"15\"/>\\r\\n\\t\\t\\t\\t            <a href=\"https://www.nasdaq.com/symbol/abbv\" class=\"marginR25px\">\\r\\n\\t\\t\\t\\t            ABBV Stock Quote</a>\\r\\n\\t\\t\\t\\t\\r\\n\\t\\t\\t\\t            <img src=\"https://www.nasdaq.com/images/bullish-icon.gif\" class=\"ValignM\" width=\"15\" height=\"15\"/>\\r\\n\\t\\t\\t\\t            <a href=\"https://community.nasdaq.com/community-ratings.aspx?stockticker=ABBV\" class=\"marginR25px\">\\r\\n\\t\\t\\t\\t            ABBV Ratings</a>\\t\\t\\t\\r\\n\\r\\n\\t\\t\\t\\t            <img src=\"https://www.nasdaq.com/images/stockReportIcon.png\" class=\"ValignM\" width=\"15\" height=\"15\"/>\\r\\n\\t\\t\\t\\t            <a href=\"https://www.nasdaq.com/symbol/abbv/stock-report\">\\r\\n\\t\\t\\t\\t            ABBV Stock Report</a>\\r\\n\\t\\t\\t            </td>\\r\\n\\t                </tr>\\r\\n               \\r\\n                    <tr>\\r\\n                        <td><a href=\"http://www.abeonatherapeutics.com\" rel=\"nofollow\"  target=\"_blank\">Abeona Therapeutics Inc.</a></td>\\r\\n\\t\\t                <td>\\r\\n\\t\\t\\t\\t\\t            <h3>\\r\\n\\t\\t\\t\\t\\t\\t            <a href=\"https://www.nasdaq.com/symbol/abeo\">\\r\\n\\t\\t\\t\\t\\t\\t            ABEO</a>\\r\\n\\t\\t\\t\\t\\t            </h3>\\r\\n\\t\\t\\t            </td>\\r\\n\\t\\t\\t            <td style=\"\">$559.02M</td>\\r\\n                        <td style=\"display:none\"></td>\\r\\n\\t\\t\\t            <td >United States</td>\\r\\n\\t\\t\\t            <td>n/a</td>\\r\\n\\t\\t\\t            <td>Major Pharmaceuticals</td>\\r\\n\\t\\t            </tr>\\r\\n                    <tr>\\r\\n\\t\\t\\t            <td class=\"quick-links\" colspan=\"6\">\\r\\n\\t\\t\\t\\t            <img src=\"https://www.nasdaq.com/images/quotes_qw.gif\" class=\"ValignM\" width=\"15\" height=\"15\"/>\\r\\n\\t\\t\\t\\t            <a href=\"https://www.nasdaq.com/symbol/abeo\" class=\"marginR25px\">\\r\\n\\t\\t\\t\\t            ABEO Stock Quote</a>\\r\\n\\t\\t\\t\\t\\r\\n\\t\\t\\t\\t            <img src=\"https://www.nasdaq.com/images/bullish-icon.gif\" class=\"ValignM\" width=\"15\" height=\"15\"/>\\r\\n\\t\\t\\t\\t            <a href=\"https://community.nasdaq.com/community-ratings.aspx?stockticker=ABEO\" class=\"marginR25px\">\\r\\n\\t\\t\\t\\t            ABEO Ratings</a>\\t\\t\\t\\r\\n\\r\\n\\t\\t\\t\\t            <img src=\"https://www.nasdaq.com/images/stockReportIcon.png\" class=\"ValignM\" width=\"15\" height=\"15\"/>\\r\\n\\t\\t\\t\\t            <a href=\"https://www.nasdaq.com/symbol/abeo/stock-report\">\\r\\n\\t\\t\\t\\t            ABEO Stock Report</a>\\r\\n\\t\\t\\t            </td>\\r\\n\\t                </tr>\\r\\n               \\r\\n                    <tr>\\r\\n                        <td><a href=\"http://www.abeonatherapeutics.com\" rel=\"nofollow\"  target=\"_blank\">Abeona Therapeutics Inc.</a></td>\\r\\n\\t\\t                <td>\\r\\n\\t\\t\\t\\t\\t            <h3>\\r\\n\\t\\t\\t\\t\\t\\t            <a href=\"https://www.nasdaq.com/symbol/abeow\">\\r\\n\\t\\t\\t\\t\\t\\t            ABEOW</a>\\r\\n\\t\\t\\t\\t\\t            </h3>\\r\\n\\t\\t\\t            </td>\\r\\n\\t\\t\\t            <td style=\"\">n/a</td>\\r\\n                        <td style=\"display:none\"></td>\\r\\n\\t\\t\\t            <td >United States</td>\\r\\n\\t\\t\\t            <td>n/a</td>\\r\\n\\t\\t\\t            <td>Major Pharmaceuticals</td>\\r\\n\\t\\t            </tr>\\r\\n                    <tr>\\r\\n\\t\\t\\t            <td class=\"quick-links\" colspan=\"6\">\\r\\n\\t\\t\\t\\t            <img src=\"https://www.nasdaq.com/images/quotes_qw.gif\" class=\"ValignM\" width=\"15\" height=\"15\"/>\\r\\n\\t\\t\\t\\t            <a href=\"https://www.nasdaq.com/symbol/abeow\" class=\"marginR25px\">\\r\\n\\t\\t\\t\\t            ABEOW Stock Quote</a>\\r\\n\\t\\t\\t\\t\\r\\n\\t\\t\\t\\t            <img src=\"https://www.nasdaq.com/images/bullish-icon.gif\" class=\"ValignM\" width=\"15\" height=\"15\"/>\\r\\n\\t\\t\\t\\t            <a href=\"https://community.nasdaq.com/community-ratings.aspx?stockticker=ABEOW\" class=\"marginR25px\">\\r\\n\\t\\t\\t\\t            ABEOW Ratings</a>\\t\\t\\t\\r\\n\\r\\n\\t\\t\\t\\t            <img src=\"https://www.nasdaq.com/images/stockReportIcon.png\" class=\"ValignM\" width=\"15\" height=\"15\"/>\\r\\n\\t\\t\\t\\t            <a href=\"https://www.nasdaq.com/symbol/abeow/stock-report\">\\r\\n\\t\\t\\t\\t            ABEOW Stock Report</a>\\r\\n\\t\\t\\t            </td>\\r\\n\\t                </tr>\\r\\n               \\r\\n                    <tr>\\r\\n                        <td><a href=\"http://www.abercrombie.com\" rel=\"nofollow\"  target=\"_blank\">Abercrombie &amp; Fitch Company</a></td>\\r\\n\\t\\t                <td>\\r\\n\\t\\t\\t\\t\\t            <h3>\\r\\n\\t\\t\\t\\t\\t\\t            <a href=\"https://www.nasdaq.com/symbol/anf\">\\r\\n\\t\\t\\t\\t\\t\\t            ANF</a>\\r\\n\\t\\t\\t\\t\\t            </h3>\\r\\n\\t\\t\\t            </td>\\r\\n\\t\\t\\t            <td style=\"\">$1.33B</td>\\r\\n                        <td style=\"display:none\"></td>\\r\\n\\t\\t\\t            <td >United States</td>\\r\\n\\t\\t\\t            <td>n/a</td>\\r\\n\\t\\t\\t            <td>Clothing/Shoe/Accessory Stores</td>\\r\\n\\t\\t            </tr>\\r\\n                    <tr>\\r\\n\\t\\t\\t            <td class=\"quick-links\" colspan=\"6\">\\r\\n\\t\\t\\t\\t            <img src=\"https://www.nasdaq.com/images/quotes_qw.gif\" class=\"ValignM\" width=\"15\" height=\"15\"/>\\r\\n\\t\\t\\t\\t            <a href=\"https://www.nasdaq.com/symbol/anf\" class=\"marginR25px\">\\r\\n\\t\\t\\t\\t            ANF Stock Quote</a>\\r\\n\\t\\t\\t\\t\\r\\n\\t\\t\\t\\t            <img src=\"https://www.nasdaq.com/images/bullish-icon.gif\" class=\"ValignM\" width=\"15\" height=\"15\"/>\\r\\n\\t\\t\\t\\t            <a href=\"https://community.nasdaq.com/community-ratings.aspx?stockticker=ANF\" class=\"marginR25px\">\\r\\n\\t\\t\\t\\t            ANF Ratings</a>\\t\\t\\t\\r\\n\\r\\n\\t\\t\\t\\t            <img src=\"https://www.nasdaq.com/images/stockReportIcon.png\" class=\"ValignM\" width=\"15\" height=\"15\"/>\\r\\n\\t\\t\\t\\t            <a href=\"https://www.nasdaq.com/symbol/anf/stock-report\">\\r\\n\\t\\t\\t\\t            ANF Stock Report</a>\\r\\n\\t\\t\\t            </td>\\r\\n\\t                </tr>\\r\\n               \\r\\n                    <tr>\\r\\n                        <td><a href=\"http://www.aberdeenfax.com\" rel=\"nofollow\"  target=\"_blank\">Aberdeen Asia-Pacific Income Fund Inc</a></td>\\r\\n\\t\\t                <td>\\r\\n\\t\\t\\t\\t\\t            <h3>\\r\\n\\t\\t\\t\\t\\t\\t            <a href=\"https://www.nasdaq.com/symbol/fax\">\\r\\n\\t\\t\\t\\t\\t\\t            FAX</a>\\r\\n\\t\\t\\t\\t\\t            </h3>\\r\\n\\t\\t\\t            </td>\\r\\n\\t\\t\\t            <td style=\"\">$1.06B</td>\\r\\n                        <td style=\"display:none\"></td>\\r\\n\\t\\t\\t            <td >United States</td>\\r\\n\\t\\t\\t            <td>1986</td>\\r\\n\\t\\t\\t            <td>n/a</td>\\r\\n\\t\\t            </tr>\\r\\n                    <tr>\\r\\n\\t\\t\\t            <td class=\"quick-links\" colspan=\"6\">\\r\\n\\t\\t\\t\\t            <img src=\"https://www.nasdaq.com/images/quotes_qw.gif\" class=\"ValignM\" width=\"15\" height=\"15\"/>\\r\\n\\t\\t\\t\\t            <a href=\"https://www.nasdaq.com/symbol/fax\" class=\"marginR25px\">\\r\\n\\t\\t\\t\\t            FAX Stock Quote</a>\\r\\n\\t\\t\\t\\t\\r\\n\\t\\t\\t\\t            <img src=\"https://www.nasdaq.com/images/bullish-icon.gif\" class=\"ValignM\" width=\"15\" height=\"15\"/>\\r\\n\\t\\t\\t\\t            <a href=\"https://community.nasdaq.com/community-ratings.aspx?stockticker=FAX\" class=\"marginR25px\">\\r\\n\\t\\t\\t\\t            FAX Ratings</a>\\t\\t\\t\\r\\n\\r\\n\\t\\t\\t\\t            <img src=\"https://www.nasdaq.com/images/stockReportIcon.png\" class=\"ValignM\" width=\"15\" height=\"15\"/>\\r\\n\\t\\t\\t\\t            <a href=\"https://www.nasdaq.com/symbol/fax/stock-report\">\\r\\n\\t\\t\\t\\t            FAX Stock Report</a>\\r\\n\\t\\t\\t            </td>\\r\\n\\t                </tr>\\r\\n               \\r\\n                    <tr>\\r\\n                        <td><a href=\"https://www.aberdeen-asset.com\" rel=\"nofollow\"  target=\"_blank\">Aberdeen Australia Equity Fund Inc</a></td>\\r\\n\\t\\t                <td>\\r\\n\\t\\t\\t\\t\\t            <h3>\\r\\n\\t\\t\\t\\t\\t\\t            <a href=\"https://www.nasdaq.com/symbol/iaf\">\\r\\n\\t\\t\\t\\t\\t\\t            IAF</a>\\r\\n\\t\\t\\t\\t\\t            </h3>\\r\\n\\t\\t\\t            </td>\\r\\n\\t\\t\\t            <td style=\"\">$133.95M</td>\\r\\n                        <td style=\"display:none\"></td>\\r\\n\\t\\t\\t            <td >United States</td>\\r\\n\\t\\t\\t            <td>n/a</td>\\r\\n\\t\\t\\t            <td>n/a</td>\\r\\n\\t\\t            </tr>\\r\\n                    <tr>\\r\\n\\t\\t\\t            <td class=\"quick-links\" colspan=\"6\">\\r\\n\\t\\t\\t\\t            <img src=\"https://www.nasdaq.com/images/quotes_qw.gif\" class=\"ValignM\" width=\"15\" height=\"15\"/>\\r\\n\\t\\t\\t\\t            <a href=\"https://www.nasdaq.com/symbol/iaf\" class=\"marginR25px\">\\r\\n\\t\\t\\t\\t            IAF Stock Quote</a>\\r\\n\\t\\t\\t\\t\\r\\n\\t\\t\\t\\t            <img src=\"https://www.nasdaq.com/images/bullish-icon.gif\" class=\"ValignM\" width=\"15\" height=\"15\"/>\\r\\n\\t\\t\\t\\t            <a href=\"https://community.nasdaq.com/community-ratings.aspx?stockticker=IAF\" class=\"marginR25px\">\\r\\n\\t\\t\\t\\t            IAF Ratings</a>\\t\\t\\t\\r\\n\\r\\n\\t\\t\\t\\t            <img src=\"https://www.nasdaq.com/images/stockReportIcon.png\" class=\"ValignM\" width=\"15\" height=\"15\"/>\\r\\n\\t\\t\\t\\t            <a href=\"https://www.nasdaq.com/symbol/iaf/stock-report\">\\r\\n\\t\\t\\t\\t            IAF Stock Report</a>\\r\\n\\t\\t\\t            </td>\\r\\n\\t                </tr>\\r\\n               \\r\\n                    <tr>\\r\\n                        <td><a href=\"http://www.aberdeench.com\" rel=\"nofollow\"  target=\"_blank\">Aberdeen Emerging Markets Equity Income Fund, Inc.</a></td>\\r\\n\\t\\t                <td>\\r\\n\\t\\t\\t\\t\\t            <h3>\\r\\n\\t\\t\\t\\t\\t\\t            <a href=\"https://www.nasdaq.com/symbol/aef\">\\r\\n\\t\\t\\t\\t\\t\\t            AEF</a>\\r\\n\\t\\t\\t\\t\\t            </h3>\\r\\n\\t\\t\\t            </td>\\r\\n\\t\\t\\t            <td style=\"\">$410.18M</td>\\r\\n                        <td style=\"display:none\"></td>\\r\\n\\t\\t\\t            <td >United States</td>\\r\\n\\t\\t\\t            <td>n/a</td>\\r\\n\\t\\t\\t            <td>n/a</td>\\r\\n\\t\\t            </tr>\\r\\n                    <tr>\\r\\n\\t\\t\\t            <td class=\"quick-links\" colspan=\"6\">\\r\\n\\t\\t\\t\\t            <img src=\"https://www.nasdaq.com/images/quotes_qw.gif\" class=\"ValignM\" width=\"15\" height=\"15\"/>\\r\\n\\t\\t\\t\\t            <a href=\"https://www.nasdaq.com/symbol/aef\" class=\"marginR25px\">\\r\\n\\t\\t\\t\\t            AEF Stock Quote</a>\\r\\n\\t\\t\\t\\t\\r\\n\\t\\t\\t\\t            <img src=\"https://www.nasdaq.com/images/bullish-icon.gif\" class=\"ValignM\" width=\"15\" height=\"15\"/>\\r\\n\\t\\t\\t\\t            <a href=\"https://community.nasdaq.com/community-ratings.aspx?stockticker=AEF\" class=\"marginR25px\">\\r\\n\\t\\t\\t\\t            AEF Ratings</a>\\t\\t\\t\\r\\n\\r\\n\\t\\t\\t\\t            <img src=\"https://www.nasdaq.com/images/stockReportIcon.png\" class=\"ValignM\" width=\"15\" height=\"15\"/>\\r\\n\\t\\t\\t\\t            <a href=\"https://www.nasdaq.com/symbol/aef/stock-report\">\\r\\n\\t\\t\\t\\t            AEF Stock Report</a>\\r\\n\\t\\t\\t            </td>\\r\\n\\t                </tr>\\r\\n               \\r\\n                    <tr>\\r\\n                        <td><a href=\"http://www.alpinefunds.com\" rel=\"nofollow\"  target=\"_blank\">Aberdeen Global Dynamic Dividend Fund</a></td>\\r\\n\\t\\t                <td>\\r\\n\\t\\t\\t\\t\\t            <h3>\\r\\n\\t\\t\\t\\t\\t\\t            <a href=\"https://www.nasdaq.com/symbol/agd\">\\r\\n\\t\\t\\t\\t\\t\\t            AGD</a>\\r\\n\\t\\t\\t\\t\\t            </h3>\\r\\n\\t\\t\\t            </td>\\r\\n\\t\\t\\t            <td style=\"\">$128.26M</td>\\r\\n                        <td style=\"display:none\"></td>\\r\\n\\t\\t\\t            <td >United States</td>\\r\\n\\t\\t\\t            <td>2006</td>\\r\\n\\t\\t\\t            <td>n/a</td>\\r\\n\\t\\t            </tr>\\r\\n                    <tr>\\r\\n\\t\\t\\t            <td class=\"quick-links\" colspan=\"6\">\\r\\n\\t\\t\\t\\t            <img src=\"https://www.nasdaq.com/images/quotes_qw.gif\" class=\"ValignM\" width=\"15\" height=\"15\"/>\\r\\n\\t\\t\\t\\t            <a href=\"https://www.nasdaq.com/symbol/agd\" class=\"marginR25px\">\\r\\n\\t\\t\\t\\t            AGD Stock Quote</a>\\r\\n\\t\\t\\t\\t\\r\\n\\t\\t\\t\\t            <img src=\"https://www.nasdaq.com/images/bullish-icon.gif\" class=\"ValignM\" width=\"15\" height=\"15\"/>\\r\\n\\t\\t\\t\\t            <a href=\"https://community.nasdaq.com/community-ratings.aspx?stockticker=AGD\" class=\"marginR25px\">\\r\\n\\t\\t\\t\\t            AGD Ratings</a>\\t\\t\\t\\r\\n\\r\\n\\t\\t\\t\\t            <img src=\"https://www.nasdaq.com/images/stockReportIcon.png\" class=\"ValignM\" width=\"15\" height=\"15\"/>\\r\\n\\t\\t\\t\\t            <a href=\"https://www.nasdaq.com/symbol/agd/stock-report\">\\r\\n\\t\\t\\t\\t            AGD Stock Report</a>\\r\\n\\t\\t\\t            </td>\\r\\n\\t                </tr>\\r\\n               \\r\\n                    <tr>\\r\\n                        <td><a href=\"http://www.aberdeenfco.com\" rel=\"nofollow\"  target=\"_blank\">Aberdeen Global Income Fund, Inc.</a></td>\\r\\n\\t\\t                <td>\\r\\n\\t\\t\\t\\t\\t            <h3>\\r\\n\\t\\t\\t\\t\\t\\t            <a href=\"https://www.nasdaq.com/symbol/fco\">\\r\\n\\t\\t\\t\\t\\t\\t            FCO</a>\\r\\n\\t\\t\\t\\t\\t            </h3>\\r\\n\\t\\t\\t            </td>\\r\\n\\t\\t\\t            <td style=\"\">$72.76M</td>\\r\\n                        <td style=\"display:none\"></td>\\r\\n\\t\\t\\t            <td >United States</td>\\r\\n\\t\\t\\t            <td>1992</td>\\r\\n\\t\\t\\t            <td>n/a</td>\\r\\n\\t\\t            </tr>\\r\\n                    <tr>\\r\\n\\t\\t\\t            <td class=\"quick-links\" colspan=\"6\">\\r\\n\\t\\t\\t\\t            <img src=\"https://www.nasdaq.com/images/quotes_qw.gif\" class=\"ValignM\" width=\"15\" height=\"15\"/>\\r\\n\\t\\t\\t\\t            <a href=\"https://www.nasdaq.com/symbol/fco\" class=\"marginR25px\">\\r\\n\\t\\t\\t\\t            FCO Stock Quote</a>\\r\\n\\t\\t\\t\\t\\r\\n\\t\\t\\t\\t            <img src=\"https://www.nasdaq.com/images/bullish-icon.gif\" class=\"ValignM\" width=\"15\" height=\"15\"/>\\r\\n\\t\\t\\t\\t            <a href=\"https://community.nasdaq.com/community-ratings.aspx?stockticker=FCO\" class=\"marginR25px\">\\r\\n\\t\\t\\t\\t            FCO Ratings</a>\\t\\t\\t\\r\\n\\r\\n\\t\\t\\t\\t            <img src=\"https://www.nasdaq.com/images/stockReportIcon.png\" class=\"ValignM\" width=\"15\" height=\"15\"/>\\r\\n\\t\\t\\t\\t            <a href=\"https://www.nasdaq.com/symbol/fco/stock-report\">\\r\\n\\t\\t\\t\\t            FCO Stock Report</a>\\r\\n\\t\\t\\t            </td>\\r\\n\\t                </tr>\\r\\n               \\r\\n                    <tr>\\r\\n                        <td><a href=\"http://www.alpinefunds.com\" rel=\"nofollow\"  target=\"_blank\">Aberdeen Global Premier Properties Fund</a></td>\\r\\n\\t\\t                <td>\\r\\n\\t\\t\\t\\t\\t            <h3>\\r\\n\\t\\t\\t\\t\\t\\t            <a href=\"https://www.nasdaq.com/symbol/awp\">\\r\\n\\t\\t\\t\\t\\t\\t            AWP</a>\\r\\n\\t\\t\\t\\t\\t            </h3>\\r\\n\\t\\t\\t            </td>\\r\\n\\t\\t\\t            <td style=\"\">$521.84M</td>\\r\\n                        <td style=\"display:none\"></td>\\r\\n\\t\\t\\t            <td >United States</td>\\r\\n\\t\\t\\t            <td>2007</td>\\r\\n\\t\\t\\t            <td>n/a</td>\\r\\n\\t\\t            </tr>\\r\\n                    <tr>\\r\\n\\t\\t\\t            <td class=\"quick-links\" colspan=\"6\">\\r\\n\\t\\t\\t\\t            <img src=\"https://www.nasdaq.com/images/quotes_qw.gif\" class=\"ValignM\" width=\"15\" height=\"15\"/>\\r\\n\\t\\t\\t\\t            <a href=\"https://www.nasdaq.com/symbol/awp\" class=\"marginR25px\">\\r\\n\\t\\t\\t\\t            AWP Stock Quote</a>\\r\\n\\t\\t\\t\\t\\r\\n\\t\\t\\t\\t            <img src=\"https://www.nasdaq.com/images/bullish-icon.gif\" class=\"ValignM\" width=\"15\" height=\"15\"/>\\r\\n\\t\\t\\t\\t            <a href=\"https://community.nasdaq.com/community-ratings.aspx?stockticker=AWP\" class=\"marginR25px\">\\r\\n\\t\\t\\t\\t            AWP Ratings</a>\\t\\t\\t\\r\\n\\r\\n\\t\\t\\t\\t            <img src=\"https://www.nasdaq.com/images/stockReportIcon.png\" class=\"ValignM\" width=\"15\" height=\"15\"/>\\r\\n\\t\\t\\t\\t            <a href=\"https://www.nasdaq.com/symbol/awp/stock-report\">\\r\\n\\t\\t\\t\\t            AWP Stock Report</a>\\r\\n\\t\\t\\t            </td>\\r\\n\\t                </tr>\\r\\n               \\r\\n                    <tr>\\r\\n                        <td><a href=\"http://www.aberdeenacp.com\" rel=\"nofollow\"  target=\"_blank\">Aberdeen Income Credit Strategies Fund</a></td>\\r\\n\\t\\t                <td>\\r\\n\\t\\t\\t\\t\\t            <h3>\\r\\n\\t\\t\\t\\t\\t\\t            <a href=\"https://www.nasdaq.com/symbol/acp\">\\r\\n\\t\\t\\t\\t\\t\\t            ACP</a>\\r\\n\\t\\t\\t\\t\\t            </h3>\\r\\n\\t\\t\\t            </td>\\r\\n\\t\\t\\t            <td style=\"\">$186.84M</td>\\r\\n                        <td style=\"display:none\"></td>\\r\\n\\t\\t\\t            <td >United States</td>\\r\\n\\t\\t\\t            <td>2011</td>\\r\\n\\t\\t\\t            <td>n/a</td>\\r\\n\\t\\t            </tr>\\r\\n                    <tr>\\r\\n\\t\\t\\t            <td class=\"quick-links\" colspan=\"6\">\\r\\n\\t\\t\\t\\t            <img src=\"https://www.nasdaq.com/images/quotes_qw.gif\" class=\"ValignM\" width=\"15\" height=\"15\"/>\\r\\n\\t\\t\\t\\t            <a href=\"https://www.nasdaq.com/symbol/acp\" class=\"marginR25px\">\\r\\n\\t\\t\\t\\t            ACP Stock Quote</a>\\r\\n\\t\\t\\t\\t\\r\\n\\t\\t\\t\\t            <img src=\"https://www.nasdaq.com/images/bullish-icon.gif\" class=\"ValignM\" width=\"15\" height=\"15\"/>\\r\\n\\t\\t\\t\\t            <a href=\"https://community.nasdaq.com/community-ratings.aspx?stockticker=ACP\" class=\"marginR25px\">\\r\\n\\t\\t\\t\\t            ACP Ratings</a>\\t\\t\\t\\r\\n\\r\\n\\t\\t\\t\\t            <img src=\"https://www.nasdaq.com/images/stockReportIcon.png\" class=\"ValignM\" width=\"15\" height=\"15\"/>\\r\\n\\t\\t\\t\\t            <a href=\"https://www.nasdaq.com/symbol/acp/stock-report\">\\r\\n\\t\\t\\t\\t            ACP Stock Report</a>\\r\\n\\t\\t\\t            </td>\\r\\n\\t                </tr>\\r\\n               \\r\\n                    <tr>\\r\\n                        <td><a href=\"http://www.aberdeenjeq.com\" rel=\"nofollow\"  target=\"_blank\">Aberdeen Japan Equity Fund, Inc. </a></td>\\r\\n\\t\\t                <td>\\r\\n\\t\\t\\t\\t\\t            <h3>\\r\\n\\t\\t\\t\\t\\t\\t            <a href=\"https://www.nasdaq.com/symbol/jeq\">\\r\\n\\t\\t\\t\\t\\t\\t            JEQ</a>\\r\\n\\t\\t\\t\\t\\t            </h3>\\r\\n\\t\\t\\t            </td>\\r\\n\\t\\t\\t            <td style=\"\">$111.26M</td>\\r\\n                        <td style=\"display:none\"></td>\\r\\n\\t\\t\\t            <td >United States</td>\\r\\n\\t\\t\\t            <td>1992</td>\\r\\n\\t\\t\\t            <td>n/a</td>\\r\\n\\t\\t            </tr>\\r\\n                    <tr>\\r\\n\\t\\t\\t            <td class=\"quick-links\" colspan=\"6\">\\r\\n\\t\\t\\t\\t            <img src=\"https://www.nasdaq.com/images/quotes_qw.gif\" class=\"ValignM\" width=\"15\" height=\"15\"/>\\r\\n\\t\\t\\t\\t            <a href=\"https://www.nasdaq.com/symbol/jeq\" class=\"marginR25px\">\\r\\n\\t\\t\\t\\t            JEQ Stock Quote</a>\\r\\n\\t\\t\\t\\t\\r\\n\\t\\t\\t\\t            <img src=\"https://www.nasdaq.com/images/bullish-icon.gif\" class=\"ValignM\" width=\"15\" height=\"15\"/>\\r\\n\\t\\t\\t\\t            <a href=\"https://community.nasdaq.com/community-ratings.aspx?stockticker=JEQ\" class=\"marginR25px\">\\r\\n\\t\\t\\t\\t            JEQ Ratings</a>\\t\\t\\t\\r\\n\\r\\n\\t\\t\\t\\t            <img src=\"https://www.nasdaq.com/images/stockReportIcon.png\" class=\"ValignM\" width=\"15\" height=\"15\"/>\\r\\n\\t\\t\\t\\t            <a href=\"https://www.nasdaq.com/symbol/jeq/stock-report\">\\r\\n\\t\\t\\t\\t            JEQ Stock Report</a>\\r\\n\\t\\t\\t            </td>\\r\\n\\t                </tr>\\r\\n               \\r\\n                    <tr>\\r\\n                        <td><a href=\"http://www.alpinefunds.com\" rel=\"nofollow\"  target=\"_blank\">Aberdeen Total Dynamic Dividend Fund</a></td>\\r\\n\\t\\t                <td>\\r\\n\\t\\t\\t\\t\\t            <h3>\\r\\n\\t\\t\\t\\t\\t\\t            <a href=\"https://www.nasdaq.com/symbol/aod\">\\r\\n\\t\\t\\t\\t\\t\\t            AOD</a>\\r\\n\\t\\t\\t\\t\\t            </h3>\\r\\n\\t\\t\\t            </td>\\r\\n\\t\\t\\t            <td style=\"\">$941.44M</td>\\r\\n                        <td style=\"display:none\"></td>\\r\\n\\t\\t\\t            <td >United States</td>\\r\\n\\t\\t\\t            <td>2007</td>\\r\\n\\t\\t\\t            <td>n/a</td>\\r\\n\\t\\t            </tr>\\r\\n                    <tr>\\r\\n\\t\\t\\t            <td class=\"quick-links\" colspan=\"6\">\\r\\n\\t\\t\\t\\t            <img src=\"https://www.nasdaq.com/images/quotes_qw.gif\" class=\"ValignM\" width=\"15\" height=\"15\"/>\\r\\n\\t\\t\\t\\t            <a href=\"https://www.nasdaq.com/symbol/aod\" class=\"marginR25px\">\\r\\n\\t\\t\\t\\t            AOD Stock Quote</a>\\r\\n\\t\\t\\t\\t\\r\\n\\t\\t\\t\\t            <img src=\"https://www.nasdaq.com/images/bullish-icon.gif\" class=\"ValignM\" width=\"15\" height=\"15\"/>\\r\\n\\t\\t\\t\\t            <a href=\"https://community.nasdaq.com/community-ratings.aspx?stockticker=AOD\" class=\"marginR25px\">\\r\\n\\t\\t\\t\\t            AOD Ratings</a>\\t\\t\\t\\r\\n\\r\\n\\t\\t\\t\\t            <img src=\"https://www.nasdaq.com/images/stockReportIcon.png\" class=\"ValignM\" width=\"15\" height=\"15\"/>\\r\\n\\t\\t\\t\\t            <a href=\"https://www.nasdaq.com/symbol/aod/stock-report\">\\r\\n\\t\\t\\t\\t            AOD Stock Report</a>\\r\\n\\t\\t\\t            </td>\\r\\n\\t                </tr>\\r\\n               \\r\\n                    <tr>\\r\\n                        <td><a href=\"http://www.interceptors.com\" rel=\"nofollow\"  target=\"_blank\">Ability Inc.</a></td>\\r\\n\\t\\t                <td>\\r\\n\\t\\t\\t\\t\\t            <h3>\\r\\n\\t\\t\\t\\t\\t\\t            <a href=\"https://www.nasdaq.com/symbol/abil\">\\r\\n\\t\\t\\t\\t\\t\\t            ABIL</a>\\r\\n\\t\\t\\t\\t\\t            </h3>\\r\\n\\t\\t\\t            </td>\\r\\n\\t\\t\\t            <td style=\"\">$11.06M</td>\\r\\n                        <td style=\"display:none\"></td>\\r\\n\\t\\t\\t            <td >Israel</td>\\r\\n\\t\\t\\t            <td>2014</td>\\r\\n\\t\\t\\t            <td>Telecommunications Equipment</td>\\r\\n\\t\\t            </tr>\\r\\n                    <tr>\\r\\n\\t\\t\\t            <td class=\"quick-links\" colspan=\"6\">\\r\\n\\t\\t\\t\\t            <img src=\"https://www.nasdaq.com/images/quotes_qw.gif\" class=\"ValignM\" width=\"15\" height=\"15\"/>\\r\\n\\t\\t\\t\\t            <a href=\"https://www.nasdaq.com/symbol/abil\" class=\"marginR25px\">\\r\\n\\t\\t\\t\\t            ABIL Stock Quote</a>\\r\\n\\t\\t\\t\\t\\r\\n\\t\\t\\t\\t            <img src=\"https://www.nasdaq.com/images/bullish-icon.gif\" class=\"ValignM\" width=\"15\" height=\"15\"/>\\r\\n\\t\\t\\t\\t            <a href=\"https://community.nasdaq.com/community-ratings.aspx?stockticker=ABIL\" class=\"marginR25px\">\\r\\n\\t\\t\\t\\t            ABIL Ratings</a>\\t\\t\\t\\r\\n\\r\\n\\t\\t\\t\\t            <img src=\"https://www.nasdaq.com/images/stockReportIcon.png\" class=\"ValignM\" width=\"15\" height=\"15\"/>\\r\\n\\t\\t\\t\\t            <a href=\"https://www.nasdaq.com/symbol/abil/stock-report\">\\r\\n\\t\\t\\t\\t            ABIL Stock Report</a>\\r\\n\\t\\t\\t            </td>\\r\\n\\t                </tr>\\r\\n               \\r\\n                    <tr>\\r\\n                        <td><a href=\"http://www.abiomed.com\" rel=\"nofollow\"  target=\"_blank\">ABIOMED, Inc.</a></td>\\r\\n\\t\\t                <td>\\r\\n\\t\\t\\t\\t\\t            <h3>\\r\\n\\t\\t\\t\\t\\t\\t            <a href=\"https://www.nasdaq.com/symbol/abmd\">\\r\\n\\t\\t\\t\\t\\t\\t            ABMD</a>\\r\\n\\t\\t\\t\\t\\t            </h3>\\r\\n\\t\\t\\t            </td>\\r\\n\\t\\t\\t            <td style=\"\">$19.26B</td>\\r\\n                        <td style=\"display:none\"></td>\\r\\n\\t\\t\\t            <td >United States</td>\\r\\n\\t\\t\\t            <td>n/a</td>\\r\\n\\t\\t\\t            <td>Medical/Dental Instruments</td>\\r\\n\\t\\t            </tr>\\r\\n                    <tr>\\r\\n\\t\\t\\t            <td class=\"quick-links\" colspan=\"6\">\\r\\n\\t\\t\\t\\t            <img src=\"https://www.nasdaq.com/images/quotes_qw.gif\" class=\"ValignM\" width=\"15\" height=\"15\"/>\\r\\n\\t\\t\\t\\t            <a href=\"https://www.nasdaq.com/symbol/abmd\" class=\"marginR25px\">\\r\\n\\t\\t\\t\\t            ABMD Stock Quote</a>\\r\\n\\t\\t\\t\\t\\r\\n\\t\\t\\t\\t            <img src=\"https://www.nasdaq.com/images/bullish-icon.gif\" class=\"ValignM\" width=\"15\" height=\"15\"/>\\r\\n\\t\\t\\t\\t            <a href=\"https://community.nasdaq.com/community-ratings.aspx?stockticker=ABMD\" class=\"marginR25px\">\\r\\n\\t\\t\\t\\t            ABMD Ratings</a>\\t\\t\\t\\r\\n\\r\\n\\t\\t\\t\\t            <img src=\"https://www.nasdaq.com/images/stockReportIcon.png\" class=\"ValignM\" width=\"15\" height=\"15\"/>\\r\\n\\t\\t\\t\\t            <a href=\"https://www.nasdaq.com/symbol/abmd/stock-report\">\\r\\n\\t\\t\\t\\t            ABMD Stock Report</a>\\r\\n\\t\\t\\t            </td>\\r\\n\\t                </tr>\\r\\n               \\r\\n                    <tr>\\r\\n                        <td><a href=\"http://www.abm.com\" rel=\"nofollow\"  target=\"_blank\">ABM Industries Incorporated</a></td>\\r\\n\\t\\t                <td>\\r\\n\\t\\t\\t\\t\\t            <h3>\\r\\n\\t\\t\\t\\t\\t\\t            <a href=\"https://www.nasdaq.com/symbol/abm\">\\r\\n\\t\\t\\t\\t\\t\\t            ABM</a>\\r\\n\\t\\t\\t\\t\\t            </h3>\\r\\n\\t\\t\\t            </td>\\r\\n\\t\\t\\t            <td style=\"\">$2.14B</td>\\r\\n                        <td style=\"display:none\"></td>\\r\\n\\t\\t\\t            <td >United States</td>\\r\\n\\t\\t\\t            <td>n/a</td>\\r\\n\\t\\t\\t            <td>Diversified Commercial Services</td>\\r\\n\\t\\t            </tr>\\r\\n                    <tr>\\r\\n\\t\\t\\t            <td class=\"quick-links\" colspan=\"6\">\\r\\n\\t\\t\\t\\t            <img src=\"https://www.nasdaq.com/images/quotes_qw.gif\" class=\"ValignM\" width=\"15\" height=\"15\"/>\\r\\n\\t\\t\\t\\t            <a href=\"https://www.nasdaq.com/symbol/abm\" class=\"marginR25px\">\\r\\n\\t\\t\\t\\t            ABM Stock Quote</a>\\r\\n\\t\\t\\t\\t\\r\\n\\t\\t\\t\\t            <img src=\"https://www.nasdaq.com/images/bullish-icon.gif\" class=\"ValignM\" width=\"15\" height=\"15\"/>\\r\\n\\t\\t\\t\\t            <a href=\"https://community.nasdaq.com/community-ratings.aspx?stockticker=ABM\" class=\"marginR25px\">\\r\\n\\t\\t\\t\\t            ABM Ratings</a>\\t\\t\\t\\r\\n\\r\\n\\t\\t\\t\\t            <img src=\"https://www.nasdaq.com/images/stockReportIcon.png\" class=\"ValignM\" width=\"15\" height=\"15\"/>\\r\\n\\t\\t\\t\\t            <a href=\"https://www.nasdaq.com/symbol/abm/stock-report\">\\r\\n\\t\\t\\t\\t            ABM Stock Report</a>\\r\\n\\t\\t\\t            </td>\\r\\n\\t                </tr>\\r\\n               \\r\\n                    <tr>\\r\\n                        <td><a href=\"http://www.abraxaspetroleum.com\" rel=\"nofollow\"  target=\"_blank\">Abraxas Petroleum Corporation</a></td>\\r\\n\\t\\t                <td>\\r\\n\\t\\t\\t\\t\\t            <h3>\\r\\n\\t\\t\\t\\t\\t\\t            <a href=\"https://www.nasdaq.com/symbol/axas\">\\r\\n\\t\\t\\t\\t\\t\\t            AXAS</a>\\r\\n\\t\\t\\t\\t\\t            </h3>\\r\\n\\t\\t\\t            </td>\\r\\n\\t\\t\\t            <td style=\"\">$386.77M</td>\\r\\n                        <td style=\"display:none\"></td>\\r\\n\\t\\t\\t            <td >United States</td>\\r\\n\\t\\t\\t            <td>n/a</td>\\r\\n\\t\\t\\t            <td>Oil & Gas Production</td>\\r\\n\\t\\t            </tr>\\r\\n                    <tr>\\r\\n\\t\\t\\t            <td class=\"quick-links\" colspan=\"6\">\\r\\n\\t\\t\\t\\t            <img src=\"https://www.nasdaq.com/images/quotes_qw.gif\" class=\"ValignM\" width=\"15\" height=\"15\"/>\\r\\n\\t\\t\\t\\t            <a href=\"https://www.nasdaq.com/symbol/axas\" class=\"marginR25px\">\\r\\n\\t\\t\\t\\t            AXAS Stock Quote</a>\\r\\n\\t\\t\\t\\t\\r\\n\\t\\t\\t\\t            <img src=\"https://www.nasdaq.com/images/bullish-icon.gif\" class=\"ValignM\" width=\"15\" height=\"15\"/>\\r\\n\\t\\t\\t\\t            <a href=\"https://community.nasdaq.com/community-ratings.aspx?stockticker=AXAS\" class=\"marginR25px\">\\r\\n\\t\\t\\t\\t            AXAS Ratings</a>\\t\\t\\t\\r\\n\\r\\n\\t\\t\\t\\t            <img src=\"https://www.nasdaq.com/images/stockReportIcon.png\" class=\"ValignM\" width=\"15\" height=\"15\"/>\\r\\n\\t\\t\\t\\t            <a href=\"https://www.nasdaq.com/symbol/axas/stock-report\">\\r\\n\\t\\t\\t\\t            AXAS Stock Report</a>\\r\\n\\t\\t\\t            </td>\\r\\n\\t                </tr>\\r\\n               \\r\\n                    <tr>\\r\\n                        <td><a href=\"http://www.acimmune.com\" rel=\"nofollow\"  target=\"_blank\">AC Immune SA</a></td>\\r\\n\\t\\t                <td>\\r\\n\\t\\t\\t\\t\\t            <h3>\\r\\n\\t\\t\\t\\t\\t\\t            <a href=\"https://www.nasdaq.com/symbol/aciu\">\\r\\n\\t\\t\\t\\t\\t\\t            ACIU</a>\\r\\n\\t\\t\\t\\t\\t            </h3>\\r\\n\\t\\t\\t            </td>\\r\\n\\t\\t\\t            <td style=\"\">$542.27M</td>\\r\\n                        <td style=\"display:none\"></td>\\r\\n\\t\\t\\t            <td >Switzerland</td>\\r\\n\\t\\t\\t            <td>2016</td>\\r\\n\\t\\t\\t            <td>Major Pharmaceuticals</td>\\r\\n\\t\\t            </tr>\\r\\n                    <tr>\\r\\n\\t\\t\\t            <td class=\"quick-links\" colspan=\"6\">\\r\\n\\t\\t\\t\\t            <img src=\"https://www.nasdaq.com/images/quotes_qw.gif\" class=\"ValignM\" width=\"15\" height=\"15\"/>\\r\\n\\t\\t\\t\\t            <a href=\"https://www.nasdaq.com/symbol/aciu\" class=\"marginR25px\">\\r\\n\\t\\t\\t\\t            ACIU Stock Quote</a>\\r\\n\\t\\t\\t\\t\\r\\n\\t\\t\\t\\t            <img src=\"https://www.nasdaq.com/images/bullish-icon.gif\" class=\"ValignM\" width=\"15\" height=\"15\"/>\\r\\n\\t\\t\\t\\t            <a href=\"https://community.nasdaq.com/community-ratings.aspx?stockticker=ACIU\" class=\"marginR25px\">\\r\\n\\t\\t\\t\\t            ACIU Ratings</a>\\t\\t\\t\\r\\n\\r\\n\\t\\t\\t\\t            <img src=\"https://www.nasdaq.com/images/stockReportIcon.png\" class=\"ValignM\" width=\"15\" height=\"15\"/>\\r\\n\\t\\t\\t\\t            <a href=\"https://www.nasdaq.com/symbol/aciu/stock-report\">\\r\\n\\t\\t\\t\\t            ACIU Stock Report</a>\\r\\n\\t\\t\\t            </td>\\r\\n\\t                </tr>\\r\\n               \\r\\n                    <tr>\\r\\n                        <td><a href=\"http://www.acacia-inc.com\" rel=\"nofollow\"  target=\"_blank\">Acacia Communications, Inc.</a></td>\\r\\n\\t\\t                <td>\\r\\n\\t\\t\\t\\t\\t            <h3>\\r\\n\\t\\t\\t\\t\\t\\t            <a href=\"https://www.nasdaq.com/symbol/acia\">\\r\\n\\t\\t\\t\\t\\t\\t            ACIA</a>\\r\\n\\t\\t\\t\\t\\t            </h3>\\r\\n\\t\\t\\t            </td>\\r\\n\\t\\t\\t            <td style=\"\">$1.64B</td>\\r\\n                        <td style=\"display:none\"></td>\\r\\n\\t\\t\\t            <td >United States</td>\\r\\n\\t\\t\\t            <td>2016</td>\\r\\n\\t\\t\\t            <td>Semiconductors</td>\\r\\n\\t\\t            </tr>\\r\\n                    <tr>\\r\\n\\t\\t\\t            <td class=\"quick-links\" colspan=\"6\">\\r\\n\\t\\t\\t\\t            <img src=\"https://www.nasdaq.com/images/quotes_qw.gif\" class=\"ValignM\" width=\"15\" height=\"15\"/>\\r\\n\\t\\t\\t\\t            <a href=\"https://www.nasdaq.com/symbol/acia\" class=\"marginR25px\">\\r\\n\\t\\t\\t\\t            ACIA Stock Quote</a>\\r\\n\\t\\t\\t\\t\\r\\n\\t\\t\\t\\t            <img src=\"https://www.nasdaq.com/images/bullish-icon.gif\" class=\"ValignM\" width=\"15\" height=\"15\"/>\\r\\n\\t\\t\\t\\t            <a href=\"https://community.nasdaq.com/community-ratings.aspx?stockticker=ACIA\" class=\"marginR25px\">\\r\\n\\t\\t\\t\\t            ACIA Ratings</a>\\t\\t\\t\\r\\n\\r\\n\\t\\t\\t\\t            <img src=\"https://www.nasdaq.com/images/stockReportIcon.png\" class=\"ValignM\" width=\"15\" height=\"15\"/>\\r\\n\\t\\t\\t\\t            <a href=\"https://www.nasdaq.com/symbol/acia/stock-report\">\\r\\n\\t\\t\\t\\t            ACIA Stock Report</a>\\r\\n\\t\\t\\t            </td>\\r\\n\\t                </tr>\\r\\n               \\r\\n                    <tr>\\r\\n                        <td><a href=\"http://www.acaciaresearch.com\" rel=\"nofollow\"  target=\"_blank\">Acacia Research Corporation</a></td>\\r\\n\\t\\t                <td>\\r\\n\\t\\t\\t\\t\\t            <h3>\\r\\n\\t\\t\\t\\t\\t\\t            <a href=\"https://www.nasdaq.com/symbol/actg\">\\r\\n\\t\\t\\t\\t\\t\\t            ACTG</a>\\r\\n\\t\\t\\t\\t\\t            </h3>\\r\\n\\t\\t\\t            </td>\\r\\n\\t\\t\\t            <td style=\"\">$158.88M</td>\\r\\n                        <td style=\"display:none\"></td>\\r\\n\\t\\t\\t            <td >United States</td>\\r\\n\\t\\t\\t            <td>n/a</td>\\r\\n\\t\\t\\t            <td>Multi-Sector Companies</td>\\r\\n\\t\\t            </tr>\\r\\n                    <tr>\\r\\n\\t\\t\\t            <td class=\"quick-links\" colspan=\"6\">\\r\\n\\t\\t\\t\\t            <img src=\"https://www.nasdaq.com/images/quotes_qw.gif\" class=\"ValignM\" width=\"15\" height=\"15\"/>\\r\\n\\t\\t\\t\\t            <a href=\"https://www.nasdaq.com/symbol/actg\" class=\"marginR25px\">\\r\\n\\t\\t\\t\\t            ACTG Stock Quote</a>\\r\\n\\t\\t\\t\\t\\r\\n\\t\\t\\t\\t            <img src=\"https://www.nasdaq.com/images/bullish-icon.gif\" class=\"ValignM\" width=\"15\" height=\"15\"/>\\r\\n\\t\\t\\t\\t            <a href=\"https://community.nasdaq.com/community-ratings.aspx?stockticker=ACTG\" class=\"marginR25px\">\\r\\n\\t\\t\\t\\t            ACTG Ratings</a>\\t\\t\\t\\r\\n\\r\\n\\t\\t\\t\\t            <img src=\"https://www.nasdaq.com/images/stockReportIcon.png\" class=\"ValignM\" width=\"15\" height=\"15\"/>\\r\\n\\t\\t\\t\\t            <a href=\"https://www.nasdaq.com/symbol/actg/stock-report\">\\r\\n\\t\\t\\t\\t            ACTG Stock Report</a>\\r\\n\\t\\t\\t            </td>\\r\\n\\t                </tr>\\r\\n               \\r\\n                    <tr>\\r\\n                        <td><a href=\"http://www.acadiahealthcare.com\" rel=\"nofollow\"  target=\"_blank\">Acadia Healthcare Company, Inc.</a></td>\\r\\n\\t\\t                <td>\\r\\n\\t\\t\\t\\t\\t            <h3>\\r\\n\\t\\t\\t\\t\\t\\t            <a href=\"https://www.nasdaq.com/symbol/achc\">\\r\\n\\t\\t\\t\\t\\t\\t            ACHC</a>\\r\\n\\t\\t\\t\\t\\t            </h3>\\r\\n\\t\\t\\t            </td>\\r\\n\\t\\t\\t            <td style=\"\">$3.06B</td>\\r\\n                        <td style=\"display:none\"></td>\\r\\n\\t\\t\\t            <td >United States</td>\\r\\n\\t\\t\\t            <td>n/a</td>\\r\\n\\t\\t\\t            <td>Medical Specialities</td>\\r\\n\\t\\t            </tr>\\r\\n                    <tr>\\r\\n\\t\\t\\t            <td class=\"quick-links\" colspan=\"6\">\\r\\n\\t\\t\\t\\t            <img src=\"https://www.nasdaq.com/images/quotes_qw.gif\" class=\"ValignM\" width=\"15\" height=\"15\"/>\\r\\n\\t\\t\\t\\t            <a href=\"https://www.nasdaq.com/symbol/achc\" class=\"marginR25px\">\\r\\n\\t\\t\\t\\t            ACHC Stock Quote</a>\\r\\n\\t\\t\\t\\t\\r\\n\\t\\t\\t\\t            <img src=\"https://www.nasdaq.com/images/bullish-icon.gif\" class=\"ValignM\" width=\"15\" height=\"15\"/>\\r\\n\\t\\t\\t\\t            <a href=\"https://community.nasdaq.com/community-ratings.aspx?stockticker=ACHC\" class=\"marginR25px\">\\r\\n\\t\\t\\t\\t            ACHC Ratings</a>\\t\\t\\t\\r\\n\\r\\n\\t\\t\\t\\t            <img src=\"https://www.nasdaq.com/images/stockReportIcon.png\" class=\"ValignM\" width=\"15\" height=\"15\"/>\\r\\n\\t\\t\\t\\t            <a href=\"https://www.nasdaq.com/symbol/achc/stock-report\">\\r\\n\\t\\t\\t\\t            ACHC Stock Report</a>\\r\\n\\t\\t\\t            </td>\\r\\n\\t                </tr>\\r\\n               \\r\\n                    <tr>\\r\\n                        <td><a href=\"http://www.acadia-pharm.com\" rel=\"nofollow\"  target=\"_blank\">ACADIA Pharmaceuticals Inc.</a></td>\\r\\n\\t\\t                <td>\\r\\n\\t\\t\\t\\t\\t            <h3>\\r\\n\\t\\t\\t\\t\\t\\t            <a href=\"https://www.nasdaq.com/symbol/acad\">\\r\\n\\t\\t\\t\\t\\t\\t            ACAD</a>\\r\\n\\t\\t\\t\\t\\t            </h3>\\r\\n\\t\\t\\t            </td>\\r\\n\\t\\t\\t            <td style=\"\">$2.52B</td>\\r\\n                        <td style=\"display:none\"></td>\\r\\n\\t\\t\\t            <td >United States</td>\\r\\n\\t\\t\\t            <td>2004</td>\\r\\n\\t\\t\\t            <td>Major Pharmaceuticals</td>\\r\\n\\t\\t            </tr>\\r\\n                    <tr>\\r\\n\\t\\t\\t            <td class=\"quick-links\" colspan=\"6\">\\r\\n\\t\\t\\t\\t            <img src=\"https://www.nasdaq.com/images/quotes_qw.gif\" class=\"ValignM\" width=\"15\" height=\"15\"/>\\r\\n\\t\\t\\t\\t            <a href=\"https://www.nasdaq.com/symbol/acad\" class=\"marginR25px\">\\r\\n\\t\\t\\t\\t            ACAD Stock Quote</a>\\r\\n\\t\\t\\t\\t\\r\\n\\t\\t\\t\\t            <img src=\"https://www.nasdaq.com/images/bullish-icon.gif\" class=\"ValignM\" width=\"15\" height=\"15\"/>\\r\\n\\t\\t\\t\\t            <a href=\"https://community.nasdaq.com/community-ratings.aspx?stockticker=ACAD\" class=\"marginR25px\">\\r\\n\\t\\t\\t\\t            ACAD Ratings</a>\\t\\t\\t\\r\\n\\r\\n\\t\\t\\t\\t            <img src=\"https://www.nasdaq.com/images/stockReportIcon.png\" class=\"ValignM\" width=\"15\" height=\"15\"/>\\r\\n\\t\\t\\t\\t            <a href=\"https://www.nasdaq.com/symbol/acad/stock-report\">\\r\\n\\t\\t\\t\\t            ACAD Stock Report</a>\\r\\n\\t\\t\\t            </td>\\r\\n\\t                </tr>\\r\\n               \\r\\n                    <tr>\\r\\n                        <td><a href=\"http://www.acadiarealty.com\" rel=\"nofollow\"  target=\"_blank\">Acadia Realty Trust</a></td>\\r\\n\\t\\t                <td>\\r\\n\\t\\t\\t\\t\\t            <h3>\\r\\n\\t\\t\\t\\t\\t\\t            <a href=\"https://www.nasdaq.com/symbol/akr\">\\r\\n\\t\\t\\t\\t\\t\\t            AKR</a>\\r\\n\\t\\t\\t\\t\\t            </h3>\\r\\n\\t\\t\\t            </td>\\r\\n\\t\\t\\t            <td style=\"\">$2.27B</td>\\r\\n                        <td style=\"display:none\"></td>\\r\\n\\t\\t\\t            <td >United States</td>\\r\\n\\t\\t\\t            <td>n/a</td>\\r\\n\\t\\t\\t            <td>Real Estate Investment Trusts</td>\\r\\n\\t\\t            </tr>\\r\\n                    <tr>\\r\\n\\t\\t\\t            <td class=\"quick-links\" colspan=\"6\">\\r\\n\\t\\t\\t\\t            <img src=\"https://www.nasdaq.com/images/quotes_qw.gif\" class=\"ValignM\" width=\"15\" height=\"15\"/>\\r\\n\\t\\t\\t\\t            <a href=\"https://www.nasdaq.com/symbol/akr\" class=\"marginR25px\">\\r\\n\\t\\t\\t\\t            AKR Stock Quote</a>\\r\\n\\t\\t\\t\\t\\r\\n\\t\\t\\t\\t            <img src=\"https://www.nasdaq.com/images/bullish-icon.gif\" class=\"ValignM\" width=\"15\" height=\"15\"/>\\r\\n\\t\\t\\t\\t            <a href=\"https://community.nasdaq.com/community-ratings.aspx?stockticker=AKR\" class=\"marginR25px\">\\r\\n\\t\\t\\t\\t            AKR Ratings</a>\\t\\t\\t\\r\\n\\r\\n\\t\\t\\t\\t            <img src=\"https://www.nasdaq.com/images/stockReportIcon.png\" class=\"ValignM\" width=\"15\" height=\"15\"/>\\r\\n\\t\\t\\t\\t            <a href=\"https://www.nasdaq.com/symbol/akr/stock-report\">\\r\\n\\t\\t\\t\\t            AKR Stock Report</a>\\r\\n\\t\\t\\t            </td>\\r\\n\\t                </tr>\\r\\n               \\r\\n                    <tr>\\r\\n                        <td><a href=\"http://www.acastipharma.com\" rel=\"nofollow\"  target=\"_blank\">Acasti Pharma, Inc.</a></td>\\r\\n\\t\\t                <td>\\r\\n\\t\\t\\t\\t\\t            <h3>\\r\\n\\t\\t\\t\\t\\t\\t            <a href=\"https://www.nasdaq.com/symbol/acst\">\\r\\n\\t\\t\\t\\t\\t\\t            ACST</a>\\r\\n\\t\\t\\t\\t\\t            </h3>\\r\\n\\t\\t\\t            </td>\\r\\n\\t\\t\\t            <td style=\"\">$51.35M</td>\\r\\n                        <td style=\"display:none\"></td>\\r\\n\\t\\t\\t            <td >Canada</td>\\r\\n\\t\\t\\t            <td>n/a</td>\\r\\n\\t\\t\\t            <td>Major Pharmaceuticals</td>\\r\\n\\t\\t            </tr>\\r\\n                    <tr>\\r\\n\\t\\t\\t            <td class=\"quick-links\" colspan=\"6\">\\r\\n\\t\\t\\t\\t            <img src=\"https://www.nasdaq.com/images/quotes_qw.gif\" class=\"ValignM\" width=\"15\" height=\"15\"/>\\r\\n\\t\\t\\t\\t            <a href=\"https://www.nasdaq.com/symbol/acst\" class=\"marginR25px\">\\r\\n\\t\\t\\t\\t            ACST Stock Quote</a>\\r\\n\\t\\t\\t\\t\\r\\n\\t\\t\\t\\t            <img src=\"https://www.nasdaq.com/images/bullish-icon.gif\" class=\"ValignM\" width=\"15\" height=\"15\"/>\\r\\n\\t\\t\\t\\t            <a href=\"https://community.nasdaq.com/community-ratings.aspx?stockticker=ACST\" class=\"marginR25px\">\\r\\n\\t\\t\\t\\t            ACST Ratings</a>\\t\\t\\t\\r\\n\\r\\n\\t\\t\\t\\t            <img src=\"https://www.nasdaq.com/images/stockReportIcon.png\" class=\"ValignM\" width=\"15\" height=\"15\"/>\\r\\n\\t\\t\\t\\t            <a href=\"https://www.nasdaq.com/symbol/acst/stock-report\">\\r\\n\\t\\t\\t\\t            ACST Stock Report</a>\\r\\n\\t\\t\\t            </td>\\r\\n\\t                </tr>\\r\\n               \\r\\n                    <tr>\\r\\n                        <td><a href=\"http://www.acceleratediagnostics.com\" rel=\"nofollow\"  target=\"_blank\">Accelerate Diagnostics, Inc.</a></td>\\r\\n\\t\\t                <td>\\r\\n\\t\\t\\t\\t\\t            <h3>\\r\\n\\t\\t\\t\\t\\t\\t            <a href=\"https://www.nasdaq.com/symbol/axdx\">\\r\\n\\t\\t\\t\\t\\t\\t            AXDX</a>\\r\\n\\t\\t\\t\\t\\t            </h3>\\r\\n\\t\\t\\t            </td>\\r\\n\\t\\t\\t            <td style=\"\">$1.11B</td>\\r\\n                        <td style=\"display:none\"></td>\\r\\n\\t\\t\\t            <td >United States</td>\\r\\n\\t\\t\\t            <td>n/a</td>\\r\\n\\t\\t\\t            <td>Biotechnology: Laboratory Analytical Instruments</td>\\r\\n\\t\\t            </tr>\\r\\n                    <tr>\\r\\n\\t\\t\\t            <td class=\"quick-links\" colspan=\"6\">\\r\\n\\t\\t\\t\\t            <img src=\"https://www.nasdaq.com/images/quotes_qw.gif\" class=\"ValignM\" width=\"15\" height=\"15\"/>\\r\\n\\t\\t\\t\\t            <a href=\"https://www.nasdaq.com/symbol/axdx\" class=\"marginR25px\">\\r\\n\\t\\t\\t\\t            AXDX Stock Quote</a>\\r\\n\\t\\t\\t\\t\\r\\n\\t\\t\\t\\t            <img src=\"https://www.nasdaq.com/images/bullish-icon.gif\" class=\"ValignM\" width=\"15\" height=\"15\"/>\\r\\n\\t\\t\\t\\t            <a href=\"https://community.nasdaq.com/community-ratings.aspx?stockticker=AXDX\" class=\"marginR25px\">\\r\\n\\t\\t\\t\\t            AXDX Ratings</a>\\t\\t\\t\\r\\n\\r\\n\\t\\t\\t\\t            <img src=\"https://www.nasdaq.com/images/stockReportIcon.png\" class=\"ValignM\" width=\"15\" height=\"15\"/>\\r\\n\\t\\t\\t\\t            <a href=\"https://www.nasdaq.com/symbol/axdx/stock-report\">\\r\\n\\t\\t\\t\\t            AXDX Stock Report</a>\\r\\n\\t\\t\\t            </td>\\r\\n\\t                </tr>\\r\\n               \\r\\n        </table>\\r\\n    </div>\\r\\n\\r\\n    <div class=\"floatL marginT10px\">\\r\\n        <small>*IPO year information is not available for stocks prior to 1970.</small>\\r\\n    </div>\\r\\n\\r\\n    <div id=\"two_column_main_content_pagesizelist\" class=\"floatR marginT10px\">\\r\\n\\t\\r\\n        <select name=\"ctl00$two_column_main_content$lstpagesize\" id=\"two_column_main_content_lstpagesize\" class=\"fontS14px\">\\r\\n\\t\\t<option selected=\"selected\" value=\"50\">50 Items Per Page</option>\\r\\n\\t\\t<option value=\"100\">100 Items Per Page</option>\\r\\n\\t\\t<option value=\"150\">150 Items Per Page</option>\\r\\n\\t\\t<option value=\"200\">200 Items Per Page</option>\\r\\n\\r\\n\\t</select>\\r\\n    \\r\\n</div>\\r\\n\\r\\n    <div class=\"clearB\"></div>\\r\\n    \\r\\n    <div id=\"two_column_main_content_pnpageview\">\\r\\n\\t\\r\\n        <div id=\"pagerContainer\">   \\r\\n            <ul class=\"pager\"><li><span id=\"two_column_main_content_lb_FirstPage\" class=\"pagerlinkd\">&lt;&lt; first</span></li><li><span id=\"two_column_main_content_lb_PreviousPage\" class=\"pagerlinkd\">&lt; previous</span></li><li><span id=\"two_column_main_content_lb_1\" class=\"pagerlinkd\">1</span></li><li><a href=\"https://www.nasdaq.com/screening/companies-by-name.aspx?letter=A&page=2\" class=\"pagerlink\">2</a></li><li><a href=\"https://www.nasdaq.com/screening/companies-by-name.aspx?letter=A&page=3\" class=\"pagerlink\">3</a></li><li><a href=\"https://www.nasdaq.com/screening/companies-by-name.aspx?letter=A&page=4\" class=\"pagerlink\">4</a></li><li><a href=\"https://www.nasdaq.com/screening/companies-by-name.aspx?letter=A&page=5\" class=\"pagerlink\">5</a></li><li><a href=\"https://www.nasdaq.com/screening/companies-by-name.aspx?letter=A&page=10\" class=\"pagerlink\">10</a></li><li><a href=\"https://www.nasdaq.com/screening/companies-by-name.aspx?letter=A&page=12\" class=\"pagerlink\">12</a></li><li><a href=\"https://www.nasdaq.com/screening/companies-by-name.aspx?letter=A&page=2\" id=\"two_column_main_content_lb_NextPage\" class=\"pagerlink\">next &gt;</a></li><li><a href=\"https://www.nasdaq.com/screening/companies-by-name.aspx?letter=A&page=13\" id=\"two_column_main_content_lb_LastPage\" class=\"pagerlink\">last &gt;&gt;</a></li></ul>\\r\\n        </div>\\r\\n    \\r\\n</div>\\r\\n    <div class=\"clearB\"></div>\\t\\r\\n    </form>\\r\\n</div><!--end left-column-div-->\\r\\n    <div id=\"right-column-div\">\\r\\n        <div id=\"sticky-container1\">\\r\\n            <script>makeAd(\\'5\\', \\'160x600,300x250,300x600\\', is_dartSite, is_dartZone, \\'\\', \\'\\');</script>\\r\\n        </div>\\r\\n\\t</div><!--end right-column-div-->\\r\\n</div><!--end content-->\\r\\n\\r\\n\\r\\n\\t<!-- START Google Ads includes/footer_googAd.inc-->\\r\\n\\r\\n<div class=\"clearB\"></div>\\r\\n<br /><br />\\r\\n\\r\\n<div class=\"footer_googAd marginLAuto marginRAuto\" style=\"width:728px;\">\\r\\n  <div id=\"footerAd\"></div><!-- placeholder for footer ad -->\\r\\n  <script>\\r\\n    footerAdDisplay();\\r\\n  </script>\\r\\n</div>\\r\\n\\r\\n<!-- END Google Ads includes/footer_googAd.inc-->\\r\\n\\r\\n\\r\\n   \\r\\n\\r\\n\\t\\t<div id=\"back-to-top\" title=\"Scroll back to top\" onclick=\"triggerAsyncOmnitureClickEvent(\\'master:global-object:back-to-top\\')\"><span></span></div>\\r\\n\\t</div><!--end wrap-->\\r\\n\\r\\n\\t<!-- begin includes/fixedFooter.inc-->\\r\\n<!--// begin footer -->\\r\\n<footer class=\"site__footer\">\\r\\n\\t<div class=\"site__footer--primary\">\\r\\n\\t\\t<div class=\"wrapper\">\\r\\n\\t\\t\\t<a href=\"https://www.nasdaq.com/\" class=\"logo\">\\r\\n\\t\\t\\t\\t<div></div>\\r\\n\\t\\t\\t</a>\\r\\n\\t\\t\\t<div class=\"floatR\">\\r\\n\\t\\t\\t\\t<a href=\"https://www.facebook.com/NASDAQ\" class=\"icon icon-facebook\">\\r\\n\\t\\t\\t\\t\\t<span></span>\\r\\n\\t\\t\\t\\t</a>\\r\\n\\t\\t\\t\\t<a href=\"https://twitter.com/nasdaq\" class=\"icon icon-twitter\">\\r\\n\\t\\t\\t\\t\\t<span></span>\\r\\n\\t\\t\\t\\t</a>\\r\\n\\t\\t\\t\\t<a href=\"https://plus.google.com/+nasdaq\" class=\"icon icon-google-plus\">\\r\\n\\t\\t\\t\\t\\t<span></span>\\r\\n\\t\\t\\t\\t</a>\\r\\n\\t\\t\\t</div>\\r\\n\\t\\t</div>\\r\\n\\t</div>\\r\\n\\t<div class=\"site__footer--secondary\">\\r\\n\\t\\t<div class=\"wrapper\">\\r\\n\\t\\t\\t<nav class=\"site__footer__nav\">\\r\\n\\t\\t\\t\\t<ul>\\r\\n\\t\\t\\t\\t\\t<li><a href=\"https://www.nasdaq.com/\" title=\"Nasdaq\"><strong>Nasdaq.com</strong></a></li>\\r\\n\\t\\t\\t\\t\\t<li><a href=\"https://www.nasdaq.com/quotes/company-news.aspx\" title=\"Company News\">Company News</a><span>&#47;</span></li>\\r\\n\\t\\t\\t\\t\\t<li><a href=\"https://www.nasdaq.com/services/annual-reports.aspx\" title=\"Annual Report\">Annual Report</a><span>&#47;</span></li>\\r\\n\\t\\t\\t\\t\\t<li><a href=\"https://www.nasdaq.com/help/contact-information.aspx\" title=\"Contact\">Contact</a><span>&#47;</span></li>\\r\\n          <li><a href=\"https://business.nasdaq.com/discover/careers/index.html\" title=\"Careers\">Careers</a><span>&#47;</span></li>\\r\\n\\t\\t\\t\\t\\t<li><a href=\"https://www.nasdaq.com/help/nasdaq-advertising.aspx\" title=\"Advertise on Nasdaq.com\">Advertise on Nasdaq.com</a></li>\\r\\n\\t\\t\\t\\t</ul>\\r\\n\\t\\t\\t\\t<ul class=\"lighter\">\\r\\n\\t\\t\\t\\t\\t<li><a href=\"https://www.nasdaq.com/about/terms.aspx\" title=\"Terms of Use\">Terms of Use</a><span>&#47;</span></li>\\r\\n\\t\\t\\t\\t\\t<li><a href=\"https://business.nasdaq.com/privacy-statement/\" title=\"Privacy Policy\">Privacy Policy</a><span>&#47;</span></li>\\r\\n\\t\\t\\t\\t\\t<li><a href=\"https://www.nasdaq.com/help/sitemap.aspx\" title=\"Sitemap\">Sitemap</a><span>&#47;</span></li>\\r\\n\\t\\t\\t\\t\\t<li><a href=\"https://www.nasdaq.com/investing/glossary/\" title=\"Glossary\">Glossary</a><span>&#47;</span></li>\\r\\n\\t\\t\\t\\t\\t<li><a href=\"https://www.nasdaq.com/feedback/\" title=\"Feedback\">Feedback</a></li>\\r\\n\\t\\t\\t\\t</ul>\\r\\n\\t\\t\\t</nav>\\r\\n\\t\\t</div>\\r\\n\\t</div>\\r\\n</footer>\\r\\n<!--// end footer -->\\r\\n<!-- begin lightbox backdrop -->\\r\\n<table class=\"backdrop\" id=\"backdrop\">\\r\\n\\t<tr>\\r\\n\\t\\t<td>\\r\\n\\t\\t\\t<!-- begin lightboxness -->\\r\\n\\t\\t\\t<div class=\"lightbox edit-stocks\" id=\"edit-stocks\">\\r\\n\\t\\t\\t\\t<!-- close button-->\\r\\n\\t\\t\\t\\t<span class=\"close\">CLOSE<span class=\"x\">X</span></span>\\r\\n\\t\\t\\t\\t<div class=\"floatL\">\\r\\n\\t\\t\\t\\t\\t<h2><center>Edit Favorites</center></h2>\\r\\n\\t\\t\\t\\t\\t<!-- text -->\\r\\n\\t\\t\\t\\t\\t<p>Enter up to 25 symbols separated by commas or spaces in the text box below. These symbols will be available during your session for use on applicable pages.</p>\\r\\n\\t\\t\\t\\t\\t<!-- input box -->\\r\\n\\t\\t\\t\\t\\t<div class=\"floatL\">\\r\\n\\t\\t\\t\\t\\t\\t<textarea onkeypress=\"if(event.keyCode ==13){nasdaqIndexRow.myListGo()}else if(event.keyCode == 27){$(\\'.close\\').click();}\" id=\"myListInput\" name=\"myListInput\" cols=\"35\" rows=\"3\" class=\"fontS14px\"></textarea>\\r\\n\\t\\t\\t\\t\\t</div>\\r\\n\\t\\t\\t\\t\\t<!-- right side controls -->\\r\\n\\t\\t\\t\\t\\t<div class=\"floatL marginL10px\">\\r\\n\\t\\t\\t\\t\\t\\t<a href=\"javascript:void(0)\" class=\"lightgreen-button marginB5px TalignC\" onclick=\"nasdaqIndexRow.myListGo();\">Update</a>\\r\\n\\t\\t\\t\\t\\t\\t<br />\\r\\n\\t\\t\\t\\t\\t\\t<a href=\"javascript:void(0)\" class=\"red-button\" onclick=\"nasdaqIndexRow.clearMyList();\">Clear List</a>\\r\\n\\t\\t\\t\\t\\t</div>\\r\\n\\t\\t\\t\\t</div>\\r\\n\\t\\t\\t</div>\\r\\n\\t\\t\\t<!-- end lightboxness -->\\r\\n\\t\\t\\t<!-- begin lightboxness -->\\r\\n\\t\\t\\t<div class=\"lightbox stock-searches\" id=\"stock-searches\">\\r\\n\\t\\t\\t\\t<!-- close button-->\\r\\n\\t\\t\\t\\t<span class=\"close\">CLOSE<span class=\"x\">X</span></span>\\r\\n\\t\\t\\t\\t<h2>Customize your NASDAQ.com experience</h2>\\r\\n\\t\\t\\t\\t<b>Background Color Selector</b>\\r\\n\\t\\t\\t\\t<br />\\r\\n\\t\\t\\t\\t<span>Select the background color of your choice:</span>\\r\\n\\t\\t\\t\\t<div class=\"clearB\"></div>\\r\\n\\t\\t\\t\\t<div id=\"BgSelector\">\\r\\n\\t\\t\\t\\t\\t<div>\\r\\n\\t\\t\\t\\t\\t\\t<div class=\"BgSelector-1\">\\r\\n\\t\\t\\t\\t\\t\\t\\t<div class=\"floatL\">\\r\\n\\t\\t\\t\\t\\t\\t\\t\\t<input type=\"radio\" name=\"themepreference\" value=\"blackg\" onclick=\"updateSiteTheme(this.value)\">&nbsp;Black\\r\\n\\t\\t\\t\\t\\t\\t\\t</div>\\r\\n\\t\\t\\t\\t\\t\\t\\t<div class=\"BgSelector-color\"></div>\\r\\n\\t\\t\\t\\t\\t\\t</div>\\r\\n\\t\\t\\t\\t\\t\\t<div class=\"clearB\"></div>\\r\\n\\t\\t\\t\\t\\t\\t<div class=\"BgSelector-2\">\\r\\n\\t\\t\\t\\t\\t\\t\\t<div class=\"floatL\">\\r\\n\\t\\t\\t\\t\\t\\t\\t\\t<input type=\"radio\" name=\"themepreference\" value=\"slateg\" onclick=\"updateSiteTheme(this.value)\">&nbsp;Slate Gray\\r\\n\\t\\t\\t\\t\\t\\t\\t</div>\\r\\n\\t\\t\\t\\t\\t\\t\\t<div class=\"BgSelector-color\"></div>\\r\\n\\t\\t\\t\\t\\t\\t</div>\\r\\n\\t\\t\\t\\t\\t</div>\\r\\n\\t\\t\\t\\t\\t<div>\\r\\n\\t\\t\\t\\t\\t\\t<div class=\"BgSelector-3\">\\r\\n\\t\\t\\t\\t\\t\\t\\t<div class=\"floatL\">\\r\\n\\t\\t\\t\\t\\t\\t\\t\\t<input type=\"radio\" name=\"themepreference\" value=\"lightg\" onclick=\"updateSiteTheme(this.value)\">&nbsp;Light Gray\\r\\n\\t\\t\\t\\t\\t\\t\\t</div>\\r\\n\\t\\t\\t\\t\\t\\t\\t<div class=\"BgSelector-color\"></div>\\r\\n\\t\\t\\t\\t\\t\\t</div>\\r\\n\\t\\t\\t\\t\\t\\t<div class=\"clearB\"></div>\\r\\n\\t\\t\\t\\t\\t\\t<div class=\"BgSelector-4\">\\r\\n\\t\\t\\t\\t\\t\\t\\t<div class=\"floatL\">\\r\\n\\t\\t\\t\\t\\t\\t\\t\\t<input type=\"radio\" name=\"themepreference\" value=\"grayb\" onclick=\"updateSiteTheme(this.value)\">&nbsp;Gray Blue\\r\\n\\t\\t\\t\\t\\t\\t\\t</div>\\r\\n\\t\\t\\t\\t\\t\\t\\t<div class=\"BgSelector-color\"></div>\\r\\n\\t\\t\\t\\t\\t\\t</div>\\r\\n\\t\\t\\t\\t\\t</div>\\r\\n\\t\\t\\t\\t</div>\\r\\n\\t\\t\\t\\t<div class=\"clearB\"></div>\\r\\n\\t\\t\\t\\t<hr /><br />\\r\\n\\t\\t\\t\\t<b>Quote Search</b>\\r\\n\\t\\t\\t\\t<br />\\r\\n\\t\\t\\t\\t<span>Select a default target page for your quote search:</span>\\r\\n\\t\\t\\t\\t<div id=\"QuoteSetting\">\\r\\n\\t\\t\\t\\t\\t<div>\\r\\n\\t\\t\\t\\t\\t\\t<input type=\"radio\" name=\"quotepreference\" value=\"realtime\" onclick=\"Nasdaq_Quotesearch.confirmUserPref(this.value)\">\\r\\n\\t\\t\\t\\t\\t\\t&nbsp;Real-Time<br />\\r\\n\\t\\t\\t\\t\\t\\t<input type=\"radio\" name=\"quotepreference\" value=\"afthours\" onclick=\"Nasdaq_Quotesearch.confirmUserPref(this.value)\">\\r\\n\\t\\t\\t\\t\\t\\t&nbsp;After Hours<br />\\r\\n\\t\\t\\t\\t\\t\\t<input type=\"radio\" name=\"quotepreference\" value=\"premkt\" onclick=\"Nasdaq_Quotesearch.confirmUserPref(this.value)\">\\r\\n\\t\\t\\t\\t\\t\\t&nbsp;Pre-Market<br />\\r\\n\\t\\t\\t\\t\\t\\t<input type=\"radio\" name=\"quotepreference\" value=\"compnews\" onclick=\"Nasdaq_Quotesearch.confirmUserPref(this.value)\">&nbsp;News\\r\\n\\t\\t\\t\\t\\t</div>\\r\\n\\t\\t\\t\\t\\t<div>\\r\\n\\t\\t\\t\\t\\t\\t<input type=\"radio\" name=\"quotepreference\" value=\"flash\" onclick=\"Nasdaq_Quotesearch.confirmUserPref(this.value)\">\\r\\n\\t\\t\\t\\t\\t\\t&nbsp;Flash Quote<br />\\r\\n\\t\\t\\t\\t\\t\\t<input type=\"radio\" name=\"quotepreference\" value=\"summary\" onclick=\"Nasdaq_Quotesearch.confirmUserPref(this.value)\">\\r\\n\\t\\t\\t\\t\\t\\t&nbsp;Summary Quote<br />\\r\\n\\t\\t\\t\\t\\t\\t<input type=\"radio\" name=\"quotepreference\" value=\"dyncharts\" onclick=\"Nasdaq_Quotesearch.confirmUserPref(this.value)\">\\r\\n\\t\\t\\t\\t\\t\\t&nbsp;Interactive Charts<br />\\r\\n\\t\\t\\t\\t\\t\\t<input type=\"radio\" name=\"quotepreference\" value=\"default\" onclick=\"Nasdaq_Quotesearch.confirmUserPref(this.value)\">\\r\\n\\t\\t\\t\\t\\t\\t&nbsp;Default Setting<br />\\r\\n\\t\\t\\t\\t\\t</div>\\r\\n\\t\\t\\t\\t</div>\\r\\n\\t\\t\\t\\t<div class=\"clearB\"></div>\\r\\n\\t\\t\\t\\t<span>\\r\\n\\t\\t\\t\\t\\tPlease note that once you make your selection, it will apply to all future visits to NASDAQ.com.\\r\\n\\t\\t\\t\\t\\tIf, at any time, you are interested in reverting to our default settings, please select Default Setting above.\\r\\n\\t\\t\\t\\t\\t<br /><br />\\r\\n\\t\\t\\t\\t\\tIf you have any questions or encounter any issues in changing your default settings, please email <a href=\"mailto:isfeedback@nasdaq.com?Subject=Default%20Settings%20Inquiry\">isfeedback@nasdaq.com</a>.\\r\\n\\t\\t\\t\\t</span>\\r\\n\\t\\t\\t</div>\\r\\n\\t\\t\\t<!-- end lightboxness -->\\r\\n\\t\\t\\t<!-- begin lightboxness -->\\r\\n\\t\\t\\t<div class=\"lightbox\" id=\"confirm\">\\r\\n\\t\\t\\t\\t<!-- close button-->\\r\\n\\t\\t\\t\\t<span class=\"close\">CLOSE<span class=\"x\">X</span></span>\\r\\n\\t\\t\\t\\t<h4>Please confirm your selection:</h4>\\r\\n\\t\\t\\t\\t<p>\\r\\n\\t\\t\\t\\t\\tYou have selected to change your default setting for the Quote Search. This will now be your default target page;\\r\\n\\t\\t\\t\\t\\tunless you change your configuration again, or you delete your\\r\\n\\t\\t\\t\\t\\tcookies. <b>Are you sure you want to change your settings?</b>\\r\\n\\t\\t\\t\\t</p>\\r\\n\\t\\t\\t\\t<div>\\r\\n\\t\\t\\t\\t\\t<button class=\"floatL\"  onclick=\"Nasdaq_Quotesearch.confirmHandler(\\'defaultQuote\\', true)\">YES</button>\\r\\n\\t\\t\\t\\t\\t<button class=\"floatR\"  onclick=\"Nasdaq_Quotesearch.confirmHandler(\\'defaultQuote\\', false)\">NO</button>\\r\\n\\t\\t\\t\\t</div>\\r\\n\\t\\t\\t</div>\\r\\n\\t\\t\\t<!-- end lightboxness -->\\r\\n\\t\\t</td>\\r\\n\\t</tr>\\r\\n</table>\\r\\n<!-- end lightbox backdrop -->\\r\\n<table class=\"backdrop\" id=\"globalCustomModal\">\\r\\n\\t<tr>\\r\\n\\t\\t<td>\\r\\n            <!-- begin lightboxness -->\\r\\n            <div class=\"lightbox\" id=\"adBlockMsg\">\\r\\n\\t\\t\\t\\t<!-- close button-->\\r\\n\\t\\t\\t\\t<span class=\"close\" onclick=\"close_global_modal()\">CLOSE<span class=\"x\">X</span></span>\\r\\n\\t\\t\\t\\t<!-- <h2><center>We have a favor to ask</center></h2> -->\\r\\n\\t\\t\\t\\t<!-- text -->\\r\\n\\t\\t\\t\\t<p id=\"adBlockMsgText\">Please disable your ad blocker (or <a href=\"https://www.nasdaq.com/help/adblock-instructions.aspx\">update your settings</a> to ensure that javascript and cookies are enabled), so that we can continue to provide you with the first-rate market news and data you\\'ve come to expect from us.</p>\\r\\n\\t\\t\\t</div>\\r\\n            <!-- end lightboxness -->\\r\\n\\t\\t\\t<!-- begin lightboxness -->\\r\\n            <div class=\"lightbox\" id=\"interstitialAdContainer\" style=\"width:705px;height:575px\">\\r\\n\\t\\t\\t\\t<!-- close button-->\\r\\n\\t\\t\\t\\t<span class=\"close\" onclick=\"close_global_modal()\">CLOSE<span class=\"x\">X</span></span>\\r\\n\\t\\t\\t\\t<!-- <h2><center>Sponsor Message</center></h2> -->\\r\\n\\t\\t\\t\\t<!-- text -->\\r\\n\\t\\t\\t\\t<p id=\"interstitialContainer\"></p>\\r\\n\\t\\t\\t</div>\\r\\n            <!-- end lightboxness -->\\r\\n         </td>\\r\\n\\t</tr>\\r\\n</table>\\r\\n\\r\\n<!-- Omniture code -->\\r\\n\\r\\n<!--********************BEGIN  ../includes/omniture.inc***********************-->\\r\\n\\r\\n<!-- SiteCatalyst code version: H.1.\\r\\nCopyright 1997-2005 Omniture, Inc. More info available at https://www.omniture.com -->\\r\\n<script language=\"JavaScript\" type=\"text/javascript\" src=\"https://www.nasdaq.com/includes/s_code-072016v1.js?v=03012016\"></script>\\r\\n\\r\\n\\r\\n<script type=\"text/javascript\" language=\"JavaScript\">\\r\\n\\r\\n<!--\\r\\nif(navigator.appVersion.indexOf(\\'MSIE\\')>=0)document.write(unescape(\\'%3C\\')+\\'\\\\!-\\'+\\'-\\')\\r\\n//--></script>\\r\\n\\r\\n<noscript><img\\r\\nsrc=\"https://nasdaq.122.2O7.net/b/ss/nasdaqprod/1/H.1--NS/0\"\\r\\nheight=\"1\" width=\"1\" border=\"0\" alt=\"\" /></noscript><!--/DO NOT REMOVE/-->\\r\\n<!-- End SiteCatalyst code version: H.1. -->\\r\\n<!-- setSectionName() moved to js file: masthead_default.js -->\\r\\n\\r\\n\\r\\n<!--*********************End  ../includes/omniture.inc*******************************-->\\r\\n\\r\\n\\r\\n<script type=\"text/javascript\">\\r\\n//<![CDATA[\\r\\nsetSectionName(propVar);\\r\\n//]]>\\r\\n</script>\\r\\n\\r\\n<!-- Begin BlueKai Tag --> \\r\\n<iframe name=\"__bkframe\" height=\"0\" width=\"0\" frameborder=\"0\" style=\"display:none;position:absolute;clip:rect(0px 0px 0px 0px)\" src=\"about:blank\"></iframe> \\r\\n<script type=\"text/javascript\" src=\"https://tags.bkrtx.com/js/bk-coretag.js\"></script> \\r\\n<script type=\"text/javascript\">\\r\\n\\r\\nbk_addPageCtx(\\'is_dartSite\\', (typeof(is_dartSite)!==\\'undefined\\')?is_dartSite:\\'\\');\\r\\nbk_addPageCtx(\\'is_dartZone\\', (typeof(is_dartZone)!==\\'undefined\\')?is_dartZone:\\'\\');\\r\\nbk_addPageCtx(\\'propVar\\', (typeof(propVar)!==\\'undefined\\')?propVar:\\'\\');\\r\\nbk_addPageCtx(\\'propVar15\\', (typeof(propVar15)!==\\'undefined\\')?propVar15:\\'\\');\\r\\nbk_addPageCtx(\\'SymbolType\\', (typeof(SymbolType)!==\\'undefined\\')?SymbolType:\\'\\');\\r\\nbk_addPageCtx(\\'StockIndustry\\', (typeof(StockIndustry)!==\\'undefined\\')?StockIndustry:\\'\\');\\r\\nbk_addPageCtx(\\'ArticlePrimaryCategory\\', (typeof(ArticlePrimaryCategory)!==\\'undefined\\')?ArticlePrimaryCategory:\\'\\');\\r\\n \\r\\nbk_doJSTag(31843, 1); \\r\\n</script> \\r\\n<!-- End BlueKai Tag -->\\r\\n\\r\\n<!-- begin Enerprise Florida survey -->\\r\\n<script>\\r\\n/*\\r\\n(function(){\\r\\nif(document.referrer==\"https://www\"+host_Extension+\".nasdaq.com/markets/ipos/\" \\r\\n\\t&& document.location.href!=\"https://www\"+host_Extension+\".nasdaq.com/markets/ipos/\"\\r\\n\\t&& get_cookie_value(\"EnterpriseFloridaSurvey\")==false)\\r\\n{\\r\\n\\tset_cookie_value(\"EnterpriseFloridaSurvey\",\"true\",3);\\r\\n\\t(function(t,e,s,n){var o,c,a;t.SMCX=t.SMCX||[],e.getElementById(n)||(o=e.getElementsByTagName(s),c=o[o.length-1],a=e.createElement(s),a.type=\"text/javascript\",a.async=!0,a.id=n,a.src=[\"https:\"===location.protocol?\"https://\":\"https://\",\"widget.surveymonkey.com/collect/website/js/DrqdalJhvDd5ACgCO0mDpO1m7_2FEv_2BICPaYzBfwyQJ8_2BsY6t3mPJl0hh2FGypTiFu.js\"].join(\"\"),c.parentNode.insertBefore(a,c))})(window,document,\"script\",\"smcx-sdk\");\\r\\n}\\r\\nelse if(document.location.href==\"https://www\"+host_Extension+\".nasdaq.com/markets/gold.aspx\"\\r\\n\\t&& get_cookie_value(\"EnterpriseFloridaSurvey\")==false)\\r\\n  {\\r\\n  set_cookie_value(\"EnterpriseFloridaSurvey\",\"true\",7);\\r\\n  (function(e,t,n,o){var s,c,i;e.SMCX=e.SMCX||[],t.getElementById(o)||(s=t.getElementsByTagName(n),c=s[s.length-1],i=t.createElement(n),i.type=\"text/javascript\",i.async=!0,i.id=o,i.src=[\"https:\"===location.protocol?\"https://\":\"https://\",\"widget.surveymonkey.com/collect/website/js/zlERY9yXVqREVYHr6ZdqhDNMqk2NLii_2Fefbn4hZPEGkz2TEDYuhOlBtXpQe_2FgiXz.js\"].join(\"\"),c.parentNode.insertBefore(i,c))})(window,document,\"script\",\"smcx-sdk\");\\r\\n  }\\r\\n  })();\\r\\n  */\\r\\n\\r\\n  //deferred actions\\r\\n\\r\\n  //deferred actions\\r\\n  $(window).on(\\'load\\', function () {\\r\\n  addScript(\"https://www.nasdaq.com/includes/nasdaqdeferred.min-04242018v1.js\", true, \"deferredActions()\");\\r\\n  });\\r\\n\\r\\n</script>\\r\\n<!-- end Enterprise Florida survey -->\\r\\n\\r\\n<!-- end includes/fixedFooter.inc-->\\r\\n\\r\\n\\r\\n    <!-- START page bottom script -->\\r\\n    <script type=\"text/javascript\">\\r\\n    $(document).ready(function () {\\r\\n    setTimeout(function () {\\r\\n        initStickyContent();\\r\\n    }, 5000);\\r\\n});\\r\\n\\r\\nfunction initStickyContent() {\\r\\n    var menuHeight = 85; //masthead height; padding between sticky content and top of the screen\\r\\n    var bottomElementSelector = \\'#footerAd\\';//bottom boundary element which sticky content won\\'t move past vertically\\r\\n    var footerOffset = 0; //padding between sticky content and bottom boundary element\\r\\n    var content1Selector = \\'#sticky-container1\\';//initial sticky element\\r\\n    var content1Height = 411;//height of initial sticky element\\r\\n\\r\\n    function initStickyContent1() {\\r\\n        var stickyContainer = $(content1Selector);\\r\\n        if (stickyContainer.length == 0) return;\\r\\n        var stickyTop = stickyContainer.offset().top - menuHeight;\\r\\n        var maxBottom = $(bottomElementSelector).offset().top - footerOffset;\\r\\n        //define scroll distance, bottom point is based on scroll distance            \\r\\n        var bottom = $(bottomElementSelector).offset().top - footerOffset - content1Height - menuHeight - 600;\\r\\n        //if scroll distance goes into footer, readjust\\r\\n        if (bottom > maxBottom) bottom = maxBottom;\\r\\n        var currentlyStickied = false;\\r\\n        var disableSticky = false;\\r\\n        var distance = bottom - stickyTop - content1Height - menuHeight;\\r\\n        $(window).scroll(function () {\\r\\n            var windowTop;\\r\\n            if (!disableSticky) {\\r\\n                windowTop = $(window).scrollTop();\\r\\n                if (stickyTop < windowTop) {\\r\\n                    if (windowTop < bottom) {\\r\\n                        if (!currentlyStickied) {\\r\\n                            //scroll position is past sticky point but above bottom point and content is currently non-sticky\\r\\n                            //go from non-sticky to sticky\\r\\n                            stickyContainer.css({ position: \\'fixed\\', top: menuHeight + \"px\" });\\r\\n                            currentlyStickied = true;\\r\\n                        }\\r\\n                    }\\r\\n                    else {\\r\\n                        if (currentlyStickied) {\\r\\n                            //scroll position is past sticky point and past bottom point and content is currently sticky\\r\\n                            //go from sticky to original position and disable future stickiness\\r\\n                            stickyContainer.css({ position: \\'fixed\\', top: (menuHeight - 860) + \"px\" });\\r\\n                            currentlyStickied = false;\\r\\n                        }\\r\\n                    }\\r\\n                }\\r\\n                else {\\r\\n                    if (currentlyStickied) {\\r\\n                        //scroll position is above sticky point but content is currently sticky\\r\\n                        //go from sticky to original position\\r\\n                        stickyContainer.css(\\'position\\', \\'static\\');\\r\\n                        currentlyStickied = false;\\r\\n                    }\\r\\n                }\\r\\n            }\\r\\n        });\\r\\n    }\\r\\n\\r\\n    initStickyContent1();\\r\\n}\\r\\n</script>\\r\\n    <!-- END page bottom script -->\\r\\n\\r\\n\\r\\n</body>\\t\\r\\n</html>\\r\\n'"
      ]
     },
     "execution_count": 25,
     "metadata": {},
     "output_type": "execute_result"
    }
   ],
   "source": [
    "html"
   ]
  },
  {
   "cell_type": "code",
   "execution_count": 27,
   "metadata": {},
   "outputs": [],
   "source": [
    "pattern = r'https://community.nasdaq.com/community-ratings.aspx?stockticker=[A-Z]+'\n",
    "regex = re.compile(pattern)\n",
    "matches = regex.finditer(html)\n",
    "for m in matches:\n",
    "    print(m)"
   ]
  },
  {
   "cell_type": "markdown",
   "metadata": {
    "collapsed": true
   },
   "source": [
    "#### Exercise 3 (Open Ended)\n",
    "\n",
    "* Program your Slack bot to receive questions/phrases of a particular form (e.g., \"Hello @bot, my name is XXXX\") and then extract a piece of text and reply. (e.g., \"Hi XXXX, how are you doing?\")"
   ]
  },
  {
   "cell_type": "code",
   "execution_count": null,
   "metadata": {},
   "outputs": [],
   "source": []
  },
  {
   "cell_type": "code",
   "execution_count": null,
   "metadata": {},
   "outputs": [],
   "source": []
  },
  {
   "cell_type": "code",
   "execution_count": null,
   "metadata": {},
   "outputs": [],
   "source": []
  },
  {
   "cell_type": "markdown",
   "metadata": {},
   "source": [
    "#### Solution for Exercise 1"
   ]
  },
  {
   "cell_type": "code",
   "execution_count": null,
   "metadata": {},
   "outputs": [],
   "source": [
    "# Email regex\n",
    "regex = re.compile(r'\\w+@(\\w+\\.)+\\w+')\n",
    "\n",
    "# We can create either a list or a set, but let's avoid duplicates\n",
    "emails = set()\n",
    "\n",
    "# Fetch the HTML source\n",
    "url = 'http://www.stern.nyu.edu/faculty/search_name_form'\n",
    "html = requests.get(url).text\n",
    "\n",
    "# Find matches\n",
    "matches = regex.finditer(html)\n",
    "# Go through matches and add them in our result set\n",
    "for m in matches:\n",
    "    emails.add(m.group())\n",
    "\n",
    "sorted(emails)"
   ]
  },
  {
   "cell_type": "code",
   "execution_count": null,
   "metadata": {},
   "outputs": [],
   "source": [
    "# and let's make it very compact using list comprehensions\n",
    "import requests\n",
    "url = 'http://www.stern.nyu.edu/faculty/search_name_form'\n",
    "html = requests.get(url).text\n",
    "regex = re.compile(r'\\w+@(\\w+\\.)+\\w+')\n",
    "emails = set([m.group() for m in regex.finditer(html) ])\n",
    "emails"
   ]
  },
  {
   "cell_type": "markdown",
   "metadata": {},
   "source": [
    "#### Solution for exercise 2"
   ]
  },
  {
   "cell_type": "code",
   "execution_count": 28,
   "metadata": {},
   "outputs": [
    {
     "name": "stdout",
     "output_type": "stream",
     "text": [
      "http://www.nasdaq.com/screening/companies-by-name.aspx?letter=A\n",
      "Results: 645\n",
      "Letter A needs 13 pages\n",
      "We have  0 tickers\n",
      "http://www.nasdaq.com/screening/companies-by-name.aspx?letter=B\n",
      "Results: 405\n",
      "Letter B needs 9 pages\n",
      "We have  0 tickers\n",
      "http://www.nasdaq.com/screening/companies-by-name.aspx?letter=C\n",
      "Results: 704\n",
      "Letter C needs 15 pages\n",
      "We have  0 tickers\n",
      "http://www.nasdaq.com/screening/companies-by-name.aspx?letter=D\n",
      "Results: 209\n",
      "Letter D needs 5 pages\n",
      "We have  0 tickers\n",
      "http://www.nasdaq.com/screening/companies-by-name.aspx?letter=E\n",
      "Results: 333\n",
      "Letter E needs 7 pages\n",
      "We have  0 tickers\n",
      "http://www.nasdaq.com/screening/companies-by-name.aspx?letter=F\n",
      "Results: 354\n",
      "Letter F needs 8 pages\n",
      "We have  0 tickers\n",
      "http://www.nasdaq.com/screening/companies-by-name.aspx?letter=G\n",
      "Results: 304\n",
      "Letter G needs 7 pages\n",
      "We have  0 tickers\n",
      "http://www.nasdaq.com/screening/companies-by-name.aspx?letter=H\n",
      "Results: 213\n",
      "Letter H needs 5 pages\n",
      "We have  0 tickers\n",
      "http://www.nasdaq.com/screening/companies-by-name.aspx?letter=I\n",
      "Results: 359\n",
      "Letter I needs 8 pages\n",
      "We have  0 tickers\n",
      "http://www.nasdaq.com/screening/companies-by-name.aspx?letter=J\n",
      "Results: 81\n",
      "Letter J needs 2 pages\n",
      "We have  0 tickers\n",
      "http://www.nasdaq.com/screening/companies-by-name.aspx?letter=K\n",
      "Results: 118\n",
      "Letter K needs 3 pages\n",
      "We have  0 tickers\n",
      "http://www.nasdaq.com/screening/companies-by-name.aspx?letter=L\n",
      "Results: 204\n",
      "Letter L needs 5 pages\n",
      "We have  0 tickers\n",
      "http://www.nasdaq.com/screening/companies-by-name.aspx?letter=M\n",
      "Results: 358\n",
      "Letter M needs 8 pages\n",
      "We have  0 tickers\n",
      "http://www.nasdaq.com/screening/companies-by-name.aspx?letter=N\n",
      "Results: 352\n",
      "Letter N needs 8 pages\n",
      "We have  0 tickers\n",
      "http://www.nasdaq.com/screening/companies-by-name.aspx?letter=O\n",
      "Results: 150\n",
      "Letter O needs 4 pages\n",
      "We have  0 tickers\n",
      "http://www.nasdaq.com/screening/companies-by-name.aspx?letter=P\n",
      "Results: 391\n",
      "Letter P needs 8 pages\n",
      "We have  0 tickers\n",
      "http://www.nasdaq.com/screening/companies-by-name.aspx?letter=Q\n",
      "Results: 43\n",
      "Letter Q needs 1 pages\n",
      "We have  0 tickers\n",
      "http://www.nasdaq.com/screening/companies-by-name.aspx?letter=R\n",
      "Results: 210\n",
      "Letter R needs 5 pages\n",
      "We have  0 tickers\n",
      "http://www.nasdaq.com/screening/companies-by-name.aspx?letter=S\n",
      "Results: 514\n",
      "Letter S needs 11 pages\n",
      "We have  0 tickers\n",
      "http://www.nasdaq.com/screening/companies-by-name.aspx?letter=T\n",
      "Results: 380\n",
      "Letter T needs 8 pages\n",
      "We have  0 tickers\n",
      "http://www.nasdaq.com/screening/companies-by-name.aspx?letter=U\n",
      "Results: 122\n",
      "Letter U needs 3 pages\n",
      "We have  0 tickers\n",
      "http://www.nasdaq.com/screening/companies-by-name.aspx?letter=V\n",
      "Results: 180\n",
      "Letter V needs 4 pages\n",
      "We have  0 tickers\n",
      "http://www.nasdaq.com/screening/companies-by-name.aspx?letter=W\n",
      "Results: 188\n",
      "Letter W needs 4 pages\n",
      "We have  0 tickers\n",
      "http://www.nasdaq.com/screening/companies-by-name.aspx?letter=X\n",
      "Results: 24\n",
      "Letter X needs 1 pages\n",
      "We have  0 tickers\n",
      "http://www.nasdaq.com/screening/companies-by-name.aspx?letter=Y\n",
      "Results: 19\n",
      "Letter Y needs 1 pages\n",
      "We have  0 tickers\n",
      "http://www.nasdaq.com/screening/companies-by-name.aspx?letter=Z\n",
      "Results: 35\n",
      "Letter Z needs 1 pages\n",
      "We have  0 tickers\n"
     ]
    },
    {
     "data": {
      "text/plain": [
       "set()"
      ]
     },
     "execution_count": 28,
     "metadata": {},
     "output_type": "execute_result"
    }
   ],
   "source": [
    "import requests\n",
    "\n",
    "alphabet = \"ABCDEFGHIJKLMNOPQRSTUVWXYZ\"\n",
    "tickers = set()\n",
    "for letter in alphabet:\n",
    "    url = 'http://www.nasdaq.com/screening/companies-by-name.aspx?letter='+letter\n",
    "    print(url)\n",
    "    html = requests.get(url).text\n",
    "    \n",
    "    # The code below extracts the number of pages for each letter\n",
    "    # of the alphabet. Potentially we can use that number to\n",
    "    # iterate over all the pages in NASDAQ. Left as an exercise\n",
    "    # for the interested reader :-)\n",
    "    pages_regex = r'Displaying.*of.*<b>(\\d+)</b>.*results'\n",
    "    pregex = re.compile(pages_regex)\n",
    "    pages = pregex.finditer(html)\n",
    "    for m in pages:\n",
    "        print(\"Results:\", m.group(1))\n",
    "        pages = int(int(m.group(1))/50+1)\n",
    "        print(\"Letter\", letter, \"needs\", str(pages), \"pages\")\n",
    "    \n",
    "    ticker_regex = r'http://www.nasdaq.com/symbol/(\\w+)'\n",
    "    regex = re.compile(ticker_regex)\n",
    "    matches = regex.finditer(html)\n",
    "    for m in matches:\n",
    "        ticker = m.group(1).upper()\n",
    "        #print(\"URL:\", m.group())\n",
    "        #print(\"Ticker:\", ticker)\n",
    "        tickers.add(ticker)\n",
    "    print(\"We have \", len(tickers), \"tickers\")\n",
    "\n",
    "tickers"
   ]
  },
  {
   "cell_type": "code",
   "execution_count": null,
   "metadata": {},
   "outputs": [],
   "source": []
  }
 ],
 "metadata": {
  "kernelspec": {
   "display_name": "Python 3",
   "language": "python",
   "name": "python3"
  },
  "language_info": {
   "codemirror_mode": {
    "name": "ipython",
    "version": 3
   },
   "file_extension": ".py",
   "mimetype": "text/x-python",
   "name": "python",
   "nbconvert_exporter": "python",
   "pygments_lexer": "ipython3",
   "version": "3.6.6"
  }
 },
 "nbformat": 4,
 "nbformat_minor": 1
}
