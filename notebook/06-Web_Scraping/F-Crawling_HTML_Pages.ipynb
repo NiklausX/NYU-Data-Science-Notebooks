{
 "cells": [
  {
   "cell_type": "markdown",
   "metadata": {},
   "source": [
    "## Crawling and Extracting Data from Websites"
   ]
  },
  {
   "cell_type": "markdown",
   "metadata": {},
   "source": [
    "This module uses a set of non-standard libraries, which need to be installed on your machine. By default, your instance should have these installed, but if this is not the case, type these in the Unix shell prompt\n",
    "\n",
    "\n",
    "\n"
   ]
  },
  {
   "cell_type": "code",
   "execution_count": null,
   "metadata": {},
   "outputs": [],
   "source": [
    "!sudo -H apt-get -y install libxml2-dev libxslt-dev python3-dev"
   ]
  },
  {
   "cell_type": "markdown",
   "metadata": {},
   "source": [
    "and then"
   ]
  },
  {
   "cell_type": "code",
   "execution_count": null,
   "metadata": {},
   "outputs": [],
   "source": [
    "!sudo -H pip3 install -U lxml"
   ]
  },
  {
   "cell_type": "code",
   "execution_count": null,
   "metadata": {},
   "outputs": [],
   "source": [
    "!sudo -H pip3 install -U pandas"
   ]
  },
  {
   "cell_type": "markdown",
   "metadata": {},
   "source": [
    "### Fetching the headlines from ESPN.com\n",
    "\n",
    "Let's start by trying to fetch the headlines from the site ESPN.com.\n",
    "\n"
   ]
  },
  {
   "cell_type": "code",
   "execution_count": 13,
   "metadata": {},
   "outputs": [],
   "source": [
    "import requests # This command allows us to fetch URLs\n",
    "from lxml import html # This module will allow us to parse the returned HTML/XML\n",
    "import pandas # To create a dataframe\n",
    "\n",
    "# Let's start by fetching the page, and parsing it\n",
    "url = \"http://www.espn.com/\"\n",
    "response = requests.get(url) # get the html of that url\n",
    "doc = html.fromstring(response.text) # parse it and create a document"
   ]
  },
  {
   "cell_type": "code",
   "execution_count": 14,
   "metadata": {},
   "outputs": [
    {
     "data": {
      "text/plain": [
       "<Element html at 0x7fdc07e3b318>"
      ]
     },
     "execution_count": 14,
     "metadata": {},
     "output_type": "execute_result"
    }
   ],
   "source": [
    "doc"
   ]
  },
  {
   "cell_type": "markdown",
   "metadata": {},
   "source": [
    "Let's start by getting the content of the `<title>` node from the site:"
   ]
  },
  {
   "cell_type": "code",
   "execution_count": 15,
   "metadata": {},
   "outputs": [
    {
     "data": {
      "text/plain": [
       "'ESPN: The Worldwide Leader in Sports'"
      ]
     },
     "execution_count": 15,
     "metadata": {},
     "output_type": "execute_result"
    }
   ],
   "source": [
    "# This will return back a list of nodes that match\n",
    "# are called <title>......</title>\n",
    "results = doc.xpath('//title')\n",
    "results[0].text"
   ]
  },
  {
   "cell_type": "markdown",
   "metadata": {},
   "source": [
    "The `doc` variable is an `HtmlElement` object, and we can now use **XPath** queries to locate the elements that we need. (Depending on time, we may do in class a tutorial on XPath. For now, you can look at the [W3Schools tutorial](http://www.w3schools.com/xpath/xpath_nodes.asp))"
   ]
  },
  {
   "cell_type": "markdown",
   "metadata": {},
   "source": [
    "For example, to find all the `<a ...> ... </a>` tags in the returned html, which store the links in the page, we issue the command:"
   ]
  },
  {
   "cell_type": "code",
   "execution_count": 16,
   "metadata": {},
   "outputs": [
    {
     "data": {
      "text/plain": [
       "166"
      ]
     },
     "execution_count": 16,
     "metadata": {},
     "output_type": "execute_result"
    }
   ],
   "source": [
    "links = doc.xpath(\"//a\")\n",
    "len(links)"
   ]
  },
  {
   "cell_type": "code",
   "execution_count": 17,
   "metadata": {},
   "outputs": [
    {
     "name": "stdout",
     "output_type": "stream",
     "text": [
      "==================================\n",
      "# ==> None\n",
      "==================================\n",
      "/ ==> ESPN\n",
      "==================================\n",
      "# ==> None\n",
      "==================================\n",
      "# ==> Scores\n",
      "==================================\n",
      "/nfl/ ==> NFL\n",
      "==================================\n",
      "/nba/ ==> NBA\n",
      "==================================\n",
      "/mlb/ ==> MLB\n",
      "==================================\n",
      "/college-football/ ==> NCAAF\n",
      "==================================\n",
      "/soccer/ ==> Soccer\n",
      "==================================\n",
      "/nhl/ ==> NHL\n",
      "==================================\n",
      "/golf/ ==> Golf\n",
      "==================================\n",
      "/tennis/ ==> Tennis\n",
      "==================================\n",
      "# ==> …\n",
      "==================================\n",
      "/mma/ ==> MMA\n",
      "==================================\n",
      "/wwe/ ==> WWE\n",
      "==================================\n",
      "/boxing/ ==> Boxing\n",
      "==================================\n",
      "/esports/ ==> esports\n",
      "==================================\n",
      "/chalk/ ==> Chalk\n",
      "==================================\n",
      "/analytics/ ==> Analytics\n",
      "==================================\n",
      "/mens-college-basketball/ ==> NCAAM\n",
      "==================================\n",
      "/womens-basketball/ ==> WNBA\n",
      "==================================\n",
      "/womens-basketball/ ==> NCAAW\n",
      "==================================\n",
      "http://www.espn.com/espnw/sport/ncaa-softball/ ==> NCAA Softball\n",
      "==================================\n",
      "/racing/nascar/ ==> NASCAR\n",
      "==================================\n",
      "/jayski/ ==> Jayski\n",
      "==================================\n",
      "/f1/ ==> F1\n",
      "==================================\n",
      "/racing/ ==> Racing\n",
      "==================================\n",
      "/olympics/ ==> Olympic Sports\n",
      "==================================\n",
      "/horse-racing/ ==> Horse\n",
      "==================================\n",
      "http://www.espn.com/college-sports/football/recruiting/ ==> RN FB\n",
      "==================================\n",
      "http://www.espn.com/college-sports/basketball/recruiting/ ==> RN BB\n",
      "==================================\n",
      "/college-sports/ ==> NCAA\n",
      "==================================\n",
      "/little-league-world-series/ ==> LLWS\n",
      "==================================\n",
      "http://www.espn.com/specialolympics/ ==> Special Olympics\n",
      "==================================\n",
      "http://xgames.com/ ==> X Games\n",
      "==================================\n",
      "http://espncricinfo.com/ ==> Cricket\n",
      "==================================\n",
      "/rugby/ ==> Rugby\n",
      "==================================\n",
      "http://www.tsn.ca/cfl ==> CFL\n",
      "==================================\n",
      "# ==> More ESPN\n",
      "==================================\n",
      "/fantasy/ ==> Fantasy\n",
      "==================================\n",
      "http://www.espn.com/espnradio/index ==> Listen\n",
      "==================================\n",
      "http://www.espn.com/watch/ ==> Watch\n",
      "==================================\n",
      "http://www.espn.com/watch/espnplus/?om-navmethod=topnav ==> ESPN+\n",
      "==================================\n",
      "https:plus.espn.com/ ==> \n",
      "\t\t\t\n",
      "==================================\n",
      "http://www.espn.com/watch/espnplus/ ==> \n",
      "\t\t\t\n",
      "==================================\n",
      "http://www.espn.com/watch/collections/11264/nhl-live-upcoming?om-navmethod=leftnav ==> \n",
      "\t\t\t\n",
      "==================================\n",
      "http://www.espn.com/watch/series/f48c68af-f980-4fcb-8b59-2a0db01f50cf/detail ==> \n",
      "\t\t\t\n",
      "==================================\n",
      "http://www.espn.com/watch/series/0514c1ad-efd1-4d3a-ad82-41ca579a94a2/30-for-30-spotlight ==> \n",
      "\t\t\t\n",
      "==================================\n",
      "http://www.espn.com/mlb/story/_/id/24822058/2018-mlb-postseason-complete-coverage-every-series ==> \n",
      "\t\t\t\n",
      "==================================\n",
      "httphttp://fantasy.espn.com/basketball/welcome?ex_cid=FBA2018_P1QLhttp/basketball/welcome?ex_cid=FBA2018_P1QL ==> \n",
      "\t\t\t\n",
      "==================================\n",
      "None ==> None\n",
      "==================================\n",
      "# ==> \n",
      "      Manage Favorites\n",
      "      \n",
      "==================================\n",
      "http://espndeportes.espn.com ==> \n",
      "\t\t\t\n",
      "==================================\n",
      "https://theundefeated.com ==> \n",
      "\t\t\t\n",
      "==================================\n",
      "http://www.espn.com/espnw/ ==> \n",
      "\t\t\t\n",
      "==================================\n",
      "http://www.espnfc.us ==> \n",
      "\t\t\t\n",
      "==================================\n",
      "http://xgames.espn.com ==> \n",
      "\t\t\t\n",
      "==================================\n",
      "http://www.secsports.com ==> \n",
      "\t\t\t\n",
      "==================================\n",
      "http://www.espn.com/espn/apps/download?app=espn ==> \n",
      "\t\t\t\n",
      "==================================\n",
      "http://www.espn.com/espn/mobile/products/products/_/id/17145860 ==> \n",
      "\t\t\t\n",
      "==================================\n",
      "https://www.facebook.com/ESPN/ ==> \n",
      "\t\t\t\n",
      "==================================\n",
      "https://twitter.com/espn ==> \n",
      "\t\t\t\n",
      "==================================\n",
      "https://www.instagram.com/espn/ ==> \n",
      "\t\t\t\n",
      "==================================\n",
      "https://www.snapchat.com/discover/ESPN/7296089122 ==> \n",
      "\t\t\t\n",
      "==================================\n",
      "https://www.youtube.com/channel/UCiWLfSweyRNmLpgEHekhoAg?ex_cid=espn-left-nav-follow-us-youtube ==> \n",
      "\t\t\t\n",
      "==================================\n",
      "http://www.espn.com/espn/espndaily ==> \n",
      "\t\t\t\n",
      "==================================\n",
      "http://cal.espn.com/espn-daily-calendar?utm_source=espn_homepage_left_nav ==> \n",
      "\t\t\t\n",
      "==================================\n",
      "http://www.espn.com/espn/feature/story/_/id/24504654/kyrie-irving-art-sick-handles-nba ==> None\n",
      "==================================\n",
      "/nfl/story/_/id/24942611/jacksonville-jaguars-sign-free-agent-running-back-jamaal-charles ==> Injury-riddled Jags sign free-agent RB Charles\n",
      "==================================\n",
      "/nfl/story/_/id/24942401/antonio-brown-sued-allegedly-throwing-items-balcony ==> Steelers' Brown sued after alleged incident\n",
      "==================================\n",
      "/nfl/story/_/id/24940559/michael-thomas-calls-josh-norman-goof-ball-con-artist-cap-late-night-twitter-feud ==> Saints' Thomas rips Norman in Twitter tirade\n",
      "==================================\n",
      "/mlb/story/_/id/24942409/alex-bregman-houston-astros-annoyed-alds-schedule-glad-return-prime ==> Annoyed Bregman: Astros should be 'main event'\n",
      "==================================\n",
      "/nba/story/_/id/24942773/phoenix-suns-leaning-promoting-james-jones-full-general-manager ==> Sources: Suns leaning toward making Jones GM\n",
      "==================================\n",
      "/nfl/story/_/id/24941622/jerry-jones-says-cowboys-had-no-1-wr-years ==> Jones: Cowboys haven't had No. 1 WR in years\n",
      "==================================\n",
      "/college-football/insider/story/_/id/24919864/favorite-top-running-backs-2019-nfl-draft-mel-kiper-jr-todd-mcshay ==> Kiper & McShay: RB prospects for 2019 draft\n",
      "==================================\n",
      "http://www.espn.com/watch/series/c31393a0-346f-4269-b680-18338b6e4c4f/basketball-a-love-story ==> Exploring the complex nature of love as it relates to the game\n",
      "==================================\n",
      "/mlb/ ==> None\n",
      "==================================\n",
      "/mlb/ ==> See All\n",
      "==================================\n",
      "/mlb/story/_/id/24932136/your-tuesday-alds-guide-boston-red-sox-eliminate-new-york-yankees-game-4 ==> None\n",
      "==================================\n",
      "/mlb/story/_/id/24936294/mlb-new-york-yankees-turn-cc-sabathia-season-line ==> None\n",
      "==================================\n",
      "/college-football/ ==> None\n",
      "==================================\n",
      "/college-football/ ==> See All\n",
      "==================================\n",
      "/college-football/story/_/id/24934752/not-all-undefeated-records-created-equal ==> None\n",
      "==================================\n",
      "/college-football/story/_/id/24930711/heisman-trophy-radar-contenders ==> None\n",
      "==================================\n",
      "/college-football/story/_/page/bottom100918/bottom-10-favorite-losers-ones-cover-them ==> None\n",
      "==================================\n",
      "/nfl/ ==> None\n",
      "==================================\n",
      "/nfl/ ==> See All\n",
      "==================================\n",
      "/nfl/story/_/id/24933106/nfl-power-rankings-picking-toughest-games-all-32-teams ==> None\n",
      "==================================\n",
      "/chalk/insider/story/_/id/24941619/another-big-test-chiefs-browns-real ==> Early NFL betting look for Week 6: Another big test for the Chiefs\n",
      "==================================\n",
      "/nfl/ ==> None\n",
      "==================================\n",
      "/nfl/ ==> See All\n",
      "==================================\n",
      "/nfl/story/_/id/24934703/what-learned-week-5-2018-nfl-season-get-ready-wild-defensive-spending-spree ==> None\n",
      "==================================\n",
      "/nfl/insider/story/_/id/24892861/next-join-100-million-club-2019-offseason-free-agency-draft ==> None\n",
      "==================================\n",
      "/nfl/story/_/id/24932463/best-worst-quarterbacks-week-5-nfl-2018-total-qbr ==> None\n",
      "==================================\n",
      "/nba/ ==> None\n",
      "==================================\n",
      "/nba/ ==> See All\n",
      "==================================\n",
      "/nba/insider/story/_/id/24933413/scouting-james-wiseman-cole-anthony-more-2020-nba-draft-prospects-usa-basketball ==> None\n",
      "==================================\n",
      "/nba/team/_/name/gs/golden-state-warriors ==> None\n",
      "==================================\n",
      "/nba/team/_/name/gs/golden-state-warriors ==> See All\n",
      "==================================\n",
      "/nfl/team/_/name/dal/dallas-cowboys ==> None\n",
      "==================================\n",
      "/nfl/team/_/name/dal/dallas-cowboys ==> See All\n",
      "==================================\n",
      "/blog/dallas-cowboys/post/_/id/4767666/jason-garretts-future-in-dallas-on-the-line-as-patience-wanes ==> None\n",
      "==================================\n",
      "/nfl/story/_/id/24942611/jacksonville-jaguars-sign-free-agent-running-back-jamaal-charles ==> Injury-riddled Jags sign free-agent RB Charles\n",
      "==================================\n",
      "/nfl/story/_/id/24942401/antonio-brown-sued-allegedly-throwing-items-balcony ==> Steelers' Brown sued after alleged incident\n",
      "==================================\n",
      "/nfl/story/_/id/24940559/michael-thomas-calls-josh-norman-goof-ball-con-artist-cap-late-night-twitter-feud ==> Saints' Thomas rips Norman in Twitter tirade\n",
      "==================================\n",
      "/mlb/story/_/id/24942409/alex-bregman-houston-astros-annoyed-alds-schedule-glad-return-prime ==> Annoyed Bregman: Astros should be 'main event'\n",
      "==================================\n",
      "/nba/story/_/id/24942773/phoenix-suns-leaning-promoting-james-jones-full-general-manager ==> Sources: Suns leaning toward making Jones GM\n",
      "==================================\n",
      "/nfl/story/_/id/24941622/jerry-jones-says-cowboys-had-no-1-wr-years ==> Jones: Cowboys haven't had No. 1 WR in years\n",
      "==================================\n",
      "/college-football/insider/story/_/id/24919864/favorite-top-running-backs-2019-nfl-draft-mel-kiper-jr-todd-mcshay ==> Kiper & McShay: RB prospects for 2019 draft\n",
      "==================================\n",
      "None ==> None\n",
      "==================================\n",
      "# ==> Manage Favorites\n",
      "==================================\n",
      "http://www.espn.com/fantasy/ ==> Fantasy Home\n",
      "==================================\n",
      "http://fantasy.espn.com/basketball/welcome?ex_cid=FBA2018_RightRailCreate ==> Create A League\n",
      "==================================\n",
      "http://fantasy.espn.com/basketball/welcome?ex_cid=FBA2018_RightRailNow ==> Draft a Team Now\n",
      "==================================\n",
      "http://fantasy.espn.com/basketball/welcome?ex_cid=FBA2018_RightRailLater ==> Draft a Team Later\n",
      "==================================\n",
      "http://fantasy.espn.com/basketball/mockdraftlobby ==> Mock Draft Now\n",
      "==================================\n",
      "http://www.espn.com/espn/feature/story/_/id/24504198/the-nba-best-signature-moves-michael-jordan-fadeaway-allen-iverson-crossover ==> None\n",
      "==================================\n",
      "http://www.espn.com/espn/feature/story/_/id/24504198/the-nba-best-signature-moves-michael-jordan-fadeaway-allen-iverson-crossover ==> Game Changers\n",
      "==================================\n",
      "/mlb/story/_/id/24367000/the-top-25-most-miserable-fan-bases-professional-sports ==> None\n",
      "==================================\n",
      "/mlb/story/_/id/24367000/the-top-25-most-miserable-fan-bases-professional-sports ==> When fandom goes bad: Most miserable fan bases in pro sports\n",
      "==================================\n",
      "/nba/story/_/id/24857619/zach-lowe-2018-19-nba-league-pass-rankings-part-2 ==> None\n",
      "==================================\n",
      "/nba/story/_/id/24857619/zach-lowe-2018-19-nba-league-pass-rankings-part-2 ==> The 2018-19 NBA League Pass Rankings, Part 2\n",
      "==================================\n",
      "https://disneyprivacycenter.com/ ==> Privacy Policy\n",
      "==================================\n",
      "http://www.espn.com/espn/daily ==> Read the Latest\n",
      "==================================\n",
      "https:plus.espn.com/ ==> \n",
      "\t\t\t\n",
      "==================================\n",
      "http://www.espn.com/watch/espnplus/ ==> \n",
      "\t\t\t\n",
      "==================================\n",
      "http://www.espn.com/watch/collections/11264/nhl-live-upcoming?om-navmethod=footer ==> \n",
      "\t\t\t\n",
      "==================================\n",
      "http://www.espn.com/watch/series/f48c68af-f980-4fcb-8b59-2a0db01f50cf/detail ==> \n",
      "\t\t\t\n",
      "==================================\n",
      "http://www.espn.com/watch/series/0514c1ad-efd1-4d3a-ad82-41ca579a94a2/30-for-30-spotlight ==> \n",
      "\t\t\t\n",
      "==================================\n",
      "http://www.espn.com/mlb/story/_/id/24822058/2018-mlb-postseason-complete-coverage-every-series ==> \n",
      "\t\t\t\n",
      "==================================\n",
      "httphttp://fantasy.espn.com/basketball/welcome?ex_cid=FBA2018_P1QLhttp/basketball/welcome?ex_cid=FBA2018_P1QL ==> \n",
      "\t\t\t\n",
      "==================================\n",
      "http://espndeportes.espn.com ==> \n",
      "\t\t\t\n",
      "==================================\n",
      "https://theundefeated.com ==> \n",
      "\t\t\t\n",
      "==================================\n",
      "http://www.espn.com/espnw/ ==> \n",
      "\t\t\t\n",
      "==================================\n",
      "http://www.espnfc.us ==> \n",
      "\t\t\t\n",
      "==================================\n",
      "http://xgames.espn.com ==> \n",
      "\t\t\t\n",
      "==================================\n",
      "http://www.secsports.com ==> \n",
      "\t\t\t\n",
      "==================================\n",
      "http://www.espn.com/espn/apps/download?app=espn ==> \n",
      "\t\t\t\n",
      "==================================\n",
      "http://www.espn.com/espn/mobile/products/products/_/id/17145860 ==> \n",
      "\t\t\t\n",
      "==================================\n",
      "https://www.facebook.com/ESPN/ ==> \n",
      "\t\t\t\n",
      "==================================\n",
      "https://twitter.com/espn ==> \n",
      "\t\t\t\n",
      "==================================\n",
      "https://www.instagram.com/espn/ ==> \n",
      "\t\t\t\n",
      "==================================\n",
      "https://www.snapchat.com/discover/ESPN/7296089122 ==> \n",
      "\t\t\t\n",
      "==================================\n",
      "https://www.youtube.com/channel/UCiWLfSweyRNmLpgEHekhoAg?ex_cid=espn-footer-follow-us-youtube ==> \n",
      "\t\t\t\n",
      "==================================\n",
      "http://www.espn.com/espn/espndaily ==> \n",
      "\t\t\t\n",
      "==================================\n",
      "http://cal.espn.com/espn-daily-calendar?utm_source=espn_homepage_footer ==> \n",
      "\t\t\t\n",
      "==================================\n",
      "http://disneytermsofuse.com/ ==> Terms of Use\n",
      "==================================\n",
      "http://disneyprivacycenter.com/ ==> Privacy Policy\n",
      "==================================\n",
      "https://disneyprivacycenter.com/notice-to-california-residents/ ==> CA Privacy Rights\n",
      "==================================\n",
      "https://disneyprivacycenter.com/kids-privacy-policy/english/ ==> Children's Online Privacy Policy\n",
      "==================================\n",
      "http://preferences-mgr.truste.com/?type=espn&affiliateId=148 ==> Interest-based Ads\n",
      "==================================\n",
      "http://priv-policy.imrworldwide.com/priv/browser/us/en/optout.html ==> About Nielsen Measurement\n",
      "==================================\n",
      "http://www.espn.com/espn/news/story?page=help-index ==> Help\n",
      "==================================\n",
      "http://proxy.espn.com/espn/bugs?url=http://www.espn.com/ ==> Report a Bug\n",
      "==================================\n",
      "http://www.espn.com/espn/news/story?page=contact-index ==> Contact Us\n",
      "==================================\n",
      "http://www.espn.com/espn/corrections ==> Corrections\n",
      "==================================\n",
      "http://www.espncms.com/Advertise-on-ESPN.aspx ==> Advertise on ESPN.com\n",
      "==================================\n",
      "http://www.espncms.com/ ==> Sales Media Kit\n",
      "==================================\n",
      "http://espncareers.com/ ==> Jobs at ESPN\n",
      "==================================\n",
      "http://www.espnfrontrow.com/ ==> ESPN Front Row\n",
      "==================================\n",
      "http://espnmediazone.com/us/ ==> Press\n",
      "==================================\n",
      "http://www.espn.com/espn/sitemap ==> Site Map\n",
      "==================================\n",
      "http://www.espn.com/espn/news/story?page=patents ==> Patents\n",
      "==================================\n",
      "http://www.nielsen.com/digitalprivacy ==> About Nielsen Measurement\n",
      "==================================\n",
      "https://privacy.thewaltdisneycompany.com/en/current-privacy-policy/cookies-policy/ ==> More Info Here\n",
      "==================================\n",
      "https://preferences-mgr.truste.com/?pid=disney01&aid=espnemea01&type=espnemea ==> Cookie Choices\n"
     ]
    }
   ],
   "source": [
    "links = doc.xpath(\"//a\")\n",
    "# Iterates over all the links (this means all the nodes\n",
    "# that matched the //a XPath query) and prints the content\n",
    "# of the attribute href and the text for that node\n",
    "for link in links:\n",
    "    print(\"==================================\")\n",
    "    print(link.get(\"href\"), \"==>\", link.text)"
   ]
  },
  {
   "cell_type": "code",
   "execution_count": 18,
   "metadata": {},
   "outputs": [
    {
     "data": {
      "text/plain": [
       "lxml.html.HtmlElement"
      ]
     },
     "execution_count": 18,
     "metadata": {},
     "output_type": "execute_result"
    }
   ],
   "source": [
    "lnk = links[70]\n",
    "type(lnk)"
   ]
  },
  {
   "cell_type": "markdown",
   "metadata": {},
   "source": [
    "The `lnk` variable is again an HtmlElement. To get parts of the html element that we need, we can use the `get` method (e.g., to get the `href` attribute) and the `text_content()` method (to get the text within the `<a>...</a>` tag."
   ]
  },
  {
   "cell_type": "code",
   "execution_count": 19,
   "metadata": {},
   "outputs": [
    {
     "data": {
      "text/plain": [
       "'/nfl/story/_/id/24940559/michael-thomas-calls-josh-norman-goof-ball-con-artist-cap-late-night-twitter-feud'"
      ]
     },
     "execution_count": 19,
     "metadata": {},
     "output_type": "execute_result"
    }
   ],
   "source": [
    "lnk.get(\"href\")"
   ]
  },
  {
   "cell_type": "code",
   "execution_count": 20,
   "metadata": {},
   "outputs": [
    {
     "data": {
      "text/plain": [
       "\"Saints' Thomas rips Norman in Twitter tirade\""
      ]
     },
     "execution_count": 20,
     "metadata": {},
     "output_type": "execute_result"
    }
   ],
   "source": [
    "lnk.text_content()"
   ]
  },
  {
   "cell_type": "code",
   "execution_count": 21,
   "metadata": {},
   "outputs": [
    {
     "data": {
      "text/plain": [
       "\"Saints' Thomas rips Norman in Twitter tirade\""
      ]
     },
     "execution_count": 21,
     "metadata": {},
     "output_type": "execute_result"
    }
   ],
   "source": [
    "lnk.text_content().strip()"
   ]
  },
  {
   "cell_type": "markdown",
   "metadata": {},
   "source": [
    "Now, let's revisit the _list comprehension_ approach that we discussed in the Python Primer session, for quickly constructing lists:"
   ]
  },
  {
   "cell_type": "code",
   "execution_count": 22,
   "metadata": {},
   "outputs": [
    {
     "data": {
      "text/plain": [
       "['#',\n",
       " '/',\n",
       " '#',\n",
       " '#',\n",
       " '/nfl/',\n",
       " '/nba/',\n",
       " '/mlb/',\n",
       " '/college-football/',\n",
       " '/soccer/',\n",
       " '/nhl/',\n",
       " '/golf/',\n",
       " '/tennis/',\n",
       " '#',\n",
       " '/mma/',\n",
       " '/wwe/',\n",
       " '/boxing/',\n",
       " '/esports/',\n",
       " '/chalk/',\n",
       " '/analytics/',\n",
       " '/mens-college-basketball/',\n",
       " '/womens-basketball/',\n",
       " '/womens-basketball/',\n",
       " 'http://www.espn.com/espnw/sport/ncaa-softball/',\n",
       " '/racing/nascar/',\n",
       " '/jayski/',\n",
       " '/f1/',\n",
       " '/racing/',\n",
       " '/olympics/',\n",
       " '/horse-racing/',\n",
       " 'http://www.espn.com/college-sports/football/recruiting/',\n",
       " 'http://www.espn.com/college-sports/basketball/recruiting/',\n",
       " '/college-sports/',\n",
       " '/little-league-world-series/',\n",
       " 'http://www.espn.com/specialolympics/',\n",
       " 'http://xgames.com/',\n",
       " 'http://espncricinfo.com/',\n",
       " '/rugby/',\n",
       " 'http://www.tsn.ca/cfl',\n",
       " '#',\n",
       " '/fantasy/',\n",
       " 'http://www.espn.com/espnradio/index',\n",
       " 'http://www.espn.com/watch/',\n",
       " 'http://www.espn.com/watch/espnplus/?om-navmethod=topnav',\n",
       " 'https:plus.espn.com/',\n",
       " 'http://www.espn.com/watch/espnplus/',\n",
       " 'http://www.espn.com/watch/collections/11264/nhl-live-upcoming?om-navmethod=leftnav',\n",
       " 'http://www.espn.com/watch/series/f48c68af-f980-4fcb-8b59-2a0db01f50cf/detail',\n",
       " 'http://www.espn.com/watch/series/0514c1ad-efd1-4d3a-ad82-41ca579a94a2/30-for-30-spotlight',\n",
       " 'http://www.espn.com/mlb/story/_/id/24822058/2018-mlb-postseason-complete-coverage-every-series',\n",
       " 'httphttp://fantasy.espn.com/basketball/welcome?ex_cid=FBA2018_P1QLhttp/basketball/welcome?ex_cid=FBA2018_P1QL',\n",
       " None,\n",
       " '#',\n",
       " 'http://espndeportes.espn.com',\n",
       " 'https://theundefeated.com',\n",
       " 'http://www.espn.com/espnw/',\n",
       " 'http://www.espnfc.us',\n",
       " 'http://xgames.espn.com',\n",
       " 'http://www.secsports.com',\n",
       " 'http://www.espn.com/espn/apps/download?app=espn',\n",
       " 'http://www.espn.com/espn/mobile/products/products/_/id/17145860',\n",
       " 'https://www.facebook.com/ESPN/',\n",
       " 'https://twitter.com/espn',\n",
       " 'https://www.instagram.com/espn/',\n",
       " 'https://www.snapchat.com/discover/ESPN/7296089122',\n",
       " 'https://www.youtube.com/channel/UCiWLfSweyRNmLpgEHekhoAg?ex_cid=espn-left-nav-follow-us-youtube',\n",
       " 'http://www.espn.com/espn/espndaily',\n",
       " 'http://cal.espn.com/espn-daily-calendar?utm_source=espn_homepage_left_nav',\n",
       " 'http://www.espn.com/espn/feature/story/_/id/24504654/kyrie-irving-art-sick-handles-nba',\n",
       " '/nfl/story/_/id/24942611/jacksonville-jaguars-sign-free-agent-running-back-jamaal-charles',\n",
       " '/nfl/story/_/id/24942401/antonio-brown-sued-allegedly-throwing-items-balcony',\n",
       " '/nfl/story/_/id/24940559/michael-thomas-calls-josh-norman-goof-ball-con-artist-cap-late-night-twitter-feud',\n",
       " '/mlb/story/_/id/24942409/alex-bregman-houston-astros-annoyed-alds-schedule-glad-return-prime',\n",
       " '/nba/story/_/id/24942773/phoenix-suns-leaning-promoting-james-jones-full-general-manager',\n",
       " '/nfl/story/_/id/24941622/jerry-jones-says-cowboys-had-no-1-wr-years',\n",
       " '/college-football/insider/story/_/id/24919864/favorite-top-running-backs-2019-nfl-draft-mel-kiper-jr-todd-mcshay',\n",
       " 'http://www.espn.com/watch/series/c31393a0-346f-4269-b680-18338b6e4c4f/basketball-a-love-story',\n",
       " '/mlb/',\n",
       " '/mlb/',\n",
       " '/mlb/story/_/id/24932136/your-tuesday-alds-guide-boston-red-sox-eliminate-new-york-yankees-game-4',\n",
       " '/mlb/story/_/id/24936294/mlb-new-york-yankees-turn-cc-sabathia-season-line',\n",
       " '/college-football/',\n",
       " '/college-football/',\n",
       " '/college-football/story/_/id/24934752/not-all-undefeated-records-created-equal',\n",
       " '/college-football/story/_/id/24930711/heisman-trophy-radar-contenders',\n",
       " '/college-football/story/_/page/bottom100918/bottom-10-favorite-losers-ones-cover-them',\n",
       " '/nfl/',\n",
       " '/nfl/',\n",
       " '/nfl/story/_/id/24933106/nfl-power-rankings-picking-toughest-games-all-32-teams',\n",
       " '/chalk/insider/story/_/id/24941619/another-big-test-chiefs-browns-real',\n",
       " '/nfl/',\n",
       " '/nfl/',\n",
       " '/nfl/story/_/id/24934703/what-learned-week-5-2018-nfl-season-get-ready-wild-defensive-spending-spree',\n",
       " '/nfl/insider/story/_/id/24892861/next-join-100-million-club-2019-offseason-free-agency-draft',\n",
       " '/nfl/story/_/id/24932463/best-worst-quarterbacks-week-5-nfl-2018-total-qbr',\n",
       " '/nba/',\n",
       " '/nba/',\n",
       " '/nba/insider/story/_/id/24933413/scouting-james-wiseman-cole-anthony-more-2020-nba-draft-prospects-usa-basketball',\n",
       " '/nba/team/_/name/gs/golden-state-warriors',\n",
       " '/nba/team/_/name/gs/golden-state-warriors',\n",
       " '/nfl/team/_/name/dal/dallas-cowboys',\n",
       " '/nfl/team/_/name/dal/dallas-cowboys',\n",
       " '/blog/dallas-cowboys/post/_/id/4767666/jason-garretts-future-in-dallas-on-the-line-as-patience-wanes',\n",
       " '/nfl/story/_/id/24942611/jacksonville-jaguars-sign-free-agent-running-back-jamaal-charles',\n",
       " '/nfl/story/_/id/24942401/antonio-brown-sued-allegedly-throwing-items-balcony',\n",
       " '/nfl/story/_/id/24940559/michael-thomas-calls-josh-norman-goof-ball-con-artist-cap-late-night-twitter-feud',\n",
       " '/mlb/story/_/id/24942409/alex-bregman-houston-astros-annoyed-alds-schedule-glad-return-prime',\n",
       " '/nba/story/_/id/24942773/phoenix-suns-leaning-promoting-james-jones-full-general-manager',\n",
       " '/nfl/story/_/id/24941622/jerry-jones-says-cowboys-had-no-1-wr-years',\n",
       " '/college-football/insider/story/_/id/24919864/favorite-top-running-backs-2019-nfl-draft-mel-kiper-jr-todd-mcshay',\n",
       " None,\n",
       " '#',\n",
       " 'http://www.espn.com/fantasy/',\n",
       " 'http://fantasy.espn.com/basketball/welcome?ex_cid=FBA2018_RightRailCreate',\n",
       " 'http://fantasy.espn.com/basketball/welcome?ex_cid=FBA2018_RightRailNow',\n",
       " 'http://fantasy.espn.com/basketball/welcome?ex_cid=FBA2018_RightRailLater',\n",
       " 'http://fantasy.espn.com/basketball/mockdraftlobby',\n",
       " 'http://www.espn.com/espn/feature/story/_/id/24504198/the-nba-best-signature-moves-michael-jordan-fadeaway-allen-iverson-crossover',\n",
       " 'http://www.espn.com/espn/feature/story/_/id/24504198/the-nba-best-signature-moves-michael-jordan-fadeaway-allen-iverson-crossover',\n",
       " '/mlb/story/_/id/24367000/the-top-25-most-miserable-fan-bases-professional-sports',\n",
       " '/mlb/story/_/id/24367000/the-top-25-most-miserable-fan-bases-professional-sports',\n",
       " '/nba/story/_/id/24857619/zach-lowe-2018-19-nba-league-pass-rankings-part-2',\n",
       " '/nba/story/_/id/24857619/zach-lowe-2018-19-nba-league-pass-rankings-part-2',\n",
       " 'https://disneyprivacycenter.com/',\n",
       " 'http://www.espn.com/espn/daily',\n",
       " 'https:plus.espn.com/',\n",
       " 'http://www.espn.com/watch/espnplus/',\n",
       " 'http://www.espn.com/watch/collections/11264/nhl-live-upcoming?om-navmethod=footer',\n",
       " 'http://www.espn.com/watch/series/f48c68af-f980-4fcb-8b59-2a0db01f50cf/detail',\n",
       " 'http://www.espn.com/watch/series/0514c1ad-efd1-4d3a-ad82-41ca579a94a2/30-for-30-spotlight',\n",
       " 'http://www.espn.com/mlb/story/_/id/24822058/2018-mlb-postseason-complete-coverage-every-series',\n",
       " 'httphttp://fantasy.espn.com/basketball/welcome?ex_cid=FBA2018_P1QLhttp/basketball/welcome?ex_cid=FBA2018_P1QL',\n",
       " 'http://espndeportes.espn.com',\n",
       " 'https://theundefeated.com',\n",
       " 'http://www.espn.com/espnw/',\n",
       " 'http://www.espnfc.us',\n",
       " 'http://xgames.espn.com',\n",
       " 'http://www.secsports.com',\n",
       " 'http://www.espn.com/espn/apps/download?app=espn',\n",
       " 'http://www.espn.com/espn/mobile/products/products/_/id/17145860',\n",
       " 'https://www.facebook.com/ESPN/',\n",
       " 'https://twitter.com/espn',\n",
       " 'https://www.instagram.com/espn/',\n",
       " 'https://www.snapchat.com/discover/ESPN/7296089122',\n",
       " 'https://www.youtube.com/channel/UCiWLfSweyRNmLpgEHekhoAg?ex_cid=espn-footer-follow-us-youtube',\n",
       " 'http://www.espn.com/espn/espndaily',\n",
       " 'http://cal.espn.com/espn-daily-calendar?utm_source=espn_homepage_footer',\n",
       " 'http://disneytermsofuse.com/',\n",
       " 'http://disneyprivacycenter.com/',\n",
       " 'https://disneyprivacycenter.com/notice-to-california-residents/',\n",
       " 'https://disneyprivacycenter.com/kids-privacy-policy/english/',\n",
       " 'http://preferences-mgr.truste.com/?type=espn&affiliateId=148',\n",
       " 'http://priv-policy.imrworldwide.com/priv/browser/us/en/optout.html',\n",
       " 'http://www.espn.com/espn/news/story?page=help-index',\n",
       " 'http://proxy.espn.com/espn/bugs?url=http://www.espn.com/',\n",
       " 'http://www.espn.com/espn/news/story?page=contact-index',\n",
       " 'http://www.espn.com/espn/corrections',\n",
       " 'http://www.espncms.com/Advertise-on-ESPN.aspx',\n",
       " 'http://www.espncms.com/',\n",
       " 'http://espncareers.com/',\n",
       " 'http://www.espnfrontrow.com/',\n",
       " 'http://espnmediazone.com/us/',\n",
       " 'http://www.espn.com/espn/sitemap',\n",
       " 'http://www.espn.com/espn/news/story?page=patents',\n",
       " 'http://www.nielsen.com/digitalprivacy',\n",
       " 'https://privacy.thewaltdisneycompany.com/en/current-privacy-policy/cookies-policy/',\n",
       " 'https://preferences-mgr.truste.com/?pid=disney01&aid=espnemea01&type=espnemea']"
      ]
     },
     "execution_count": 22,
     "metadata": {},
     "output_type": "execute_result"
    }
   ],
   "source": [
    "urls = [lnk.get(\"href\") for lnk in doc.xpath('//a')]\n",
    "urls"
   ]
  },
  {
   "cell_type": "markdown",
   "metadata": {},
   "source": [
    "#### Exercise\n",
    "\n",
    "Use a list compresension approach, to get the text_content of all the URLs in the page."
   ]
  },
  {
   "cell_type": "code",
   "execution_count": 23,
   "metadata": {},
   "outputs": [
    {
     "data": {
      "text/plain": [
       "['Menu',\n",
       " 'ESPN',\n",
       " '',\n",
       " 'Scores',\n",
       " 'NFL',\n",
       " 'NBA',\n",
       " 'MLB',\n",
       " 'NCAAF',\n",
       " 'Soccer',\n",
       " 'NHL',\n",
       " 'Golf',\n",
       " 'Tennis',\n",
       " '…',\n",
       " 'MMA',\n",
       " 'WWE',\n",
       " 'Boxing',\n",
       " 'esports',\n",
       " 'Chalk',\n",
       " 'Analytics',\n",
       " 'NCAAM',\n",
       " 'WNBA',\n",
       " 'NCAAW',\n",
       " 'NCAA Softball',\n",
       " 'NASCAR',\n",
       " 'Jayski',\n",
       " 'F1',\n",
       " 'Racing',\n",
       " 'Olympic Sports',\n",
       " 'Horse',\n",
       " 'RN FB',\n",
       " 'RN BB',\n",
       " 'NCAA',\n",
       " 'LLWS',\n",
       " 'Special Olympics',\n",
       " 'X Games',\n",
       " 'Cricket',\n",
       " 'Rugby',\n",
       " 'CFL',\n",
       " 'More ESPN',\n",
       " 'Fantasy',\n",
       " 'Listen',\n",
       " 'Watch',\n",
       " 'ESPN+',\n",
       " '\\n\\t\\t\\t\\n\\t\\t\\n          Subscribe Now\\n\\t\\t\\n\\t',\n",
       " '\\n\\t\\t\\t\\n\\t\\t\\n          ESPN+ Home\\n\\t\\t\\n\\t',\n",
       " '\\n\\t\\t\\t\\n\\t\\t\\n          Watch 180+ NHL Games\\n\\t\\t\\n\\t',\n",
       " \"\\n\\t\\t\\t\\n\\t\\t\\n          Kobe Bryant's Detail\\n\\t\\t\\n\\t\",\n",
       " '\\n\\t\\t\\t\\n\\t\\t\\n          30 for 30 Archive\\n\\t\\t\\n\\t',\n",
       " '\\n\\t\\t\\t\\n\\t\\t\\n          MLB Playoffs\\n\\t\\t\\n\\t',\n",
       " '\\n\\t\\t\\t\\n\\t\\t\\n          Fantasy Basketball: Sign Up\\n\\t\\t\\n\\t',\n",
       " '',\n",
       " '\\n      Manage Favorites\\n      ',\n",
       " '\\n\\t\\t\\t\\n\\t\\t\\n          ESPN Deportes\\n\\t\\t\\n\\t',\n",
       " '\\n\\t\\t\\t\\n\\t\\t\\n          The Undefeated\\n\\t\\t\\n\\t',\n",
       " '\\n\\t\\t\\t\\n\\t\\t\\n          espnW\\n\\t\\t\\n\\t',\n",
       " '\\n\\t\\t\\t\\n\\t\\t\\n          ESPNFC\\n\\t\\t\\n\\t',\n",
       " '\\n\\t\\t\\t\\n\\t\\t\\n          X Games\\n\\t\\t\\n\\t',\n",
       " '\\n\\t\\t\\t\\n\\t\\t\\n          SEC Network\\n\\t\\t\\n\\t',\n",
       " '\\n\\t\\t\\t\\n\\t\\t\\n          ESPN\\n\\t\\t\\n\\t',\n",
       " '\\n\\t\\t\\t\\n\\t\\t\\n          ESPN Fantasy\\n\\t\\t\\n\\t',\n",
       " '\\n\\t\\t\\t\\n\\t\\t\\n          Facebook\\n\\t\\t\\n\\t',\n",
       " '\\n\\t\\t\\t\\n\\t\\t\\n          Twitter\\n\\t\\t\\n\\t',\n",
       " '\\n\\t\\t\\t\\n\\t\\t\\n          Instagram\\n\\t\\t\\n\\t',\n",
       " '\\n\\t\\t\\t\\n\\t\\t\\n          Snapchat\\n\\t\\t\\n\\t',\n",
       " '\\n\\t\\t\\t\\n\\t\\t\\n          YouTube\\n\\t\\t\\n\\t',\n",
       " '\\n\\t\\t\\t\\n\\t\\t\\n          ESPN Daily Newsletter\\n\\t\\t\\n\\t',\n",
       " '\\n\\t\\t\\t\\n\\t\\t\\n          ESPN Daily Calendar\\n\\t\\t\\n\\t',\n",
       " \"Step into Kyrie's world of ridiculous dribble movesChris Forsberg\",\n",
       " 'Injury-riddled Jags sign free-agent RB Charles',\n",
       " \"Steelers' Brown sued after alleged incident\",\n",
       " \"Saints' Thomas rips Norman in Twitter tirade\",\n",
       " \"Annoyed Bregman: Astros should be 'main event'\",\n",
       " 'Sources: Suns leaning toward making Jones GM',\n",
       " \"Jones: Cowboys haven't had No. 1 WR in years\",\n",
       " 'Kiper & McShay: RB prospects for 2019 draft',\n",
       " 'Exploring the complex nature of love as it relates to the game',\n",
       " 'ALDS',\n",
       " 'See All',\n",
       " \"Everything you need to know about Tuesday's clash between Red Sox and YankeesAfter their Game 3 romp at Yankee Stadium, the Red Sox are just one win away from advancing to face the Astros.Adam Hunger/USA TODAY Sports\",\n",
       " \"Can CC Sabathia save the Yankees' season?As New Yorkers know, it ain't over 'til it's over, but it could be over for the Yanks if their veteran starter can't contain the Red Sox and inspire his team.\",\n",
       " 'College Football',\n",
       " 'See All',\n",
       " \"Not all undefeated records are created equalJust because a team is undefeated doesn't mean it's playoff-worthy. Let's compare résumés to figure out who the contenders and pretenders are.AP Photo/Carlos Osorio\",\n",
       " 'Players not getting enough Heisman loveWe all know about Tua Tagovailoa and Kyler Murray. They deserve their Heisman hype. But here are six under-the-radar players who deserve attention, too.',\n",
       " \"The Bottom 10's favorite losers and those who cover themSometimes writers have to get creative when covering losing teams, which is why we're deferring to the experts this week.\",\n",
       " 'NFL',\n",
       " 'See All',\n",
       " \"Week 6 Power Rankings: Every teams' remaining schedule strengthWhich teams face the most daunting roads ahead? We have schedule ranks and toughest opponents for every team.ESPN Illustration\",\n",
       " 'Early NFL betting look for Week 6: Another big test for the Chiefs',\n",
       " 'NFL Week 5',\n",
       " 'See All',\n",
       " \"All the defenders who will get paid in 2019In a year of historic offense, it's the defenders who are poised to cash in big next. Plus: Jason Garrett on thin ice?\",\n",
       " \"Predicting the next five $100 million megadealsRussell Wilson could be next to enter the NFL's $100 million club. Here's who is poised to join him.\",\n",
       " \"Best and worst QBs: Tannehill tanks againFor a second straight week, Ryan Tannehill posted the week's worst Total QBR. Here are the week's best and worst performances.\",\n",
       " 'NBA',\n",
       " 'See All',\n",
       " \"Inside the early race for 2020's No. 1 NBA draft pickESPN's NBA draft experts break down the next crop of top prospects.\",\n",
       " 'WarriorsNBA',\n",
       " 'See All',\n",
       " 'CowboysNFL',\n",
       " 'See All',\n",
       " \"Jason Garrett's future in Dallas on the line as patience wanesWould Jerry Jones make an in-season move? What would the impact be on Dak Prescott? Questions mount as the Cowboys' season lags.\",\n",
       " 'Injury-riddled Jags sign free-agent RB Charles',\n",
       " \"Steelers' Brown sued after alleged incident\",\n",
       " \"Saints' Thomas rips Norman in Twitter tirade\",\n",
       " \"Annoyed Bregman: Astros should be 'main event'\",\n",
       " 'Sources: Suns leaning toward making Jones GM',\n",
       " \"Jones: Cowboys haven't had No. 1 WR in years\",\n",
       " 'Kiper & McShay: RB prospects for 2019 draft',\n",
       " '',\n",
       " 'Manage Favorites',\n",
       " 'Fantasy Home',\n",
       " 'Create A League',\n",
       " 'Draft a Team Now',\n",
       " 'Draft a Team Later',\n",
       " 'Mock Draft Now',\n",
       " '',\n",
       " 'Game Changers',\n",
       " '',\n",
       " 'When fandom goes bad: Most miserable fan bases in pro sports',\n",
       " '',\n",
       " 'The 2018-19 NBA League Pass Rankings, Part 2',\n",
       " 'Privacy Policy',\n",
       " 'Read the Latest',\n",
       " '\\n\\t\\t\\t\\n\\t\\t\\n          Subscribe Now\\n\\t\\t\\n\\t',\n",
       " '\\n\\t\\t\\t\\n\\t\\t\\n          ESPN+ Home\\n\\t\\t\\n\\t',\n",
       " '\\n\\t\\t\\t\\n\\t\\t\\n          Watch 180+ NHL Games\\n\\t\\t\\n\\t',\n",
       " \"\\n\\t\\t\\t\\n\\t\\t\\n          Kobe Bryant's Detail\\n\\t\\t\\n\\t\",\n",
       " '\\n\\t\\t\\t\\n\\t\\t\\n          30 for 30 Archive\\n\\t\\t\\n\\t',\n",
       " '\\n\\t\\t\\t\\n\\t\\t\\n          MLB Playoffs\\n\\t\\t\\n\\t',\n",
       " '\\n\\t\\t\\t\\n\\t\\t\\n          Fantasy Basketball: Sign Up\\n\\t\\t\\n\\t',\n",
       " '\\n\\t\\t\\t\\n\\t\\t\\n          ESPN Deportes\\n\\t\\t\\n\\t',\n",
       " '\\n\\t\\t\\t\\n\\t\\t\\n          The Undefeated\\n\\t\\t\\n\\t',\n",
       " '\\n\\t\\t\\t\\n\\t\\t\\n          espnW\\n\\t\\t\\n\\t',\n",
       " '\\n\\t\\t\\t\\n\\t\\t\\n          ESPNFC\\n\\t\\t\\n\\t',\n",
       " '\\n\\t\\t\\t\\n\\t\\t\\n          X Games\\n\\t\\t\\n\\t',\n",
       " '\\n\\t\\t\\t\\n\\t\\t\\n          SEC Network\\n\\t\\t\\n\\t',\n",
       " '\\n\\t\\t\\t\\n\\t\\t\\n          ESPN\\n\\t\\t\\n\\t',\n",
       " '\\n\\t\\t\\t\\n\\t\\t\\n          ESPN Fantasy\\n\\t\\t\\n\\t',\n",
       " '\\n\\t\\t\\t\\n\\t\\t\\n          Facebook\\n\\t\\t\\n\\t',\n",
       " '\\n\\t\\t\\t\\n\\t\\t\\n          Twitter\\n\\t\\t\\n\\t',\n",
       " '\\n\\t\\t\\t\\n\\t\\t\\n          Instagram\\n\\t\\t\\n\\t',\n",
       " '\\n\\t\\t\\t\\n\\t\\t\\n          Snapchat\\n\\t\\t\\n\\t',\n",
       " '\\n\\t\\t\\t\\n\\t\\t\\n          YouTube\\n\\t\\t\\n\\t',\n",
       " '\\n\\t\\t\\t\\n\\t\\t\\n          ESPN Daily Newsletter\\n\\t\\t\\n\\t',\n",
       " '\\n\\t\\t\\t\\n\\t\\t\\n          ESPN Daily Calendar\\n\\t\\t\\n\\t',\n",
       " 'Terms of Use',\n",
       " 'Privacy Policy',\n",
       " 'CA Privacy Rights',\n",
       " \"Children's Online Privacy Policy\",\n",
       " 'Interest-based Ads',\n",
       " 'About Nielsen Measurement',\n",
       " 'Help',\n",
       " 'Report a Bug',\n",
       " 'Contact Us',\n",
       " 'Corrections',\n",
       " 'Advertise on ESPN.com',\n",
       " 'Sales Media Kit',\n",
       " 'Jobs at ESPN',\n",
       " 'ESPN Front Row',\n",
       " 'Press',\n",
       " 'Site Map',\n",
       " 'Patents',\n",
       " 'About Nielsen Measurement',\n",
       " 'More Info Here',\n",
       " 'Cookie Choices']"
      ]
     },
     "execution_count": 23,
     "metadata": {},
     "output_type": "execute_result"
    }
   ],
   "source": [
    "# your code here\n",
    "text = [lnk.text_content() for lnk in doc.xpath(\"//a\")]\n",
    "text"
   ]
  },
  {
   "cell_type": "markdown",
   "metadata": {},
   "source": [
    "And now create a list where we put together text content and the URL for each link"
   ]
  },
  {
   "cell_type": "code",
   "execution_count": 24,
   "metadata": {},
   "outputs": [
    {
     "data": {
      "text/plain": [
       "[('#', 'Menu'),\n",
       " ('/', 'ESPN'),\n",
       " ('#', ''),\n",
       " ('#', 'Scores'),\n",
       " ('/nfl/', 'NFL'),\n",
       " ('/nba/', 'NBA'),\n",
       " ('/mlb/', 'MLB'),\n",
       " ('/college-football/', 'NCAAF'),\n",
       " ('/soccer/', 'Soccer'),\n",
       " ('/nhl/', 'NHL'),\n",
       " ('/golf/', 'Golf'),\n",
       " ('/tennis/', 'Tennis'),\n",
       " ('#', '…'),\n",
       " ('/mma/', 'MMA'),\n",
       " ('/wwe/', 'WWE'),\n",
       " ('/boxing/', 'Boxing'),\n",
       " ('/esports/', 'esports'),\n",
       " ('/chalk/', 'Chalk'),\n",
       " ('/analytics/', 'Analytics'),\n",
       " ('/mens-college-basketball/', 'NCAAM'),\n",
       " ('/womens-basketball/', 'WNBA'),\n",
       " ('/womens-basketball/', 'NCAAW'),\n",
       " ('http://www.espn.com/espnw/sport/ncaa-softball/', 'NCAA Softball'),\n",
       " ('/racing/nascar/', 'NASCAR'),\n",
       " ('/jayski/', 'Jayski'),\n",
       " ('/f1/', 'F1'),\n",
       " ('/racing/', 'Racing'),\n",
       " ('/olympics/', 'Olympic Sports'),\n",
       " ('/horse-racing/', 'Horse'),\n",
       " ('http://www.espn.com/college-sports/football/recruiting/', 'RN FB'),\n",
       " ('http://www.espn.com/college-sports/basketball/recruiting/', 'RN BB'),\n",
       " ('/college-sports/', 'NCAA'),\n",
       " ('/little-league-world-series/', 'LLWS'),\n",
       " ('http://www.espn.com/specialolympics/', 'Special Olympics'),\n",
       " ('http://xgames.com/', 'X Games'),\n",
       " ('http://espncricinfo.com/', 'Cricket'),\n",
       " ('/rugby/', 'Rugby'),\n",
       " ('http://www.tsn.ca/cfl', 'CFL'),\n",
       " ('#', 'More ESPN'),\n",
       " ('/fantasy/', 'Fantasy'),\n",
       " ('http://www.espn.com/espnradio/index', 'Listen'),\n",
       " ('http://www.espn.com/watch/', 'Watch'),\n",
       " ('http://www.espn.com/watch/espnplus/?om-navmethod=topnav', 'ESPN+'),\n",
       " ('https:plus.espn.com/', 'Subscribe Now'),\n",
       " ('http://www.espn.com/watch/espnplus/', 'ESPN+ Home'),\n",
       " ('http://www.espn.com/watch/collections/11264/nhl-live-upcoming?om-navmethod=leftnav',\n",
       "  'Watch 180+ NHL Games'),\n",
       " ('http://www.espn.com/watch/series/f48c68af-f980-4fcb-8b59-2a0db01f50cf/detail',\n",
       "  \"Kobe Bryant's Detail\"),\n",
       " ('http://www.espn.com/watch/series/0514c1ad-efd1-4d3a-ad82-41ca579a94a2/30-for-30-spotlight',\n",
       "  '30 for 30 Archive'),\n",
       " ('http://www.espn.com/mlb/story/_/id/24822058/2018-mlb-postseason-complete-coverage-every-series',\n",
       "  'MLB Playoffs'),\n",
       " ('httphttp://fantasy.espn.com/basketball/welcome?ex_cid=FBA2018_P1QLhttp/basketball/welcome?ex_cid=FBA2018_P1QL',\n",
       "  'Fantasy Basketball: Sign Up'),\n",
       " (None, ''),\n",
       " ('#', 'Manage Favorites'),\n",
       " ('http://espndeportes.espn.com', 'ESPN Deportes'),\n",
       " ('https://theundefeated.com', 'The Undefeated'),\n",
       " ('http://www.espn.com/espnw/', 'espnW'),\n",
       " ('http://www.espnfc.us', 'ESPNFC'),\n",
       " ('http://xgames.espn.com', 'X Games'),\n",
       " ('http://www.secsports.com', 'SEC Network'),\n",
       " ('http://www.espn.com/espn/apps/download?app=espn', 'ESPN'),\n",
       " ('http://www.espn.com/espn/mobile/products/products/_/id/17145860',\n",
       "  'ESPN Fantasy'),\n",
       " ('https://www.facebook.com/ESPN/', 'Facebook'),\n",
       " ('https://twitter.com/espn', 'Twitter'),\n",
       " ('https://www.instagram.com/espn/', 'Instagram'),\n",
       " ('https://www.snapchat.com/discover/ESPN/7296089122', 'Snapchat'),\n",
       " ('https://www.youtube.com/channel/UCiWLfSweyRNmLpgEHekhoAg?ex_cid=espn-left-nav-follow-us-youtube',\n",
       "  'YouTube'),\n",
       " ('http://www.espn.com/espn/espndaily', 'ESPN Daily Newsletter'),\n",
       " ('http://cal.espn.com/espn-daily-calendar?utm_source=espn_homepage_left_nav',\n",
       "  'ESPN Daily Calendar'),\n",
       " ('http://www.espn.com/espn/feature/story/_/id/24504654/kyrie-irving-art-sick-handles-nba',\n",
       "  \"Step into Kyrie's world of ridiculous dribble movesChris Forsberg\"),\n",
       " ('/nfl/story/_/id/24942611/jacksonville-jaguars-sign-free-agent-running-back-jamaal-charles',\n",
       "  'Injury-riddled Jags sign free-agent RB Charles'),\n",
       " ('/nfl/story/_/id/24942401/antonio-brown-sued-allegedly-throwing-items-balcony',\n",
       "  \"Steelers' Brown sued after alleged incident\"),\n",
       " ('/nfl/story/_/id/24940559/michael-thomas-calls-josh-norman-goof-ball-con-artist-cap-late-night-twitter-feud',\n",
       "  \"Saints' Thomas rips Norman in Twitter tirade\"),\n",
       " ('/mlb/story/_/id/24942409/alex-bregman-houston-astros-annoyed-alds-schedule-glad-return-prime',\n",
       "  \"Annoyed Bregman: Astros should be 'main event'\"),\n",
       " ('/nba/story/_/id/24942773/phoenix-suns-leaning-promoting-james-jones-full-general-manager',\n",
       "  'Sources: Suns leaning toward making Jones GM'),\n",
       " ('/nfl/story/_/id/24941622/jerry-jones-says-cowboys-had-no-1-wr-years',\n",
       "  \"Jones: Cowboys haven't had No. 1 WR in years\"),\n",
       " ('/college-football/insider/story/_/id/24919864/favorite-top-running-backs-2019-nfl-draft-mel-kiper-jr-todd-mcshay',\n",
       "  'Kiper & McShay: RB prospects for 2019 draft'),\n",
       " ('http://www.espn.com/watch/series/c31393a0-346f-4269-b680-18338b6e4c4f/basketball-a-love-story',\n",
       "  'Exploring the complex nature of love as it relates to the game'),\n",
       " ('/mlb/', 'ALDS'),\n",
       " ('/mlb/', 'See All'),\n",
       " ('/mlb/story/_/id/24932136/your-tuesday-alds-guide-boston-red-sox-eliminate-new-york-yankees-game-4',\n",
       "  \"Everything you need to know about Tuesday's clash between Red Sox and YankeesAfter their Game 3 romp at Yankee Stadium, the Red Sox are just one win away from advancing to face the Astros.Adam Hunger/USA TODAY Sports\"),\n",
       " ('/mlb/story/_/id/24936294/mlb-new-york-yankees-turn-cc-sabathia-season-line',\n",
       "  \"Can CC Sabathia save the Yankees' season?As New Yorkers know, it ain't over 'til it's over, but it could be over for the Yanks if their veteran starter can't contain the Red Sox and inspire his team.\"),\n",
       " ('/college-football/', 'College Football'),\n",
       " ('/college-football/', 'See All'),\n",
       " ('/college-football/story/_/id/24934752/not-all-undefeated-records-created-equal',\n",
       "  \"Not all undefeated records are created equalJust because a team is undefeated doesn't mean it's playoff-worthy. Let's compare résumés to figure out who the contenders and pretenders are.AP Photo/Carlos Osorio\"),\n",
       " ('/college-football/story/_/id/24930711/heisman-trophy-radar-contenders',\n",
       "  'Players not getting enough Heisman loveWe all know about Tua Tagovailoa and Kyler Murray. They deserve their Heisman hype. But here are six under-the-radar players who deserve attention, too.'),\n",
       " ('/college-football/story/_/page/bottom100918/bottom-10-favorite-losers-ones-cover-them',\n",
       "  \"The Bottom 10's favorite losers and those who cover themSometimes writers have to get creative when covering losing teams, which is why we're deferring to the experts this week.\"),\n",
       " ('/nfl/', 'NFL'),\n",
       " ('/nfl/', 'See All'),\n",
       " ('/nfl/story/_/id/24933106/nfl-power-rankings-picking-toughest-games-all-32-teams',\n",
       "  \"Week 6 Power Rankings: Every teams' remaining schedule strengthWhich teams face the most daunting roads ahead? We have schedule ranks and toughest opponents for every team.ESPN Illustration\"),\n",
       " ('/chalk/insider/story/_/id/24941619/another-big-test-chiefs-browns-real',\n",
       "  'Early NFL betting look for Week 6: Another big test for the Chiefs'),\n",
       " ('/nfl/', 'NFL Week 5'),\n",
       " ('/nfl/', 'See All'),\n",
       " ('/nfl/story/_/id/24934703/what-learned-week-5-2018-nfl-season-get-ready-wild-defensive-spending-spree',\n",
       "  \"All the defenders who will get paid in 2019In a year of historic offense, it's the defenders who are poised to cash in big next. Plus: Jason Garrett on thin ice?\"),\n",
       " ('/nfl/insider/story/_/id/24892861/next-join-100-million-club-2019-offseason-free-agency-draft',\n",
       "  \"Predicting the next five $100 million megadealsRussell Wilson could be next to enter the NFL's $100 million club. Here's who is poised to join him.\"),\n",
       " ('/nfl/story/_/id/24932463/best-worst-quarterbacks-week-5-nfl-2018-total-qbr',\n",
       "  \"Best and worst QBs: Tannehill tanks againFor a second straight week, Ryan Tannehill posted the week's worst Total QBR. Here are the week's best and worst performances.\"),\n",
       " ('/nba/', 'NBA'),\n",
       " ('/nba/', 'See All'),\n",
       " ('/nba/insider/story/_/id/24933413/scouting-james-wiseman-cole-anthony-more-2020-nba-draft-prospects-usa-basketball',\n",
       "  \"Inside the early race for 2020's No. 1 NBA draft pickESPN's NBA draft experts break down the next crop of top prospects.\"),\n",
       " ('/nba/team/_/name/gs/golden-state-warriors', 'WarriorsNBA'),\n",
       " ('/nba/team/_/name/gs/golden-state-warriors', 'See All'),\n",
       " ('/nfl/team/_/name/dal/dallas-cowboys', 'CowboysNFL'),\n",
       " ('/nfl/team/_/name/dal/dallas-cowboys', 'See All'),\n",
       " ('/blog/dallas-cowboys/post/_/id/4767666/jason-garretts-future-in-dallas-on-the-line-as-patience-wanes',\n",
       "  \"Jason Garrett's future in Dallas on the line as patience wanesWould Jerry Jones make an in-season move? What would the impact be on Dak Prescott? Questions mount as the Cowboys' season lags.\"),\n",
       " ('/nfl/story/_/id/24942611/jacksonville-jaguars-sign-free-agent-running-back-jamaal-charles',\n",
       "  'Injury-riddled Jags sign free-agent RB Charles'),\n",
       " ('/nfl/story/_/id/24942401/antonio-brown-sued-allegedly-throwing-items-balcony',\n",
       "  \"Steelers' Brown sued after alleged incident\"),\n",
       " ('/nfl/story/_/id/24940559/michael-thomas-calls-josh-norman-goof-ball-con-artist-cap-late-night-twitter-feud',\n",
       "  \"Saints' Thomas rips Norman in Twitter tirade\"),\n",
       " ('/mlb/story/_/id/24942409/alex-bregman-houston-astros-annoyed-alds-schedule-glad-return-prime',\n",
       "  \"Annoyed Bregman: Astros should be 'main event'\"),\n",
       " ('/nba/story/_/id/24942773/phoenix-suns-leaning-promoting-james-jones-full-general-manager',\n",
       "  'Sources: Suns leaning toward making Jones GM'),\n",
       " ('/nfl/story/_/id/24941622/jerry-jones-says-cowboys-had-no-1-wr-years',\n",
       "  \"Jones: Cowboys haven't had No. 1 WR in years\"),\n",
       " ('/college-football/insider/story/_/id/24919864/favorite-top-running-backs-2019-nfl-draft-mel-kiper-jr-todd-mcshay',\n",
       "  'Kiper & McShay: RB prospects for 2019 draft'),\n",
       " (None, ''),\n",
       " ('#', 'Manage Favorites'),\n",
       " ('http://www.espn.com/fantasy/', 'Fantasy Home'),\n",
       " ('http://fantasy.espn.com/basketball/welcome?ex_cid=FBA2018_RightRailCreate',\n",
       "  'Create A League'),\n",
       " ('http://fantasy.espn.com/basketball/welcome?ex_cid=FBA2018_RightRailNow',\n",
       "  'Draft a Team Now'),\n",
       " ('http://fantasy.espn.com/basketball/welcome?ex_cid=FBA2018_RightRailLater',\n",
       "  'Draft a Team Later'),\n",
       " ('http://fantasy.espn.com/basketball/mockdraftlobby', 'Mock Draft Now'),\n",
       " ('http://www.espn.com/espn/feature/story/_/id/24504198/the-nba-best-signature-moves-michael-jordan-fadeaway-allen-iverson-crossover',\n",
       "  ''),\n",
       " ('http://www.espn.com/espn/feature/story/_/id/24504198/the-nba-best-signature-moves-michael-jordan-fadeaway-allen-iverson-crossover',\n",
       "  'Game Changers'),\n",
       " ('/mlb/story/_/id/24367000/the-top-25-most-miserable-fan-bases-professional-sports',\n",
       "  ''),\n",
       " ('/mlb/story/_/id/24367000/the-top-25-most-miserable-fan-bases-professional-sports',\n",
       "  'When fandom goes bad: Most miserable fan bases in pro sports'),\n",
       " ('/nba/story/_/id/24857619/zach-lowe-2018-19-nba-league-pass-rankings-part-2',\n",
       "  ''),\n",
       " ('/nba/story/_/id/24857619/zach-lowe-2018-19-nba-league-pass-rankings-part-2',\n",
       "  'The 2018-19 NBA League Pass Rankings, Part 2'),\n",
       " ('https://disneyprivacycenter.com/', 'Privacy Policy'),\n",
       " ('http://www.espn.com/espn/daily', 'Read the Latest'),\n",
       " ('https:plus.espn.com/', 'Subscribe Now'),\n",
       " ('http://www.espn.com/watch/espnplus/', 'ESPN+ Home'),\n",
       " ('http://www.espn.com/watch/collections/11264/nhl-live-upcoming?om-navmethod=footer',\n",
       "  'Watch 180+ NHL Games'),\n",
       " ('http://www.espn.com/watch/series/f48c68af-f980-4fcb-8b59-2a0db01f50cf/detail',\n",
       "  \"Kobe Bryant's Detail\"),\n",
       " ('http://www.espn.com/watch/series/0514c1ad-efd1-4d3a-ad82-41ca579a94a2/30-for-30-spotlight',\n",
       "  '30 for 30 Archive'),\n",
       " ('http://www.espn.com/mlb/story/_/id/24822058/2018-mlb-postseason-complete-coverage-every-series',\n",
       "  'MLB Playoffs'),\n",
       " ('httphttp://fantasy.espn.com/basketball/welcome?ex_cid=FBA2018_P1QLhttp/basketball/welcome?ex_cid=FBA2018_P1QL',\n",
       "  'Fantasy Basketball: Sign Up'),\n",
       " ('http://espndeportes.espn.com', 'ESPN Deportes'),\n",
       " ('https://theundefeated.com', 'The Undefeated'),\n",
       " ('http://www.espn.com/espnw/', 'espnW'),\n",
       " ('http://www.espnfc.us', 'ESPNFC'),\n",
       " ('http://xgames.espn.com', 'X Games'),\n",
       " ('http://www.secsports.com', 'SEC Network'),\n",
       " ('http://www.espn.com/espn/apps/download?app=espn', 'ESPN'),\n",
       " ('http://www.espn.com/espn/mobile/products/products/_/id/17145860',\n",
       "  'ESPN Fantasy'),\n",
       " ('https://www.facebook.com/ESPN/', 'Facebook'),\n",
       " ('https://twitter.com/espn', 'Twitter'),\n",
       " ('https://www.instagram.com/espn/', 'Instagram'),\n",
       " ('https://www.snapchat.com/discover/ESPN/7296089122', 'Snapchat'),\n",
       " ('https://www.youtube.com/channel/UCiWLfSweyRNmLpgEHekhoAg?ex_cid=espn-footer-follow-us-youtube',\n",
       "  'YouTube'),\n",
       " ('http://www.espn.com/espn/espndaily', 'ESPN Daily Newsletter'),\n",
       " ('http://cal.espn.com/espn-daily-calendar?utm_source=espn_homepage_footer',\n",
       "  'ESPN Daily Calendar'),\n",
       " ('http://disneytermsofuse.com/', 'Terms of Use'),\n",
       " ('http://disneyprivacycenter.com/', 'Privacy Policy'),\n",
       " ('https://disneyprivacycenter.com/notice-to-california-residents/',\n",
       "  'CA Privacy Rights'),\n",
       " ('https://disneyprivacycenter.com/kids-privacy-policy/english/',\n",
       "  \"Children's Online Privacy Policy\"),\n",
       " ('http://preferences-mgr.truste.com/?type=espn&affiliateId=148',\n",
       "  'Interest-based Ads'),\n",
       " ('http://priv-policy.imrworldwide.com/priv/browser/us/en/optout.html',\n",
       "  'About Nielsen Measurement'),\n",
       " ('http://www.espn.com/espn/news/story?page=help-index', 'Help'),\n",
       " ('http://proxy.espn.com/espn/bugs?url=http://www.espn.com/', 'Report a Bug'),\n",
       " ('http://www.espn.com/espn/news/story?page=contact-index', 'Contact Us'),\n",
       " ('http://www.espn.com/espn/corrections', 'Corrections'),\n",
       " ('http://www.espncms.com/Advertise-on-ESPN.aspx', 'Advertise on ESPN.com'),\n",
       " ('http://www.espncms.com/', 'Sales Media Kit'),\n",
       " ('http://espncareers.com/', 'Jobs at ESPN'),\n",
       " ('http://www.espnfrontrow.com/', 'ESPN Front Row'),\n",
       " ('http://espnmediazone.com/us/', 'Press'),\n",
       " ('http://www.espn.com/espn/sitemap', 'Site Map'),\n",
       " ('http://www.espn.com/espn/news/story?page=patents', 'Patents'),\n",
       " ('http://www.nielsen.com/digitalprivacy', 'About Nielsen Measurement'),\n",
       " ('https://privacy.thewaltdisneycompany.com/en/current-privacy-policy/cookies-policy/',\n",
       "  'More Info Here'),\n",
       " ('https://preferences-mgr.truste.com/?pid=disney01&aid=espnemea01&type=espnemea',\n",
       "  'Cookie Choices')]"
      ]
     },
     "execution_count": 24,
     "metadata": {},
     "output_type": "execute_result"
    }
   ],
   "source": [
    "# your code here\n",
    "[(lnk.get(\"href\"),lnk.text_content().strip()) for lnk in doc.xpath(\"//a\")]"
   ]
  },
  {
   "cell_type": "markdown",
   "metadata": {},
   "source": [
    "#### Let's get the headlines..."
   ]
  },
  {
   "cell_type": "markdown",
   "metadata": {},
   "source": [
    "Now, let's examine how we can get the data from the website. The key is to understand the structure of the HTML, where the data that we need is stored, and how to fetch the elements. Then, using the appropriate XPath queries, we will get what we want."
   ]
  },
  {
   "cell_type": "code",
   "execution_count": 1,
   "metadata": {},
   "outputs": [],
   "source": [
    "import requests # This command allows us to fetch URLs\n",
    "from lxml import html # This module will allow us to parse the returned HTML/XML\n",
    "import pandas # To create a dataframe"
   ]
  },
  {
   "cell_type": "markdown",
   "metadata": {},
   "source": [
    "Let's start by fetching the page, and parsing it"
   ]
  },
  {
   "cell_type": "code",
   "execution_count": 2,
   "metadata": {},
   "outputs": [],
   "source": [
    "url = \"http://www.espn.com/\"\n",
    "response = requests.get(url) # get the html of that url\n",
    "doc = html.fromstring(response.text) # parse it and create a document"
   ]
  },
  {
   "cell_type": "code",
   "execution_count": 3,
   "metadata": {},
   "outputs": [
    {
     "data": {
      "text/plain": [
       "16"
      ]
     },
     "execution_count": 3,
     "metadata": {},
     "output_type": "execute_result"
    }
   ],
   "source": [
    "# Find all the <a> nodes that have an attribute\n",
    "# data-mptype that is equal to 'headline'\n",
    "results = doc.xpath('//a[@data-mptype=\"headline\"]')\n",
    "len(results)"
   ]
  },
  {
   "cell_type": "code",
   "execution_count": 4,
   "metadata": {},
   "outputs": [
    {
     "name": "stdout",
     "output_type": "stream",
     "text": [
      "Injury-riddled Jags sign free-agent RB Charles ==> http://www.espn.com/nfl/story/_/id/24942611/jacksonville-jaguars-sign-free-agent-running-back-jamaal-charles\n",
      "=============================\n",
      "Steelers' Brown sued after alleged incident ==> http://www.espn.com/nfl/story/_/id/24942401/antonio-brown-sued-allegedly-throwing-items-balcony\n",
      "=============================\n",
      "Saints' Thomas rips Norman in Twitter tirade ==> http://www.espn.com/nfl/story/_/id/24940559/michael-thomas-calls-josh-norman-goof-ball-con-artist-cap-late-night-twitter-feud\n",
      "=============================\n",
      "Annoyed Bregman: Astros should be 'main event' ==> http://www.espn.com/mlb/story/_/id/24942409/alex-bregman-houston-astros-annoyed-alds-schedule-glad-return-prime\n",
      "=============================\n",
      "Sources: Suns leaning toward making Jones GM ==> http://www.espn.com/nba/story/_/id/24942773/phoenix-suns-leaning-promoting-james-jones-full-general-manager\n",
      "=============================\n",
      "Jones: Cowboys haven't had No. 1 WR in years ==> http://www.espn.com/nfl/story/_/id/24941622/jerry-jones-says-cowboys-had-no-1-wr-years\n",
      "=============================\n",
      "Kiper & McShay: RB prospects for 2019 draft ==> http://www.espn.com/college-football/insider/story/_/id/24919864/favorite-top-running-backs-2019-nfl-draft-mel-kiper-jr-todd-mcshay\n",
      "=============================\n",
      "Early NFL betting look for Week 6: Another big test for the Chiefs ==> http://www.espn.com/chalk/insider/story/_/id/24941619/another-big-test-chiefs-browns-real\n",
      "=============================\n",
      "Exploring the complex nature of love as it relates to the game ==> http://www.espn.comhttp://www.espn.com/watch/series/c31393a0-346f-4269-b680-18338b6e4c4f/basketball-a-love-story\n",
      "=============================\n",
      "Injury-riddled Jags sign free-agent RB Charles ==> http://www.espn.com/nfl/story/_/id/24942611/jacksonville-jaguars-sign-free-agent-running-back-jamaal-charles\n",
      "=============================\n",
      "Steelers' Brown sued after alleged incident ==> http://www.espn.com/nfl/story/_/id/24942401/antonio-brown-sued-allegedly-throwing-items-balcony\n",
      "=============================\n",
      "Saints' Thomas rips Norman in Twitter tirade ==> http://www.espn.com/nfl/story/_/id/24940559/michael-thomas-calls-josh-norman-goof-ball-con-artist-cap-late-night-twitter-feud\n",
      "=============================\n",
      "Annoyed Bregman: Astros should be 'main event' ==> http://www.espn.com/mlb/story/_/id/24942409/alex-bregman-houston-astros-annoyed-alds-schedule-glad-return-prime\n",
      "=============================\n",
      "Sources: Suns leaning toward making Jones GM ==> http://www.espn.com/nba/story/_/id/24942773/phoenix-suns-leaning-promoting-james-jones-full-general-manager\n",
      "=============================\n",
      "Jones: Cowboys haven't had No. 1 WR in years ==> http://www.espn.com/nfl/story/_/id/24941622/jerry-jones-says-cowboys-had-no-1-wr-years\n",
      "=============================\n",
      "Kiper & McShay: RB prospects for 2019 draft ==> http://www.espn.com/college-football/insider/story/_/id/24919864/favorite-top-running-backs-2019-nfl-draft-mel-kiper-jr-todd-mcshay\n",
      "=============================\n"
     ]
    }
   ],
   "source": [
    "for result in results:\n",
    "    print(result.text, '==>', 'http://www.espn.com'+result.get('href'))\n",
    "    print('=============================')"
   ]
  },
  {
   "cell_type": "code",
   "execution_count": null,
   "metadata": {},
   "outputs": [],
   "source": []
  },
  {
   "cell_type": "markdown",
   "metadata": {},
   "source": [
    "By using the `\"Right-Click > Inspect\"` option of Chrome,\n",
    "we right click on the headlines and select `\"Inspect\"`.\n",
    "This opens the source code.\n",
    "There we see that all under a `<div class=\"headlineStack\">` tag."
   ]
  },
  {
   "cell_type": "code",
   "execution_count": 5,
   "metadata": {},
   "outputs": [],
   "source": [
    "headlineNode = doc.xpath('//div[@class=\"headlineStack\"]')"
   ]
  },
  {
   "cell_type": "markdown",
   "metadata": {},
   "source": [
    "The result of that operation is a list with 9 elements."
   ]
  },
  {
   "cell_type": "code",
   "execution_count": 6,
   "metadata": {},
   "outputs": [
    {
     "data": {
      "text/plain": [
       "list"
      ]
     },
     "execution_count": 6,
     "metadata": {},
     "output_type": "execute_result"
    }
   ],
   "source": [
    "type(headlineNode)"
   ]
  },
  {
   "cell_type": "code",
   "execution_count": 7,
   "metadata": {},
   "outputs": [
    {
     "data": {
      "text/plain": [
       "4"
      ]
     },
     "execution_count": 7,
     "metadata": {},
     "output_type": "execute_result"
    }
   ],
   "source": [
    "len(headlineNode)"
   ]
  },
  {
   "cell_type": "markdown",
   "metadata": {},
   "source": [
    "Each headline is under a  `<li><a href=\"....\"></a>` tag.\n",
    "So, we get all the `<li><a ...>` tags within the `<div class=\"headlineStack\">`\n",
    "(which is stored in the \"`headlineNode`\" variable)"
   ]
  },
  {
   "cell_type": "code",
   "execution_count": 8,
   "metadata": {},
   "outputs": [
    {
     "data": {
      "text/plain": [
       "1"
      ]
     },
     "execution_count": 8,
     "metadata": {},
     "output_type": "execute_result"
    }
   ],
   "source": [
    "headlines = headlineNode[1].xpath('.//li/a')\n",
    "len(headlines)"
   ]
  },
  {
   "cell_type": "markdown",
   "metadata": {},
   "source": [
    "Now, we have the nodes with the conent in the headlines variable.\n",
    "We extract the text and the URL."
   ]
  },
  {
   "cell_type": "code",
   "execution_count": 9,
   "metadata": {},
   "outputs": [
    {
     "data": {
      "text/plain": [
       "[{'Title': 'Early NFL betting look for Week 6: Another big test for the Chiefs',\n",
       "  'URL': '/chalk/insider/story/_/id/24941619/another-big-test-chiefs-browns-real'}]"
      ]
     },
     "execution_count": 9,
     "metadata": {},
     "output_type": "execute_result"
    }
   ],
   "source": [
    "data = [{\"Title\": a.text_content(), \"URL\": a.get(\"href\")} for a in headlines]\n",
    "data"
   ]
  },
  {
   "cell_type": "markdown",
   "metadata": {},
   "source": [
    "And let's create our dataframe, so that we can have a better view"
   ]
  },
  {
   "cell_type": "code",
   "execution_count": 10,
   "metadata": {},
   "outputs": [
    {
     "data": {
      "text/html": [
       "<div>\n",
       "<style scoped>\n",
       "    .dataframe tbody tr th:only-of-type {\n",
       "        vertical-align: middle;\n",
       "    }\n",
       "\n",
       "    .dataframe tbody tr th {\n",
       "        vertical-align: top;\n",
       "    }\n",
       "\n",
       "    .dataframe thead th {\n",
       "        text-align: right;\n",
       "    }\n",
       "</style>\n",
       "<table border=\"1\" class=\"dataframe\">\n",
       "  <thead>\n",
       "    <tr style=\"text-align: right;\">\n",
       "      <th></th>\n",
       "      <th>Title</th>\n",
       "      <th>URL</th>\n",
       "    </tr>\n",
       "  </thead>\n",
       "  <tbody>\n",
       "    <tr>\n",
       "      <th>0</th>\n",
       "      <td>Early NFL betting look for Week 6: Another big...</td>\n",
       "      <td>/chalk/insider/story/_/id/24941619/another-big...</td>\n",
       "    </tr>\n",
       "  </tbody>\n",
       "</table>\n",
       "</div>"
      ],
      "text/plain": [
       "                                               Title  \\\n",
       "0  Early NFL betting look for Week 6: Another big...   \n",
       "\n",
       "                                                 URL  \n",
       "0  /chalk/insider/story/_/id/24941619/another-big...  "
      ]
     },
     "execution_count": 10,
     "metadata": {},
     "output_type": "execute_result"
    }
   ],
   "source": [
    "dataframe = pandas.DataFrame(data)\n",
    "dataframe"
   ]
  },
  {
   "cell_type": "markdown",
   "metadata": {},
   "source": [
    "#### Of course, there are always more than one way to skin a cat...\n",
    "\n",
    "Alternatively, if we did not want to restrict ourselves to just the first headline box, we could write an alternative query, to get back all the headlines, that appear in an XPath `//div[@class=\"headlineStack\"]//li/a`:"
   ]
  },
  {
   "cell_type": "code",
   "execution_count": 11,
   "metadata": {},
   "outputs": [
    {
     "data": {
      "text/html": [
       "<div>\n",
       "<style scoped>\n",
       "    .dataframe tbody tr th:only-of-type {\n",
       "        vertical-align: middle;\n",
       "    }\n",
       "\n",
       "    .dataframe tbody tr th {\n",
       "        vertical-align: top;\n",
       "    }\n",
       "\n",
       "    .dataframe thead th {\n",
       "        text-align: right;\n",
       "    }\n",
       "</style>\n",
       "<table border=\"1\" class=\"dataframe\">\n",
       "  <thead>\n",
       "    <tr style=\"text-align: right;\">\n",
       "      <th></th>\n",
       "      <th>Title</th>\n",
       "      <th>URL</th>\n",
       "    </tr>\n",
       "  </thead>\n",
       "  <tbody>\n",
       "    <tr>\n",
       "      <th>0</th>\n",
       "      <td>Injury-riddled Jags sign free-agent RB Charles</td>\n",
       "      <td>http://www.espn.com/nfl/story/_/id/24942611/ja...</td>\n",
       "    </tr>\n",
       "    <tr>\n",
       "      <th>1</th>\n",
       "      <td>Steelers' Brown sued after alleged incident</td>\n",
       "      <td>http://www.espn.com/nfl/story/_/id/24942401/an...</td>\n",
       "    </tr>\n",
       "    <tr>\n",
       "      <th>2</th>\n",
       "      <td>Saints' Thomas rips Norman in Twitter tirade</td>\n",
       "      <td>http://www.espn.com/nfl/story/_/id/24940559/mi...</td>\n",
       "    </tr>\n",
       "    <tr>\n",
       "      <th>3</th>\n",
       "      <td>Annoyed Bregman: Astros should be 'main event'</td>\n",
       "      <td>http://www.espn.com/mlb/story/_/id/24942409/al...</td>\n",
       "    </tr>\n",
       "    <tr>\n",
       "      <th>4</th>\n",
       "      <td>Sources: Suns leaning toward making Jones GM</td>\n",
       "      <td>http://www.espn.com/nba/story/_/id/24942773/ph...</td>\n",
       "    </tr>\n",
       "    <tr>\n",
       "      <th>5</th>\n",
       "      <td>Jones: Cowboys haven't had No. 1 WR in years</td>\n",
       "      <td>http://www.espn.com/nfl/story/_/id/24941622/je...</td>\n",
       "    </tr>\n",
       "    <tr>\n",
       "      <th>6</th>\n",
       "      <td>Kiper &amp; McShay: RB prospects for 2019 draft</td>\n",
       "      <td>http://www.espn.com/college-football/insider/s...</td>\n",
       "    </tr>\n",
       "    <tr>\n",
       "      <th>7</th>\n",
       "      <td>Early NFL betting look for Week 6: Another big...</td>\n",
       "      <td>http://www.espn.com/chalk/insider/story/_/id/2...</td>\n",
       "    </tr>\n",
       "    <tr>\n",
       "      <th>8</th>\n",
       "      <td>Exploring the complex nature of love as it rel...</td>\n",
       "      <td>http://www.espn.comhttp://www.espn.com/watch/s...</td>\n",
       "    </tr>\n",
       "    <tr>\n",
       "      <th>9</th>\n",
       "      <td>Injury-riddled Jags sign free-agent RB Charles</td>\n",
       "      <td>http://www.espn.com/nfl/story/_/id/24942611/ja...</td>\n",
       "    </tr>\n",
       "    <tr>\n",
       "      <th>10</th>\n",
       "      <td>Steelers' Brown sued after alleged incident</td>\n",
       "      <td>http://www.espn.com/nfl/story/_/id/24942401/an...</td>\n",
       "    </tr>\n",
       "    <tr>\n",
       "      <th>11</th>\n",
       "      <td>Saints' Thomas rips Norman in Twitter tirade</td>\n",
       "      <td>http://www.espn.com/nfl/story/_/id/24940559/mi...</td>\n",
       "    </tr>\n",
       "    <tr>\n",
       "      <th>12</th>\n",
       "      <td>Annoyed Bregman: Astros should be 'main event'</td>\n",
       "      <td>http://www.espn.com/mlb/story/_/id/24942409/al...</td>\n",
       "    </tr>\n",
       "    <tr>\n",
       "      <th>13</th>\n",
       "      <td>Sources: Suns leaning toward making Jones GM</td>\n",
       "      <td>http://www.espn.com/nba/story/_/id/24942773/ph...</td>\n",
       "    </tr>\n",
       "    <tr>\n",
       "      <th>14</th>\n",
       "      <td>Jones: Cowboys haven't had No. 1 WR in years</td>\n",
       "      <td>http://www.espn.com/nfl/story/_/id/24941622/je...</td>\n",
       "    </tr>\n",
       "    <tr>\n",
       "      <th>15</th>\n",
       "      <td>Kiper &amp; McShay: RB prospects for 2019 draft</td>\n",
       "      <td>http://www.espn.com/college-football/insider/s...</td>\n",
       "    </tr>\n",
       "  </tbody>\n",
       "</table>\n",
       "</div>"
      ],
      "text/plain": [
       "                                                Title  \\\n",
       "0      Injury-riddled Jags sign free-agent RB Charles   \n",
       "1         Steelers' Brown sued after alleged incident   \n",
       "2        Saints' Thomas rips Norman in Twitter tirade   \n",
       "3      Annoyed Bregman: Astros should be 'main event'   \n",
       "4        Sources: Suns leaning toward making Jones GM   \n",
       "5        Jones: Cowboys haven't had No. 1 WR in years   \n",
       "6         Kiper & McShay: RB prospects for 2019 draft   \n",
       "7   Early NFL betting look for Week 6: Another big...   \n",
       "8   Exploring the complex nature of love as it rel...   \n",
       "9      Injury-riddled Jags sign free-agent RB Charles   \n",
       "10        Steelers' Brown sued after alleged incident   \n",
       "11       Saints' Thomas rips Norman in Twitter tirade   \n",
       "12     Annoyed Bregman: Astros should be 'main event'   \n",
       "13       Sources: Suns leaning toward making Jones GM   \n",
       "14       Jones: Cowboys haven't had No. 1 WR in years   \n",
       "15        Kiper & McShay: RB prospects for 2019 draft   \n",
       "\n",
       "                                                  URL  \n",
       "0   http://www.espn.com/nfl/story/_/id/24942611/ja...  \n",
       "1   http://www.espn.com/nfl/story/_/id/24942401/an...  \n",
       "2   http://www.espn.com/nfl/story/_/id/24940559/mi...  \n",
       "3   http://www.espn.com/mlb/story/_/id/24942409/al...  \n",
       "4   http://www.espn.com/nba/story/_/id/24942773/ph...  \n",
       "5   http://www.espn.com/nfl/story/_/id/24941622/je...  \n",
       "6   http://www.espn.com/college-football/insider/s...  \n",
       "7   http://www.espn.com/chalk/insider/story/_/id/2...  \n",
       "8   http://www.espn.comhttp://www.espn.com/watch/s...  \n",
       "9   http://www.espn.com/nfl/story/_/id/24942611/ja...  \n",
       "10  http://www.espn.com/nfl/story/_/id/24942401/an...  \n",
       "11  http://www.espn.com/nfl/story/_/id/24940559/mi...  \n",
       "12  http://www.espn.com/mlb/story/_/id/24942409/al...  \n",
       "13  http://www.espn.com/nba/story/_/id/24942773/ph...  \n",
       "14  http://www.espn.com/nfl/story/_/id/24941622/je...  \n",
       "15  http://www.espn.com/college-football/insider/s...  "
      ]
     },
     "execution_count": 11,
     "metadata": {},
     "output_type": "execute_result"
    }
   ],
   "source": [
    "headlines = doc.xpath('//div[@class=\"headlineStack\"]//li/a')\n",
    "data = [{\"Title\": a.text_content(), \"URL\": \"http://www.espn.com\" + a.get(\"href\")} for a in headlines]\n",
    "df = pandas.DataFrame(data)\n",
    "df"
   ]
  },
  {
   "cell_type": "markdown",
   "metadata": {},
   "source": [
    "### In Class Example: Crawl BuzzFeed\n",
    "\n",
    "* We will try to get the top articles that appear on Buzzfeed\n",
    "* We will grab the link for the article, the text of the title, the description, and the editor.\n",
    "* The results will be stored in a dataframe (we will see in detail what a dataframe is, in a couple of modules)\n"
   ]
  },
  {
   "cell_type": "code",
   "execution_count": 25,
   "metadata": {},
   "outputs": [],
   "source": [
    "#your code here\n",
    "import requests\n",
    "from lxml import html\n",
    "\n",
    "resp = requests.get(\"http://www.buzzfeed.com\")\n",
    "doc = html.fromstring(resp.text)"
   ]
  },
  {
   "cell_type": "code",
   "execution_count": 32,
   "metadata": {},
   "outputs": [
    {
     "data": {
      "text/plain": [
       "'Lady Gaga Sharing The Tragic True Story Behind The Final Scene In “A Star Is Born” Will Absolutely Destroy You'"
      ]
     },
     "execution_count": 32,
     "metadata": {},
     "output_type": "execute_result"
    }
   ],
   "source": [
    "results = doc.xpath('//h1[@class=\"featured-card__headline link-gray\"]')\n",
    "results[0].text"
   ]
  },
  {
   "cell_type": "code",
   "execution_count": null,
   "metadata": {},
   "outputs": [],
   "source": []
  },
  {
   "cell_type": "code",
   "execution_count": null,
   "metadata": {},
   "outputs": [],
   "source": []
  },
  {
   "cell_type": "markdown",
   "metadata": {
    "collapsed": true
   },
   "source": [
    "#### Solution for Buzzfeed (as of March 5, 2018)"
   ]
  },
  {
   "cell_type": "code",
   "execution_count": null,
   "metadata": {},
   "outputs": [],
   "source": [
    "import requests # This command allows us to fetch URLs\n",
    "from lxml import html # This module will allow us to parse the returned HTML/XML\n",
    "import pandas\n",
    "\n",
    "# Let's start by fetching the page, and parsing it\n",
    "url = \"http://www.buzzfeed.com/\"\n",
    "response = requests.get(url) # get the html of that url\n",
    "doc = html.fromstring(response.text) # parse it and create a document\n",
    "\n",
    "articleNodes = doc.xpath(\"//div[@data-buzzblock='story-card']\") \n",
    "\n",
    "def parseArticleNode(article):\n",
    "    headline = article.xpath(\".//a/h2\")[0].text_content()\n",
    "    headline_link = article.xpath(\".//a\")[0].get(\"href\")\n",
    "    description = article.xpath(\".//a/p\")[0].text_content()\n",
    "    editor = article.xpath(\".//a[contains(@class,'card__meta__link')]/span\")[0].text_content().strip()\n",
    "\n",
    "    result = {\n",
    "        \"headline\": headline,\n",
    "        \"URL\" : headline_link,\n",
    "        \"description\" : description,\n",
    "        \"editor\" : editor\n",
    "    }\n",
    "    return result\n",
    "\n",
    "data = [parseArticleNode(article) for article in articleNodes]\n",
    "df = pandas.DataFrame(data)\n",
    "df"
   ]
  },
  {
   "cell_type": "code",
   "execution_count": null,
   "metadata": {},
   "outputs": [],
   "source": []
  }
 ],
 "metadata": {
  "kernelspec": {
   "display_name": "Python 3",
   "language": "python",
   "name": "python3"
  },
  "language_info": {
   "codemirror_mode": {
    "name": "ipython",
    "version": 3
   },
   "file_extension": ".py",
   "mimetype": "text/x-python",
   "name": "python",
   "nbconvert_exporter": "python",
   "pygments_lexer": "ipython3",
   "version": "3.6.6"
  }
 },
 "nbformat": 4,
 "nbformat_minor": 1
}
