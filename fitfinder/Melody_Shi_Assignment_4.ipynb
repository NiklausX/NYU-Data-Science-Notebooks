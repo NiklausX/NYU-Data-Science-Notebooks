{
 "cells": [
  {
   "cell_type": "markdown",
   "metadata": {},
   "source": [
    "# Assignment 4: Food, Halloween, and Analytics"
   ]
  },
  {
   "cell_type": "markdown",
   "metadata": {},
   "source": [
    "In this assignment you will practice crawling to fetch data from a website (allrecipes.com).\n",
    "\n",
    "You will then put your data into a Pandas dataframe and perform some analysis of the fetched recipes."
   ]
  },
  {
   "cell_type": "code",
   "execution_count": 1,
   "metadata": {},
   "outputs": [],
   "source": [
    "%matplotlib inline\n",
    "%config InlineBackend.figure_format = 'retina'"
   ]
  },
  {
   "cell_type": "code",
   "execution_count": 2,
   "metadata": {},
   "outputs": [
    {
     "name": "stdout",
     "output_type": "stream",
     "text": [
      "\u001b[33mThe directory '/home/ubuntu/.cache/pip/http' or its parent directory is not owned by the current user and the cache has been disabled. Please check the permissions and owner of that directory. If executing pip with sudo, you may want sudo's -H flag.\u001b[0m\n",
      "\u001b[33mThe directory '/home/ubuntu/.cache/pip' or its parent directory is not owned by the current user and caching wheels has been disabled. check the permissions and owner of that directory. If executing pip with sudo, you may want sudo's -H flag.\u001b[0m\n",
      "Requirement already up-to-date: statsmodels in /usr/local/lib/python3.6/dist-packages (0.9.0)\n",
      "Requirement already satisfied, skipping upgrade: pandas in /usr/local/lib/python3.6/dist-packages (from statsmodels) (0.23.4)\n",
      "Requirement already satisfied, skipping upgrade: patsy in /usr/local/lib/python3.6/dist-packages (from statsmodels) (0.5.0)\n",
      "Requirement already satisfied, skipping upgrade: python-dateutil>=2.5.0 in /usr/local/lib/python3.6/dist-packages (from pandas->statsmodels) (2.7.3)\n",
      "Requirement already satisfied, skipping upgrade: pytz>=2011k in /usr/local/lib/python3.6/dist-packages (from pandas->statsmodels) (2018.5)\n",
      "Requirement already satisfied, skipping upgrade: numpy>=1.9.0 in /usr/local/lib/python3.6/dist-packages (from pandas->statsmodels) (1.15.2)\n",
      "Requirement already satisfied, skipping upgrade: six in /usr/lib/python3/dist-packages (from patsy->statsmodels) (1.11.0)\n"
     ]
    }
   ],
   "source": [
    "!sudo pip3 install -U statsmodels"
   ]
  },
  {
   "cell_type": "code",
   "execution_count": 3,
   "metadata": {},
   "outputs": [],
   "source": [
    "from lxml import html\n",
    "from xml.etree import ElementTree\n",
    "import matplotlib\n",
    "import matplotlib.pyplot as plt\n",
    "import numpy as np\n",
    "import pandas as pd\n",
    "import re\n",
    "import requests\n",
    "import seaborn as sns\n",
    "import statsmodels.formula.api as smf\n",
    "matplotlib.style.use(['seaborn-talk', 'seaborn-ticks', 'seaborn-whitegrid'])\n",
    "import warnings\n",
    "warnings.filterwarnings('ignore')"
   ]
  },
  {
   "cell_type": "markdown",
   "metadata": {},
   "source": [
    "## Task 1: Crawl AllRecipes.com"
   ]
  },
  {
   "cell_type": "markdown",
   "metadata": {},
   "source": [
    "We are getting ready for Halloween, and we want to cook some good food. No, good is not good enough. We want to first the BEST recipe for Heloween.\n",
    "\n",
    "But to find the best recipe, we need data. \n",
    "\n",
    "After a 1-min Google search, we find the page `https://www.allrecipes.com/recipes/189/holidays-and-events/halloween/` that contains recipes for Halloween. From a quick look on the webpage, we see that, for each recipe we have a **star rating**, and we also have the **number of reviews** for the recipe.\n",
    "\n",
    "So, you need to write a crawler that will parse AllRecipes and fetch data for the recipes. For this assignment, we will only fetch the data from the recipes from the results page; we will not fetch the recipes themselves.  We need to fetch the title of the recipe, the URL for the recipe, the number of reviews, and the average star rating (out of 5 stars).\n",
    "\n",
    "Tips:\n",
    "\n",
    "* The URLs for the pages with the recipes have the form `https://www.allrecipes.com/recipes/189/holidays-and-events/halloween/?page=...` with the page parameter taking values from 1 and above.\n",
    "* Each recipe entry is stored under HTML nodes marked as `<article @class=\"fixed-recipe-card\">`. You need to parse these nodes to get the information for each recipe.\n",
    "* To get the number of reviews, you may need to take a look at the HTML source using the \"View Source\" capability. The \"developer view\" hides the fact that the number is not text but part of an HTML tag (e.g., the number 2004 will be listed as `<format-large-number number=\"2004\"></format-large-number>`)"
   ]
  },
  {
   "cell_type": "code",
   "execution_count": 4,
   "metadata": {},
   "outputs": [],
   "source": [
    "test_url = 'https://www.allrecipes.com/recipes/189/holidays-and-events/halloween/?page=1'\n",
    "doc = html.fromstring(requests.get(test_url).text)"
   ]
  },
  {
   "cell_type": "code",
   "execution_count": 5,
   "metadata": {},
   "outputs": [],
   "source": [
    "def get_calories(recipe_url):\n",
    "    doc = html.fromstring(requests.get(recipe_url).text)\n",
    "    calories = doc.xpath('//span[@itemprop=\"calories\"]')[0].text.split()[0]\n",
    "    return int(calories)"
   ]
  },
  {
   "cell_type": "code",
   "execution_count": 6,
   "metadata": {},
   "outputs": [
    {
     "data": {
      "text/plain": [
       "117"
      ]
     },
     "execution_count": 6,
     "metadata": {},
     "output_type": "execute_result"
    }
   ],
   "source": [
    "get_calories(\"https://www.allrecipes.com/recipe/152418/caramelized-spicy-pumpkin-seeds/\")"
   ]
  },
  {
   "cell_type": "code",
   "execution_count": 7,
   "metadata": {},
   "outputs": [],
   "source": [
    "# Template code to get you started. This code gets as input an HTML page and extracts the list\n",
    "# of recipes that are listed there.\n",
    "\n",
    "def get_recipes_from_page(url):\n",
    "    doc = html.fromstring(requests.get(url).text)\n",
    "    recipes = doc.xpath('//article[@class=\"fixed-recipe-card\"]')\n",
    "\n",
    "    result = []\n",
    "    count = 0\n",
    "    for r in recipes:\n",
    "        \n",
    "        # DEBUGING CODE. Use it to print out the HTML of the \"recipe card\"\n",
    "        #html_str = ElementTree.tostring(r).decode()\n",
    "        #print(html_str)\n",
    "        #print(\"=============================\\n=============================\\n=============================\")\n",
    "        #continue\n",
    "   \n",
    "        ### WRITE YOUR CODE HERE. \n",
    "        # Your XPath queries should identify the corresponding parts of the page \n",
    "        # that contain the information that you need. \n",
    "        title = r.xpath('.//span[@class=\"fixed-recipe-card__title-link\"]')[count].text\n",
    "        recipe_url = r.xpath(\".//a[@class='fixed-recipe-card__title-link']\")[count].get(\"href\")        \n",
    "        rating = r.xpath(\".//span[contains(@class, 'stars')]\")[count].get(\"data-ratingstars\")\n",
    "        reviews = r.xpath(\".//format-large-number\")[count].get(\"number\")\n",
    "        try:\n",
    "            calories = get_calories(recipe_url)\n",
    "        except:\n",
    "            calories = -1\n",
    "            print(\"This page has no calories information:\")\n",
    "            print(recipe_url)\n",
    "            print(\"==========================================\")\n",
    "        \n",
    "        # If you feel adventurous: write a crawler that connects to the \n",
    "        # main page of the recipe, and fetched the calories\n",
    "        # calories = get_calories(recipe_url)\n",
    "        \n",
    "        entry = {\n",
    "            'title' : title,\n",
    "            'recipe_url' : recipe_url,\n",
    "            'rating' : round(float(rating),2),\n",
    "            'reviews' : int(reviews),\n",
    "            'calories' : calories\n",
    "        }\n",
    "        result.append(entry)\n",
    "        count += 1\n",
    "    return result"
   ]
  },
  {
   "cell_type": "code",
   "execution_count": 8,
   "metadata": {},
   "outputs": [
    {
     "data": {
      "text/plain": [
       "[{'calories': 67,\n",
       "  'rating': 4.67,\n",
       "  'recipe_url': 'https://www.allrecipes.com/recipe/219207/monster-bites/',\n",
       "  'reviews': 2005,\n",
       "  'title': 'Monster Bites '},\n",
       " {'calories': 83,\n",
       "  'rating': 4.8,\n",
       "  'recipe_url': 'https://www.allrecipes.com/recipe/13768/roasted-pumpkin-seeds/',\n",
       "  'reviews': 730,\n",
       "  'title': 'Roasted Pumpkin Seeds'},\n",
       " {'calories': 124,\n",
       "  'rating': 4.65,\n",
       "  'recipe_url': 'https://www.allrecipes.com/recipe/67656/cake-balls/',\n",
       "  'reviews': 304,\n",
       "  'title': 'Cake Balls'},\n",
       " {'calories': 117,\n",
       "  'rating': 4.5,\n",
       "  'recipe_url': 'https://www.allrecipes.com/recipe/240007/peanut-butter-spider-cookies/',\n",
       "  'reviews': 297,\n",
       "  'title': 'Peanut Butter Spider Cookies'},\n",
       " {'calories': 966,\n",
       "  'rating': 4.84,\n",
       "  'recipe_url': 'https://www.allrecipes.com/recipe/128644/halloween-bloody-baked-rats/',\n",
       "  'reviews': 685,\n",
       "  'title': 'Halloween Bloody Baked Rats'},\n",
       " {'calories': 156,\n",
       "  'rating': 4.53,\n",
       "  'recipe_url': 'https://www.allrecipes.com/recipe/21468/witches-brew/',\n",
       "  'reviews': 17,\n",
       "  'title': \"Witches' Brew\"},\n",
       " {'calories': 42,\n",
       "  'rating': 4.74,\n",
       "  'recipe_url': 'https://www.allrecipes.com/recipe/219206/halloween-fruit-apple-teeth-treats/',\n",
       "  'reviews': 78,\n",
       "  'title': 'Halloween Fruit Apple Teeth Treats'},\n",
       " {'calories': 204,\n",
       "  'rating': 4.67,\n",
       "  'recipe_url': 'https://www.allrecipes.com/recipe/228246/witches-hats/',\n",
       "  'reviews': 78,\n",
       "  'title': \"Witches' Hats\"},\n",
       " {'calories': 377,\n",
       "  'rating': 4.6,\n",
       "  'recipe_url': 'https://www.allrecipes.com/recipe/216230/bloody-broken-glass-cupcakes/',\n",
       "  'reviews': 64,\n",
       "  'title': 'Bloody Broken Glass Cupcakes'},\n",
       " {'calories': 109,\n",
       "  'rating': 4.78,\n",
       "  'recipe_url': 'https://www.allrecipes.com/recipe/10402/the-best-rolled-sugar-cookies/',\n",
       "  'reviews': 231,\n",
       "  'title': 'The Best Rolled Sugar Cookies'},\n",
       " {'calories': 189,\n",
       "  'rating': 4.67,\n",
       "  'recipe_url': 'https://www.allrecipes.com/recipe/24264/sloppy-joes-ii/',\n",
       "  'reviews': 5,\n",
       "  'title': 'Sloppy Joes II'},\n",
       " {'calories': 122,\n",
       "  'rating': 4.45,\n",
       "  'recipe_url': 'https://www.allrecipes.com/recipe/10033/iced-pumpkin-cookies/',\n",
       "  'reviews': 518,\n",
       "  'title': 'Iced Pumpkin Cookies'},\n",
       " {'calories': 379,\n",
       "  'rating': 4.26,\n",
       "  'recipe_url': 'https://www.allrecipes.com/recipe/23439/perfect-pumpkin-pie/',\n",
       "  'reviews': 1870,\n",
       "  'title': 'Perfect Pumpkin Pie'},\n",
       " {'calories': 155,\n",
       "  'rating': 4.64,\n",
       "  'recipe_url': 'https://www.allrecipes.com/recipe/8372/black-magic-cake/',\n",
       "  'reviews': 1200,\n",
       "  'title': 'Black Magic Cake'},\n",
       " {'calories': 202,\n",
       "  'rating': 4.45,\n",
       "  'recipe_url': 'https://www.allrecipes.com/recipe/10740/pumpkin-chocolate-chip-cookies-iii/',\n",
       "  'reviews': 50321,\n",
       "  'title': 'Pumpkin Chocolate Chip Cookies III'},\n",
       " {'calories': 102,\n",
       "  'rating': 4.57,\n",
       "  'recipe_url': 'https://www.allrecipes.com/recipe/26740/chocolate-chip-cheese-ball/',\n",
       "  'reviews': 12116,\n",
       "  'title': 'Chocolate Chip Cheese Ball'},\n",
       " {'calories': 279,\n",
       "  'rating': 4.67,\n",
       "  'recipe_url': 'https://www.allrecipes.com/recipe/11646/pauls-pumpkin-bars/',\n",
       "  'reviews': 10299,\n",
       "  'title': \"Paul's Pumpkin Bars\"},\n",
       " {'calories': 316,\n",
       "  'rating': 4.43,\n",
       "  'recipe_url': 'https://www.allrecipes.com/recipe/16049/granny-kats-pumpkin-roll/',\n",
       "  'reviews': 117714,\n",
       "  'title': \"Granny Kat's Pumpkin Roll\"},\n",
       " {'calories': 167,\n",
       "  'rating': 4.5,\n",
       "  'recipe_url': 'https://www.allrecipes.com/recipe/80773/russian-mushroom-and-potato-soup/',\n",
       "  'reviews': 187980,\n",
       "  'title': 'Russian Mushroom and Potato Soup'},\n",
       " {'calories': 90,\n",
       "  'rating': 4.45,\n",
       "  'recipe_url': 'https://www.allrecipes.com/recipe/13839/spiced-pumpkin-seeds/',\n",
       "  'reviews': 148809,\n",
       "  'title': 'Spiced Pumpkin Seeds'},\n",
       " {'calories': 463,\n",
       "  'rating': 4.72,\n",
       "  'recipe_url': 'https://www.allrecipes.com/recipe/12504/brown-familys-favorite-pumpkin-pie/',\n",
       "  'reviews': 26800,\n",
       "  'title': \"Brown Family's Favorite Pumpkin Pie\"},\n",
       " {'calories': 285,\n",
       "  'rating': 4.55,\n",
       "  'recipe_url': 'https://www.allrecipes.com/recipe/77797/pumpkin-turkey-chili/',\n",
       "  'reviews': 12225,\n",
       "  'title': 'Pumpkin Turkey Chili'},\n",
       " {'calories': 283,\n",
       "  'rating': 4.54,\n",
       "  'recipe_url': 'https://www.allrecipes.com/recipe/22755/libbys-famous-pumpkin-pie/',\n",
       "  'reviews': 37512,\n",
       "  'title': \"Libby's® Famous Pumpkin Pie\"},\n",
       " {'calories': 438,\n",
       "  'rating': 4.72,\n",
       "  'recipe_url': 'https://www.allrecipes.com/recipe/19079/pumpkin-cake-iii/',\n",
       "  'reviews': 18,\n",
       "  'title': 'Pumpkin Cake III'},\n",
       " {'calories': 211,\n",
       "  'rating': 4.72,\n",
       "  'recipe_url': 'https://www.allrecipes.com/recipe/152120/pumpkin-ginger-cupcakes/',\n",
       "  'reviews': 517,\n",
       "  'title': 'Pumpkin Ginger Cupcakes'},\n",
       " {'calories': 229,\n",
       "  'rating': 4.35,\n",
       "  'recipe_url': 'https://www.allrecipes.com/recipe/8690/spicy-rapid-roast-chicken/',\n",
       "  'reviews': 453,\n",
       "  'title': 'Spicy Rapid Roast Chicken'},\n",
       " {'calories': 68,\n",
       "  'rating': 4.77,\n",
       "  'recipe_url': 'https://www.allrecipes.com/recipe/146819/spooky-witches-fingers/',\n",
       "  'reviews': 2005,\n",
       "  'title': \"Spooky Witches' Fingers\"},\n",
       " {'calories': 115,\n",
       "  'rating': 4.55,\n",
       "  'recipe_url': 'https://www.allrecipes.com/recipe/16018/caramels/',\n",
       "  'reviews': 7921,\n",
       "  'title': 'Caramels'},\n",
       " {'calories': 827,\n",
       "  'rating': 4.38,\n",
       "  'recipe_url': 'https://www.allrecipes.com/recipe/7255/dirt-cake-i/',\n",
       "  'reviews': 785,\n",
       "  'title': 'Dirt Cake I'}]"
      ]
     },
     "execution_count": 8,
     "metadata": {},
     "output_type": "execute_result"
    }
   ],
   "source": [
    "test_url = 'https://www.allrecipes.com/recipes/189/holidays-and-events/halloween/?page=1'\n",
    "get_recipes_from_page(test_url)"
   ]
  },
  {
   "cell_type": "code",
   "execution_count": 9,
   "metadata": {},
   "outputs": [
    {
     "name": "stdout",
     "output_type": "stream",
     "text": [
      "Found 29 recipes in page 1\n",
      "Found 20 recipes in page 2\n",
      "Found 20 recipes in page 3\n",
      "This page has no calories information:\n",
      "https://www.allrecipes.com/recipe/24483/green-grog/\n",
      "==========================================\n",
      "Found 20 recipes in page 4\n",
      "Found 20 recipes in page 5\n",
      "Found 20 recipes in page 6\n",
      "Found 20 recipes in page 7\n",
      "Found 20 recipes in page 8\n",
      "Found 20 recipes in page 9\n",
      "Found 20 recipes in page 10\n",
      "Found 20 recipes in page 11\n",
      "Found 20 recipes in page 12\n",
      "This page has no calories information:\n",
      "https://www.allrecipes.com/recipe/40304/swamp-frog/\n",
      "==========================================\n",
      "Found 20 recipes in page 13\n",
      "Found 20 recipes in page 14\n",
      "Found 20 recipes in page 15\n",
      "This page has no calories information:\n",
      "https://www.allrecipes.com/recipe/148558/candy-apple-martini/\n",
      "==========================================\n",
      "Found 20 recipes in page 16\n",
      "This page has no calories information:\n",
      "https://www.allrecipes.com/recipe/125733/bobbing-for-apples/\n",
      "==========================================\n",
      "Found 20 recipes in page 17\n",
      "This page has no calories information:\n",
      "https://www.allrecipes.com/recipe/229404/oreo-spider-web-cookie-pizza/\n",
      "==========================================\n",
      "Found 20 recipes in page 18\n",
      "Found 20 recipes in page 19\n",
      "Found 20 recipes in page 20\n",
      "Found 20 recipes in page 21\n",
      "This page has no calories information:\n",
      "https://www.allrecipes.com/recipe/155872/candy-apple-on-the-rocks/\n",
      "==========================================\n",
      "This page has no calories information:\n",
      "https://www.allrecipes.com/recipe/210465/salem-witch-cocktail/\n",
      "==========================================\n",
      "Found 20 recipes in page 22\n",
      "Found 20 recipes in page 23\n",
      "Found 20 recipes in page 24\n",
      "Found 20 recipes in page 25\n",
      "Found 20 recipes in page 26\n",
      "Found 20 recipes in page 27\n",
      "Found 20 recipes in page 28\n",
      "Found 20 recipes in page 29\n",
      "Found 20 recipes in page 30\n",
      "Found 20 recipes in page 31\n",
      "Found 2 recipes in page 32\n",
      "Found 0 recipes in page 33\n",
      "We extracted a total of 631 recipes\n"
     ]
    }
   ],
   "source": [
    "# This code will go through the first 50 pages of the results, extracting recipes\n",
    "# Once a page returns back 0 recipes, we stop\n",
    "\n",
    "# We store our results in this list\n",
    "allrecipes = []\n",
    "for page in range(1,50):\n",
    "    url = 'https://www.allrecipes.com/recipes/189/holidays-and-events/halloween/?page=' + str(page)\n",
    "    # We get back a list of dictionaries for each page; each dictionary corresponds to a recipe\n",
    "    recipes = get_recipes_from_page(url)\n",
    "    print(f\"Found {len(recipes)} recipes in page {page}\")\n",
    "    if len(recipes) == 0:\n",
    "        break\n",
    "    allrecipes.extend(recipes)\n",
    "    \n",
    "print(f\"We extracted a total of {len(allrecipes)} recipes\")"
   ]
  },
  {
   "cell_type": "code",
   "execution_count": 10,
   "metadata": {},
   "outputs": [
    {
     "data": {
      "text/html": [
       "<div>\n",
       "<style scoped>\n",
       "    .dataframe tbody tr th:only-of-type {\n",
       "        vertical-align: middle;\n",
       "    }\n",
       "\n",
       "    .dataframe tbody tr th {\n",
       "        vertical-align: top;\n",
       "    }\n",
       "\n",
       "    .dataframe thead th {\n",
       "        text-align: right;\n",
       "    }\n",
       "</style>\n",
       "<table border=\"1\" class=\"dataframe\">\n",
       "  <thead>\n",
       "    <tr style=\"text-align: right;\">\n",
       "      <th></th>\n",
       "      <th>calories</th>\n",
       "      <th>rating</th>\n",
       "      <th>recipe_url</th>\n",
       "      <th>reviews</th>\n",
       "      <th>title</th>\n",
       "    </tr>\n",
       "  </thead>\n",
       "  <tbody>\n",
       "    <tr>\n",
       "      <th>0</th>\n",
       "      <td>67</td>\n",
       "      <td>4.67</td>\n",
       "      <td>https://www.allrecipes.com/recipe/219207/monst...</td>\n",
       "      <td>2005</td>\n",
       "      <td>Monster Bites</td>\n",
       "    </tr>\n",
       "    <tr>\n",
       "      <th>1</th>\n",
       "      <td>83</td>\n",
       "      <td>4.80</td>\n",
       "      <td>https://www.allrecipes.com/recipe/13768/roaste...</td>\n",
       "      <td>730</td>\n",
       "      <td>Roasted Pumpkin Seeds</td>\n",
       "    </tr>\n",
       "    <tr>\n",
       "      <th>2</th>\n",
       "      <td>124</td>\n",
       "      <td>4.65</td>\n",
       "      <td>https://www.allrecipes.com/recipe/67656/cake-b...</td>\n",
       "      <td>304</td>\n",
       "      <td>Cake Balls</td>\n",
       "    </tr>\n",
       "    <tr>\n",
       "      <th>3</th>\n",
       "      <td>117</td>\n",
       "      <td>4.50</td>\n",
       "      <td>https://www.allrecipes.com/recipe/240007/peanu...</td>\n",
       "      <td>297</td>\n",
       "      <td>Peanut Butter Spider Cookies</td>\n",
       "    </tr>\n",
       "    <tr>\n",
       "      <th>4</th>\n",
       "      <td>966</td>\n",
       "      <td>4.84</td>\n",
       "      <td>https://www.allrecipes.com/recipe/128644/hallo...</td>\n",
       "      <td>685</td>\n",
       "      <td>Halloween Bloody Baked Rats</td>\n",
       "    </tr>\n",
       "    <tr>\n",
       "      <th>5</th>\n",
       "      <td>156</td>\n",
       "      <td>4.53</td>\n",
       "      <td>https://www.allrecipes.com/recipe/21468/witche...</td>\n",
       "      <td>17</td>\n",
       "      <td>Witches' Brew</td>\n",
       "    </tr>\n",
       "    <tr>\n",
       "      <th>6</th>\n",
       "      <td>42</td>\n",
       "      <td>4.74</td>\n",
       "      <td>https://www.allrecipes.com/recipe/219206/hallo...</td>\n",
       "      <td>78</td>\n",
       "      <td>Halloween Fruit Apple Teeth Treats</td>\n",
       "    </tr>\n",
       "    <tr>\n",
       "      <th>7</th>\n",
       "      <td>204</td>\n",
       "      <td>4.67</td>\n",
       "      <td>https://www.allrecipes.com/recipe/228246/witch...</td>\n",
       "      <td>78</td>\n",
       "      <td>Witches' Hats</td>\n",
       "    </tr>\n",
       "    <tr>\n",
       "      <th>8</th>\n",
       "      <td>377</td>\n",
       "      <td>4.60</td>\n",
       "      <td>https://www.allrecipes.com/recipe/216230/blood...</td>\n",
       "      <td>64</td>\n",
       "      <td>Bloody Broken Glass Cupcakes</td>\n",
       "    </tr>\n",
       "    <tr>\n",
       "      <th>9</th>\n",
       "      <td>109</td>\n",
       "      <td>4.78</td>\n",
       "      <td>https://www.allrecipes.com/recipe/10402/the-be...</td>\n",
       "      <td>231</td>\n",
       "      <td>The Best Rolled Sugar Cookies</td>\n",
       "    </tr>\n",
       "  </tbody>\n",
       "</table>\n",
       "</div>"
      ],
      "text/plain": [
       "   calories  rating                                         recipe_url  \\\n",
       "0        67    4.67  https://www.allrecipes.com/recipe/219207/monst...   \n",
       "1        83    4.80  https://www.allrecipes.com/recipe/13768/roaste...   \n",
       "2       124    4.65  https://www.allrecipes.com/recipe/67656/cake-b...   \n",
       "3       117    4.50  https://www.allrecipes.com/recipe/240007/peanu...   \n",
       "4       966    4.84  https://www.allrecipes.com/recipe/128644/hallo...   \n",
       "5       156    4.53  https://www.allrecipes.com/recipe/21468/witche...   \n",
       "6        42    4.74  https://www.allrecipes.com/recipe/219206/hallo...   \n",
       "7       204    4.67  https://www.allrecipes.com/recipe/228246/witch...   \n",
       "8       377    4.60  https://www.allrecipes.com/recipe/216230/blood...   \n",
       "9       109    4.78  https://www.allrecipes.com/recipe/10402/the-be...   \n",
       "\n",
       "   reviews                               title  \n",
       "0     2005                      Monster Bites   \n",
       "1      730               Roasted Pumpkin Seeds  \n",
       "2      304                          Cake Balls  \n",
       "3      297        Peanut Butter Spider Cookies  \n",
       "4      685         Halloween Bloody Baked Rats  \n",
       "5       17                       Witches' Brew  \n",
       "6       78  Halloween Fruit Apple Teeth Treats  \n",
       "7       78                       Witches' Hats  \n",
       "8       64        Bloody Broken Glass Cupcakes  \n",
       "9      231       The Best Rolled Sugar Cookies  "
      ]
     },
     "execution_count": 10,
     "metadata": {},
     "output_type": "execute_result"
    }
   ],
   "source": [
    "# Create a dataframe with the recipes\n",
    "df = pd.DataFrame(allrecipes)\n",
    "df.head(10)"
   ]
  },
  {
   "cell_type": "markdown",
   "metadata": {},
   "source": [
    "## Task 2: Descriptive Statistics on Recipes"
   ]
  },
  {
   "cell_type": "markdown",
   "metadata": {},
   "source": [
    "We now start analyzing the recipes. "
   ]
  },
  {
   "cell_type": "markdown",
   "metadata": {},
   "source": [
    "a. Use the `describe()` and `hist()` commands to analyze the contents of the `reviews` and `rating` columns."
   ]
  },
  {
   "cell_type": "code",
   "execution_count": 11,
   "metadata": {},
   "outputs": [
    {
     "data": {
      "text/plain": [
       "count       631.000000\n",
       "mean       1168.095087\n",
       "std       11362.640840\n",
       "min           0.000000\n",
       "25%           2.500000\n",
       "50%          11.000000\n",
       "75%          51.000000\n",
       "max      187980.000000\n",
       "Name: reviews, dtype: float64"
      ]
     },
     "execution_count": 11,
     "metadata": {},
     "output_type": "execute_result"
    }
   ],
   "source": [
    "df.reviews.describe()"
   ]
  },
  {
   "cell_type": "code",
   "execution_count": 24,
   "metadata": {},
   "outputs": [
    {
     "data": {
      "text/plain": [
       "<matplotlib.axes._subplots.AxesSubplot at 0x7fa75733dbe0>"
      ]
     },
     "execution_count": 24,
     "metadata": {},
     "output_type": "execute_result"
    },
    {
     "data": {
      "image/png": "[encoded data removed]",
      "text/plain": [
       "<Figure size 748.8x514.8 with 1 Axes>"
      ]
     },
     "metadata": {
      "image/png": {
       "height": 425,
       "width": 628
      }
     },
     "output_type": "display_data"
    }
   ],
   "source": [
    "df.reviews.hist()"
   ]
  },
  {
   "cell_type": "code",
   "execution_count": 13,
   "metadata": {},
   "outputs": [
    {
     "data": {
      "text/plain": [
       "count    631.000000\n",
       "mean       3.857559\n",
       "std        1.472150\n",
       "min        0.000000\n",
       "25%        4.000000\n",
       "50%        4.420000\n",
       "75%        4.655000\n",
       "max        5.000000\n",
       "Name: rating, dtype: float64"
      ]
     },
     "execution_count": 13,
     "metadata": {},
     "output_type": "execute_result"
    }
   ],
   "source": [
    "df.rating.describe()"
   ]
  },
  {
   "cell_type": "code",
   "execution_count": 14,
   "metadata": {},
   "outputs": [
    {
     "data": {
      "text/plain": [
       "<matplotlib.axes._subplots.AxesSubplot at 0x7fa757984a90>"
      ]
     },
     "execution_count": 14,
     "metadata": {},
     "output_type": "execute_result"
    },
    {
     "data": {
      "image/png": "[encoded data removed]",
      "text/plain": [
       "<Figure size 748.8x514.8 with 1 Axes>"
      ]
     },
     "metadata": {
      "image/png": {
       "height": 425,
       "width": 628
      }
     },
     "output_type": "display_data"
    }
   ],
   "source": [
    "df.rating.hist()"
   ]
  },
  {
   "cell_type": "markdown",
   "metadata": {},
   "source": [
    "b. Find the recipe with the highest number of reviews"
   ]
  },
  {
   "cell_type": "code",
   "execution_count": 15,
   "metadata": {},
   "outputs": [
    {
     "data": {
      "text/html": [
       "<div>\n",
       "<style scoped>\n",
       "    .dataframe tbody tr th:only-of-type {\n",
       "        vertical-align: middle;\n",
       "    }\n",
       "\n",
       "    .dataframe tbody tr th {\n",
       "        vertical-align: top;\n",
       "    }\n",
       "\n",
       "    .dataframe thead th {\n",
       "        text-align: right;\n",
       "    }\n",
       "</style>\n",
       "<table border=\"1\" class=\"dataframe\">\n",
       "  <thead>\n",
       "    <tr style=\"text-align: right;\">\n",
       "      <th></th>\n",
       "      <th>calories</th>\n",
       "      <th>rating</th>\n",
       "      <th>recipe_url</th>\n",
       "      <th>reviews</th>\n",
       "      <th>title</th>\n",
       "    </tr>\n",
       "  </thead>\n",
       "  <tbody>\n",
       "    <tr>\n",
       "      <th>18</th>\n",
       "      <td>167</td>\n",
       "      <td>4.5</td>\n",
       "      <td>https://www.allrecipes.com/recipe/80773/russia...</td>\n",
       "      <td>187980</td>\n",
       "      <td>Russian Mushroom and Potato Soup</td>\n",
       "    </tr>\n",
       "  </tbody>\n",
       "</table>\n",
       "</div>"
      ],
      "text/plain": [
       "    calories  rating                                         recipe_url  \\\n",
       "18       167     4.5  https://www.allrecipes.com/recipe/80773/russia...   \n",
       "\n",
       "    reviews                             title  \n",
       "18   187980  Russian Mushroom and Potato Soup  "
      ]
     },
     "execution_count": 15,
     "metadata": {},
     "output_type": "execute_result"
    }
   ],
   "source": [
    "df.sort_values('reviews',ascending=False)[:1]"
   ]
  },
  {
   "cell_type": "markdown",
   "metadata": {},
   "source": [
    "c. Based on the results of the first exploratory analysis, you decide to keep only recipes more than 10 reviews, and with rating above 4.5. Create a new dataframe with only these well-reviewed, and highly-rated recipes."
   ]
  },
  {
   "cell_type": "code",
   "execution_count": 16,
   "metadata": {},
   "outputs": [
    {
     "data": {
      "text/html": [
       "<div>\n",
       "<style scoped>\n",
       "    .dataframe tbody tr th:only-of-type {\n",
       "        vertical-align: middle;\n",
       "    }\n",
       "\n",
       "    .dataframe tbody tr th {\n",
       "        vertical-align: top;\n",
       "    }\n",
       "\n",
       "    .dataframe thead th {\n",
       "        text-align: right;\n",
       "    }\n",
       "</style>\n",
       "<table border=\"1\" class=\"dataframe\">\n",
       "  <thead>\n",
       "    <tr style=\"text-align: right;\">\n",
       "      <th></th>\n",
       "      <th>calories</th>\n",
       "      <th>rating</th>\n",
       "      <th>recipe_url</th>\n",
       "      <th>reviews</th>\n",
       "      <th>title</th>\n",
       "    </tr>\n",
       "  </thead>\n",
       "  <tbody>\n",
       "    <tr>\n",
       "      <th>0</th>\n",
       "      <td>67</td>\n",
       "      <td>4.67</td>\n",
       "      <td>https://www.allrecipes.com/recipe/219207/monst...</td>\n",
       "      <td>2005</td>\n",
       "      <td>Monster Bites</td>\n",
       "    </tr>\n",
       "    <tr>\n",
       "      <th>1</th>\n",
       "      <td>83</td>\n",
       "      <td>4.80</td>\n",
       "      <td>https://www.allrecipes.com/recipe/13768/roaste...</td>\n",
       "      <td>730</td>\n",
       "      <td>Roasted Pumpkin Seeds</td>\n",
       "    </tr>\n",
       "    <tr>\n",
       "      <th>2</th>\n",
       "      <td>124</td>\n",
       "      <td>4.65</td>\n",
       "      <td>https://www.allrecipes.com/recipe/67656/cake-b...</td>\n",
       "      <td>304</td>\n",
       "      <td>Cake Balls</td>\n",
       "    </tr>\n",
       "    <tr>\n",
       "      <th>4</th>\n",
       "      <td>966</td>\n",
       "      <td>4.84</td>\n",
       "      <td>https://www.allrecipes.com/recipe/128644/hallo...</td>\n",
       "      <td>685</td>\n",
       "      <td>Halloween Bloody Baked Rats</td>\n",
       "    </tr>\n",
       "    <tr>\n",
       "      <th>5</th>\n",
       "      <td>156</td>\n",
       "      <td>4.53</td>\n",
       "      <td>https://www.allrecipes.com/recipe/21468/witche...</td>\n",
       "      <td>17</td>\n",
       "      <td>Witches' Brew</td>\n",
       "    </tr>\n",
       "    <tr>\n",
       "      <th>6</th>\n",
       "      <td>42</td>\n",
       "      <td>4.74</td>\n",
       "      <td>https://www.allrecipes.com/recipe/219206/hallo...</td>\n",
       "      <td>78</td>\n",
       "      <td>Halloween Fruit Apple Teeth Treats</td>\n",
       "    </tr>\n",
       "    <tr>\n",
       "      <th>7</th>\n",
       "      <td>204</td>\n",
       "      <td>4.67</td>\n",
       "      <td>https://www.allrecipes.com/recipe/228246/witch...</td>\n",
       "      <td>78</td>\n",
       "      <td>Witches' Hats</td>\n",
       "    </tr>\n",
       "    <tr>\n",
       "      <th>8</th>\n",
       "      <td>377</td>\n",
       "      <td>4.60</td>\n",
       "      <td>https://www.allrecipes.com/recipe/216230/blood...</td>\n",
       "      <td>64</td>\n",
       "      <td>Bloody Broken Glass Cupcakes</td>\n",
       "    </tr>\n",
       "    <tr>\n",
       "      <th>9</th>\n",
       "      <td>109</td>\n",
       "      <td>4.78</td>\n",
       "      <td>https://www.allrecipes.com/recipe/10402/the-be...</td>\n",
       "      <td>231</td>\n",
       "      <td>The Best Rolled Sugar Cookies</td>\n",
       "    </tr>\n",
       "    <tr>\n",
       "      <th>13</th>\n",
       "      <td>155</td>\n",
       "      <td>4.64</td>\n",
       "      <td>https://www.allrecipes.com/recipe/8372/black-m...</td>\n",
       "      <td>1200</td>\n",
       "      <td>Black Magic Cake</td>\n",
       "    </tr>\n",
       "  </tbody>\n",
       "</table>\n",
       "</div>"
      ],
      "text/plain": [
       "    calories  rating                                         recipe_url  \\\n",
       "0         67    4.67  https://www.allrecipes.com/recipe/219207/monst...   \n",
       "1         83    4.80  https://www.allrecipes.com/recipe/13768/roaste...   \n",
       "2        124    4.65  https://www.allrecipes.com/recipe/67656/cake-b...   \n",
       "4        966    4.84  https://www.allrecipes.com/recipe/128644/hallo...   \n",
       "5        156    4.53  https://www.allrecipes.com/recipe/21468/witche...   \n",
       "6         42    4.74  https://www.allrecipes.com/recipe/219206/hallo...   \n",
       "7        204    4.67  https://www.allrecipes.com/recipe/228246/witch...   \n",
       "8        377    4.60  https://www.allrecipes.com/recipe/216230/blood...   \n",
       "9        109    4.78  https://www.allrecipes.com/recipe/10402/the-be...   \n",
       "13       155    4.64  https://www.allrecipes.com/recipe/8372/black-m...   \n",
       "\n",
       "    reviews                               title  \n",
       "0      2005                      Monster Bites   \n",
       "1       730               Roasted Pumpkin Seeds  \n",
       "2       304                          Cake Balls  \n",
       "4       685         Halloween Bloody Baked Rats  \n",
       "5        17                       Witches' Brew  \n",
       "6        78  Halloween Fruit Apple Teeth Treats  \n",
       "7        78                       Witches' Hats  \n",
       "8        64        Bloody Broken Glass Cupcakes  \n",
       "9       231       The Best Rolled Sugar Cookies  \n",
       "13     1200                    Black Magic Cake  "
      ]
     },
     "execution_count": 16,
     "metadata": {},
     "output_type": "execute_result"
    }
   ],
   "source": [
    "df_filtered = df[(df[\"reviews\"] > 10) & (df[\"rating\"] >4.5)]\n",
    "df_filtered.head(10)"
   ]
  },
  {
   "cell_type": "markdown",
   "metadata": {},
   "source": [
    "d. Among the recipes with more than 10 reviews, find the one with the highest rating. The command `df.rating.max()` returns back the highest value for the column `rating` of the dataframe `df`."
   ]
  },
  {
   "cell_type": "code",
   "execution_count": 17,
   "metadata": {},
   "outputs": [
    {
     "data": {
      "text/html": [
       "<div>\n",
       "<style scoped>\n",
       "    .dataframe tbody tr th:only-of-type {\n",
       "        vertical-align: middle;\n",
       "    }\n",
       "\n",
       "    .dataframe tbody tr th {\n",
       "        vertical-align: top;\n",
       "    }\n",
       "\n",
       "    .dataframe thead th {\n",
       "        text-align: right;\n",
       "    }\n",
       "</style>\n",
       "<table border=\"1\" class=\"dataframe\">\n",
       "  <thead>\n",
       "    <tr style=\"text-align: right;\">\n",
       "      <th></th>\n",
       "      <th>calories</th>\n",
       "      <th>rating</th>\n",
       "      <th>recipe_url</th>\n",
       "      <th>reviews</th>\n",
       "      <th>title</th>\n",
       "    </tr>\n",
       "  </thead>\n",
       "  <tbody>\n",
       "    <tr>\n",
       "      <th>189</th>\n",
       "      <td>208</td>\n",
       "      <td>4.96</td>\n",
       "      <td>https://www.allrecipes.com/recipe/143055/broil...</td>\n",
       "      <td>35</td>\n",
       "      <td>Broiler S'mores</td>\n",
       "    </tr>\n",
       "  </tbody>\n",
       "</table>\n",
       "</div>"
      ],
      "text/plain": [
       "     calories  rating                                         recipe_url  \\\n",
       "189       208    4.96  https://www.allrecipes.com/recipe/143055/broil...   \n",
       "\n",
       "     reviews            title  \n",
       "189       35  Broiler S'mores  "
      ]
     },
     "execution_count": 17,
     "metadata": {},
     "output_type": "execute_result"
    }
   ],
   "source": [
    "max_rating = (df_filtered[\"rating\"] == df_filtered.rating.max())\n",
    "df_filtered[max_rating]"
   ]
  },
  {
   "cell_type": "markdown",
   "metadata": {},
   "source": [
    "e. Find all the recipes with more than 10 reviews, and with rating above 4.5, that contain the word 'Cookie' in the title. The command `df.title.str.contains('Cookie')` can be used for this purpose."
   ]
  },
  {
   "cell_type": "code",
   "execution_count": 18,
   "metadata": {},
   "outputs": [
    {
     "data": {
      "text/html": [
       "<div>\n",
       "<style scoped>\n",
       "    .dataframe tbody tr th:only-of-type {\n",
       "        vertical-align: middle;\n",
       "    }\n",
       "\n",
       "    .dataframe tbody tr th {\n",
       "        vertical-align: top;\n",
       "    }\n",
       "\n",
       "    .dataframe thead th {\n",
       "        text-align: right;\n",
       "    }\n",
       "</style>\n",
       "<table border=\"1\" class=\"dataframe\">\n",
       "  <thead>\n",
       "    <tr style=\"text-align: right;\">\n",
       "      <th></th>\n",
       "      <th>calories</th>\n",
       "      <th>rating</th>\n",
       "      <th>recipe_url</th>\n",
       "      <th>reviews</th>\n",
       "      <th>title</th>\n",
       "    </tr>\n",
       "  </thead>\n",
       "  <tbody>\n",
       "    <tr>\n",
       "      <th>9</th>\n",
       "      <td>109</td>\n",
       "      <td>4.78</td>\n",
       "      <td>https://www.allrecipes.com/recipe/10402/the-be...</td>\n",
       "      <td>231</td>\n",
       "      <td>The Best Rolled Sugar Cookies</td>\n",
       "    </tr>\n",
       "    <tr>\n",
       "      <th>33</th>\n",
       "      <td>543</td>\n",
       "      <td>4.58</td>\n",
       "      <td>https://www.allrecipes.com/recipe/10949/pumpki...</td>\n",
       "      <td>74445</td>\n",
       "      <td>Pumpkin Cookies V</td>\n",
       "    </tr>\n",
       "    <tr>\n",
       "      <th>59</th>\n",
       "      <td>115</td>\n",
       "      <td>4.54</td>\n",
       "      <td>https://www.allrecipes.com/recipe/11618/pumpki...</td>\n",
       "      <td>217</td>\n",
       "      <td>Pumpkin Cookies I</td>\n",
       "    </tr>\n",
       "    <tr>\n",
       "      <th>87</th>\n",
       "      <td>146</td>\n",
       "      <td>4.55</td>\n",
       "      <td>https://www.allrecipes.com/recipe/11288/egg-fr...</td>\n",
       "      <td>132</td>\n",
       "      <td>Egg Free Chocolate Chip Pumpkin Cookies</td>\n",
       "    </tr>\n",
       "    <tr>\n",
       "      <th>90</th>\n",
       "      <td>128</td>\n",
       "      <td>4.66</td>\n",
       "      <td>https://www.allrecipes.com/recipe/228740/pumpk...</td>\n",
       "      <td>137</td>\n",
       "      <td>Pumpkin Oatmeal Chocolate Chip Cookies</td>\n",
       "    </tr>\n",
       "    <tr>\n",
       "      <th>100</th>\n",
       "      <td>128</td>\n",
       "      <td>4.70</td>\n",
       "      <td>https://www.allrecipes.com/recipe/10385/pumpki...</td>\n",
       "      <td>111</td>\n",
       "      <td>Pumpkin Cookies with Penuche Frosting</td>\n",
       "    </tr>\n",
       "    <tr>\n",
       "      <th>110</th>\n",
       "      <td>119</td>\n",
       "      <td>4.68</td>\n",
       "      <td>https://www.allrecipes.com/recipe/10671/pumpki...</td>\n",
       "      <td>93</td>\n",
       "      <td>Pumpkin Cookies III</td>\n",
       "    </tr>\n",
       "    <tr>\n",
       "      <th>112</th>\n",
       "      <td>152</td>\n",
       "      <td>4.57</td>\n",
       "      <td>https://www.allrecipes.com/recipe/229108/pumpk...</td>\n",
       "      <td>84</td>\n",
       "      <td>Pumpkin Cookies with Cream Cheese Frosting (Th...</td>\n",
       "    </tr>\n",
       "    <tr>\n",
       "      <th>130</th>\n",
       "      <td>132</td>\n",
       "      <td>4.67</td>\n",
       "      <td>https://www.allrecipes.com/recipe/216459/acorn...</td>\n",
       "      <td>67</td>\n",
       "      <td>Acorn Candy Cookies</td>\n",
       "    </tr>\n",
       "    <tr>\n",
       "      <th>168</th>\n",
       "      <td>22</td>\n",
       "      <td>4.61</td>\n",
       "      <td>https://www.allrecipes.com/recipe/229105/shiny...</td>\n",
       "      <td>48</td>\n",
       "      <td>Shiny Cookie Icing</td>\n",
       "    </tr>\n",
       "    <tr>\n",
       "      <th>187</th>\n",
       "      <td>121</td>\n",
       "      <td>4.63</td>\n",
       "      <td>https://www.allrecipes.com/recipe/214649/perfe...</td>\n",
       "      <td>34</td>\n",
       "      <td>Perfect Double Chocolate Peanut Candy Cookies</td>\n",
       "    </tr>\n",
       "    <tr>\n",
       "      <th>222</th>\n",
       "      <td>204</td>\n",
       "      <td>4.51</td>\n",
       "      <td>https://www.allrecipes.com/recipe/216153/booge...</td>\n",
       "      <td>24</td>\n",
       "      <td>Booger Cookies</td>\n",
       "    </tr>\n",
       "    <tr>\n",
       "      <th>224</th>\n",
       "      <td>199</td>\n",
       "      <td>4.69</td>\n",
       "      <td>https://www.allrecipes.com/recipe/10047/hoot-o...</td>\n",
       "      <td>34</td>\n",
       "      <td>Hoot Owl Cookies</td>\n",
       "    </tr>\n",
       "    <tr>\n",
       "      <th>263</th>\n",
       "      <td>117</td>\n",
       "      <td>4.64</td>\n",
       "      <td>https://www.allrecipes.com/recipe/240007/peanu...</td>\n",
       "      <td>18</td>\n",
       "      <td>Peanut Butter Spider Cookies</td>\n",
       "    </tr>\n",
       "  </tbody>\n",
       "</table>\n",
       "</div>"
      ],
      "text/plain": [
       "     calories  rating                                         recipe_url  \\\n",
       "9         109    4.78  https://www.allrecipes.com/recipe/10402/the-be...   \n",
       "33        543    4.58  https://www.allrecipes.com/recipe/10949/pumpki...   \n",
       "59        115    4.54  https://www.allrecipes.com/recipe/11618/pumpki...   \n",
       "87        146    4.55  https://www.allrecipes.com/recipe/11288/egg-fr...   \n",
       "90        128    4.66  https://www.allrecipes.com/recipe/228740/pumpk...   \n",
       "100       128    4.70  https://www.allrecipes.com/recipe/10385/pumpki...   \n",
       "110       119    4.68  https://www.allrecipes.com/recipe/10671/pumpki...   \n",
       "112       152    4.57  https://www.allrecipes.com/recipe/229108/pumpk...   \n",
       "130       132    4.67  https://www.allrecipes.com/recipe/216459/acorn...   \n",
       "168        22    4.61  https://www.allrecipes.com/recipe/229105/shiny...   \n",
       "187       121    4.63  https://www.allrecipes.com/recipe/214649/perfe...   \n",
       "222       204    4.51  https://www.allrecipes.com/recipe/216153/booge...   \n",
       "224       199    4.69  https://www.allrecipes.com/recipe/10047/hoot-o...   \n",
       "263       117    4.64  https://www.allrecipes.com/recipe/240007/peanu...   \n",
       "\n",
       "     reviews                                              title  \n",
       "9        231                      The Best Rolled Sugar Cookies  \n",
       "33     74445                                  Pumpkin Cookies V  \n",
       "59       217                                  Pumpkin Cookies I  \n",
       "87       132            Egg Free Chocolate Chip Pumpkin Cookies  \n",
       "90       137             Pumpkin Oatmeal Chocolate Chip Cookies  \n",
       "100      111              Pumpkin Cookies with Penuche Frosting  \n",
       "110       93                                Pumpkin Cookies III  \n",
       "112       84  Pumpkin Cookies with Cream Cheese Frosting (Th...  \n",
       "130       67                                Acorn Candy Cookies  \n",
       "168       48                                 Shiny Cookie Icing  \n",
       "187       34      Perfect Double Chocolate Peanut Candy Cookies  \n",
       "222       24                                     Booger Cookies  \n",
       "224       34                                   Hoot Owl Cookies  \n",
       "263       18                       Peanut Butter Spider Cookies  "
      ]
     },
     "execution_count": 18,
     "metadata": {},
     "output_type": "execute_result"
    }
   ],
   "source": [
    "contains_cookie = (df[\"title\"].str.contains('Cookie'))\n",
    "df_filtered[contains_cookie]"
   ]
  },
  {
   "cell_type": "markdown",
   "metadata": {},
   "source": [
    "f. Using the dataframe from step (c), create a scatterplot that shows the number of reviews on the x-axis and the recipe rating on the y axis."
   ]
  },
  {
   "cell_type": "code",
   "execution_count": 19,
   "metadata": {},
   "outputs": [
    {
     "data": {
      "text/plain": [
       "<matplotlib.axes._subplots.AxesSubplot at 0x7fa757874e10>"
      ]
     },
     "execution_count": 19,
     "metadata": {},
     "output_type": "execute_result"
    },
    {
     "data": {
      "image/png": "[encoded data removed]",
      "text/plain": [
       "<Figure size 748.8x514.8 with 1 Axes>"
      ]
     },
     "metadata": {
      "image/png": {
       "height": 443,
       "width": 642
      }
     },
     "output_type": "display_data"
    }
   ],
   "source": [
    "df_filtered.plot(\n",
    "    kind = \"scatter\",\n",
    "    x = \"reviews\",\n",
    "    y = \"rating\"\n",
    ")"
   ]
  },
  {
   "cell_type": "markdown",
   "metadata": {},
   "source": [
    "g. Use `statsmodels` and run an OLS regression examining if there is a correlation between the number of reviews and the recipe rating. The code below takes as input a dataframe `df` and runs a regression of column `Y` against columns `X1` and `X2`.\n",
    "\n",
    "```python\n",
    "results = smf.ols('Y ~ X1 + X2', data=df).fit()\n",
    "print(results.summary())\n",
    "```\n",
    "\n",
    "Examine the returned coefficients and explain if there is a statistically significant effect. \n"
   ]
  },
  {
   "cell_type": "code",
   "execution_count": 20,
   "metadata": {},
   "outputs": [
    {
     "name": "stdout",
     "output_type": "stream",
     "text": [
      "                            OLS Regression Results                            \n",
      "==============================================================================\n",
      "Dep. Variable:                reviews   R-squared:                       0.012\n",
      "Model:                            OLS   Adj. R-squared:                  0.005\n",
      "Method:                 Least Squares   F-statistic:                     1.768\n",
      "Date:                Mon, 22 Oct 2018   Prob (F-statistic):              0.186\n",
      "Time:                        13:52:02   Log-Likelihood:                -1486.2\n",
      "No. Observations:                 144   AIC:                             2976.\n",
      "Df Residuals:                     142   BIC:                             2982.\n",
      "Df Model:                           1                                         \n",
      "Covariance Type:            nonrobust                                         \n",
      "==============================================================================\n",
      "                 coef    std err          t      P>|t|      [0.025      0.975]\n",
      "------------------------------------------------------------------------------\n",
      "Intercept   3.734e+04    2.7e+04      1.381      0.169   -1.61e+04    9.08e+04\n",
      "rating     -7705.5616   5795.255     -1.330      0.186   -1.92e+04    3750.562\n",
      "==============================================================================\n",
      "Omnibus:                      246.808   Durbin-Watson:                   1.724\n",
      "Prob(Omnibus):                  0.000   Jarque-Bera (JB):            28666.077\n",
      "Skew:                           7.757   Prob(JB):                         0.00\n",
      "Kurtosis:                      70.357   Cond. No.                         214.\n",
      "==============================================================================\n",
      "\n",
      "Warnings:\n",
      "[1] Standard Errors assume that the covariance matrix of the errors is correctly specified.\n"
     ]
    }
   ],
   "source": [
    "results = smf.ols('reviews ~ rating', data=df_filtered).fit()\n",
    "print(results.summary())"
   ]
  },
  {
   "cell_type": "markdown",
   "metadata": {},
   "source": [
    "h. (**Very Hard**; optional) Find the Pareto-optimal set of recipes. A recipe belongs to the Pareto-optimal set if there is no other recipe that dominates it. We say that a recipe A dominates recipe B if `(A.rating >= B.rating and A.reviews >= B.reviews)`. Do the same for recipes that contain the word `Cookie`."
   ]
  },
  {
   "cell_type": "code",
   "execution_count": 21,
   "metadata": {},
   "outputs": [
    {
     "name": "stdout",
     "output_type": "stream",
     "text": [
      "calories                                                    109\n",
      "rating                                                     4.78\n",
      "recipe_url    https://www.allrecipes.com/recipe/10402/the-be...\n",
      "reviews                                                     231\n",
      "title                             The Best Rolled Sugar Cookies\n",
      "Name: 9, dtype: object\n"
     ]
    }
   ],
   "source": [
    "cookie = df_filtered[contains_cookie]\n",
    "dominate = cookie.iloc[0]\n",
    "\n",
    "for index, row in cookie.iterrows():\n",
    "    if row['rating'] >= dominate['rating'] and row['reviews'] >= dominate['reviews']:\n",
    "        dominate = row\n",
    "\n",
    "print(dominate)"
   ]
  },
  {
   "cell_type": "code",
   "execution_count": null,
   "metadata": {},
   "outputs": [],
   "source": []
  }
 ],
 "metadata": {
  "kernelspec": {
   "display_name": "Python 3",
   "language": "python",
   "name": "python3"
  },
  "language_info": {
   "codemirror_mode": {
    "name": "ipython",
    "version": 3
   },
   "file_extension": ".py",
   "mimetype": "text/x-python",
   "name": "python",
   "nbconvert_exporter": "python",
   "pygments_lexer": "ipython3",
   "version": "3.6.6"
  }
 },
 "nbformat": 4,
 "nbformat_minor": 2
}
