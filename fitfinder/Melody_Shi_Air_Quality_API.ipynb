{
 "cells": [
  {
   "cell_type": "markdown",
   "metadata": {},
   "source": [
    "### Assignment 2: Fetching data from a Web API, store in database, schedule to run in background\n",
    "\n",
    "#### Author: Melody Shi\n",
    "#### Written on: Sep 30, 2018"
   ]
  },
  {
   "cell_type": "code",
   "execution_count": 1,
   "metadata": {},
   "outputs": [],
   "source": [
    "import requests\n",
    "from sqlalchemy import create_engine\n",
    "from datetime import datetime, timedelta\n",
    "import pytz"
   ]
  },
  {
   "cell_type": "markdown",
   "metadata": {},
   "source": [
    "### Part 1: Identify a web API that returns data\n",
    "The API used in this assignment is an Air Quality API provided by BeezoMeter(https://breezometer.com/air-quality-api/)\n",
    "\n",
    "It is capable of:\n",
    "- requesting historical Air Quality Index(AQI) data up to 14 days;\n",
    "- requesting real-time Air Quality Index(AQI) data.\n",
    "\n",
    "For the purpose of this assignment,\n",
    "- @main_history_aqi() the main function of requesting historical data is called only once to fetch historical data and store in database;\n",
    "- @main_real_time_aqi() the main function requesting real-time data is scheduled to run in the background on an hourly basis to fetch real-time data and store in database."
   ]
  },
  {
   "cell_type": "code",
   "execution_count": 2,
   "metadata": {},
   "outputs": [],
   "source": [
    "def get_history_time(hour):\n",
    "    \"\"\"\n",
    "        Get past time by subtracting hours from now; \n",
    "        build a datetime string in a format that BeezoMeter API supports(e.g. 2018-09-20T18:00:00)\n",
    "        \n",
    "        Parameters\n",
    "        ----------\n",
    "        hour: int\n",
    "            the number of hours to be subtracted from now\n",
    "               \n",
    "        Returns\n",
    "        -------\n",
    "            a formatted datetime string\n",
    "    \"\"\"\n",
    "    timezone = pytz.timezone(\"US/Eastern\")\n",
    "    last_hour_date_time = datetime.now(timezone) - timedelta(hours = hour)\n",
    "    return last_hour_date_time.strftime('%Y-%m-%dT%H:%M:%S')"
   ]
  },
  {
   "cell_type": "code",
   "execution_count": 3,
   "metadata": {},
   "outputs": [],
   "source": [
    "def history_aqi(datetime):\n",
    "    \"\"\"\n",
    "        Send request to BeezoMeter API and get back response of past-periods data\n",
    "        \n",
    "        Parameters\n",
    "        ----------\n",
    "        datetime: str\n",
    "            a formatted datetime string \n",
    "               \n",
    "        Returns\n",
    "        -------\n",
    "        resp: dict\n",
    "            a json dictionary containing past-periods data\n",
    "    \"\"\"\n",
    "    endpoint = \"https://api.breezometer.com/baqi/?\"\n",
    "    history_params = {\n",
    "    'datetime':datetime,\n",
    "    'lat' : '40.7301249',\n",
    "    'lon' : '-73.99429',\n",
    "    'fields':\"breezometer_aqi,random_recommendations,\"\n",
    "        +\"dominant_pollutant_canonical_name,dominant_pollutant_description,\"\n",
    "        +\"datetime,pollutants,dominant_pollutant_text\",\n",
    "    'key' : \"8d9df1f14a9c4abb8f2e233d392bb7c8\"  \n",
    "    }\n",
    "    resp = requests.get(endpoint,params = history_params).json()\n",
    "    return resp"
   ]
  },
  {
   "cell_type": "code",
   "execution_count": 4,
   "metadata": {},
   "outputs": [
    {
     "data": {
      "text/plain": [
       "{'breezometer_aqi': 57,\n",
       " 'datetime': '2018-09-20T18:00:00',\n",
       " 'dominant_pollutant_canonical_name': 'pm10',\n",
       " 'dominant_pollutant_description': 'Inhalable particulate matter (<10µm)',\n",
       " 'dominant_pollutant_text': {'causes': 'Main sources are natural dust, smoke and pollen.',\n",
       "  'effects': 'Particles enter the lungs and cause local and systemic inflammation in the respiratory system & heart, thus cause cardiovascular and respiratory diseases such as asthma and bronchitis.',\n",
       "  'main': 'The dominant pollutant is inhalable particulate matter (PM10).'},\n",
       " 'random_recommendations': {'children': 'You can go outside with the kids, but monitor their breathing & pay attention to notifications',\n",
       "  'health': 'There is no real danger for people with health sensitivities. Just keep an eye out for changes in air quality for the next few hours',\n",
       "  'inside': \"You don't have to stay inside, but it's recommended that you keep tracking the air quality\",\n",
       "  'outside': 'If you wish to stay outside for a long time, you should try to find a cleaner place nearby',\n",
       "  'sport': 'Our recommendation: search for a cleaner area for a physical outdoor activity'}}"
      ]
     },
     "execution_count": 4,
     "metadata": {},
     "output_type": "execute_result"
    }
   ],
   "source": [
    "history_aqi('2018-09-20T18:00:00')"
   ]
  },
  {
   "cell_type": "code",
   "execution_count": 5,
   "metadata": {},
   "outputs": [],
   "source": [
    "def real_time_aqi():\n",
    "    \"\"\"\n",
    "        Send request to BeezoMeter API and get back response of real-time data\n",
    "        \n",
    "        Returns\n",
    "        -------\n",
    "        resp: dict\n",
    "            a json dictionary containing real-time data\n",
    "    \"\"\"\n",
    "    endpoint = \"https://api.breezometer.com/baqi/?\"\n",
    "    real_time_params = {\n",
    "    'lat' : '40.7301249',\n",
    "    'lon' : '-73.99429',\n",
    "    'fields':\"breezometer_aqi,random_recommendations,\"\n",
    "        +\"dominant_pollutant_canonical_name,dominant_pollutant_description,\"\n",
    "        +\"datetime,pollutants,dominant_pollutant_text\",\n",
    "    'key' : \"8d9df1f14a9c4abb8f2e233d392bb7c8\"  \n",
    "    }\n",
    "    resp = requests.get(endpoint,params = real_time_params).json()\n",
    "    return resp"
   ]
  },
  {
   "cell_type": "code",
   "execution_count": 6,
   "metadata": {},
   "outputs": [
    {
     "data": {
      "text/plain": [
       "{'breezometer_aqi': 54,\n",
       " 'datetime': '2018-10-02T23:00:00',\n",
       " 'dominant_pollutant_canonical_name': 'pm10',\n",
       " 'dominant_pollutant_description': 'Inhalable particulate matter (<10µm)',\n",
       " 'dominant_pollutant_text': {'causes': 'Main sources are natural dust, smoke and pollen.',\n",
       "  'effects': 'Particles enter the lungs and cause local and systemic inflammation in the respiratory system & heart, thus cause cardiovascular and respiratory diseases such as asthma and bronchitis.',\n",
       "  'main': 'The dominant pollutant is inhalable particulate matter (PM10).'},\n",
       " 'random_recommendations': {'children': 'You can go outside with the kids, but monitor their breathing & pay attention to notifications',\n",
       "  'health': 'Exposure to air hazards is dangerous for people with health sensitivities, so it is important to monitor air quality at this time',\n",
       "  'inside': \"We're not going to tell you not to go outside, but you should continue tracking the air quality around you\",\n",
       "  'outside': 'Try to minimize long stays outdoors & Keep tracking the air quality around your area',\n",
       "  'sport': 'Our recommendation: search for a cleaner area for a physical outdoor activity'}}"
      ]
     },
     "execution_count": 6,
     "metadata": {},
     "output_type": "execute_result"
    }
   ],
   "source": [
    "real_time_aqi()"
   ]
  },
  {
   "cell_type": "markdown",
   "metadata": {},
   "source": [
    "### Part 2: Create a database and the corresponding set of tables for storing the data"
   ]
  },
  {
   "cell_type": "code",
   "execution_count": 7,
   "metadata": {},
   "outputs": [],
   "source": [
    "def connect_db():\n",
    "    \"\"\"\n",
    "        Connect to a database\n",
    "        \n",
    "        Returns\n",
    "        -------\n",
    "            an engine that supports SQL queries\n",
    "    \"\"\"\n",
    "    conn_string = 'mysql://{user}:{password}@{host}/'.format(\n",
    "        host = '35.196.156.52', \n",
    "        user = 'root',\n",
    "        password = 'Lib8fGz3MPIiwFff')\n",
    "\n",
    "    engine = create_engine(conn_string)\n",
    "    con = engine.connect()\n",
    "    return engine"
   ]
  },
  {
   "cell_type": "code",
   "execution_count": 8,
   "metadata": {},
   "outputs": [],
   "source": [
    "def execute_create_table(engine):\n",
    "    \"\"\"\n",
    "        Create a table in a database\n",
    "        \n",
    "        Parameters\n",
    "        ----------\n",
    "        engine:\n",
    "            an engine that supports SQL queries\n",
    "    \"\"\"\n",
    "    db_name = \"aqi\"\n",
    "    table_name = 'NY_aqi'\n",
    "    create_db_query = \"CREATE DATABASE IF NOT EXISTS {db} DEFAULT CHARACTER SET 'utf8'\".format(db=db_name)\n",
    "    engine.execute(create_db_query)\n",
    "    create_table_query = '''CREATE TABLE IF NOT EXISTS {db}.{table} \n",
    "                                    (breezometer_aqi int, \n",
    "                                    datetime varchar(250), \n",
    "                                    dominant_pollutant_canonical_name varchar(250),\n",
    "                                    dominant_pollutant_description varchar(250),\n",
    "                                    causes varchar(250),\n",
    "                                    effects varchar(250),\n",
    "                                    main varchar(250),\n",
    "                                    recommendation_children varchar(250),\n",
    "                                    recommendation_health varchar(250),\n",
    "                                    recommendation_inside varchar(250),\n",
    "                                    recommendation_outside varchar(250),\n",
    "                                    recommendation_sport varchar(250),\n",
    "                                    PRIMARY KEY(datetime)\n",
    "                                    )'''.format(db=db_name, table=table_name)\n",
    "    engine.execute(create_table_query)"
   ]
  },
  {
   "cell_type": "code",
   "execution_count": 9,
   "metadata": {},
   "outputs": [],
   "source": [
    "def execute_insert_query(engine,data):\n",
    "    \"\"\"\n",
    "        Insert entries into a table\n",
    "        \n",
    "        Parameters\n",
    "        ----------\n",
    "        engine:\n",
    "            an engine that supports SQL queries\n",
    "        data: dict\n",
    "            response from API containing data           \n",
    "    \"\"\"\n",
    "    db_name = 'aqi'\n",
    "    table_name = 'NY_aqi'\n",
    "    query_template = '''INSERT IGNORE INTO {db}.{table}(breezometer_aqi, \n",
    "                                            datetime,\n",
    "                                            dominant_pollutant_canonical_name, \n",
    "                                            dominant_pollutant_description, \n",
    "                                            causes,\n",
    "                                            effects,\n",
    "                                            main,\n",
    "                                            recommendation_children,\n",
    "                                            recommendation_health,\n",
    "                                            recommendation_inside,\n",
    "                                            recommendation_outside,\n",
    "                                            recommendation_sport) \n",
    "                        VALUES (%s, %s, %s, %s, %s, %s, %s, %s, %s, %s, %s, %s)'''.format(db=db_name, table=table_name)\n",
    "\n",
    "    breezometer_aqi = int(data['breezometer_aqi'])\n",
    "    datetime = data['datetime']\n",
    "    dominant_pollutant_canonical_name = data['dominant_pollutant_canonical_name']\n",
    "    dominant_pollutant_description = data['dominant_pollutant_description']\n",
    "    causes = data['dominant_pollutant_text']['causes']\n",
    "    effects = data['dominant_pollutant_text']['effects']\n",
    "    main = data['dominant_pollutant_text']['main']\n",
    "    recommendation_children = data['random_recommendations']['children']\n",
    "    recommendation_health = data['random_recommendations']['health']\n",
    "    recommendation_inside = data['random_recommendations']['inside']\n",
    "    recommendation_outside = data['random_recommendations']['outside']\n",
    "    recommendation_sport = data['random_recommendations']['sport']\n",
    "    print(\"Inserting aqi at\",datetime)\n",
    "    query_parameters = (breezometer_aqi, datetime, dominant_pollutant_canonical_name, dominant_pollutant_description, \n",
    "                        causes, effects, main, recommendation_children, recommendation_health, recommendation_inside,\n",
    "                       recommendation_outside, recommendation_sport)\n",
    "    engine.execute(query_template, query_parameters)"
   ]
  },
  {
   "cell_type": "markdown",
   "metadata": {},
   "source": [
    "### Part 3: Write Python code that connects to the API, fetches the data, and stores the data in the database"
   ]
  },
  {
   "cell_type": "code",
   "execution_count": 10,
   "metadata": {},
   "outputs": [],
   "source": [
    "def main_history_aqi():\n",
    "    \"\"\"\n",
    "        Fetch past-periods data up to 13 days from BeezoMeter API, store in database\n",
    "    \"\"\"\n",
    "    history_time = [get_history_time(i) for i in range(1,313)] # create a list of well-formatted datetime strings\n",
    "    engine = connect_db()\n",
    "    execute_create_table(engine)\n",
    "    for date in history_time:\n",
    "        try:\n",
    "            data = history_aqi(date) # fetch data\n",
    "            execute_insert_query(engine, data) # store in database\n",
    "        except:\n",
    "            print(\"Error: unable to get historical data for \"+date)"
   ]
  },
  {
   "cell_type": "code",
   "execution_count": 11,
   "metadata": {},
   "outputs": [],
   "source": [
    "def main_real_time_aqi():\n",
    "    \"\"\"\n",
    "        Fetch real-time data from BeezoMeter API, store in database\n",
    "    \"\"\"\n",
    "    engine = connect_db()\n",
    "    execute_create_table(engine)\n",
    "    try:\n",
    "        data = real_time_aqi() # fetch data\n",
    "        execute_insert_query(engine, data) # store in database\n",
    "    except:\n",
    "        print(\"Error: unable to get real-time data.\")"
   ]
  },
  {
   "cell_type": "code",
   "execution_count": 14,
   "metadata": {},
   "outputs": [
    {
     "name": "stderr",
     "output_type": "stream",
     "text": [
      "/usr/local/lib/python3.6/dist-packages/sqlalchemy/engine/default.py:509: Warning: (1007, \"Can't create database 'aqi'; database exists\")\n",
      "  cursor.execute(statement, parameters)\n",
      "/usr/local/lib/python3.6/dist-packages/sqlalchemy/engine/default.py:509: Warning: (1050, \"Table 'NY_aqi' already exists\")\n",
      "  cursor.execute(statement, parameters)\n"
     ]
    },
    {
     "name": "stdout",
     "output_type": "stream",
     "text": [
      "Inserting aqi at 2018-10-02T20:00:00\n",
      "Inserting aqi at 2018-10-02T19:00:00\n",
      "Error: unable to get historical data for 2018-10-02T19:50:05\n",
      "Inserting aqi at 2018-10-02T18:00:00\n",
      "Inserting aqi at 2018-10-02T17:00:00\n",
      "Error: unable to get historical data for 2018-10-02T17:50:05\n",
      "Inserting aqi at 2018-10-02T16:00:00\n",
      "Inserting aqi at 2018-10-02T15:00:00\n",
      "Inserting aqi at 2018-10-02T14:00:00\n",
      "Inserting aqi at 2018-10-02T13:00:00\n",
      "Error: unable to get historical data for 2018-10-02T13:50:05\n",
      "Inserting aqi at 2018-10-02T11:00:00\n",
      "Error: unable to get historical data for 2018-10-02T12:50:05\n",
      "Inserting aqi at 2018-10-02T11:00:00\n",
      "Inserting aqi at 2018-10-02T10:00:00\n",
      "Inserting aqi at 2018-10-02T09:00:00\n",
      "Error: unable to get historical data for 2018-10-02T09:50:05\n",
      "Inserting aqi at 2018-10-02T08:00:00\n",
      "Error: unable to get historical data for 2018-10-02T08:50:05\n",
      "Inserting aqi at 2018-10-02T07:00:00\n",
      "Error: unable to get historical data for 2018-10-02T07:50:05\n",
      "Inserting aqi at 2018-10-02T06:00:00\n",
      "Inserting aqi at 2018-10-02T05:00:00\n",
      "Error: unable to get historical data for 2018-10-02T05:50:05\n",
      "Inserting aqi at 2018-10-02T04:00:00\n",
      "Error: unable to get historical data for 2018-10-02T04:50:05\n",
      "Inserting aqi at 2018-10-02T03:00:00\n",
      "Error: unable to get historical data for 2018-10-02T03:50:05\n",
      "Inserting aqi at 2018-10-02T02:00:00\n",
      "Error: unable to get historical data for 2018-10-02T02:50:05\n",
      "Inserting aqi at 2018-10-02T01:00:00\n",
      "Inserting aqi at 2018-10-02T00:00:00\n",
      "Inserting aqi at 2018-10-01T23:00:00\n",
      "Inserting aqi at 2018-10-01T22:00:00\n",
      "Inserting aqi at 2018-10-01T21:00:00\n",
      "Inserting aqi at 2018-10-01T20:00:00\n",
      "Error: unable to get historical data for 2018-10-01T20:50:05\n",
      "Inserting aqi at 2018-10-01T19:00:00\n",
      "Inserting aqi at 2018-10-01T18:00:00\n",
      "Error: unable to get historical data for 2018-10-01T18:50:05\n",
      "Inserting aqi at 2018-10-01T16:00:00\n",
      "Inserting aqi at 2018-10-01T16:00:00\n",
      "Error: unable to get historical data for 2018-10-01T16:50:05\n",
      "Inserting aqi at 2018-10-01T15:00:00\n",
      "Error: unable to get historical data for 2018-10-01T15:50:05\n",
      "Inserting aqi at 2018-10-01T14:00:00\n",
      "Error: unable to get historical data for 2018-10-01T14:50:05\n",
      "Inserting aqi at 2018-10-01T13:00:00\n",
      "Inserting aqi at 2018-10-01T12:00:00\n",
      "Inserting aqi at 2018-10-01T11:00:00\n",
      "Inserting aqi at 2018-10-01T10:00:00\n",
      "Inserting aqi at 2018-10-01T09:00:00\n",
      "Inserting aqi at 2018-10-01T08:00:00\n",
      "Inserting aqi at 2018-10-01T07:00:00\n",
      "Inserting aqi at 2018-10-01T06:00:00\n",
      "Error: unable to get historical data for 2018-10-01T06:50:05\n",
      "Inserting aqi at 2018-10-01T05:00:00\n",
      "Error: unable to get historical data for 2018-10-01T05:50:05\n",
      "Inserting aqi at 2018-10-01T04:00:00\n",
      "Inserting aqi at 2018-10-01T03:00:00\n",
      "Error: unable to get historical data for 2018-10-01T03:50:05\n",
      "Inserting aqi at 2018-10-01T02:00:00\n",
      "Inserting aqi at 2018-10-01T01:00:00\n",
      "Inserting aqi at 2018-10-01T00:00:00\n",
      "Error: unable to get historical data for 2018-10-01T00:50:05\n",
      "Inserting aqi at 2018-09-30T23:00:00\n",
      "Error: unable to get historical data for 2018-09-30T23:50:05\n",
      "Inserting aqi at 2018-09-30T22:00:00\n",
      "Inserting aqi at 2018-09-30T21:00:00\n",
      "Error: unable to get historical data for 2018-09-30T21:50:05\n",
      "Inserting aqi at 2018-09-30T20:00:00\n",
      "Inserting aqi at 2018-09-30T19:00:00\n",
      "Inserting aqi at 2018-09-30T18:00:00\n",
      "Error: unable to get historical data for 2018-09-30T18:50:05\n",
      "Inserting aqi at 2018-09-30T17:00:00\n",
      "Error: unable to get historical data for 2018-09-30T17:50:05\n",
      "Inserting aqi at 2018-09-30T16:00:00\n",
      "Error: unable to get historical data for 2018-09-30T16:50:05\n",
      "Inserting aqi at 2018-09-30T15:00:00\n",
      "Error: unable to get historical data for 2018-09-30T15:50:05\n",
      "Inserting aqi at 2018-09-30T14:00:00\n",
      "Error: unable to get historical data for 2018-09-30T14:50:05\n",
      "Inserting aqi at 2018-09-30T13:00:00\n",
      "Inserting aqi at 2018-09-30T12:00:00\n",
      "Inserting aqi at 2018-09-30T11:00:00\n",
      "Inserting aqi at 2018-09-30T10:00:00\n",
      "Inserting aqi at 2018-09-30T09:00:00\n",
      "Inserting aqi at 2018-09-30T08:00:00\n",
      "Inserting aqi at 2018-09-30T07:00:00\n",
      "Inserting aqi at 2018-09-30T06:00:00\n",
      "Error: unable to get historical data for 2018-09-30T06:50:05\n",
      "Inserting aqi at 2018-09-30T05:00:00\n",
      "Error: unable to get historical data for 2018-09-30T05:50:05\n",
      "Inserting aqi at 2018-09-30T04:00:00\n",
      "Error: unable to get historical data for 2018-09-30T04:50:05\n",
      "Inserting aqi at 2018-09-30T03:00:00\n",
      "Error: unable to get historical data for 2018-09-30T03:50:05\n",
      "Inserting aqi at 2018-09-30T02:00:00\n",
      "Error: unable to get historical data for 2018-09-30T02:50:05\n",
      "Inserting aqi at 2018-09-30T01:00:00\n",
      "Error: unable to get historical data for 2018-09-30T01:50:05\n",
      "Inserting aqi at 2018-09-30T00:00:00\n",
      "Inserting aqi at 2018-09-29T23:00:00\n",
      "Error: unable to get historical data for 2018-09-29T23:50:05\n",
      "Inserting aqi at 2018-09-29T22:00:00\n",
      "Error: unable to get historical data for 2018-09-29T22:50:05\n",
      "Inserting aqi at 2018-09-29T21:00:00\n",
      "Inserting aqi at 2018-09-29T20:00:00\n",
      "Inserting aqi at 2018-09-29T19:00:00\n",
      "Inserting aqi at 2018-09-29T18:00:00\n",
      "Error: unable to get historical data for 2018-09-29T18:50:05\n",
      "Inserting aqi at 2018-09-29T17:00:00\n",
      "Inserting aqi at 2018-09-29T16:00:00\n",
      "Inserting aqi at 2018-09-29T15:00:00\n",
      "Error: unable to get historical data for 2018-09-29T15:50:05\n",
      "Inserting aqi at 2018-09-29T14:00:00\n",
      "Error: unable to get historical data for 2018-09-29T14:50:05\n",
      "Inserting aqi at 2018-09-29T13:00:00\n",
      "Inserting aqi at 2018-09-29T12:00:00\n",
      "Inserting aqi at 2018-09-29T11:00:00\n",
      "Error: unable to get historical data for 2018-09-29T11:50:05\n",
      "Inserting aqi at 2018-09-29T10:00:00\n",
      "Inserting aqi at 2018-09-29T09:00:00\n",
      "Inserting aqi at 2018-09-29T08:00:00\n",
      "Error: unable to get historical data for 2018-09-29T08:50:05\n",
      "Inserting aqi at 2018-09-29T07:00:00\n",
      "Error: unable to get historical data for 2018-09-29T07:50:05\n",
      "Inserting aqi at 2018-09-29T06:00:00\n"
     ]
    },
    {
     "name": "stderr",
     "output_type": "stream",
     "text": [
      "/usr/local/lib/python3.6/dist-packages/sqlalchemy/engine/default.py:509: Warning: (1062, \"Duplicate entry '2018-09-29T06:00:00' for key 'PRIMARY'\")\n",
      "  cursor.execute(statement, parameters)\n"
     ]
    },
    {
     "name": "stdout",
     "output_type": "stream",
     "text": [
      "Inserting aqi at 2018-09-29T05:00:00\n",
      "Error: unable to get historical data for 2018-09-29T05:50:05\n",
      "Inserting aqi at 2018-09-29T04:00:00\n"
     ]
    },
    {
     "name": "stderr",
     "output_type": "stream",
     "text": [
      "/usr/local/lib/python3.6/dist-packages/sqlalchemy/engine/default.py:509: Warning: (1062, \"Duplicate entry '2018-09-29T04:00:00' for key 'PRIMARY'\")\n",
      "  cursor.execute(statement, parameters)\n"
     ]
    },
    {
     "name": "stdout",
     "output_type": "stream",
     "text": [
      "Inserting aqi at 2018-09-29T03:00:00\n"
     ]
    },
    {
     "name": "stderr",
     "output_type": "stream",
     "text": [
      "/usr/local/lib/python3.6/dist-packages/sqlalchemy/engine/default.py:509: Warning: (1062, \"Duplicate entry '2018-09-29T03:00:00' for key 'PRIMARY'\")\n",
      "  cursor.execute(statement, parameters)\n"
     ]
    },
    {
     "name": "stdout",
     "output_type": "stream",
     "text": [
      "Inserting aqi at 2018-09-29T02:00:00\n",
      "Error: unable to get historical data for 2018-09-29T02:50:05\n",
      "Inserting aqi at 2018-09-29T01:00:00\n",
      "Error: unable to get historical data for 2018-09-29T01:50:05\n",
      "Inserting aqi at 2018-09-29T00:00:00\n",
      "Error: unable to get historical data for 2018-09-29T00:50:05\n",
      "Inserting aqi at 2018-09-28T23:00:00\n",
      "Error: unable to get historical data for 2018-09-28T23:50:05\n",
      "Inserting aqi at 2018-09-28T22:00:00\n",
      "Error: unable to get historical data for 2018-09-28T22:50:05\n",
      "Inserting aqi at 2018-09-28T21:00:00\n",
      "Inserting aqi at 2018-09-28T20:00:00\n",
      "Error: unable to get historical data for 2018-09-28T20:50:05\n",
      "Inserting aqi at 2018-09-28T19:00:00\n",
      "Error: unable to get historical data for 2018-09-28T19:50:05\n",
      "Inserting aqi at 2018-09-28T18:00:00\n"
     ]
    },
    {
     "name": "stderr",
     "output_type": "stream",
     "text": [
      "/usr/local/lib/python3.6/dist-packages/sqlalchemy/engine/default.py:509: Warning: (1062, \"Duplicate entry '2018-09-28T18:00:00' for key 'PRIMARY'\")\n",
      "  cursor.execute(statement, parameters)\n"
     ]
    },
    {
     "name": "stdout",
     "output_type": "stream",
     "text": [
      "Inserting aqi at 2018-09-28T17:00:00\n"
     ]
    },
    {
     "name": "stderr",
     "output_type": "stream",
     "text": [
      "/usr/local/lib/python3.6/dist-packages/sqlalchemy/engine/default.py:509: Warning: (1062, \"Duplicate entry '2018-09-28T17:00:00' for key 'PRIMARY'\")\n",
      "  cursor.execute(statement, parameters)\n"
     ]
    },
    {
     "name": "stdout",
     "output_type": "stream",
     "text": [
      "Inserting aqi at 2018-09-28T16:00:00\n",
      "Inserting aqi at 2018-09-28T15:00:00\n"
     ]
    },
    {
     "name": "stderr",
     "output_type": "stream",
     "text": [
      "/usr/local/lib/python3.6/dist-packages/sqlalchemy/engine/default.py:509: Warning: (1062, \"Duplicate entry '2018-09-28T15:00:00' for key 'PRIMARY'\")\n",
      "  cursor.execute(statement, parameters)\n"
     ]
    },
    {
     "name": "stdout",
     "output_type": "stream",
     "text": [
      "Inserting aqi at 2018-09-28T14:00:00\n",
      "Error: unable to get historical data for 2018-09-28T14:50:05\n",
      "Inserting aqi at 2018-09-28T13:00:00\n"
     ]
    },
    {
     "name": "stderr",
     "output_type": "stream",
     "text": [
      "/usr/local/lib/python3.6/dist-packages/sqlalchemy/engine/default.py:509: Warning: (1062, \"Duplicate entry '2018-09-28T13:00:00' for key 'PRIMARY'\")\n",
      "  cursor.execute(statement, parameters)\n"
     ]
    },
    {
     "name": "stdout",
     "output_type": "stream",
     "text": [
      "Inserting aqi at 2018-09-28T12:00:00\n"
     ]
    },
    {
     "name": "stderr",
     "output_type": "stream",
     "text": [
      "/usr/local/lib/python3.6/dist-packages/sqlalchemy/engine/default.py:509: Warning: (1062, \"Duplicate entry '2018-09-28T12:00:00' for key 'PRIMARY'\")\n",
      "  cursor.execute(statement, parameters)\n"
     ]
    },
    {
     "name": "stdout",
     "output_type": "stream",
     "text": [
      "Inserting aqi at 2018-09-28T11:00:00\n"
     ]
    },
    {
     "name": "stderr",
     "output_type": "stream",
     "text": [
      "/usr/local/lib/python3.6/dist-packages/sqlalchemy/engine/default.py:509: Warning: (1062, \"Duplicate entry '2018-09-28T11:00:00' for key 'PRIMARY'\")\n",
      "  cursor.execute(statement, parameters)\n"
     ]
    },
    {
     "name": "stdout",
     "output_type": "stream",
     "text": [
      "Inserting aqi at 2018-09-28T10:00:00\n"
     ]
    },
    {
     "name": "stderr",
     "output_type": "stream",
     "text": [
      "/usr/local/lib/python3.6/dist-packages/sqlalchemy/engine/default.py:509: Warning: (1062, \"Duplicate entry '2018-09-28T10:00:00' for key 'PRIMARY'\")\n",
      "  cursor.execute(statement, parameters)\n"
     ]
    },
    {
     "name": "stdout",
     "output_type": "stream",
     "text": [
      "Inserting aqi at 2018-09-28T09:00:00\n"
     ]
    },
    {
     "name": "stderr",
     "output_type": "stream",
     "text": [
      "/usr/local/lib/python3.6/dist-packages/sqlalchemy/engine/default.py:509: Warning: (1062, \"Duplicate entry '2018-09-28T09:00:00' for key 'PRIMARY'\")\n",
      "  cursor.execute(statement, parameters)\n"
     ]
    },
    {
     "name": "stdout",
     "output_type": "stream",
     "text": [
      "Inserting aqi at 2018-09-28T08:00:00\n"
     ]
    },
    {
     "name": "stderr",
     "output_type": "stream",
     "text": [
      "/usr/local/lib/python3.6/dist-packages/sqlalchemy/engine/default.py:509: Warning: (1062, \"Duplicate entry '2018-09-28T08:00:00' for key 'PRIMARY'\")\n",
      "  cursor.execute(statement, parameters)\n"
     ]
    },
    {
     "name": "stdout",
     "output_type": "stream",
     "text": [
      "Inserting aqi at 2018-09-28T07:00:00\n"
     ]
    },
    {
     "name": "stderr",
     "output_type": "stream",
     "text": [
      "/usr/local/lib/python3.6/dist-packages/sqlalchemy/engine/default.py:509: Warning: (1062, \"Duplicate entry '2018-09-28T07:00:00' for key 'PRIMARY'\")\n",
      "  cursor.execute(statement, parameters)\n"
     ]
    },
    {
     "name": "stdout",
     "output_type": "stream",
     "text": [
      "Inserting aqi at 2018-09-28T06:00:00\n"
     ]
    },
    {
     "name": "stderr",
     "output_type": "stream",
     "text": [
      "/usr/local/lib/python3.6/dist-packages/sqlalchemy/engine/default.py:509: Warning: (1062, \"Duplicate entry '2018-09-28T06:00:00' for key 'PRIMARY'\")\n",
      "  cursor.execute(statement, parameters)\n"
     ]
    },
    {
     "name": "stdout",
     "output_type": "stream",
     "text": [
      "Inserting aqi at 2018-09-28T05:00:00\n"
     ]
    },
    {
     "name": "stderr",
     "output_type": "stream",
     "text": [
      "/usr/local/lib/python3.6/dist-packages/sqlalchemy/engine/default.py:509: Warning: (1062, \"Duplicate entry '2018-09-28T05:00:00' for key 'PRIMARY'\")\n",
      "  cursor.execute(statement, parameters)\n"
     ]
    },
    {
     "name": "stdout",
     "output_type": "stream",
     "text": [
      "Inserting aqi at 2018-09-28T04:00:00\n"
     ]
    },
    {
     "name": "stderr",
     "output_type": "stream",
     "text": [
      "/usr/local/lib/python3.6/dist-packages/sqlalchemy/engine/default.py:509: Warning: (1062, \"Duplicate entry '2018-09-28T04:00:00' for key 'PRIMARY'\")\n",
      "  cursor.execute(statement, parameters)\n"
     ]
    },
    {
     "name": "stdout",
     "output_type": "stream",
     "text": [
      "Inserting aqi at 2018-09-28T03:00:00\n"
     ]
    },
    {
     "name": "stderr",
     "output_type": "stream",
     "text": [
      "/usr/local/lib/python3.6/dist-packages/sqlalchemy/engine/default.py:509: Warning: (1062, \"Duplicate entry '2018-09-28T03:00:00' for key 'PRIMARY'\")\n",
      "  cursor.execute(statement, parameters)\n"
     ]
    },
    {
     "name": "stdout",
     "output_type": "stream",
     "text": [
      "Inserting aqi at 2018-09-28T02:00:00\n",
      "Error: unable to get historical data for 2018-09-28T02:50:05\n",
      "Inserting aqi at 2018-09-28T01:00:00\n",
      "Error: unable to get historical data for 2018-09-28T01:50:05\n",
      "Inserting aqi at 2018-09-28T00:00:00\n",
      "Error: unable to get historical data for 2018-09-28T00:50:05\n",
      "Inserting aqi at 2018-09-27T23:00:00\n",
      "Inserting aqi at 2018-09-27T22:00:00\n",
      "Error: unable to get historical data for 2018-09-27T22:50:05\n",
      "Inserting aqi at 2018-09-27T21:00:00\n",
      "Error: unable to get historical data for 2018-09-27T21:50:05\n",
      "Inserting aqi at 2018-09-27T20:00:00\n",
      "Inserting aqi at 2018-09-27T19:00:00\n"
     ]
    },
    {
     "name": "stderr",
     "output_type": "stream",
     "text": [
      "/usr/local/lib/python3.6/dist-packages/sqlalchemy/engine/default.py:509: Warning: (1062, \"Duplicate entry '2018-09-27T19:00:00' for key 'PRIMARY'\")\n",
      "  cursor.execute(statement, parameters)\n"
     ]
    },
    {
     "name": "stdout",
     "output_type": "stream",
     "text": [
      "Inserting aqi at 2018-09-27T18:00:00\n",
      "Error: unable to get historical data for 2018-09-27T18:50:05\n",
      "Inserting aqi at 2018-09-27T17:00:00\n",
      "Error: unable to get historical data for 2018-09-27T17:50:05\n",
      "Inserting aqi at 2018-09-27T16:00:00\n",
      "Error: unable to get historical data for 2018-09-27T16:50:05\n",
      "Inserting aqi at 2018-09-27T15:00:00\n",
      "Error: unable to get historical data for 2018-09-27T15:50:05\n",
      "Inserting aqi at 2018-09-27T14:00:00\n"
     ]
    },
    {
     "name": "stderr",
     "output_type": "stream",
     "text": [
      "/usr/local/lib/python3.6/dist-packages/sqlalchemy/engine/default.py:509: Warning: (1062, \"Duplicate entry '2018-09-27T14:00:00' for key 'PRIMARY'\")\n",
      "  cursor.execute(statement, parameters)\n"
     ]
    },
    {
     "name": "stdout",
     "output_type": "stream",
     "text": [
      "Inserting aqi at 2018-09-27T13:00:00\n"
     ]
    },
    {
     "name": "stderr",
     "output_type": "stream",
     "text": [
      "/usr/local/lib/python3.6/dist-packages/sqlalchemy/engine/default.py:509: Warning: (1062, \"Duplicate entry '2018-09-27T13:00:00' for key 'PRIMARY'\")\n",
      "  cursor.execute(statement, parameters)\n"
     ]
    },
    {
     "name": "stdout",
     "output_type": "stream",
     "text": [
      "Inserting aqi at 2018-09-27T12:00:00\n"
     ]
    },
    {
     "name": "stderr",
     "output_type": "stream",
     "text": [
      "/usr/local/lib/python3.6/dist-packages/sqlalchemy/engine/default.py:509: Warning: (1062, \"Duplicate entry '2018-09-27T12:00:00' for key 'PRIMARY'\")\n",
      "  cursor.execute(statement, parameters)\n"
     ]
    },
    {
     "name": "stdout",
     "output_type": "stream",
     "text": [
      "Inserting aqi at 2018-09-27T11:00:00\n"
     ]
    },
    {
     "name": "stderr",
     "output_type": "stream",
     "text": [
      "/usr/local/lib/python3.6/dist-packages/sqlalchemy/engine/default.py:509: Warning: (1062, \"Duplicate entry '2018-09-27T11:00:00' for key 'PRIMARY'\")\n",
      "  cursor.execute(statement, parameters)\n"
     ]
    },
    {
     "name": "stdout",
     "output_type": "stream",
     "text": [
      "Inserting aqi at 2018-09-27T10:00:00\n"
     ]
    },
    {
     "name": "stderr",
     "output_type": "stream",
     "text": [
      "/usr/local/lib/python3.6/dist-packages/sqlalchemy/engine/default.py:509: Warning: (1062, \"Duplicate entry '2018-09-27T10:00:00' for key 'PRIMARY'\")\n",
      "  cursor.execute(statement, parameters)\n"
     ]
    },
    {
     "name": "stdout",
     "output_type": "stream",
     "text": [
      "Inserting aqi at 2018-09-27T09:00:00\n"
     ]
    },
    {
     "name": "stderr",
     "output_type": "stream",
     "text": [
      "/usr/local/lib/python3.6/dist-packages/sqlalchemy/engine/default.py:509: Warning: (1062, \"Duplicate entry '2018-09-27T09:00:00' for key 'PRIMARY'\")\n",
      "  cursor.execute(statement, parameters)\n"
     ]
    },
    {
     "name": "stdout",
     "output_type": "stream",
     "text": [
      "Inserting aqi at 2018-09-27T08:00:00\n"
     ]
    },
    {
     "name": "stderr",
     "output_type": "stream",
     "text": [
      "/usr/local/lib/python3.6/dist-packages/sqlalchemy/engine/default.py:509: Warning: (1062, \"Duplicate entry '2018-09-27T08:00:00' for key 'PRIMARY'\")\n",
      "  cursor.execute(statement, parameters)\n"
     ]
    },
    {
     "name": "stdout",
     "output_type": "stream",
     "text": [
      "Inserting aqi at 2018-09-27T07:00:00\n"
     ]
    },
    {
     "name": "stderr",
     "output_type": "stream",
     "text": [
      "/usr/local/lib/python3.6/dist-packages/sqlalchemy/engine/default.py:509: Warning: (1062, \"Duplicate entry '2018-09-27T07:00:00' for key 'PRIMARY'\")\n",
      "  cursor.execute(statement, parameters)\n"
     ]
    },
    {
     "name": "stdout",
     "output_type": "stream",
     "text": [
      "Inserting aqi at 2018-09-27T06:00:00\n"
     ]
    },
    {
     "name": "stderr",
     "output_type": "stream",
     "text": [
      "/usr/local/lib/python3.6/dist-packages/sqlalchemy/engine/default.py:509: Warning: (1062, \"Duplicate entry '2018-09-27T06:00:00' for key 'PRIMARY'\")\n",
      "  cursor.execute(statement, parameters)\n"
     ]
    },
    {
     "name": "stdout",
     "output_type": "stream",
     "text": [
      "Inserting aqi at 2018-09-27T05:00:00\n"
     ]
    },
    {
     "name": "stderr",
     "output_type": "stream",
     "text": [
      "/usr/local/lib/python3.6/dist-packages/sqlalchemy/engine/default.py:509: Warning: (1062, \"Duplicate entry '2018-09-27T05:00:00' for key 'PRIMARY'\")\n",
      "  cursor.execute(statement, parameters)\n"
     ]
    },
    {
     "name": "stdout",
     "output_type": "stream",
     "text": [
      "Inserting aqi at 2018-09-27T04:00:00\n"
     ]
    },
    {
     "name": "stderr",
     "output_type": "stream",
     "text": [
      "/usr/local/lib/python3.6/dist-packages/sqlalchemy/engine/default.py:509: Warning: (1062, \"Duplicate entry '2018-09-27T04:00:00' for key 'PRIMARY'\")\n",
      "  cursor.execute(statement, parameters)\n"
     ]
    },
    {
     "name": "stdout",
     "output_type": "stream",
     "text": [
      "Inserting aqi at 2018-09-27T03:00:00\n",
      "Error: unable to get historical data for 2018-09-27T03:50:05\n",
      "Inserting aqi at 2018-09-27T02:00:00\n",
      "Error: unable to get historical data for 2018-09-27T02:50:05\n",
      "Inserting aqi at 2018-09-27T01:00:00\n",
      "Error: unable to get historical data for 2018-09-27T01:50:05\n",
      "Inserting aqi at 2018-09-27T00:00:00\n",
      "Inserting aqi at 2018-09-26T23:00:00\n"
     ]
    },
    {
     "name": "stderr",
     "output_type": "stream",
     "text": [
      "/usr/local/lib/python3.6/dist-packages/sqlalchemy/engine/default.py:509: Warning: (1062, \"Duplicate entry '2018-09-26T23:00:00' for key 'PRIMARY'\")\n",
      "  cursor.execute(statement, parameters)\n"
     ]
    },
    {
     "name": "stdout",
     "output_type": "stream",
     "text": [
      "Inserting aqi at 2018-09-26T22:00:00\n",
      "Error: unable to get historical data for 2018-09-26T22:50:05\n",
      "Inserting aqi at 2018-09-26T21:00:00\n",
      "Error: unable to get historical data for 2018-09-26T21:50:05\n",
      "Inserting aqi at 2018-09-26T20:00:00\n",
      "Error: unable to get historical data for 2018-09-26T20:50:05\n",
      "Inserting aqi at 2018-09-26T19:00:00\n"
     ]
    },
    {
     "name": "stderr",
     "output_type": "stream",
     "text": [
      "/usr/local/lib/python3.6/dist-packages/sqlalchemy/engine/default.py:509: Warning: (1062, \"Duplicate entry '2018-09-26T19:00:00' for key 'PRIMARY'\")\n",
      "  cursor.execute(statement, parameters)\n"
     ]
    },
    {
     "name": "stdout",
     "output_type": "stream",
     "text": [
      "Inserting aqi at 2018-09-26T18:00:00\n",
      "Error: unable to get historical data for 2018-09-26T18:50:05\n",
      "Inserting aqi at 2018-09-26T17:00:00\n"
     ]
    },
    {
     "name": "stderr",
     "output_type": "stream",
     "text": [
      "/usr/local/lib/python3.6/dist-packages/sqlalchemy/engine/default.py:509: Warning: (1062, \"Duplicate entry '2018-09-26T17:00:00' for key 'PRIMARY'\")\n",
      "  cursor.execute(statement, parameters)\n"
     ]
    },
    {
     "name": "stdout",
     "output_type": "stream",
     "text": [
      "Inserting aqi at 2018-09-26T16:00:00\n",
      "Error: unable to get historical data for 2018-09-26T16:50:05\n",
      "Inserting aqi at 2018-09-26T15:00:00\n"
     ]
    },
    {
     "name": "stderr",
     "output_type": "stream",
     "text": [
      "/usr/local/lib/python3.6/dist-packages/sqlalchemy/engine/default.py:509: Warning: (1062, \"Duplicate entry '2018-09-26T15:00:00' for key 'PRIMARY'\")\n",
      "  cursor.execute(statement, parameters)\n"
     ]
    },
    {
     "name": "stdout",
     "output_type": "stream",
     "text": [
      "Inserting aqi at 2018-09-26T14:00:00\n"
     ]
    },
    {
     "name": "stderr",
     "output_type": "stream",
     "text": [
      "/usr/local/lib/python3.6/dist-packages/sqlalchemy/engine/default.py:509: Warning: (1062, \"Duplicate entry '2018-09-26T14:00:00' for key 'PRIMARY'\")\n",
      "  cursor.execute(statement, parameters)\n"
     ]
    },
    {
     "name": "stdout",
     "output_type": "stream",
     "text": [
      "Inserting aqi at 2018-09-26T13:00:00\n"
     ]
    },
    {
     "name": "stderr",
     "output_type": "stream",
     "text": [
      "/usr/local/lib/python3.6/dist-packages/sqlalchemy/engine/default.py:509: Warning: (1062, \"Duplicate entry '2018-09-26T13:00:00' for key 'PRIMARY'\")\n",
      "  cursor.execute(statement, parameters)\n"
     ]
    },
    {
     "name": "stdout",
     "output_type": "stream",
     "text": [
      "Inserting aqi at 2018-09-26T12:00:00\n"
     ]
    },
    {
     "name": "stderr",
     "output_type": "stream",
     "text": [
      "/usr/local/lib/python3.6/dist-packages/sqlalchemy/engine/default.py:509: Warning: (1062, \"Duplicate entry '2018-09-26T12:00:00' for key 'PRIMARY'\")\n",
      "  cursor.execute(statement, parameters)\n"
     ]
    },
    {
     "name": "stdout",
     "output_type": "stream",
     "text": [
      "Inserting aqi at 2018-09-26T11:00:00\n"
     ]
    },
    {
     "name": "stderr",
     "output_type": "stream",
     "text": [
      "/usr/local/lib/python3.6/dist-packages/sqlalchemy/engine/default.py:509: Warning: (1062, \"Duplicate entry '2018-09-26T11:00:00' for key 'PRIMARY'\")\n",
      "  cursor.execute(statement, parameters)\n"
     ]
    },
    {
     "name": "stdout",
     "output_type": "stream",
     "text": [
      "Inserting aqi at 2018-09-26T10:00:00\n"
     ]
    },
    {
     "name": "stderr",
     "output_type": "stream",
     "text": [
      "/usr/local/lib/python3.6/dist-packages/sqlalchemy/engine/default.py:509: Warning: (1062, \"Duplicate entry '2018-09-26T10:00:00' for key 'PRIMARY'\")\n",
      "  cursor.execute(statement, parameters)\n"
     ]
    },
    {
     "name": "stdout",
     "output_type": "stream",
     "text": [
      "Inserting aqi at 2018-09-26T09:00:00\n"
     ]
    },
    {
     "name": "stderr",
     "output_type": "stream",
     "text": [
      "/usr/local/lib/python3.6/dist-packages/sqlalchemy/engine/default.py:509: Warning: (1062, \"Duplicate entry '2018-09-26T09:00:00' for key 'PRIMARY'\")\n",
      "  cursor.execute(statement, parameters)\n"
     ]
    },
    {
     "name": "stdout",
     "output_type": "stream",
     "text": [
      "Inserting aqi at 2018-09-26T08:00:00\n"
     ]
    },
    {
     "name": "stderr",
     "output_type": "stream",
     "text": [
      "/usr/local/lib/python3.6/dist-packages/sqlalchemy/engine/default.py:509: Warning: (1062, \"Duplicate entry '2018-09-26T08:00:00' for key 'PRIMARY'\")\n",
      "  cursor.execute(statement, parameters)\n"
     ]
    },
    {
     "name": "stdout",
     "output_type": "stream",
     "text": [
      "Inserting aqi at 2018-09-26T07:00:00\n"
     ]
    },
    {
     "name": "stderr",
     "output_type": "stream",
     "text": [
      "/usr/local/lib/python3.6/dist-packages/sqlalchemy/engine/default.py:509: Warning: (1062, \"Duplicate entry '2018-09-26T07:00:00' for key 'PRIMARY'\")\n",
      "  cursor.execute(statement, parameters)\n"
     ]
    },
    {
     "name": "stdout",
     "output_type": "stream",
     "text": [
      "Inserting aqi at 2018-09-26T06:00:00\n"
     ]
    },
    {
     "name": "stderr",
     "output_type": "stream",
     "text": [
      "/usr/local/lib/python3.6/dist-packages/sqlalchemy/engine/default.py:509: Warning: (1062, \"Duplicate entry '2018-09-26T06:00:00' for key 'PRIMARY'\")\n",
      "  cursor.execute(statement, parameters)\n"
     ]
    },
    {
     "name": "stdout",
     "output_type": "stream",
     "text": [
      "Inserting aqi at 2018-09-26T05:00:00\n"
     ]
    },
    {
     "name": "stderr",
     "output_type": "stream",
     "text": [
      "/usr/local/lib/python3.6/dist-packages/sqlalchemy/engine/default.py:509: Warning: (1062, \"Duplicate entry '2018-09-26T05:00:00' for key 'PRIMARY'\")\n",
      "  cursor.execute(statement, parameters)\n"
     ]
    },
    {
     "name": "stdout",
     "output_type": "stream",
     "text": [
      "Inserting aqi at 2018-09-26T04:00:00\n"
     ]
    },
    {
     "name": "stderr",
     "output_type": "stream",
     "text": [
      "/usr/local/lib/python3.6/dist-packages/sqlalchemy/engine/default.py:509: Warning: (1062, \"Duplicate entry '2018-09-26T04:00:00' for key 'PRIMARY'\")\n",
      "  cursor.execute(statement, parameters)\n"
     ]
    },
    {
     "name": "stdout",
     "output_type": "stream",
     "text": [
      "Inserting aqi at 2018-09-26T03:00:00\n"
     ]
    },
    {
     "name": "stderr",
     "output_type": "stream",
     "text": [
      "/usr/local/lib/python3.6/dist-packages/sqlalchemy/engine/default.py:509: Warning: (1062, \"Duplicate entry '2018-09-26T03:00:00' for key 'PRIMARY'\")\n",
      "  cursor.execute(statement, parameters)\n"
     ]
    },
    {
     "name": "stdout",
     "output_type": "stream",
     "text": [
      "Inserting aqi at 2018-09-26T02:00:00\n"
     ]
    },
    {
     "name": "stderr",
     "output_type": "stream",
     "text": [
      "/usr/local/lib/python3.6/dist-packages/sqlalchemy/engine/default.py:509: Warning: (1062, \"Duplicate entry '2018-09-26T02:00:00' for key 'PRIMARY'\")\n",
      "  cursor.execute(statement, parameters)\n"
     ]
    },
    {
     "name": "stdout",
     "output_type": "stream",
     "text": [
      "Inserting aqi at 2018-09-26T01:00:00\n"
     ]
    },
    {
     "name": "stderr",
     "output_type": "stream",
     "text": [
      "/usr/local/lib/python3.6/dist-packages/sqlalchemy/engine/default.py:509: Warning: (1062, \"Duplicate entry '2018-09-26T01:00:00' for key 'PRIMARY'\")\n",
      "  cursor.execute(statement, parameters)\n"
     ]
    },
    {
     "name": "stdout",
     "output_type": "stream",
     "text": [
      "Inserting aqi at 2018-09-26T00:00:00\n",
      "Error: unable to get historical data for 2018-09-26T00:50:05\n",
      "Inserting aqi at 2018-09-25T23:00:00\n",
      "Error: unable to get historical data for 2018-09-25T23:50:05\n",
      "Inserting aqi at 2018-09-25T22:00:00\n",
      "Error: unable to get historical data for 2018-09-25T22:50:05\n",
      "Inserting aqi at 2018-09-25T21:00:00\n"
     ]
    },
    {
     "name": "stderr",
     "output_type": "stream",
     "text": [
      "/usr/local/lib/python3.6/dist-packages/sqlalchemy/engine/default.py:509: Warning: (1062, \"Duplicate entry '2018-09-25T21:00:00' for key 'PRIMARY'\")\n",
      "  cursor.execute(statement, parameters)\n"
     ]
    },
    {
     "name": "stdout",
     "output_type": "stream",
     "text": [
      "Inserting aqi at 2018-09-25T20:00:00\n",
      "Error: unable to get historical data for 2018-09-25T20:50:05\n",
      "Inserting aqi at 2018-09-25T19:00:00\n",
      "Error: unable to get historical data for 2018-09-25T19:50:05\n",
      "Inserting aqi at 2018-09-25T18:00:00\n",
      "Inserting aqi at 2018-09-25T17:00:00\n",
      "Inserting aqi at 2018-09-25T16:00:00\n",
      "Inserting aqi at 2018-09-25T15:00:00\n",
      "Error: unable to get historical data for 2018-09-25T15:50:05\n",
      "Inserting aqi at 2018-09-25T14:00:00\n",
      "Inserting aqi at 2018-09-25T13:00:00\n",
      "Error: unable to get historical data for 2018-09-25T13:50:05\n",
      "Inserting aqi at 2018-09-25T12:00:00\n"
     ]
    },
    {
     "name": "stderr",
     "output_type": "stream",
     "text": [
      "/usr/local/lib/python3.6/dist-packages/sqlalchemy/engine/default.py:509: Warning: (1062, \"Duplicate entry '2018-09-25T12:00:00' for key 'PRIMARY'\")\n",
      "  cursor.execute(statement, parameters)\n"
     ]
    },
    {
     "name": "stdout",
     "output_type": "stream",
     "text": [
      "Inserting aqi at 2018-09-25T11:00:00\n"
     ]
    },
    {
     "name": "stderr",
     "output_type": "stream",
     "text": [
      "/usr/local/lib/python3.6/dist-packages/sqlalchemy/engine/default.py:509: Warning: (1062, \"Duplicate entry '2018-09-25T11:00:00' for key 'PRIMARY'\")\n",
      "  cursor.execute(statement, parameters)\n"
     ]
    },
    {
     "name": "stdout",
     "output_type": "stream",
     "text": [
      "Inserting aqi at 2018-09-25T10:00:00\n"
     ]
    },
    {
     "name": "stderr",
     "output_type": "stream",
     "text": [
      "/usr/local/lib/python3.6/dist-packages/sqlalchemy/engine/default.py:509: Warning: (1062, \"Duplicate entry '2018-09-25T10:00:00' for key 'PRIMARY'\")\n",
      "  cursor.execute(statement, parameters)\n"
     ]
    },
    {
     "name": "stdout",
     "output_type": "stream",
     "text": [
      "Inserting aqi at 2018-09-25T09:00:00\n"
     ]
    },
    {
     "name": "stderr",
     "output_type": "stream",
     "text": [
      "/usr/local/lib/python3.6/dist-packages/sqlalchemy/engine/default.py:509: Warning: (1062, \"Duplicate entry '2018-09-25T09:00:00' for key 'PRIMARY'\")\n",
      "  cursor.execute(statement, parameters)\n"
     ]
    },
    {
     "name": "stdout",
     "output_type": "stream",
     "text": [
      "Inserting aqi at 2018-09-25T08:00:00\n"
     ]
    },
    {
     "name": "stderr",
     "output_type": "stream",
     "text": [
      "/usr/local/lib/python3.6/dist-packages/sqlalchemy/engine/default.py:509: Warning: (1062, \"Duplicate entry '2018-09-25T08:00:00' for key 'PRIMARY'\")\n",
      "  cursor.execute(statement, parameters)\n"
     ]
    },
    {
     "name": "stdout",
     "output_type": "stream",
     "text": [
      "Inserting aqi at 2018-09-25T07:00:00\n"
     ]
    },
    {
     "name": "stderr",
     "output_type": "stream",
     "text": [
      "/usr/local/lib/python3.6/dist-packages/sqlalchemy/engine/default.py:509: Warning: (1062, \"Duplicate entry '2018-09-25T07:00:00' for key 'PRIMARY'\")\n",
      "  cursor.execute(statement, parameters)\n"
     ]
    },
    {
     "name": "stdout",
     "output_type": "stream",
     "text": [
      "Inserting aqi at 2018-09-25T06:00:00\n"
     ]
    },
    {
     "name": "stderr",
     "output_type": "stream",
     "text": [
      "/usr/local/lib/python3.6/dist-packages/sqlalchemy/engine/default.py:509: Warning: (1062, \"Duplicate entry '2018-09-25T06:00:00' for key 'PRIMARY'\")\n",
      "  cursor.execute(statement, parameters)\n"
     ]
    },
    {
     "name": "stdout",
     "output_type": "stream",
     "text": [
      "Inserting aqi at 2018-09-25T05:00:00\n"
     ]
    },
    {
     "name": "stderr",
     "output_type": "stream",
     "text": [
      "/usr/local/lib/python3.6/dist-packages/sqlalchemy/engine/default.py:509: Warning: (1062, \"Duplicate entry '2018-09-25T05:00:00' for key 'PRIMARY'\")\n",
      "  cursor.execute(statement, parameters)\n"
     ]
    },
    {
     "name": "stdout",
     "output_type": "stream",
     "text": [
      "Inserting aqi at 2018-09-25T04:00:00\n"
     ]
    },
    {
     "name": "stderr",
     "output_type": "stream",
     "text": [
      "/usr/local/lib/python3.6/dist-packages/sqlalchemy/engine/default.py:509: Warning: (1062, \"Duplicate entry '2018-09-25T04:00:00' for key 'PRIMARY'\")\n",
      "  cursor.execute(statement, parameters)\n"
     ]
    },
    {
     "name": "stdout",
     "output_type": "stream",
     "text": [
      "Inserting aqi at 2018-09-25T03:00:00\n",
      "Error: unable to get historical data for 2018-09-25T03:50:05\n",
      "Inserting aqi at 2018-09-25T02:00:00\n",
      "Error: unable to get historical data for 2018-09-25T02:50:05\n",
      "Inserting aqi at 2018-09-25T01:00:00\n"
     ]
    },
    {
     "name": "stderr",
     "output_type": "stream",
     "text": [
      "/usr/local/lib/python3.6/dist-packages/sqlalchemy/engine/default.py:509: Warning: (1062, \"Duplicate entry '2018-09-25T01:00:00' for key 'PRIMARY'\")\n",
      "  cursor.execute(statement, parameters)\n"
     ]
    },
    {
     "name": "stdout",
     "output_type": "stream",
     "text": [
      "Inserting aqi at 2018-09-25T00:00:00\n",
      "Error: unable to get historical data for 2018-09-25T00:50:05\n",
      "Inserting aqi at 2018-09-24T23:00:00\n",
      "Error: unable to get historical data for 2018-09-24T23:50:05\n",
      "Inserting aqi at 2018-09-24T22:00:00\n",
      "Inserting aqi at 2018-09-24T21:00:00\n",
      "Error: unable to get historical data for 2018-09-24T21:50:05\n",
      "Inserting aqi at 2018-09-24T20:00:00\n",
      "Error: unable to get historical data for 2018-09-24T20:50:05\n",
      "Inserting aqi at 2018-09-24T19:00:00\n"
     ]
    },
    {
     "name": "stderr",
     "output_type": "stream",
     "text": [
      "/usr/local/lib/python3.6/dist-packages/sqlalchemy/engine/default.py:509: Warning: (1062, \"Duplicate entry '2018-09-24T19:00:00' for key 'PRIMARY'\")\n",
      "  cursor.execute(statement, parameters)\n"
     ]
    },
    {
     "name": "stdout",
     "output_type": "stream",
     "text": [
      "Inserting aqi at 2018-09-24T18:00:00\n",
      "Error: unable to get historical data for 2018-09-24T18:50:05\n",
      "Inserting aqi at 2018-09-24T17:00:00\n",
      "Inserting aqi at 2018-09-24T16:00:00\n"
     ]
    },
    {
     "name": "stderr",
     "output_type": "stream",
     "text": [
      "/usr/local/lib/python3.6/dist-packages/sqlalchemy/engine/default.py:509: Warning: (1062, \"Duplicate entry '2018-09-24T16:00:00' for key 'PRIMARY'\")\n",
      "  cursor.execute(statement, parameters)\n"
     ]
    },
    {
     "name": "stdout",
     "output_type": "stream",
     "text": [
      "Inserting aqi at 2018-09-24T15:00:00\n",
      "Error: unable to get historical data for 2018-09-24T15:50:05\n",
      "Inserting aqi at 2018-09-24T14:00:00\n"
     ]
    },
    {
     "name": "stderr",
     "output_type": "stream",
     "text": [
      "/usr/local/lib/python3.6/dist-packages/sqlalchemy/engine/default.py:509: Warning: (1062, \"Duplicate entry '2018-09-24T14:00:00' for key 'PRIMARY'\")\n",
      "  cursor.execute(statement, parameters)\n"
     ]
    },
    {
     "name": "stdout",
     "output_type": "stream",
     "text": [
      "Inserting aqi at 2018-09-24T13:00:00\n"
     ]
    },
    {
     "name": "stderr",
     "output_type": "stream",
     "text": [
      "/usr/local/lib/python3.6/dist-packages/sqlalchemy/engine/default.py:509: Warning: (1062, \"Duplicate entry '2018-09-24T13:00:00' for key 'PRIMARY'\")\n",
      "  cursor.execute(statement, parameters)\n"
     ]
    },
    {
     "name": "stdout",
     "output_type": "stream",
     "text": [
      "Inserting aqi at 2018-09-24T12:00:00\n"
     ]
    },
    {
     "name": "stderr",
     "output_type": "stream",
     "text": [
      "/usr/local/lib/python3.6/dist-packages/sqlalchemy/engine/default.py:509: Warning: (1062, \"Duplicate entry '2018-09-24T12:00:00' for key 'PRIMARY'\")\n",
      "  cursor.execute(statement, parameters)\n"
     ]
    },
    {
     "name": "stdout",
     "output_type": "stream",
     "text": [
      "Inserting aqi at 2018-09-24T11:00:00\n"
     ]
    },
    {
     "name": "stderr",
     "output_type": "stream",
     "text": [
      "/usr/local/lib/python3.6/dist-packages/sqlalchemy/engine/default.py:509: Warning: (1062, \"Duplicate entry '2018-09-24T11:00:00' for key 'PRIMARY'\")\n",
      "  cursor.execute(statement, parameters)\n"
     ]
    },
    {
     "name": "stdout",
     "output_type": "stream",
     "text": [
      "Inserting aqi at 2018-09-24T10:00:00\n",
      "Error: unable to get historical data for 2018-09-24T10:50:05\n",
      "Inserting aqi at 2018-09-24T09:00:00\n",
      "Error: unable to get historical data for 2018-09-24T09:50:05\n",
      "Inserting aqi at 2018-09-24T08:00:00\n",
      "Error: unable to get historical data for 2018-09-24T08:50:05\n",
      "Inserting aqi at 2018-09-24T07:00:00\n",
      "Error: unable to get historical data for 2018-09-24T07:50:05\n",
      "Inserting aqi at 2018-09-24T06:00:00\n",
      "Error: unable to get historical data for 2018-09-24T06:50:05\n",
      "Inserting aqi at 2018-09-24T05:00:00\n",
      "Inserting aqi at 2018-09-24T04:00:00\n",
      "Inserting aqi at 2018-09-24T03:00:00\n",
      "Error: unable to get historical data for 2018-09-24T03:50:05\n",
      "Inserting aqi at 2018-09-24T02:00:00\n",
      "Error: unable to get historical data for 2018-09-24T02:50:05\n",
      "Inserting aqi at 2018-09-24T01:00:00\n",
      "Error: unable to get historical data for 2018-09-24T01:50:05\n",
      "Inserting aqi at 2018-09-24T00:00:00\n",
      "Error: unable to get historical data for 2018-09-24T00:50:05\n",
      "Inserting aqi at 2018-09-23T23:00:00\n",
      "Error: unable to get historical data for 2018-09-23T23:50:05\n",
      "Inserting aqi at 2018-09-23T22:00:00\n",
      "Error: unable to get historical data for 2018-09-23T22:50:05\n",
      "Inserting aqi at 2018-09-23T21:00:00\n",
      "Inserting aqi at 2018-09-23T20:00:00\n",
      "Inserting aqi at 2018-09-23T19:00:00\n"
     ]
    },
    {
     "name": "stderr",
     "output_type": "stream",
     "text": [
      "/usr/local/lib/python3.6/dist-packages/sqlalchemy/engine/default.py:509: Warning: (1062, \"Duplicate entry '2018-09-23T19:00:00' for key 'PRIMARY'\")\n",
      "  cursor.execute(statement, parameters)\n"
     ]
    },
    {
     "name": "stdout",
     "output_type": "stream",
     "text": [
      "Inserting aqi at 2018-09-23T18:00:00\n"
     ]
    },
    {
     "name": "stderr",
     "output_type": "stream",
     "text": [
      "/usr/local/lib/python3.6/dist-packages/sqlalchemy/engine/default.py:509: Warning: (1062, \"Duplicate entry '2018-09-23T18:00:00' for key 'PRIMARY'\")\n",
      "  cursor.execute(statement, parameters)\n"
     ]
    },
    {
     "name": "stdout",
     "output_type": "stream",
     "text": [
      "Inserting aqi at 2018-09-23T17:00:00\n",
      "Error: unable to get historical data for 2018-09-23T17:50:05\n",
      "Inserting aqi at 2018-09-23T16:00:00\n",
      "Error: unable to get historical data for 2018-09-23T16:50:05\n",
      "Inserting aqi at 2018-09-23T15:00:00\n",
      "Inserting aqi at 2018-09-23T14:00:00\n",
      "Inserting aqi at 2018-09-23T13:00:00\n",
      "Error: unable to get historical data for 2018-09-23T13:50:05\n",
      "Inserting aqi at 2018-09-23T12:00:00\n"
     ]
    },
    {
     "name": "stderr",
     "output_type": "stream",
     "text": [
      "/usr/local/lib/python3.6/dist-packages/sqlalchemy/engine/default.py:509: Warning: (1062, \"Duplicate entry '2018-09-23T12:00:00' for key 'PRIMARY'\")\n",
      "  cursor.execute(statement, parameters)\n"
     ]
    },
    {
     "name": "stdout",
     "output_type": "stream",
     "text": [
      "Inserting aqi at 2018-09-23T11:00:00\n"
     ]
    },
    {
     "name": "stderr",
     "output_type": "stream",
     "text": [
      "/usr/local/lib/python3.6/dist-packages/sqlalchemy/engine/default.py:509: Warning: (1062, \"Duplicate entry '2018-09-23T11:00:00' for key 'PRIMARY'\")\n",
      "  cursor.execute(statement, parameters)\n"
     ]
    },
    {
     "name": "stdout",
     "output_type": "stream",
     "text": [
      "Inserting aqi at 2018-09-23T10:00:00\n"
     ]
    },
    {
     "name": "stderr",
     "output_type": "stream",
     "text": [
      "/usr/local/lib/python3.6/dist-packages/sqlalchemy/engine/default.py:509: Warning: (1062, \"Duplicate entry '2018-09-23T10:00:00' for key 'PRIMARY'\")\n",
      "  cursor.execute(statement, parameters)\n"
     ]
    },
    {
     "name": "stdout",
     "output_type": "stream",
     "text": [
      "Inserting aqi at 2018-09-23T09:00:00\n"
     ]
    },
    {
     "name": "stderr",
     "output_type": "stream",
     "text": [
      "/usr/local/lib/python3.6/dist-packages/sqlalchemy/engine/default.py:509: Warning: (1062, \"Duplicate entry '2018-09-23T09:00:00' for key 'PRIMARY'\")\n",
      "  cursor.execute(statement, parameters)\n"
     ]
    },
    {
     "name": "stdout",
     "output_type": "stream",
     "text": [
      "Inserting aqi at 2018-09-23T08:00:00\n"
     ]
    },
    {
     "name": "stderr",
     "output_type": "stream",
     "text": [
      "/usr/local/lib/python3.6/dist-packages/sqlalchemy/engine/default.py:509: Warning: (1062, \"Duplicate entry '2018-09-23T08:00:00' for key 'PRIMARY'\")\n",
      "  cursor.execute(statement, parameters)\n"
     ]
    },
    {
     "name": "stdout",
     "output_type": "stream",
     "text": [
      "Inserting aqi at 2018-09-23T07:00:00\n"
     ]
    },
    {
     "name": "stderr",
     "output_type": "stream",
     "text": [
      "/usr/local/lib/python3.6/dist-packages/sqlalchemy/engine/default.py:509: Warning: (1062, \"Duplicate entry '2018-09-23T07:00:00' for key 'PRIMARY'\")\n",
      "  cursor.execute(statement, parameters)\n"
     ]
    },
    {
     "name": "stdout",
     "output_type": "stream",
     "text": [
      "Inserting aqi at 2018-09-23T06:00:00\n"
     ]
    },
    {
     "name": "stderr",
     "output_type": "stream",
     "text": [
      "/usr/local/lib/python3.6/dist-packages/sqlalchemy/engine/default.py:509: Warning: (1062, \"Duplicate entry '2018-09-23T06:00:00' for key 'PRIMARY'\")\n",
      "  cursor.execute(statement, parameters)\n"
     ]
    },
    {
     "name": "stdout",
     "output_type": "stream",
     "text": [
      "Inserting aqi at 2018-09-23T05:00:00\n"
     ]
    },
    {
     "name": "stderr",
     "output_type": "stream",
     "text": [
      "/usr/local/lib/python3.6/dist-packages/sqlalchemy/engine/default.py:509: Warning: (1062, \"Duplicate entry '2018-09-23T05:00:00' for key 'PRIMARY'\")\n",
      "  cursor.execute(statement, parameters)\n"
     ]
    },
    {
     "name": "stdout",
     "output_type": "stream",
     "text": [
      "Inserting aqi at 2018-09-23T04:00:00\n",
      "Error: unable to get historical data for 2018-09-23T04:50:05\n",
      "Inserting aqi at 2018-09-23T03:00:00\n"
     ]
    },
    {
     "name": "stderr",
     "output_type": "stream",
     "text": [
      "/usr/local/lib/python3.6/dist-packages/sqlalchemy/engine/default.py:509: Warning: (1062, \"Duplicate entry '2018-09-23T03:00:00' for key 'PRIMARY'\")\n",
      "  cursor.execute(statement, parameters)\n"
     ]
    },
    {
     "name": "stdout",
     "output_type": "stream",
     "text": [
      "Inserting aqi at 2018-09-23T02:00:00\n",
      "Error: unable to get historical data for 2018-09-23T02:50:05\n",
      "Inserting aqi at 2018-09-23T01:00:00\n",
      "Error: unable to get historical data for 2018-09-23T01:50:05\n",
      "Inserting aqi at 2018-09-23T00:00:00\n",
      "Error: unable to get historical data for 2018-09-23T00:50:05\n",
      "Inserting aqi at 2018-09-22T23:00:00\n"
     ]
    },
    {
     "name": "stderr",
     "output_type": "stream",
     "text": [
      "/usr/local/lib/python3.6/dist-packages/sqlalchemy/engine/default.py:509: Warning: (1062, \"Duplicate entry '2018-09-22T23:00:00' for key 'PRIMARY'\")\n",
      "  cursor.execute(statement, parameters)\n"
     ]
    },
    {
     "name": "stdout",
     "output_type": "stream",
     "text": [
      "Inserting aqi at 2018-09-22T22:00:00\n"
     ]
    },
    {
     "name": "stderr",
     "output_type": "stream",
     "text": [
      "/usr/local/lib/python3.6/dist-packages/sqlalchemy/engine/default.py:509: Warning: (1062, \"Duplicate entry '2018-09-22T22:00:00' for key 'PRIMARY'\")\n",
      "  cursor.execute(statement, parameters)\n"
     ]
    },
    {
     "name": "stdout",
     "output_type": "stream",
     "text": [
      "Inserting aqi at 2018-09-22T21:00:00\n",
      "Inserting aqi at 2018-09-22T20:00:00\n",
      "Error: unable to get historical data for 2018-09-22T20:50:05\n",
      "Inserting aqi at 2018-09-22T19:00:00\n",
      "Error: unable to get historical data for 2018-09-22T19:50:05\n",
      "Inserting aqi at 2018-09-22T18:00:00\n",
      "Inserting aqi at 2018-09-22T17:00:00\n",
      "Error: unable to get historical data for 2018-09-22T17:50:05\n",
      "Inserting aqi at 2018-09-22T16:00:00\n"
     ]
    },
    {
     "name": "stderr",
     "output_type": "stream",
     "text": [
      "/usr/local/lib/python3.6/dist-packages/sqlalchemy/engine/default.py:509: Warning: (1062, \"Duplicate entry '2018-09-22T16:00:00' for key 'PRIMARY'\")\n",
      "  cursor.execute(statement, parameters)\n"
     ]
    },
    {
     "name": "stdout",
     "output_type": "stream",
     "text": [
      "Inserting aqi at 2018-09-22T15:00:00\n",
      "Error: unable to get historical data for 2018-09-22T15:50:05\n",
      "Inserting aqi at 2018-09-22T14:00:00\n"
     ]
    },
    {
     "name": "stderr",
     "output_type": "stream",
     "text": [
      "/usr/local/lib/python3.6/dist-packages/sqlalchemy/engine/default.py:509: Warning: (1062, \"Duplicate entry '2018-09-22T14:00:00' for key 'PRIMARY'\")\n",
      "  cursor.execute(statement, parameters)\n"
     ]
    },
    {
     "name": "stdout",
     "output_type": "stream",
     "text": [
      "Inserting aqi at 2018-09-22T13:00:00\n"
     ]
    },
    {
     "name": "stderr",
     "output_type": "stream",
     "text": [
      "/usr/local/lib/python3.6/dist-packages/sqlalchemy/engine/default.py:509: Warning: (1062, \"Duplicate entry '2018-09-22T13:00:00' for key 'PRIMARY'\")\n",
      "  cursor.execute(statement, parameters)\n"
     ]
    },
    {
     "name": "stdout",
     "output_type": "stream",
     "text": [
      "Inserting aqi at 2018-09-22T12:00:00\n"
     ]
    },
    {
     "name": "stderr",
     "output_type": "stream",
     "text": [
      "/usr/local/lib/python3.6/dist-packages/sqlalchemy/engine/default.py:509: Warning: (1062, \"Duplicate entry '2018-09-22T12:00:00' for key 'PRIMARY'\")\n",
      "  cursor.execute(statement, parameters)\n"
     ]
    },
    {
     "name": "stdout",
     "output_type": "stream",
     "text": [
      "Inserting aqi at 2018-09-22T11:00:00\n"
     ]
    },
    {
     "name": "stderr",
     "output_type": "stream",
     "text": [
      "/usr/local/lib/python3.6/dist-packages/sqlalchemy/engine/default.py:509: Warning: (1062, \"Duplicate entry '2018-09-22T11:00:00' for key 'PRIMARY'\")\n",
      "  cursor.execute(statement, parameters)\n"
     ]
    },
    {
     "name": "stdout",
     "output_type": "stream",
     "text": [
      "Inserting aqi at 2018-09-22T10:00:00\n"
     ]
    },
    {
     "name": "stderr",
     "output_type": "stream",
     "text": [
      "/usr/local/lib/python3.6/dist-packages/sqlalchemy/engine/default.py:509: Warning: (1062, \"Duplicate entry '2018-09-22T10:00:00' for key 'PRIMARY'\")\n",
      "  cursor.execute(statement, parameters)\n"
     ]
    },
    {
     "name": "stdout",
     "output_type": "stream",
     "text": [
      "Inserting aqi at 2018-09-22T09:00:00\n"
     ]
    },
    {
     "name": "stderr",
     "output_type": "stream",
     "text": [
      "/usr/local/lib/python3.6/dist-packages/sqlalchemy/engine/default.py:509: Warning: (1062, \"Duplicate entry '2018-09-22T09:00:00' for key 'PRIMARY'\")\n",
      "  cursor.execute(statement, parameters)\n"
     ]
    },
    {
     "name": "stdout",
     "output_type": "stream",
     "text": [
      "Inserting aqi at 2018-09-22T08:00:00\n"
     ]
    },
    {
     "name": "stderr",
     "output_type": "stream",
     "text": [
      "/usr/local/lib/python3.6/dist-packages/sqlalchemy/engine/default.py:509: Warning: (1062, \"Duplicate entry '2018-09-22T08:00:00' for key 'PRIMARY'\")\n",
      "  cursor.execute(statement, parameters)\n"
     ]
    },
    {
     "name": "stdout",
     "output_type": "stream",
     "text": [
      "Inserting aqi at 2018-09-22T07:00:00\n"
     ]
    },
    {
     "name": "stderr",
     "output_type": "stream",
     "text": [
      "/usr/local/lib/python3.6/dist-packages/sqlalchemy/engine/default.py:509: Warning: (1062, \"Duplicate entry '2018-09-22T07:00:00' for key 'PRIMARY'\")\n",
      "  cursor.execute(statement, parameters)\n"
     ]
    },
    {
     "name": "stdout",
     "output_type": "stream",
     "text": [
      "Inserting aqi at 2018-09-22T06:00:00\n"
     ]
    },
    {
     "name": "stderr",
     "output_type": "stream",
     "text": [
      "/usr/local/lib/python3.6/dist-packages/sqlalchemy/engine/default.py:509: Warning: (1062, \"Duplicate entry '2018-09-22T06:00:00' for key 'PRIMARY'\")\n",
      "  cursor.execute(statement, parameters)\n"
     ]
    },
    {
     "name": "stdout",
     "output_type": "stream",
     "text": [
      "Inserting aqi at 2018-09-22T05:00:00\n"
     ]
    },
    {
     "name": "stderr",
     "output_type": "stream",
     "text": [
      "/usr/local/lib/python3.6/dist-packages/sqlalchemy/engine/default.py:509: Warning: (1062, \"Duplicate entry '2018-09-22T05:00:00' for key 'PRIMARY'\")\n",
      "  cursor.execute(statement, parameters)\n"
     ]
    },
    {
     "name": "stdout",
     "output_type": "stream",
     "text": [
      "Inserting aqi at 2018-09-22T04:00:00\n"
     ]
    },
    {
     "name": "stderr",
     "output_type": "stream",
     "text": [
      "/usr/local/lib/python3.6/dist-packages/sqlalchemy/engine/default.py:509: Warning: (1062, \"Duplicate entry '2018-09-22T04:00:00' for key 'PRIMARY'\")\n",
      "  cursor.execute(statement, parameters)\n"
     ]
    },
    {
     "name": "stdout",
     "output_type": "stream",
     "text": [
      "Inserting aqi at 2018-09-22T03:00:00\n",
      "Inserting aqi at 2018-09-22T02:00:00\n",
      "Inserting aqi at 2018-09-22T01:00:00\n",
      "Error: unable to get historical data for 2018-09-22T01:50:05\n",
      "Inserting aqi at 2018-09-22T00:00:00\n",
      "Error: unable to get historical data for 2018-09-22T00:50:05\n",
      "Inserting aqi at 2018-09-21T23:00:00\n",
      "Error: unable to get historical data for 2018-09-21T23:50:05\n",
      "Inserting aqi at 2018-09-21T22:00:00\n",
      "Inserting aqi at 2018-09-21T21:00:00\n",
      "Error: unable to get historical data for 2018-09-21T21:50:05\n",
      "Inserting aqi at 2018-09-21T20:00:00\n",
      "Error: unable to get historical data for 2018-09-21T20:50:05\n",
      "Inserting aqi at 2018-09-21T19:00:00\n",
      "Error: unable to get historical data for 2018-09-21T19:50:05\n",
      "Inserting aqi at 2018-09-21T18:00:00\n"
     ]
    },
    {
     "name": "stderr",
     "output_type": "stream",
     "text": [
      "/usr/local/lib/python3.6/dist-packages/sqlalchemy/engine/default.py:509: Warning: (1062, \"Duplicate entry '2018-09-21T18:00:00' for key 'PRIMARY'\")\n",
      "  cursor.execute(statement, parameters)\n"
     ]
    },
    {
     "name": "stdout",
     "output_type": "stream",
     "text": [
      "Inserting aqi at 2018-09-21T17:00:00\n",
      "Error: unable to get historical data for 2018-09-21T17:50:05\n",
      "Inserting aqi at 2018-09-21T16:00:00\n",
      "Error: unable to get historical data for 2018-09-21T16:50:05\n",
      "Inserting aqi at 2018-09-21T15:00:00\n"
     ]
    },
    {
     "name": "stderr",
     "output_type": "stream",
     "text": [
      "/usr/local/lib/python3.6/dist-packages/sqlalchemy/engine/default.py:509: Warning: (1062, \"Duplicate entry '2018-09-21T15:00:00' for key 'PRIMARY'\")\n",
      "  cursor.execute(statement, parameters)\n"
     ]
    },
    {
     "name": "stdout",
     "output_type": "stream",
     "text": [
      "Inserting aqi at 2018-09-21T14:00:00\n",
      "Error: unable to get historical data for 2018-09-21T14:50:05\n",
      "Inserting aqi at 2018-09-21T13:00:00\n"
     ]
    },
    {
     "name": "stderr",
     "output_type": "stream",
     "text": [
      "/usr/local/lib/python3.6/dist-packages/sqlalchemy/engine/default.py:509: Warning: (1062, \"Duplicate entry '2018-09-21T13:00:00' for key 'PRIMARY'\")\n",
      "  cursor.execute(statement, parameters)\n"
     ]
    },
    {
     "name": "stdout",
     "output_type": "stream",
     "text": [
      "Inserting aqi at 2018-09-21T12:00:00\n"
     ]
    },
    {
     "name": "stderr",
     "output_type": "stream",
     "text": [
      "/usr/local/lib/python3.6/dist-packages/sqlalchemy/engine/default.py:509: Warning: (1062, \"Duplicate entry '2018-09-21T12:00:00' for key 'PRIMARY'\")\n",
      "  cursor.execute(statement, parameters)\n"
     ]
    },
    {
     "name": "stdout",
     "output_type": "stream",
     "text": [
      "Inserting aqi at 2018-09-21T11:00:00\n"
     ]
    },
    {
     "name": "stderr",
     "output_type": "stream",
     "text": [
      "/usr/local/lib/python3.6/dist-packages/sqlalchemy/engine/default.py:509: Warning: (1062, \"Duplicate entry '2018-09-21T11:00:00' for key 'PRIMARY'\")\n",
      "  cursor.execute(statement, parameters)\n"
     ]
    },
    {
     "name": "stdout",
     "output_type": "stream",
     "text": [
      "Inserting aqi at 2018-09-21T10:00:00\n"
     ]
    },
    {
     "name": "stderr",
     "output_type": "stream",
     "text": [
      "/usr/local/lib/python3.6/dist-packages/sqlalchemy/engine/default.py:509: Warning: (1062, \"Duplicate entry '2018-09-21T10:00:00' for key 'PRIMARY'\")\n",
      "  cursor.execute(statement, parameters)\n"
     ]
    },
    {
     "name": "stdout",
     "output_type": "stream",
     "text": [
      "Inserting aqi at 2018-09-21T09:00:00\n"
     ]
    },
    {
     "name": "stderr",
     "output_type": "stream",
     "text": [
      "/usr/local/lib/python3.6/dist-packages/sqlalchemy/engine/default.py:509: Warning: (1062, \"Duplicate entry '2018-09-21T09:00:00' for key 'PRIMARY'\")\n",
      "  cursor.execute(statement, parameters)\n"
     ]
    },
    {
     "name": "stdout",
     "output_type": "stream",
     "text": [
      "Inserting aqi at 2018-09-21T08:00:00\n"
     ]
    },
    {
     "name": "stderr",
     "output_type": "stream",
     "text": [
      "/usr/local/lib/python3.6/dist-packages/sqlalchemy/engine/default.py:509: Warning: (1062, \"Duplicate entry '2018-09-21T08:00:00' for key 'PRIMARY'\")\n",
      "  cursor.execute(statement, parameters)\n"
     ]
    },
    {
     "name": "stdout",
     "output_type": "stream",
     "text": [
      "Inserting aqi at 2018-09-21T07:00:00\n"
     ]
    },
    {
     "name": "stderr",
     "output_type": "stream",
     "text": [
      "/usr/local/lib/python3.6/dist-packages/sqlalchemy/engine/default.py:509: Warning: (1062, \"Duplicate entry '2018-09-21T07:00:00' for key 'PRIMARY'\")\n",
      "  cursor.execute(statement, parameters)\n"
     ]
    },
    {
     "name": "stdout",
     "output_type": "stream",
     "text": [
      "Inserting aqi at 2018-09-21T06:00:00\n"
     ]
    },
    {
     "name": "stderr",
     "output_type": "stream",
     "text": [
      "/usr/local/lib/python3.6/dist-packages/sqlalchemy/engine/default.py:509: Warning: (1062, \"Duplicate entry '2018-09-21T06:00:00' for key 'PRIMARY'\")\n",
      "  cursor.execute(statement, parameters)\n"
     ]
    },
    {
     "name": "stdout",
     "output_type": "stream",
     "text": [
      "Inserting aqi at 2018-09-21T05:00:00\n"
     ]
    },
    {
     "name": "stderr",
     "output_type": "stream",
     "text": [
      "/usr/local/lib/python3.6/dist-packages/sqlalchemy/engine/default.py:509: Warning: (1062, \"Duplicate entry '2018-09-21T05:00:00' for key 'PRIMARY'\")\n",
      "  cursor.execute(statement, parameters)\n"
     ]
    },
    {
     "name": "stdout",
     "output_type": "stream",
     "text": [
      "Inserting aqi at 2018-09-21T04:00:00\n"
     ]
    },
    {
     "name": "stderr",
     "output_type": "stream",
     "text": [
      "/usr/local/lib/python3.6/dist-packages/sqlalchemy/engine/default.py:509: Warning: (1062, \"Duplicate entry '2018-09-21T04:00:00' for key 'PRIMARY'\")\n",
      "  cursor.execute(statement, parameters)\n"
     ]
    },
    {
     "name": "stdout",
     "output_type": "stream",
     "text": [
      "Inserting aqi at 2018-09-21T03:00:00\n",
      "Inserting aqi at 2018-09-21T02:00:00\n",
      "Inserting aqi at 2018-09-21T01:00:00\n",
      "Inserting aqi at 2018-09-21T00:00:00\n",
      "Inserting aqi at 2018-09-20T23:00:00\n",
      "Inserting aqi at 2018-09-20T22:00:00\n",
      "Inserting aqi at 2018-09-20T21:00:00\n",
      "Inserting aqi at 2018-09-20T20:00:00\n",
      "Error: unable to get historical data for 2018-09-20T20:50:05\n",
      "Inserting aqi at 2018-09-20T19:00:00\n"
     ]
    },
    {
     "name": "stderr",
     "output_type": "stream",
     "text": [
      "/usr/local/lib/python3.6/dist-packages/sqlalchemy/engine/default.py:509: Warning: (1062, \"Duplicate entry '2018-09-20T19:00:00' for key 'PRIMARY'\")\n",
      "  cursor.execute(statement, parameters)\n"
     ]
    },
    {
     "name": "stdout",
     "output_type": "stream",
     "text": [
      "Inserting aqi at 2018-09-20T18:00:00\n",
      "Error: unable to get historical data for 2018-09-20T18:50:05\n",
      "Inserting aqi at 2018-09-20T17:00:00\n"
     ]
    },
    {
     "name": "stderr",
     "output_type": "stream",
     "text": [
      "/usr/local/lib/python3.6/dist-packages/sqlalchemy/engine/default.py:509: Warning: (1062, \"Duplicate entry '2018-09-20T17:00:00' for key 'PRIMARY'\")\n",
      "  cursor.execute(statement, parameters)\n"
     ]
    },
    {
     "name": "stdout",
     "output_type": "stream",
     "text": [
      "Inserting aqi at 2018-09-20T16:00:00\n"
     ]
    },
    {
     "name": "stderr",
     "output_type": "stream",
     "text": [
      "/usr/local/lib/python3.6/dist-packages/sqlalchemy/engine/default.py:509: Warning: (1062, \"Duplicate entry '2018-09-20T16:00:00' for key 'PRIMARY'\")\n",
      "  cursor.execute(statement, parameters)\n"
     ]
    },
    {
     "name": "stdout",
     "output_type": "stream",
     "text": [
      "Inserting aqi at 2018-09-20T15:00:00\n"
     ]
    },
    {
     "name": "stderr",
     "output_type": "stream",
     "text": [
      "/usr/local/lib/python3.6/dist-packages/sqlalchemy/engine/default.py:509: Warning: (1062, \"Duplicate entry '2018-09-20T15:00:00' for key 'PRIMARY'\")\n",
      "  cursor.execute(statement, parameters)\n"
     ]
    },
    {
     "name": "stdout",
     "output_type": "stream",
     "text": [
      "Inserting aqi at 2018-09-20T14:00:00\n"
     ]
    },
    {
     "name": "stderr",
     "output_type": "stream",
     "text": [
      "/usr/local/lib/python3.6/dist-packages/sqlalchemy/engine/default.py:509: Warning: (1062, \"Duplicate entry '2018-09-20T14:00:00' for key 'PRIMARY'\")\n",
      "  cursor.execute(statement, parameters)\n"
     ]
    },
    {
     "name": "stdout",
     "output_type": "stream",
     "text": [
      "Inserting aqi at 2018-09-20T13:00:00\n"
     ]
    },
    {
     "name": "stderr",
     "output_type": "stream",
     "text": [
      "/usr/local/lib/python3.6/dist-packages/sqlalchemy/engine/default.py:509: Warning: (1062, \"Duplicate entry '2018-09-20T13:00:00' for key 'PRIMARY'\")\n",
      "  cursor.execute(statement, parameters)\n"
     ]
    },
    {
     "name": "stdout",
     "output_type": "stream",
     "text": [
      "Inserting aqi at 2018-09-20T12:00:00\n"
     ]
    },
    {
     "name": "stderr",
     "output_type": "stream",
     "text": [
      "/usr/local/lib/python3.6/dist-packages/sqlalchemy/engine/default.py:509: Warning: (1062, \"Duplicate entry '2018-09-20T12:00:00' for key 'PRIMARY'\")\n",
      "  cursor.execute(statement, parameters)\n"
     ]
    },
    {
     "name": "stdout",
     "output_type": "stream",
     "text": [
      "Inserting aqi at 2018-09-20T11:00:00\n"
     ]
    },
    {
     "name": "stderr",
     "output_type": "stream",
     "text": [
      "/usr/local/lib/python3.6/dist-packages/sqlalchemy/engine/default.py:509: Warning: (1062, \"Duplicate entry '2018-09-20T11:00:00' for key 'PRIMARY'\")\n",
      "  cursor.execute(statement, parameters)\n"
     ]
    },
    {
     "name": "stdout",
     "output_type": "stream",
     "text": [
      "Inserting aqi at 2018-09-20T10:00:00\n"
     ]
    },
    {
     "name": "stderr",
     "output_type": "stream",
     "text": [
      "/usr/local/lib/python3.6/dist-packages/sqlalchemy/engine/default.py:509: Warning: (1062, \"Duplicate entry '2018-09-20T10:00:00' for key 'PRIMARY'\")\n",
      "  cursor.execute(statement, parameters)\n"
     ]
    },
    {
     "name": "stdout",
     "output_type": "stream",
     "text": [
      "Inserting aqi at 2018-09-20T09:00:00\n"
     ]
    },
    {
     "name": "stderr",
     "output_type": "stream",
     "text": [
      "/usr/local/lib/python3.6/dist-packages/sqlalchemy/engine/default.py:509: Warning: (1062, \"Duplicate entry '2018-09-20T09:00:00' for key 'PRIMARY'\")\n",
      "  cursor.execute(statement, parameters)\n"
     ]
    },
    {
     "name": "stdout",
     "output_type": "stream",
     "text": [
      "Inserting aqi at 2018-09-20T08:00:00\n"
     ]
    },
    {
     "name": "stderr",
     "output_type": "stream",
     "text": [
      "/usr/local/lib/python3.6/dist-packages/sqlalchemy/engine/default.py:509: Warning: (1062, \"Duplicate entry '2018-09-20T08:00:00' for key 'PRIMARY'\")\n",
      "  cursor.execute(statement, parameters)\n"
     ]
    },
    {
     "name": "stdout",
     "output_type": "stream",
     "text": [
      "Inserting aqi at 2018-09-20T07:00:00\n"
     ]
    },
    {
     "name": "stderr",
     "output_type": "stream",
     "text": [
      "/usr/local/lib/python3.6/dist-packages/sqlalchemy/engine/default.py:509: Warning: (1062, \"Duplicate entry '2018-09-20T07:00:00' for key 'PRIMARY'\")\n",
      "  cursor.execute(statement, parameters)\n"
     ]
    },
    {
     "name": "stdout",
     "output_type": "stream",
     "text": [
      "Inserting aqi at 2018-09-20T06:00:00\n"
     ]
    },
    {
     "name": "stderr",
     "output_type": "stream",
     "text": [
      "/usr/local/lib/python3.6/dist-packages/sqlalchemy/engine/default.py:509: Warning: (1062, \"Duplicate entry '2018-09-20T06:00:00' for key 'PRIMARY'\")\n",
      "  cursor.execute(statement, parameters)\n"
     ]
    },
    {
     "name": "stdout",
     "output_type": "stream",
     "text": [
      "Inserting aqi at 2018-09-20T05:00:00\n"
     ]
    },
    {
     "name": "stderr",
     "output_type": "stream",
     "text": [
      "/usr/local/lib/python3.6/dist-packages/sqlalchemy/engine/default.py:509: Warning: (1062, \"Duplicate entry '2018-09-20T05:00:00' for key 'PRIMARY'\")\n",
      "  cursor.execute(statement, parameters)\n"
     ]
    },
    {
     "name": "stdout",
     "output_type": "stream",
     "text": [
      "Inserting aqi at 2018-09-20T04:00:00\n",
      "Inserting aqi at 2018-09-20T03:00:00\n",
      "Error: unable to get historical data for 2018-09-20T03:50:05\n",
      "Inserting aqi at 2018-09-20T02:00:00\n",
      "Error: unable to get historical data for 2018-09-20T02:50:05\n",
      "Inserting aqi at 2018-09-20T01:00:00\n",
      "Error: unable to get historical data for 2018-09-20T01:50:05\n",
      "Inserting aqi at 2018-09-20T00:00:00\n",
      "Inserting aqi at 2018-09-19T23:00:00\n"
     ]
    },
    {
     "name": "stderr",
     "output_type": "stream",
     "text": [
      "/usr/local/lib/python3.6/dist-packages/sqlalchemy/engine/default.py:509: Warning: (1062, \"Duplicate entry '2018-09-19T23:00:00' for key 'PRIMARY'\")\n",
      "  cursor.execute(statement, parameters)\n"
     ]
    },
    {
     "name": "stdout",
     "output_type": "stream",
     "text": [
      "Inserting aqi at 2018-09-19T22:00:00\n"
     ]
    },
    {
     "name": "stderr",
     "output_type": "stream",
     "text": [
      "/usr/local/lib/python3.6/dist-packages/sqlalchemy/engine/default.py:509: Warning: (1062, \"Duplicate entry '2018-09-19T22:00:00' for key 'PRIMARY'\")\n",
      "  cursor.execute(statement, parameters)\n"
     ]
    },
    {
     "name": "stdout",
     "output_type": "stream",
     "text": [
      "Inserting aqi at 2018-09-19T21:00:00\n",
      "Error: unable to get historical data for 2018-09-19T21:50:05\n"
     ]
    }
   ],
   "source": [
    "#only call once to get past-periods data, should not run as part of crontab job\n",
    "#please see screenshots of database for functionality\n",
    "\n",
    "main_history_aqi()"
   ]
  },
  {
   "cell_type": "code",
   "execution_count": 13,
   "metadata": {},
   "outputs": [
    {
     "name": "stderr",
     "output_type": "stream",
     "text": [
      "/usr/local/lib/python3.6/dist-packages/sqlalchemy/engine/default.py:509: Warning: (1007, \"Can't create database 'aqi'; database exists\")\n",
      "  cursor.execute(statement, parameters)\n",
      "/usr/local/lib/python3.6/dist-packages/sqlalchemy/engine/default.py:509: Warning: (1050, \"Table 'NY_aqi' already exists\")\n",
      "  cursor.execute(statement, parameters)\n"
     ]
    },
    {
     "name": "stdout",
     "output_type": "stream",
     "text": [
      "Inserting aqi at 2018-10-02T23:00:00\n"
     ]
    },
    {
     "name": "stderr",
     "output_type": "stream",
     "text": [
      "/usr/local/lib/python3.6/dist-packages/sqlalchemy/engine/default.py:509: Warning: (1062, \"Duplicate entry '2018-10-02T23:00:00' for key 'PRIMARY'\")\n",
      "  cursor.execute(statement, parameters)\n"
     ]
    }
   ],
   "source": [
    "#schedule crontab to run on an hourly basis, get real-time data and store in database\n",
    "main_real_time_aqi()"
   ]
  },
  {
   "cell_type": "markdown",
   "metadata": {},
   "source": [
    "### Part 4: Establish a cron process, that runs your script repeatedly over time, and stores the data in your database\n",
    "Please see screenshots for output"
   ]
  }
 ],
 "metadata": {
  "kernelspec": {
   "display_name": "Python 3",
   "language": "python",
   "name": "python3"
  },
  "language_info": {
   "codemirror_mode": {
    "name": "ipython",
    "version": 3
   },
   "file_extension": ".py",
   "mimetype": "text/x-python",
   "name": "python",
   "nbconvert_exporter": "python",
   "pygments_lexer": "ipython3",
   "version": "3.6.6"
  }
 },
 "nbformat": 4,
 "nbformat_minor": 2
}
